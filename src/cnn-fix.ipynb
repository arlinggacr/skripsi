{
 "cells": [
  {
   "cell_type": "code",
   "execution_count": 1,
   "metadata": {},
   "outputs": [],
   "source": [
    "import numpy as np\n",
    "import matplotlib.pyplot as plt\n",
    "import scipy.io as sio\n",
    "import math\n",
    "import pandas as pd\n",
    "import seaborn as sns\n",
    "import os\n",
    "import itertools\n",
    "from glob import glob\n",
    "from PIL import Image\n",
    "from sklearn.model_selection import train_test_split\n",
    "from sklearn.metrics import confusion_matrix, classification_report\n",
    "\n",
    "import keras\n",
    "import tensorflow as tf\n",
    "from keras import backend\n",
    "from tensorflow.keras.utils import to_categorical\n",
    "from keras.models import Sequential, model_from_json, Model, load_model\n",
    "from keras.layers import Dense, Dropout, Flatten, Conv2D, MaxPool2D\n",
    "from keras.optimizers import Adam\n",
    "from keras.callbacks import ReduceLROnPlateau, Callback, CSVLogger\n",
    "from keras.preprocessing.image import ImageDataGenerator\n",
    "from keras.applications import InceptionV3, EfficientNetB5\n",
    "\n",
    "#To see the value of multiple statements at once.\n",
    "from IPython.core.interactiveshell import InteractiveShell\n",
    "InteractiveShell.ast_node_interactivity = \"all\""
   ]
  },
  {
   "cell_type": "code",
   "execution_count": 3,
   "metadata": {},
   "outputs": [],
   "source": [
    "import time\n",
    "class TimeHistory(Callback):\n",
    "    def on_train_begin(self, logs={}):\n",
    "        self.times = []\n",
    "\n",
    "    def on_epoch_begin(self, epoch, logs={}):\n",
    "        self.epoch_time_start = time.time()\n",
    "\n",
    "    def on_epoch_end(self, epoch, logs={}):\n",
    "        self.times.append(time.time() - self.epoch_time_start)"
   ]
  },
  {
   "cell_type": "code",
   "execution_count": 4,
   "metadata": {},
   "outputs": [],
   "source": [
    "def rmse(y_true, y_pred):\n",
    "    return backend.sqrt(backend.mean(backend.square(y_pred - y_true), axis=-1))"
   ]
  },
  {
   "cell_type": "code",
   "execution_count": 5,
   "metadata": {},
   "outputs": [],
   "source": [
    "def add_cnn_layers(base_model, model):\n",
    "    model.add(base_model)\n",
    "    model.add(Conv2D(64, (3, 3), activation = 'relu', padding='same'))\n",
    "    model.add(MaxPool2D(pool_size = (2, 2)))\n",
    "    model.add(Dropout(0.40))\n",
    "    model.add(Flatten())\n",
    "    model.add(Dense(128,activation='relu'))\n",
    "    model.add(Dropout(0.4))\n",
    "    model.add(Dense(7, activation='softmax'))\n",
    "    model.summary()\n",
    "    return model"
   ]
  },
  {
   "cell_type": "code",
   "execution_count": 95,
   "metadata": {},
   "outputs": [],
   "source": [
    "def train_val_accuracy(model, x_train_normalized, x_val_normalized, y_train, y_val):\n",
    "    train_loss, train_accuracy = model.evaluate(x_train_normalized, y_train, verbose=1)\n",
    "    val_loss, val_accuracy = model.evaluate(x_val_normalized, y_val, verbose=1)\n",
    "    \n",
    "    #Accuracy\n",
    "    print(\"Training Accuracy:\",train_accuracy*100,\"%\",\"\")\n",
    "    print(\"Validation Accuracy:\",val_accuracy*100,\"%\",\"\")\n",
    "\n",
    "    #Loss\n",
    "    print(\"\\nTraining Loss:\",train_loss)\n",
    "    print(\"Validation Loss:\",val_loss)\n"
   ]
  },
  {
   "cell_type": "code",
   "execution_count": 106,
   "metadata": {},
   "outputs": [],
   "source": [
    "def test_accuracy(model, x_test_normalized, y_test):\n",
    "    test_loss, test_accuracy = model.evaluate(x_test_normalized, y_test, verbose=1)\n",
    "\n",
    "    print(\"\\nTest Set Accuracy: \", test_accuracy*100,\"%\", \n",
    "          \"\\nTest Set Loss:\", test_loss)"
   ]
  },
  {
   "cell_type": "code",
   "execution_count": 8,
   "metadata": {},
   "outputs": [],
   "source": [
    "def plot_model_history(model_history, name):\n",
    "    fig, axs = plt.subplots(2, 2, figsize=(15,15))\n",
    "    \n",
    "    #Summarize history for accuracy\n",
    "    axs[0,0].plot(range(1,len(model_history.history['accuracy'])+1),model_history.history['accuracy'])\n",
    "    axs[0,0].plot(range(1,len(model_history.history['val_accuracy'])+1),model_history.history['val_accuracy'])\n",
    "    axs[0,0].set_title('Model Accuracy')\n",
    "    axs[0,0].set_ylabel('Accuracy')\n",
    "    axs[0,0].set_xlabel('Epoch')\n",
    "    axs[0,0].set_xticks(np.arange(1,len(model_history.history['accuracy'])+1),len(model_history.history['accuracy'])/10)\n",
    "    axs[0,0].legend(['train', 'validation'], loc='best')\n",
    "    \n",
    "    #Summarize history for loss\n",
    "    axs[0,1].plot(range(1,len(model_history.history['loss'])+1),model_history.history['loss'])\n",
    "    axs[0,1].plot(range(1,len(model_history.history['val_loss'])+1),model_history.history['val_loss'])\n",
    "    axs[0,1].set_title('Model Loss')\n",
    "    axs[0,1].set_ylabel('Loss')\n",
    "    axs[0,1].set_xlabel('Epoch')\n",
    "    axs[0,1].set_xticks(np.arange(1,len(model_history.history['loss'])+1),len(model_history.history['loss'])/10)\n",
    "    axs[0,1].legend(['train', 'validation'], loc='best')\n",
    "    \n",
    "    #Summarize history for RMSE\n",
    "    axs[1,0].plot(range(1,len(model_history.history['rmse'])+1),model_history.history['rmse'])\n",
    "    axs[1,0].plot(range(1,len(model_history.history['val_rmse'])+1),model_history.history['val_rmse'])\n",
    "    axs[1,0].set_title('Model RMSE')\n",
    "    axs[1,0].set_ylabel('RMSE')\n",
    "    axs[1,0].set_xlabel('Epoch')\n",
    "    axs[1,0].set_xticks(np.arange(1,len(model_history.history['rmse'])+1),len(model_history.history['rmse'])/10)\n",
    "    axs[1,0].legend(['train', 'validation'], loc='best')\n",
    "    \n",
    "    #Summarize history for MSE\n",
    "    axs[1,1].plot(range(1,len(model_history.history['mse'])+1),model_history.history['mse'])\n",
    "    axs[1,1].plot(range(1,len(model_history.history['val_mse'])+1),model_history.history['val_mse'])\n",
    "    axs[1,1].set_title('Model MSE')\n",
    "    axs[1,1].set_ylabel('MSE')\n",
    "    axs[1,1].set_xlabel('Epoch')\n",
    "    axs[1,1].set_xticks(np.arange(1,len(model_history.history['mse'])+1),len(model_history.history['mse'])/10)\n",
    "    axs[1,1].legend(['train', 'validation'], loc='best')\n",
    "    \n",
    "    #Plot and save figures\n",
    "    plt.show()\n",
    "    fig.savefig('../Photos/' + name + '_model_history.png', dpi=300)"
   ]
  },
  {
   "cell_type": "code",
   "execution_count": 9,
   "metadata": {},
   "outputs": [],
   "source": [
    "def cal_true_pred_classes(model, x_test_normalized, y_test):\n",
    "    #Predict the values from the testing set\n",
    "    y_predict = model.predict(x_test_normalized)\n",
    "\n",
    "    #Convert prediction classes to one hot vectors \n",
    "    y_predict_classes = np.argmax(y_predict, axis = 1) \n",
    "\n",
    "    #Convert testing label observations to one hot vectors\n",
    "    y_true_classes = np.argmax(y_test, axis = 1) \n",
    "    \n",
    "    return y_predict_classes, y_true_classes"
   ]
  },
  {
   "cell_type": "code",
   "execution_count": 10,
   "metadata": {},
   "outputs": [],
   "source": [
    "def create_confusion_matrix(model, x_test_normalized, y_test, cm_plot_labels, name):\n",
    "    #Get the true and predicted labels\n",
    "    y_predict_classes, y_true_classes = cal_true_pred_classes(model, x_test_normalized, y_test)\n",
    "\n",
    "    #Compute the confusion matrix\n",
    "    confusion_matrix_computed = confusion_matrix(y_true_classes, y_predict_classes)\n",
    "\n",
    "    #Plot the confusion matrix\n",
    "    plot_confusion_matrix(confusion_matrix_computed, cm_plot_labels, name) "
   ]
  },
  {
   "cell_type": "code",
   "execution_count": 11,
   "metadata": {},
   "outputs": [],
   "source": [
    "def plot_confusion_matrix(cm, classes,\n",
    "                          name,\n",
    "                          normalize=False,\n",
    "                          title='Confusion matrix',\n",
    "                          cmap=plt.cm.Blues):\n",
    "    \n",
    "    plt.figure(figsize=(8,6))\n",
    "    plt.imshow(cm, interpolation='nearest', cmap=cmap)\n",
    "    plt.title(name)\n",
    "    plt.colorbar()\n",
    "    tick_marks = np.arange(len(classes))\n",
    "    plt.xticks(tick_marks, classes, rotation=45)\n",
    "    plt.yticks(tick_marks, classes)\n",
    "\n",
    "    if normalize:\n",
    "        cm = cm.astype('float') / cm.sum(axis=1)[:, np.newaxis]\n",
    "\n",
    "    thresh = cm.max() / 2.\n",
    "    for i, j in itertools.product(range(cm.shape[0]), range(cm.shape[1])):\n",
    "        plt.text(j, i, cm[i, j],\n",
    "                 horizontalalignment=\"center\",\n",
    "                 color=\"white\" if cm[i, j] > thresh else \"black\")\n",
    "    \n",
    "#     b, t = plt.ylim()\n",
    "#     b += 0.5\n",
    "#     t -= 0.5\n",
    "#     plt.ylim(b, t)\n",
    "    \n",
    "    plt.tight_layout()\n",
    "    plt.ylabel('True Labels')\n",
    "    plt.xlabel('Predicted Labels')\n",
    "    fig = plt\n",
    "    fig.savefig('../Photos/' + name + '_confusion_matrix.png', dpi=300)"
   ]
  },
  {
   "cell_type": "code",
   "execution_count": 12,
   "metadata": {},
   "outputs": [],
   "source": [
    "def gen_classification_report(model, x_test_normalized, y_test, cm_plot_labels):\n",
    "    \n",
    "    #Get the true and predicted labels\n",
    "    y_predict_classes, y_true_classes = cal_true_pred_classes(model, x_test_normalized, y_test)\n",
    "    \n",
    "    #Generate report\n",
    "    report = classification_report(y_true_classes, y_predict_classes, target_names = cm_plot_labels)\n",
    "    print(report)"
   ]
  },
  {
   "cell_type": "code",
   "execution_count": 13,
   "metadata": {},
   "outputs": [],
   "source": [
    "def plot_label_classification_acc(model, x_test_normalized, y_test, cm_plot_labels, name):\n",
    "\n",
    "    #Get the true and predicted labels\n",
    "    y_predict_classes, y_true_classes = cal_true_pred_classes(model, x_test_normalized, y_test)\n",
    "        \n",
    "    #Compute the confusion matrix\n",
    "    confusion_matrix_computed = confusion_matrix(y_true_classes, y_predict_classes)\n",
    "\n",
    "    #Calculation confusion matrix prediction error\n",
    "    cm_prediction_error = (np.diag(confusion_matrix_computed) / np.sum(confusion_matrix_computed, axis=1))* 100\n",
    "\n",
    "    #Bar plot\n",
    "    plt.bar(np.arange(7), cm_prediction_error)\n",
    "\n",
    "    #Plot title and labels\n",
    "    plt.title(name)\n",
    "    plt.xlabel('True Labels')\n",
    "    plt.ylabel('Classified Labels %')\n",
    "    \n",
    "    #Save figure\n",
    "    fig = plt\n",
    "    fig.savefig('../Photos/' + name + '_label_classification_accuracy.png', dpi=300)"
   ]
  },
  {
   "cell_type": "code",
   "execution_count": 14,
   "metadata": {},
   "outputs": [],
   "source": [
    "base_skin_dir = os.path.join('..', 'data')"
   ]
  },
  {
   "cell_type": "code",
   "execution_count": 15,
   "metadata": {},
   "outputs": [],
   "source": [
    "imageid_path_dict = {os.path.splitext(os.path.basename(x))[0]: x\n",
    "                     for x in glob(os.path.join(base_skin_dir, '*', '*.jpg'))}"
   ]
  },
  {
   "cell_type": "code",
   "execution_count": 16,
   "metadata": {},
   "outputs": [],
   "source": [
    "lesion_type_dict = {\n",
    "    'nv': 'Melanocytic nevi',\n",
    "    'mel': 'Melanoma',\n",
    "    'bkl': 'Benign keratosis-like lesions ',\n",
    "    'bcc': 'Basal cell carcinoma',\n",
    "    'akiec': 'Actinic keratoses',\n",
    "    'vasc': 'Vascular lesions',\n",
    "    'df': 'Dermatofibroma'\n",
    "}"
   ]
  },
  {
   "cell_type": "code",
   "execution_count": 17,
   "metadata": {},
   "outputs": [],
   "source": [
    "skin_df = pd.read_csv(os.path.join(base_skin_dir, 'HAM10000_metadata.csv'))"
   ]
  },
  {
   "cell_type": "code",
   "execution_count": 18,
   "metadata": {},
   "outputs": [],
   "source": [
    "skin_df['path'] = skin_df['image_id'].map(imageid_path_dict.get) #Image Local Path\n",
    "skin_df['cell_type'] = skin_df['dx'].map(lesion_type_dict.get) #Full 'dx' name\n",
    "skin_df['cell_type_idx'] = pd.Categorical(skin_df['cell_type']).codes #Unique code for each 'dx'"
   ]
  },
  {
   "cell_type": "code",
   "execution_count": 1,
   "metadata": {},
   "outputs": [
    {
     "ename": "NameError",
     "evalue": "name 'skin_df' is not defined",
     "output_type": "error",
     "traceback": [
      "\u001b[0;31m---------------------------------------------------------------------------\u001b[0m",
      "\u001b[0;31mNameError\u001b[0m                                 Traceback (most recent call last)",
      "Cell \u001b[0;32mIn[1], line 1\u001b[0m\n\u001b[0;32m----> 1\u001b[0m skin_df\u001b[39m.\u001b[39mvalue_counts()\n",
      "\u001b[0;31mNameError\u001b[0m: name 'skin_df' is not defined"
     ]
    }
   ],
   "source": [
    "skin_df.value_counts()"
   ]
  },
  {
   "cell_type": "code",
   "execution_count": 20,
   "metadata": {},
   "outputs": [
    {
     "data": {
      "text/html": [
       "<div>\n",
       "<style scoped>\n",
       "    .dataframe tbody tr th:only-of-type {\n",
       "        vertical-align: middle;\n",
       "    }\n",
       "\n",
       "    .dataframe tbody tr th {\n",
       "        vertical-align: top;\n",
       "    }\n",
       "\n",
       "    .dataframe thead th {\n",
       "        text-align: right;\n",
       "    }\n",
       "</style>\n",
       "<table border=\"1\" class=\"dataframe\">\n",
       "  <thead>\n",
       "    <tr style=\"text-align: right;\">\n",
       "      <th></th>\n",
       "      <th>lesion_id</th>\n",
       "      <th>image_id</th>\n",
       "      <th>dx</th>\n",
       "      <th>dx_type</th>\n",
       "      <th>sex</th>\n",
       "      <th>localization</th>\n",
       "      <th>path</th>\n",
       "      <th>cell_type</th>\n",
       "    </tr>\n",
       "  </thead>\n",
       "  <tbody>\n",
       "    <tr>\n",
       "      <th>count</th>\n",
       "      <td>10015</td>\n",
       "      <td>10015</td>\n",
       "      <td>10015</td>\n",
       "      <td>10015</td>\n",
       "      <td>10015</td>\n",
       "      <td>10015</td>\n",
       "      <td>10015</td>\n",
       "      <td>10015</td>\n",
       "    </tr>\n",
       "    <tr>\n",
       "      <th>unique</th>\n",
       "      <td>7470</td>\n",
       "      <td>10015</td>\n",
       "      <td>7</td>\n",
       "      <td>4</td>\n",
       "      <td>3</td>\n",
       "      <td>15</td>\n",
       "      <td>10015</td>\n",
       "      <td>7</td>\n",
       "    </tr>\n",
       "    <tr>\n",
       "      <th>top</th>\n",
       "      <td>HAM_0003789</td>\n",
       "      <td>ISIC_0027419</td>\n",
       "      <td>nv</td>\n",
       "      <td>histo</td>\n",
       "      <td>male</td>\n",
       "      <td>back</td>\n",
       "      <td>../data/HAM10000_images_part_1/ISIC_0027419.jpg</td>\n",
       "      <td>Melanocytic nevi</td>\n",
       "    </tr>\n",
       "    <tr>\n",
       "      <th>freq</th>\n",
       "      <td>6</td>\n",
       "      <td>1</td>\n",
       "      <td>6705</td>\n",
       "      <td>5340</td>\n",
       "      <td>5406</td>\n",
       "      <td>2192</td>\n",
       "      <td>1</td>\n",
       "      <td>6705</td>\n",
       "    </tr>\n",
       "  </tbody>\n",
       "</table>\n",
       "</div>"
      ],
      "text/plain": [
       "          lesion_id      image_id     dx dx_type    sex localization  \\\n",
       "count         10015         10015  10015   10015  10015        10015   \n",
       "unique         7470         10015      7       4      3           15   \n",
       "top     HAM_0003789  ISIC_0027419     nv   histo   male         back   \n",
       "freq              6             1   6705    5340   5406         2192   \n",
       "\n",
       "                                                   path         cell_type  \n",
       "count                                             10015             10015  \n",
       "unique                                            10015                 7  \n",
       "top     ../data/HAM10000_images_part_1/ISIC_0027419.jpg  Melanocytic nevi  \n",
       "freq                                                  1              6705  "
      ]
     },
     "execution_count": 20,
     "metadata": {},
     "output_type": "execute_result"
    }
   ],
   "source": [
    "skin_df.describe(exclude=[np.number])"
   ]
  },
  {
   "cell_type": "code",
   "execution_count": 21,
   "metadata": {},
   "outputs": [
    {
     "data": {
      "text/html": [
       "<div>\n",
       "<style scoped>\n",
       "    .dataframe tbody tr th:only-of-type {\n",
       "        vertical-align: middle;\n",
       "    }\n",
       "\n",
       "    .dataframe tbody tr th {\n",
       "        vertical-align: top;\n",
       "    }\n",
       "\n",
       "    .dataframe thead th {\n",
       "        text-align: right;\n",
       "    }\n",
       "</style>\n",
       "<table border=\"1\" class=\"dataframe\">\n",
       "  <thead>\n",
       "    <tr style=\"text-align: right;\">\n",
       "      <th></th>\n",
       "      <th>age</th>\n",
       "      <th>cell_type_idx</th>\n",
       "    </tr>\n",
       "  </thead>\n",
       "  <tbody>\n",
       "    <tr>\n",
       "      <th>count</th>\n",
       "      <td>9958.000000</td>\n",
       "      <td>10015.000000</td>\n",
       "    </tr>\n",
       "    <tr>\n",
       "      <th>mean</th>\n",
       "      <td>51.863828</td>\n",
       "      <td>3.623964</td>\n",
       "    </tr>\n",
       "    <tr>\n",
       "      <th>std</th>\n",
       "      <td>16.968614</td>\n",
       "      <td>1.208859</td>\n",
       "    </tr>\n",
       "    <tr>\n",
       "      <th>min</th>\n",
       "      <td>0.000000</td>\n",
       "      <td>0.000000</td>\n",
       "    </tr>\n",
       "    <tr>\n",
       "      <th>25%</th>\n",
       "      <td>40.000000</td>\n",
       "      <td>4.000000</td>\n",
       "    </tr>\n",
       "    <tr>\n",
       "      <th>50%</th>\n",
       "      <td>50.000000</td>\n",
       "      <td>4.000000</td>\n",
       "    </tr>\n",
       "    <tr>\n",
       "      <th>75%</th>\n",
       "      <td>65.000000</td>\n",
       "      <td>4.000000</td>\n",
       "    </tr>\n",
       "    <tr>\n",
       "      <th>max</th>\n",
       "      <td>85.000000</td>\n",
       "      <td>6.000000</td>\n",
       "    </tr>\n",
       "  </tbody>\n",
       "</table>\n",
       "</div>"
      ],
      "text/plain": [
       "               age  cell_type_idx\n",
       "count  9958.000000   10015.000000\n",
       "mean     51.863828       3.623964\n",
       "std      16.968614       1.208859\n",
       "min       0.000000       0.000000\n",
       "25%      40.000000       4.000000\n",
       "50%      50.000000       4.000000\n",
       "75%      65.000000       4.000000\n",
       "max      85.000000       6.000000"
      ]
     },
     "execution_count": 21,
     "metadata": {},
     "output_type": "execute_result"
    }
   ],
   "source": [
    "skin_df.describe()"
   ]
  },
  {
   "cell_type": "code",
   "execution_count": 22,
   "metadata": {},
   "outputs": [
    {
     "name": "stdout",
     "output_type": "stream",
     "text": [
      "lesion_id         object\n",
      "image_id          object\n",
      "dx                object\n",
      "dx_type           object\n",
      "age              float64\n",
      "sex               object\n",
      "localization      object\n",
      "path              object\n",
      "cell_type         object\n",
      "cell_type_idx       int8\n",
      "dtype: object\n"
     ]
    }
   ],
   "source": [
    "print(skin_df.dtypes)"
   ]
  },
  {
   "cell_type": "code",
   "execution_count": 23,
   "metadata": {},
   "outputs": [
    {
     "data": {
      "text/html": [
       "<div>\n",
       "<style scoped>\n",
       "    .dataframe tbody tr th:only-of-type {\n",
       "        vertical-align: middle;\n",
       "    }\n",
       "\n",
       "    .dataframe tbody tr th {\n",
       "        vertical-align: top;\n",
       "    }\n",
       "\n",
       "    .dataframe thead th {\n",
       "        text-align: right;\n",
       "    }\n",
       "</style>\n",
       "<table border=\"1\" class=\"dataframe\">\n",
       "  <thead>\n",
       "    <tr style=\"text-align: right;\">\n",
       "      <th></th>\n",
       "      <th>lesion_id</th>\n",
       "      <th>image_id</th>\n",
       "      <th>dx</th>\n",
       "      <th>dx_type</th>\n",
       "      <th>age</th>\n",
       "      <th>sex</th>\n",
       "      <th>localization</th>\n",
       "      <th>path</th>\n",
       "      <th>cell_type</th>\n",
       "      <th>cell_type_idx</th>\n",
       "    </tr>\n",
       "  </thead>\n",
       "  <tbody>\n",
       "    <tr>\n",
       "      <th>0</th>\n",
       "      <td>HAM_0000118</td>\n",
       "      <td>ISIC_0027419</td>\n",
       "      <td>bkl</td>\n",
       "      <td>histo</td>\n",
       "      <td>80.0</td>\n",
       "      <td>male</td>\n",
       "      <td>scalp</td>\n",
       "      <td>../data/HAM10000_images_part_1/ISIC_0027419.jpg</td>\n",
       "      <td>Benign keratosis-like lesions</td>\n",
       "      <td>2</td>\n",
       "    </tr>\n",
       "    <tr>\n",
       "      <th>2</th>\n",
       "      <td>HAM_0002730</td>\n",
       "      <td>ISIC_0026769</td>\n",
       "      <td>bkl</td>\n",
       "      <td>histo</td>\n",
       "      <td>80.0</td>\n",
       "      <td>male</td>\n",
       "      <td>scalp</td>\n",
       "      <td>../data/HAM10000_images_part_1/ISIC_0026769.jpg</td>\n",
       "      <td>Benign keratosis-like lesions</td>\n",
       "      <td>2</td>\n",
       "    </tr>\n",
       "    <tr>\n",
       "      <th>4</th>\n",
       "      <td>HAM_0001466</td>\n",
       "      <td>ISIC_0031633</td>\n",
       "      <td>bkl</td>\n",
       "      <td>histo</td>\n",
       "      <td>75.0</td>\n",
       "      <td>male</td>\n",
       "      <td>ear</td>\n",
       "      <td>../data/HAM10000_images_part_2/ISIC_0031633.jpg</td>\n",
       "      <td>Benign keratosis-like lesions</td>\n",
       "      <td>2</td>\n",
       "    </tr>\n",
       "    <tr>\n",
       "      <th>6</th>\n",
       "      <td>HAM_0002761</td>\n",
       "      <td>ISIC_0029176</td>\n",
       "      <td>bkl</td>\n",
       "      <td>histo</td>\n",
       "      <td>60.0</td>\n",
       "      <td>male</td>\n",
       "      <td>face</td>\n",
       "      <td>../data/HAM10000_images_part_1/ISIC_0029176.jpg</td>\n",
       "      <td>Benign keratosis-like lesions</td>\n",
       "      <td>2</td>\n",
       "    </tr>\n",
       "    <tr>\n",
       "      <th>8</th>\n",
       "      <td>HAM_0005132</td>\n",
       "      <td>ISIC_0025837</td>\n",
       "      <td>bkl</td>\n",
       "      <td>histo</td>\n",
       "      <td>70.0</td>\n",
       "      <td>female</td>\n",
       "      <td>back</td>\n",
       "      <td>../data/HAM10000_images_part_1/ISIC_0025837.jpg</td>\n",
       "      <td>Benign keratosis-like lesions</td>\n",
       "      <td>2</td>\n",
       "    </tr>\n",
       "    <tr>\n",
       "      <th>...</th>\n",
       "      <td>...</td>\n",
       "      <td>...</td>\n",
       "      <td>...</td>\n",
       "      <td>...</td>\n",
       "      <td>...</td>\n",
       "      <td>...</td>\n",
       "      <td>...</td>\n",
       "      <td>...</td>\n",
       "      <td>...</td>\n",
       "      <td>...</td>\n",
       "    </tr>\n",
       "    <tr>\n",
       "      <th>9994</th>\n",
       "      <td>HAM_0000193</td>\n",
       "      <td>ISIC_0030877</td>\n",
       "      <td>akiec</td>\n",
       "      <td>histo</td>\n",
       "      <td>60.0</td>\n",
       "      <td>female</td>\n",
       "      <td>face</td>\n",
       "      <td>../data/HAM10000_images_part_2/ISIC_0030877.jpg</td>\n",
       "      <td>Actinic keratoses</td>\n",
       "      <td>0</td>\n",
       "    </tr>\n",
       "    <tr>\n",
       "      <th>10001</th>\n",
       "      <td>HAM_0000020</td>\n",
       "      <td>ISIC_0031922</td>\n",
       "      <td>akiec</td>\n",
       "      <td>histo</td>\n",
       "      <td>60.0</td>\n",
       "      <td>female</td>\n",
       "      <td>face</td>\n",
       "      <td>../data/HAM10000_images_part_2/ISIC_0031922.jpg</td>\n",
       "      <td>Actinic keratoses</td>\n",
       "      <td>0</td>\n",
       "    </tr>\n",
       "    <tr>\n",
       "      <th>10004</th>\n",
       "      <td>HAM_0005579</td>\n",
       "      <td>ISIC_0029309</td>\n",
       "      <td>akiec</td>\n",
       "      <td>histo</td>\n",
       "      <td>80.0</td>\n",
       "      <td>male</td>\n",
       "      <td>face</td>\n",
       "      <td>../data/HAM10000_images_part_2/ISIC_0029309.jpg</td>\n",
       "      <td>Actinic keratoses</td>\n",
       "      <td>0</td>\n",
       "    </tr>\n",
       "    <tr>\n",
       "      <th>10008</th>\n",
       "      <td>HAM_0001576</td>\n",
       "      <td>ISIC_0033705</td>\n",
       "      <td>akiec</td>\n",
       "      <td>histo</td>\n",
       "      <td>60.0</td>\n",
       "      <td>male</td>\n",
       "      <td>face</td>\n",
       "      <td>../data/HAM10000_images_part_2/ISIC_0033705.jpg</td>\n",
       "      <td>Actinic keratoses</td>\n",
       "      <td>0</td>\n",
       "    </tr>\n",
       "    <tr>\n",
       "      <th>10010</th>\n",
       "      <td>HAM_0002867</td>\n",
       "      <td>ISIC_0033084</td>\n",
       "      <td>akiec</td>\n",
       "      <td>histo</td>\n",
       "      <td>40.0</td>\n",
       "      <td>male</td>\n",
       "      <td>abdomen</td>\n",
       "      <td>../data/HAM10000_images_part_2/ISIC_0033084.jpg</td>\n",
       "      <td>Actinic keratoses</td>\n",
       "      <td>0</td>\n",
       "    </tr>\n",
       "  </tbody>\n",
       "</table>\n",
       "<p>7470 rows × 10 columns</p>\n",
       "</div>"
      ],
      "text/plain": [
       "         lesion_id      image_id     dx dx_type   age     sex localization  \\\n",
       "0      HAM_0000118  ISIC_0027419    bkl   histo  80.0    male        scalp   \n",
       "2      HAM_0002730  ISIC_0026769    bkl   histo  80.0    male        scalp   \n",
       "4      HAM_0001466  ISIC_0031633    bkl   histo  75.0    male          ear   \n",
       "6      HAM_0002761  ISIC_0029176    bkl   histo  60.0    male         face   \n",
       "8      HAM_0005132  ISIC_0025837    bkl   histo  70.0  female         back   \n",
       "...            ...           ...    ...     ...   ...     ...          ...   \n",
       "9994   HAM_0000193  ISIC_0030877  akiec   histo  60.0  female         face   \n",
       "10001  HAM_0000020  ISIC_0031922  akiec   histo  60.0  female         face   \n",
       "10004  HAM_0005579  ISIC_0029309  akiec   histo  80.0    male         face   \n",
       "10008  HAM_0001576  ISIC_0033705  akiec   histo  60.0    male         face   \n",
       "10010  HAM_0002867  ISIC_0033084  akiec   histo  40.0    male      abdomen   \n",
       "\n",
       "                                                  path  \\\n",
       "0      ../data/HAM10000_images_part_1/ISIC_0027419.jpg   \n",
       "2      ../data/HAM10000_images_part_1/ISIC_0026769.jpg   \n",
       "4      ../data/HAM10000_images_part_2/ISIC_0031633.jpg   \n",
       "6      ../data/HAM10000_images_part_1/ISIC_0029176.jpg   \n",
       "8      ../data/HAM10000_images_part_1/ISIC_0025837.jpg   \n",
       "...                                                ...   \n",
       "9994   ../data/HAM10000_images_part_2/ISIC_0030877.jpg   \n",
       "10001  ../data/HAM10000_images_part_2/ISIC_0031922.jpg   \n",
       "10004  ../data/HAM10000_images_part_2/ISIC_0029309.jpg   \n",
       "10008  ../data/HAM10000_images_part_2/ISIC_0033705.jpg   \n",
       "10010  ../data/HAM10000_images_part_2/ISIC_0033084.jpg   \n",
       "\n",
       "                            cell_type  cell_type_idx  \n",
       "0      Benign keratosis-like lesions               2  \n",
       "2      Benign keratosis-like lesions               2  \n",
       "4      Benign keratosis-like lesions               2  \n",
       "6      Benign keratosis-like lesions               2  \n",
       "8      Benign keratosis-like lesions               2  \n",
       "...                               ...            ...  \n",
       "9994                Actinic keratoses              0  \n",
       "10001               Actinic keratoses              0  \n",
       "10004               Actinic keratoses              0  \n",
       "10008               Actinic keratoses              0  \n",
       "10010               Actinic keratoses              0  \n",
       "\n",
       "[7470 rows x 10 columns]"
      ]
     },
     "execution_count": 23,
     "metadata": {},
     "output_type": "execute_result"
    }
   ],
   "source": [
    "skin_df = skin_df.drop_duplicates(subset='lesion_id')\n",
    "skin_df"
   ]
  },
  {
   "cell_type": "code",
   "execution_count": 24,
   "metadata": {},
   "outputs": [
    {
     "data": {
      "text/plain": [
       "lesion_id         0\n",
       "image_id          0\n",
       "dx                0\n",
       "dx_type           0\n",
       "age              52\n",
       "sex               0\n",
       "localization      0\n",
       "path              0\n",
       "cell_type         0\n",
       "cell_type_idx     0\n",
       "dtype: int64"
      ]
     },
     "execution_count": 24,
     "metadata": {},
     "output_type": "execute_result"
    }
   ],
   "source": [
    "skin_df.isnull().sum()"
   ]
  },
  {
   "cell_type": "code",
   "execution_count": 25,
   "metadata": {},
   "outputs": [],
   "source": [
    "skin_df['age'].fillna((skin_df['age'].mean()), inplace=True)"
   ]
  },
  {
   "cell_type": "code",
   "execution_count": 26,
   "metadata": {},
   "outputs": [
    {
     "data": {
      "text/plain": [
       "lesion_id        0\n",
       "image_id         0\n",
       "dx               0\n",
       "dx_type          0\n",
       "age              0\n",
       "sex              0\n",
       "localization     0\n",
       "path             0\n",
       "cell_type        0\n",
       "cell_type_idx    0\n",
       "dtype: int64"
      ]
     },
     "execution_count": 26,
     "metadata": {},
     "output_type": "execute_result"
    }
   ],
   "source": [
    "skin_df.isnull().sum()"
   ]
  },
  {
   "cell_type": "code",
   "execution_count": 27,
   "metadata": {},
   "outputs": [
    {
     "data": {
      "text/plain": [
       "<Figure size 1200x400 with 0 Axes>"
      ]
     },
     "execution_count": 27,
     "metadata": {},
     "output_type": "execute_result"
    },
    {
     "data": {
      "text/plain": [
       "<Axes: xlabel='cell_type'>"
      ]
     },
     "execution_count": 27,
     "metadata": {},
     "output_type": "execute_result"
    },
    {
     "data": {
      "image/png": "[encoded data removed]",
      "text/plain": [
       "<Figure size 1200x400 with 1 Axes>"
      ]
     },
     "metadata": {},
     "output_type": "display_data"
    }
   ],
   "source": [
    "plt.figure(figsize=(12, 4))\n",
    "skin_df['cell_type'].value_counts().plot(kind='bar', color=[\"blue\", \"orange\", \"green\", \"purple\", \"red\"])"
   ]
  },
  {
   "cell_type": "code",
   "execution_count": 28,
   "metadata": {},
   "outputs": [
    {
     "data": {
      "text/plain": [
       "cell_type\n",
       "Melanocytic nevi                  5403\n",
       "Benign keratosis-like lesions      727\n",
       "Melanoma                           614\n",
       "Basal cell carcinoma               327\n",
       "Actinic keratoses                  228\n",
       "Vascular lesions                    98\n",
       "Dermatofibroma                      73\n",
       "Name: count, dtype: int64"
      ]
     },
     "execution_count": 28,
     "metadata": {},
     "output_type": "execute_result"
    },
    {
     "data": {
      "text/plain": [
       "dx\n",
       "nv       5403\n",
       "bkl       727\n",
       "mel       614\n",
       "bcc       327\n",
       "akiec     228\n",
       "vasc       98\n",
       "df         73\n",
       "Name: count, dtype: int64"
      ]
     },
     "execution_count": 28,
     "metadata": {},
     "output_type": "execute_result"
    }
   ],
   "source": [
    "skin_df['cell_type'].value_counts()\n",
    "skin_df['dx'].value_counts()"
   ]
  },
  {
   "attachments": {},
   "cell_type": "markdown",
   "metadata": {},
   "source": [
    "Delete Data Imbalanced"
   ]
  },
  {
   "cell_type": "code",
   "execution_count": 218,
   "metadata": {},
   "outputs": [
    {
     "data": {
      "text/plain": [
       "Index([], dtype='int64')"
      ]
     },
     "execution_count": 218,
     "metadata": {},
     "output_type": "execute_result"
    }
   ],
   "source": [
    "skin_df.loc[skin_df.cell_type.isin([\"Dermatofibroma\", \"Vascular lesions\"])].index"
   ]
  },
  {
   "cell_type": "code",
   "execution_count": 219,
   "metadata": {},
   "outputs": [],
   "source": [
    "skin_df.drop(skin_df.loc[skin_df.cell_type.isin([\"Dermatofibroma\", \"Vascular lesions\"])].index, inplace=True)"
   ]
  },
  {
   "cell_type": "code",
   "execution_count": 220,
   "metadata": {},
   "outputs": [
    {
     "data": {
      "text/plain": [
       "cell_type\n",
       "Melanocytic nevi                  5403\n",
       "Benign keratosis-like lesions      727\n",
       "Melanoma                           614\n",
       "Basal cell carcinoma               327\n",
       "Actinic keratoses                  228\n",
       "Name: count, dtype: int64"
      ]
     },
     "execution_count": 220,
     "metadata": {},
     "output_type": "execute_result"
    }
   ],
   "source": [
    "skin_df.cell_type.value_counts()"
   ]
  },
  {
   "cell_type": "code",
   "execution_count": 221,
   "metadata": {},
   "outputs": [],
   "source": [
    "cell_type_list = skin_df.cell_type.unique()"
   ]
  },
  {
   "cell_type": "code",
   "execution_count": 222,
   "metadata": {},
   "outputs": [
    {
     "data": {
      "text/plain": [
       "array(['Benign keratosis-like lesions ', 'Melanocytic nevi', 'Melanoma',\n",
       "       'Basal cell carcinoma', 'Actinic keratoses'], dtype=object)"
      ]
     },
     "execution_count": 222,
     "metadata": {},
     "output_type": "execute_result"
    }
   ],
   "source": [
    "cell_type_list"
   ]
  },
  {
   "cell_type": "code",
   "execution_count": 223,
   "metadata": {},
   "outputs": [],
   "source": [
    "sample_cell_type = list(filter(lambda x : x != 'Actinic keratoses', cell_type_list))"
   ]
  },
  {
   "cell_type": "code",
   "execution_count": 224,
   "metadata": {},
   "outputs": [
    {
     "data": {
      "text/plain": [
       "['Benign keratosis-like lesions ',\n",
       " 'Melanocytic nevi',\n",
       " 'Melanoma',\n",
       " 'Basal cell carcinoma']"
      ]
     },
     "execution_count": 224,
     "metadata": {},
     "output_type": "execute_result"
    }
   ],
   "source": [
    "sample_cell_type"
   ]
  },
  {
   "cell_type": "code",
   "execution_count": 225,
   "metadata": {},
   "outputs": [],
   "source": [
    "df_new = skin_df.loc[skin_df.cell_type.isin([\"Actinic keratoses\"])]"
   ]
  },
  {
   "cell_type": "code",
   "execution_count": 226,
   "metadata": {},
   "outputs": [
    {
     "data": {
      "text/plain": [
       "228"
      ]
     },
     "execution_count": 226,
     "metadata": {},
     "output_type": "execute_result"
    }
   ],
   "source": [
    "df_new.shape[0]"
   ]
  },
  {
   "cell_type": "code",
   "execution_count": 227,
   "metadata": {},
   "outputs": [],
   "source": [
    "sampled_cell = []\n",
    "for cell in sample_cell_type : \n",
    "    getted_sample = skin_df.loc[skin_df.cell_type.isin([cell])].sample(n=df_new.shape[0], axis=0, random_state=1)\n",
    "    sampled_cell.append(getted_sample)"
   ]
  },
  {
   "cell_type": "code",
   "execution_count": 171,
   "metadata": {},
   "outputs": [
    {
     "data": {
      "text/plain": [
       "[        lesion_id      image_id   dx    dx_type   age     sex  \\\n",
       " 402   HAM_0001896  ISIC_0030203  bkl      histo  50.0    male   \n",
       " 1044  HAM_0000643  ISIC_0029731  bkl  consensus  75.0    male   \n",
       " 298   HAM_0002827  ISIC_0025777  bkl      histo  80.0    male   \n",
       " 556   HAM_0000979  ISIC_0028043  bkl      histo  70.0    male   \n",
       " 809   HAM_0005896  ISIC_0027735  bkl   confocal  50.0  female   \n",
       " ...           ...           ...  ...        ...   ...     ...   \n",
       " 491   HAM_0001539  ISIC_0026444  bkl      histo  70.0    male   \n",
       " 492   HAM_0001605  ISIC_0024422  bkl      histo  75.0    male   \n",
       " 591   HAM_0003508  ISIC_0030319  bkl      histo  85.0  female   \n",
       " 1007  HAM_0001997  ISIC_0029251  bkl  consensus  70.0  female   \n",
       " 983   HAM_0000090  ISIC_0032330  bkl  consensus  65.0  female   \n",
       " \n",
       "          localization                                             path  \\\n",
       " 402              back  ../data/HAM10000_images_part_2/ISIC_0030203.jpg   \n",
       " 1044             face  ../data/HAM10000_images_part_2/ISIC_0029731.jpg   \n",
       " 298   lower extremity  ../data/HAM10000_images_part_1/ISIC_0025777.jpg   \n",
       " 556             scalp  ../data/HAM10000_images_part_1/ISIC_0028043.jpg   \n",
       " 809              face  ../data/HAM10000_images_part_1/ISIC_0027735.jpg   \n",
       " ...               ...                                              ...   \n",
       " 491              back  ../data/HAM10000_images_part_1/ISIC_0026444.jpg   \n",
       " 492   upper extremity  ../data/HAM10000_images_part_1/ISIC_0024422.jpg   \n",
       " 591   upper extremity  ../data/HAM10000_images_part_2/ISIC_0030319.jpg   \n",
       " 1007          abdomen  ../data/HAM10000_images_part_1/ISIC_0029251.jpg   \n",
       " 983             trunk  ../data/HAM10000_images_part_2/ISIC_0032330.jpg   \n",
       " \n",
       "                            cell_type  cell_type_idx  \\\n",
       " 402   Benign keratosis-like lesions               2   \n",
       " 1044  Benign keratosis-like lesions               2   \n",
       " 298   Benign keratosis-like lesions               2   \n",
       " 556   Benign keratosis-like lesions               2   \n",
       " 809   Benign keratosis-like lesions               2   \n",
       " ...                              ...            ...   \n",
       " 491   Benign keratosis-like lesions               2   \n",
       " 492   Benign keratosis-like lesions               2   \n",
       " 591   Benign keratosis-like lesions               2   \n",
       " 1007  Benign keratosis-like lesions               2   \n",
       " 983   Benign keratosis-like lesions               2   \n",
       " \n",
       "                                                   image  \n",
       " 402   [[[195, 167, 170], [196, 167, 169], [196, 167,...  \n",
       " 1044  [[[189, 92, 94], [191, 93, 93], [191, 91, 92],...  \n",
       " 298   [[[131, 99, 94], [130, 93, 86], [137, 99, 87],...  \n",
       " 556   [[[115, 85, 94], [121, 90, 100], [124, 93, 105...  \n",
       " 809   [[[170, 133, 158], [168, 130, 158], [167, 128,...  \n",
       " ...                                                 ...  \n",
       " 491   [[[132, 114, 136], [131, 113, 135], [133, 116,...  \n",
       " 492   [[[132, 97, 106], [136, 100, 110], [139, 104, ...  \n",
       " 591   [[[144, 112, 112], [145, 113, 111], [145, 114,...  \n",
       " 1007  [[[202, 116, 142], [202, 121, 145], [201, 119,...  \n",
       " 983   [[[229, 179, 175], [229, 179, 180], [230, 179,...  \n",
       " \n",
       " [228 rows x 11 columns],\n",
       "         lesion_id      image_id  dx    dx_type   age     sex     localization  \\\n",
       " 5291  HAM_0006773  ISIC_0026680  nv  follow_up  45.0    male          abdomen   \n",
       " 5787  HAM_0005041  ISIC_0028019  nv  follow_up  35.0    male  lower extremity   \n",
       " 7106  HAM_0005866  ISIC_0029422  nv      histo  75.0    male             back   \n",
       " 3180  HAM_0002561  ISIC_0025325  nv  follow_up  50.0    male  lower extremity   \n",
       " 5029  HAM_0005923  ISIC_0031419  nv  follow_up  55.0  female  lower extremity   \n",
       " ...           ...           ...  ..        ...   ...     ...              ...   \n",
       " 8344  HAM_0001507  ISIC_0030179  nv      histo  35.0    male          abdomen   \n",
       " 8648  HAM_0003822  ISIC_0030115  nv      histo  60.0    male             back   \n",
       " 3845  HAM_0006285  ISIC_0030596  nv  follow_up  50.0    male  upper extremity   \n",
       " 5542  HAM_0003678  ISIC_0026197  nv  follow_up  55.0  female          abdomen   \n",
       " 4231  HAM_0005589  ISIC_0026224  nv  follow_up  45.0    male             foot   \n",
       " \n",
       "                                                  path         cell_type  \\\n",
       " 5291  ../data/HAM10000_images_part_1/ISIC_0026680.jpg  Melanocytic nevi   \n",
       " 5787  ../data/HAM10000_images_part_1/ISIC_0028019.jpg  Melanocytic nevi   \n",
       " 7106  ../data/HAM10000_images_part_2/ISIC_0029422.jpg  Melanocytic nevi   \n",
       " 3180  ../data/HAM10000_images_part_1/ISIC_0025325.jpg  Melanocytic nevi   \n",
       " 5029  ../data/HAM10000_images_part_2/ISIC_0031419.jpg  Melanocytic nevi   \n",
       " ...                                               ...               ...   \n",
       " 8344  ../data/HAM10000_images_part_2/ISIC_0030179.jpg  Melanocytic nevi   \n",
       " 8648  ../data/HAM10000_images_part_2/ISIC_0030115.jpg  Melanocytic nevi   \n",
       " 3845  ../data/HAM10000_images_part_2/ISIC_0030596.jpg  Melanocytic nevi   \n",
       " 5542  ../data/HAM10000_images_part_1/ISIC_0026197.jpg  Melanocytic nevi   \n",
       " 4231  ../data/HAM10000_images_part_1/ISIC_0026224.jpg  Melanocytic nevi   \n",
       " \n",
       "       cell_type_idx                                              image  \n",
       " 5291              4  [[[225, 150, 164], [227, 151, 166], [227, 150,...  \n",
       " 5787              4  [[[222, 133, 144], [210, 128, 139], [228, 145,...  \n",
       " 7106              4  [[[0, 0, 0], [0, 0, 0], [0, 0, 0], [0, 0, 0], ...  \n",
       " 3180              4  [[[237, 164, 189], [237, 165, 188], [237, 167,...  \n",
       " 5029              4  [[[224, 148, 150], [227, 150, 149], [226, 151,...  \n",
       " ...             ...                                                ...  \n",
       " 8344              4  [[[180, 136, 163], [179, 139, 165], [175, 133,...  \n",
       " 8648              4  [[[119, 77, 65], [123, 82, 70], [128, 88, 78],...  \n",
       " 3845              4  [[[212, 131, 163], [212, 129, 162], [210, 129,...  \n",
       " 5542              4  [[[246, 161, 163], [246, 161, 160], [246, 163,...  \n",
       " 4231              4  [[[245, 166, 193], [244, 163, 191], [236, 151,...  \n",
       " \n",
       " [228 rows x 11 columns],\n",
       "         lesion_id      image_id   dx dx_type   age     sex     localization  \\\n",
       " 2176  HAM_0006964  ISIC_0027163  mel   histo  60.0  female  lower extremity   \n",
       " 2196  HAM_0003172  ISIC_0025832  mel   histo  65.0    male             back   \n",
       " 1280  HAM_0007560  ISIC_0026892  mel   histo  75.0    male          unknown   \n",
       " 1461  HAM_0005719  ISIC_0029562  mel   histo  40.0  female  upper extremity   \n",
       " 1398  HAM_0000062  ISIC_0028878  mel   histo  55.0    male             back   \n",
       " ...           ...           ...  ...     ...   ...     ...              ...   \n",
       " 2003  HAM_0006088  ISIC_0028760  mel   histo  30.0  female          abdomen   \n",
       " 1874  HAM_0002488  ISIC_0032807  mel   histo  50.0    male             face   \n",
       " 2240  HAM_0007511  ISIC_0024630  mel   histo  85.0    male  lower extremity   \n",
       " 1923  HAM_0000988  ISIC_0031186  mel   histo  70.0    male             face   \n",
       " 1762  HAM_0007102  ISIC_0030031  mel   histo  55.0    male             neck   \n",
       " \n",
       "                                                  path cell_type  \\\n",
       " 2176  ../data/HAM10000_images_part_1/ISIC_0027163.jpg  Melanoma   \n",
       " 2196  ../data/HAM10000_images_part_1/ISIC_0025832.jpg  Melanoma   \n",
       " 1280  ../data/HAM10000_images_part_1/ISIC_0026892.jpg  Melanoma   \n",
       " 1461  ../data/HAM10000_images_part_2/ISIC_0029562.jpg  Melanoma   \n",
       " 1398  ../data/HAM10000_images_part_1/ISIC_0028878.jpg  Melanoma   \n",
       " ...                                               ...       ...   \n",
       " 2003  ../data/HAM10000_images_part_1/ISIC_0028760.jpg  Melanoma   \n",
       " 1874  ../data/HAM10000_images_part_2/ISIC_0032807.jpg  Melanoma   \n",
       " 2240  ../data/HAM10000_images_part_1/ISIC_0024630.jpg  Melanoma   \n",
       " 1923  ../data/HAM10000_images_part_2/ISIC_0031186.jpg  Melanoma   \n",
       " 1762  ../data/HAM10000_images_part_2/ISIC_0030031.jpg  Melanoma   \n",
       " \n",
       "       cell_type_idx                                              image  \n",
       " 2176              5  [[[169, 141, 149], [173, 145, 155], [174, 150,...  \n",
       " 2196              5  [[[214, 165, 171], [216, 169, 178], [217, 170,...  \n",
       " 1280              5  [[[1, 0, 0], [2, 0, 2], [2, 0, 2], [3, 0, 2], ...  \n",
       " 1461              5  [[[63, 39, 33], [63, 39, 31], [63, 40, 32], [6...  \n",
       " 1398              5  [[[151, 115, 112], [153, 117, 116], [154, 119,...  \n",
       " ...             ...                                                ...  \n",
       " 2003              5  [[[246, 168, 178], [247, 172, 184], [247, 174,...  \n",
       " 1874              5  [[[186, 172, 188], [187, 174, 189], [187, 175,...  \n",
       " 2240              5  [[[137, 103, 80], [136, 99, 76], [137, 100, 76...  \n",
       " 1923              5  [[[115, 58, 71], [120, 61, 76], [126, 67, 81],...  \n",
       " 1762              5  [[[192, 160, 185], [195, 164, 189], [196, 165,...  \n",
       " \n",
       " [228 rows x 11 columns],\n",
       "         lesion_id      image_id   dx dx_type   age     sex     localization  \\\n",
       " 2563  HAM_0001907  ISIC_0025383  bcc   histo  40.0    male             back   \n",
       " 2866  HAM_0004711  ISIC_0028197  bcc   histo  85.0    male  upper extremity   \n",
       " 2901  HAM_0003115  ISIC_0030954  bcc   histo  85.0    male            chest   \n",
       " 2809  HAM_0002083  ISIC_0024432  bcc   histo  65.0    male             face   \n",
       " 2679  HAM_0001640  ISIC_0031026  bcc   histo  65.0    male             back   \n",
       " ...           ...           ...  ...     ...   ...     ...              ...   \n",
       " 2632  HAM_0001243  ISIC_0034161  bcc   histo  30.0  female             back   \n",
       " 2763  HAM_0003596  ISIC_0032194  bcc   histo  45.0    male             neck   \n",
       " 2699  HAM_0004937  ISIC_0026988  bcc   histo  60.0    male             neck   \n",
       " 2728  HAM_0004147  ISIC_0031712  bcc   histo  75.0    male             back   \n",
       " 2708  HAM_0002611  ISIC_0026192  bcc   histo  70.0    male             back   \n",
       " \n",
       "                                                  path             cell_type  \\\n",
       " 2563  ../data/HAM10000_images_part_1/ISIC_0025383.jpg  Basal cell carcinoma   \n",
       " 2866  ../data/HAM10000_images_part_1/ISIC_0028197.jpg  Basal cell carcinoma   \n",
       " 2901  ../data/HAM10000_images_part_2/ISIC_0030954.jpg  Basal cell carcinoma   \n",
       " 2809  ../data/HAM10000_images_part_1/ISIC_0024432.jpg  Basal cell carcinoma   \n",
       " 2679  ../data/HAM10000_images_part_2/ISIC_0031026.jpg  Basal cell carcinoma   \n",
       " ...                                               ...                   ...   \n",
       " 2632  ../data/HAM10000_images_part_2/ISIC_0034161.jpg  Basal cell carcinoma   \n",
       " 2763  ../data/HAM10000_images_part_2/ISIC_0032194.jpg  Basal cell carcinoma   \n",
       " 2699  ../data/HAM10000_images_part_1/ISIC_0026988.jpg  Basal cell carcinoma   \n",
       " 2728  ../data/HAM10000_images_part_2/ISIC_0031712.jpg  Basal cell carcinoma   \n",
       " 2708  ../data/HAM10000_images_part_1/ISIC_0026192.jpg  Basal cell carcinoma   \n",
       " \n",
       "       cell_type_idx                                              image  \n",
       " 2563              1  [[[231, 194, 232], [230, 195, 232], [231, 193,...  \n",
       " 2866              1  [[[180, 152, 140], [182, 155, 143], [183, 155,...  \n",
       " 2901              1  [[[185, 160, 160], [185, 158, 157], [185, 158,...  \n",
       " 2809              1  [[[114, 80, 78], [117, 84, 79], [121, 86, 80],...  \n",
       " 2679              1  [[[172, 132, 128], [173, 134, 129], [174, 135,...  \n",
       " ...             ...                                                ...  \n",
       " 2632              1  [[[210, 178, 195], [213, 178, 199], [211, 178,...  \n",
       " 2763              1  [[[203, 163, 171], [205, 164, 173], [206, 166,...  \n",
       " 2699              1  [[[140, 79, 59], [136, 77, 60], [142, 84, 65],...  \n",
       " 2728              1  [[[203, 184, 178], [203, 183, 172], [201, 182,...  \n",
       " 2708              1  [[[179, 144, 168], [181, 145, 170], [185, 148,...  \n",
       " \n",
       " [228 rows x 11 columns]]"
      ]
     },
     "execution_count": 171,
     "metadata": {},
     "output_type": "execute_result"
    }
   ],
   "source": [
    "sampled_cell"
   ]
  },
  {
   "cell_type": "code",
   "execution_count": 228,
   "metadata": {},
   "outputs": [],
   "source": [
    "df_new = pd.concat(sampled_cell + [df_new])"
   ]
  },
  {
   "cell_type": "code",
   "execution_count": 196,
   "metadata": {},
   "outputs": [
    {
     "data": {
      "text/html": [
       "<div>\n",
       "<style scoped>\n",
       "    .dataframe tbody tr th:only-of-type {\n",
       "        vertical-align: middle;\n",
       "    }\n",
       "\n",
       "    .dataframe tbody tr th {\n",
       "        vertical-align: top;\n",
       "    }\n",
       "\n",
       "    .dataframe thead th {\n",
       "        text-align: right;\n",
       "    }\n",
       "</style>\n",
       "<table border=\"1\" class=\"dataframe\">\n",
       "  <thead>\n",
       "    <tr style=\"text-align: right;\">\n",
       "      <th></th>\n",
       "      <th>lesion_id</th>\n",
       "      <th>image_id</th>\n",
       "      <th>dx</th>\n",
       "      <th>dx_type</th>\n",
       "      <th>age</th>\n",
       "      <th>sex</th>\n",
       "      <th>localization</th>\n",
       "      <th>path</th>\n",
       "      <th>cell_type</th>\n",
       "      <th>cell_type_idx</th>\n",
       "      <th>image</th>\n",
       "    </tr>\n",
       "  </thead>\n",
       "  <tbody>\n",
       "    <tr>\n",
       "      <th>402</th>\n",
       "      <td>HAM_0001896</td>\n",
       "      <td>ISIC_0030203</td>\n",
       "      <td>bkl</td>\n",
       "      <td>histo</td>\n",
       "      <td>50.0</td>\n",
       "      <td>male</td>\n",
       "      <td>back</td>\n",
       "      <td>../data/HAM10000_images_part_2/ISIC_0030203.jpg</td>\n",
       "      <td>Benign keratosis-like lesions</td>\n",
       "      <td>2</td>\n",
       "      <td>[[[195, 167, 170], [196, 167, 169], [196, 167,...</td>\n",
       "    </tr>\n",
       "    <tr>\n",
       "      <th>1044</th>\n",
       "      <td>HAM_0000643</td>\n",
       "      <td>ISIC_0029731</td>\n",
       "      <td>bkl</td>\n",
       "      <td>consensus</td>\n",
       "      <td>75.0</td>\n",
       "      <td>male</td>\n",
       "      <td>face</td>\n",
       "      <td>../data/HAM10000_images_part_2/ISIC_0029731.jpg</td>\n",
       "      <td>Benign keratosis-like lesions</td>\n",
       "      <td>2</td>\n",
       "      <td>[[[189, 92, 94], [191, 93, 93], [191, 91, 92],...</td>\n",
       "    </tr>\n",
       "    <tr>\n",
       "      <th>298</th>\n",
       "      <td>HAM_0002827</td>\n",
       "      <td>ISIC_0025777</td>\n",
       "      <td>bkl</td>\n",
       "      <td>histo</td>\n",
       "      <td>80.0</td>\n",
       "      <td>male</td>\n",
       "      <td>lower extremity</td>\n",
       "      <td>../data/HAM10000_images_part_1/ISIC_0025777.jpg</td>\n",
       "      <td>Benign keratosis-like lesions</td>\n",
       "      <td>2</td>\n",
       "      <td>[[[131, 99, 94], [130, 93, 86], [137, 99, 87],...</td>\n",
       "    </tr>\n",
       "    <tr>\n",
       "      <th>556</th>\n",
       "      <td>HAM_0000979</td>\n",
       "      <td>ISIC_0028043</td>\n",
       "      <td>bkl</td>\n",
       "      <td>histo</td>\n",
       "      <td>70.0</td>\n",
       "      <td>male</td>\n",
       "      <td>scalp</td>\n",
       "      <td>../data/HAM10000_images_part_1/ISIC_0028043.jpg</td>\n",
       "      <td>Benign keratosis-like lesions</td>\n",
       "      <td>2</td>\n",
       "      <td>[[[115, 85, 94], [121, 90, 100], [124, 93, 105...</td>\n",
       "    </tr>\n",
       "    <tr>\n",
       "      <th>809</th>\n",
       "      <td>HAM_0005896</td>\n",
       "      <td>ISIC_0027735</td>\n",
       "      <td>bkl</td>\n",
       "      <td>confocal</td>\n",
       "      <td>50.0</td>\n",
       "      <td>female</td>\n",
       "      <td>face</td>\n",
       "      <td>../data/HAM10000_images_part_1/ISIC_0027735.jpg</td>\n",
       "      <td>Benign keratosis-like lesions</td>\n",
       "      <td>2</td>\n",
       "      <td>[[[170, 133, 158], [168, 130, 158], [167, 128,...</td>\n",
       "    </tr>\n",
       "  </tbody>\n",
       "</table>\n",
       "</div>"
      ],
      "text/plain": [
       "        lesion_id      image_id   dx    dx_type   age     sex  \\\n",
       "402   HAM_0001896  ISIC_0030203  bkl      histo  50.0    male   \n",
       "1044  HAM_0000643  ISIC_0029731  bkl  consensus  75.0    male   \n",
       "298   HAM_0002827  ISIC_0025777  bkl      histo  80.0    male   \n",
       "556   HAM_0000979  ISIC_0028043  bkl      histo  70.0    male   \n",
       "809   HAM_0005896  ISIC_0027735  bkl   confocal  50.0  female   \n",
       "\n",
       "         localization                                             path  \\\n",
       "402              back  ../data/HAM10000_images_part_2/ISIC_0030203.jpg   \n",
       "1044             face  ../data/HAM10000_images_part_2/ISIC_0029731.jpg   \n",
       "298   lower extremity  ../data/HAM10000_images_part_1/ISIC_0025777.jpg   \n",
       "556             scalp  ../data/HAM10000_images_part_1/ISIC_0028043.jpg   \n",
       "809              face  ../data/HAM10000_images_part_1/ISIC_0027735.jpg   \n",
       "\n",
       "                           cell_type  cell_type_idx  \\\n",
       "402   Benign keratosis-like lesions               2   \n",
       "1044  Benign keratosis-like lesions               2   \n",
       "298   Benign keratosis-like lesions               2   \n",
       "556   Benign keratosis-like lesions               2   \n",
       "809   Benign keratosis-like lesions               2   \n",
       "\n",
       "                                                  image  \n",
       "402   [[[195, 167, 170], [196, 167, 169], [196, 167,...  \n",
       "1044  [[[189, 92, 94], [191, 93, 93], [191, 91, 92],...  \n",
       "298   [[[131, 99, 94], [130, 93, 86], [137, 99, 87],...  \n",
       "556   [[[115, 85, 94], [121, 90, 100], [124, 93, 105...  \n",
       "809   [[[170, 133, 158], [168, 130, 158], [167, 128,...  "
      ]
     },
     "execution_count": 196,
     "metadata": {},
     "output_type": "execute_result"
    }
   ],
   "source": [
    "df_new.head()"
   ]
  },
  {
   "cell_type": "code",
   "execution_count": 229,
   "metadata": {},
   "outputs": [
    {
     "data": {
      "text/plain": [
       "cell_type\n",
       "Benign keratosis-like lesions     228\n",
       "Melanocytic nevi                  228\n",
       "Melanoma                          228\n",
       "Basal cell carcinoma              228\n",
       "Actinic keratoses                 228\n",
       "Name: count, dtype: int64"
      ]
     },
     "execution_count": 229,
     "metadata": {},
     "output_type": "execute_result"
    }
   ],
   "source": [
    "df_new.cell_type.value_counts()"
   ]
  },
  {
   "cell_type": "code",
   "execution_count": 230,
   "metadata": {},
   "outputs": [],
   "source": [
    "df_new.reset_index(inplace=True)"
   ]
  },
  {
   "cell_type": "code",
   "execution_count": 199,
   "metadata": {},
   "outputs": [
    {
     "data": {
      "text/html": [
       "<div>\n",
       "<style scoped>\n",
       "    .dataframe tbody tr th:only-of-type {\n",
       "        vertical-align: middle;\n",
       "    }\n",
       "\n",
       "    .dataframe tbody tr th {\n",
       "        vertical-align: top;\n",
       "    }\n",
       "\n",
       "    .dataframe thead th {\n",
       "        text-align: right;\n",
       "    }\n",
       "</style>\n",
       "<table border=\"1\" class=\"dataframe\">\n",
       "  <thead>\n",
       "    <tr style=\"text-align: right;\">\n",
       "      <th></th>\n",
       "      <th>index</th>\n",
       "      <th>lesion_id</th>\n",
       "      <th>image_id</th>\n",
       "      <th>dx</th>\n",
       "      <th>dx_type</th>\n",
       "      <th>age</th>\n",
       "      <th>sex</th>\n",
       "      <th>localization</th>\n",
       "      <th>path</th>\n",
       "      <th>cell_type</th>\n",
       "      <th>cell_type_idx</th>\n",
       "      <th>image</th>\n",
       "    </tr>\n",
       "  </thead>\n",
       "  <tbody>\n",
       "    <tr>\n",
       "      <th>0</th>\n",
       "      <td>402</td>\n",
       "      <td>HAM_0001896</td>\n",
       "      <td>ISIC_0030203</td>\n",
       "      <td>bkl</td>\n",
       "      <td>histo</td>\n",
       "      <td>50.0</td>\n",
       "      <td>male</td>\n",
       "      <td>back</td>\n",
       "      <td>../data/HAM10000_images_part_2/ISIC_0030203.jpg</td>\n",
       "      <td>Benign keratosis-like lesions</td>\n",
       "      <td>2</td>\n",
       "      <td>[[[195, 167, 170], [196, 167, 169], [196, 167,...</td>\n",
       "    </tr>\n",
       "    <tr>\n",
       "      <th>1</th>\n",
       "      <td>1044</td>\n",
       "      <td>HAM_0000643</td>\n",
       "      <td>ISIC_0029731</td>\n",
       "      <td>bkl</td>\n",
       "      <td>consensus</td>\n",
       "      <td>75.0</td>\n",
       "      <td>male</td>\n",
       "      <td>face</td>\n",
       "      <td>../data/HAM10000_images_part_2/ISIC_0029731.jpg</td>\n",
       "      <td>Benign keratosis-like lesions</td>\n",
       "      <td>2</td>\n",
       "      <td>[[[189, 92, 94], [191, 93, 93], [191, 91, 92],...</td>\n",
       "    </tr>\n",
       "    <tr>\n",
       "      <th>2</th>\n",
       "      <td>298</td>\n",
       "      <td>HAM_0002827</td>\n",
       "      <td>ISIC_0025777</td>\n",
       "      <td>bkl</td>\n",
       "      <td>histo</td>\n",
       "      <td>80.0</td>\n",
       "      <td>male</td>\n",
       "      <td>lower extremity</td>\n",
       "      <td>../data/HAM10000_images_part_1/ISIC_0025777.jpg</td>\n",
       "      <td>Benign keratosis-like lesions</td>\n",
       "      <td>2</td>\n",
       "      <td>[[[131, 99, 94], [130, 93, 86], [137, 99, 87],...</td>\n",
       "    </tr>\n",
       "    <tr>\n",
       "      <th>3</th>\n",
       "      <td>556</td>\n",
       "      <td>HAM_0000979</td>\n",
       "      <td>ISIC_0028043</td>\n",
       "      <td>bkl</td>\n",
       "      <td>histo</td>\n",
       "      <td>70.0</td>\n",
       "      <td>male</td>\n",
       "      <td>scalp</td>\n",
       "      <td>../data/HAM10000_images_part_1/ISIC_0028043.jpg</td>\n",
       "      <td>Benign keratosis-like lesions</td>\n",
       "      <td>2</td>\n",
       "      <td>[[[115, 85, 94], [121, 90, 100], [124, 93, 105...</td>\n",
       "    </tr>\n",
       "    <tr>\n",
       "      <th>4</th>\n",
       "      <td>809</td>\n",
       "      <td>HAM_0005896</td>\n",
       "      <td>ISIC_0027735</td>\n",
       "      <td>bkl</td>\n",
       "      <td>confocal</td>\n",
       "      <td>50.0</td>\n",
       "      <td>female</td>\n",
       "      <td>face</td>\n",
       "      <td>../data/HAM10000_images_part_1/ISIC_0027735.jpg</td>\n",
       "      <td>Benign keratosis-like lesions</td>\n",
       "      <td>2</td>\n",
       "      <td>[[[170, 133, 158], [168, 130, 158], [167, 128,...</td>\n",
       "    </tr>\n",
       "  </tbody>\n",
       "</table>\n",
       "</div>"
      ],
      "text/plain": [
       "   index    lesion_id      image_id   dx    dx_type   age     sex  \\\n",
       "0    402  HAM_0001896  ISIC_0030203  bkl      histo  50.0    male   \n",
       "1   1044  HAM_0000643  ISIC_0029731  bkl  consensus  75.0    male   \n",
       "2    298  HAM_0002827  ISIC_0025777  bkl      histo  80.0    male   \n",
       "3    556  HAM_0000979  ISIC_0028043  bkl      histo  70.0    male   \n",
       "4    809  HAM_0005896  ISIC_0027735  bkl   confocal  50.0  female   \n",
       "\n",
       "      localization                                             path  \\\n",
       "0             back  ../data/HAM10000_images_part_2/ISIC_0030203.jpg   \n",
       "1             face  ../data/HAM10000_images_part_2/ISIC_0029731.jpg   \n",
       "2  lower extremity  ../data/HAM10000_images_part_1/ISIC_0025777.jpg   \n",
       "3            scalp  ../data/HAM10000_images_part_1/ISIC_0028043.jpg   \n",
       "4             face  ../data/HAM10000_images_part_1/ISIC_0027735.jpg   \n",
       "\n",
       "                        cell_type  cell_type_idx  \\\n",
       "0  Benign keratosis-like lesions               2   \n",
       "1  Benign keratosis-like lesions               2   \n",
       "2  Benign keratosis-like lesions               2   \n",
       "3  Benign keratosis-like lesions               2   \n",
       "4  Benign keratosis-like lesions               2   \n",
       "\n",
       "                                               image  \n",
       "0  [[[195, 167, 170], [196, 167, 169], [196, 167,...  \n",
       "1  [[[189, 92, 94], [191, 93, 93], [191, 91, 92],...  \n",
       "2  [[[131, 99, 94], [130, 93, 86], [137, 99, 87],...  \n",
       "3  [[[115, 85, 94], [121, 90, 100], [124, 93, 105...  \n",
       "4  [[[170, 133, 158], [168, 130, 158], [167, 128,...  "
      ]
     },
     "execution_count": 199,
     "metadata": {},
     "output_type": "execute_result"
    }
   ],
   "source": [
    "df_new.head()"
   ]
  },
  {
   "cell_type": "code",
   "execution_count": 231,
   "metadata": {},
   "outputs": [],
   "source": [
    "df_new.drop([\"index\", \"dx\"], inplace=True, axis=1)"
   ]
  },
  {
   "cell_type": "code",
   "execution_count": 232,
   "metadata": {},
   "outputs": [
    {
     "data": {
      "text/html": [
       "<div>\n",
       "<style scoped>\n",
       "    .dataframe tbody tr th:only-of-type {\n",
       "        vertical-align: middle;\n",
       "    }\n",
       "\n",
       "    .dataframe tbody tr th {\n",
       "        vertical-align: top;\n",
       "    }\n",
       "\n",
       "    .dataframe thead th {\n",
       "        text-align: right;\n",
       "    }\n",
       "</style>\n",
       "<table border=\"1\" class=\"dataframe\">\n",
       "  <thead>\n",
       "    <tr style=\"text-align: right;\">\n",
       "      <th></th>\n",
       "      <th>lesion_id</th>\n",
       "      <th>image_id</th>\n",
       "      <th>dx_type</th>\n",
       "      <th>age</th>\n",
       "      <th>sex</th>\n",
       "      <th>localization</th>\n",
       "      <th>path</th>\n",
       "      <th>cell_type</th>\n",
       "      <th>cell_type_idx</th>\n",
       "      <th>image</th>\n",
       "    </tr>\n",
       "  </thead>\n",
       "  <tbody>\n",
       "    <tr>\n",
       "      <th>0</th>\n",
       "      <td>HAM_0001896</td>\n",
       "      <td>ISIC_0030203</td>\n",
       "      <td>histo</td>\n",
       "      <td>50.0</td>\n",
       "      <td>male</td>\n",
       "      <td>back</td>\n",
       "      <td>../data/HAM10000_images_part_2/ISIC_0030203.jpg</td>\n",
       "      <td>Benign keratosis-like lesions</td>\n",
       "      <td>2</td>\n",
       "      <td>[[[195, 167, 170], [196, 167, 169], [196, 167,...</td>\n",
       "    </tr>\n",
       "    <tr>\n",
       "      <th>1</th>\n",
       "      <td>HAM_0000643</td>\n",
       "      <td>ISIC_0029731</td>\n",
       "      <td>consensus</td>\n",
       "      <td>75.0</td>\n",
       "      <td>male</td>\n",
       "      <td>face</td>\n",
       "      <td>../data/HAM10000_images_part_2/ISIC_0029731.jpg</td>\n",
       "      <td>Benign keratosis-like lesions</td>\n",
       "      <td>2</td>\n",
       "      <td>[[[189, 92, 94], [191, 93, 93], [191, 91, 92],...</td>\n",
       "    </tr>\n",
       "    <tr>\n",
       "      <th>2</th>\n",
       "      <td>HAM_0002827</td>\n",
       "      <td>ISIC_0025777</td>\n",
       "      <td>histo</td>\n",
       "      <td>80.0</td>\n",
       "      <td>male</td>\n",
       "      <td>lower extremity</td>\n",
       "      <td>../data/HAM10000_images_part_1/ISIC_0025777.jpg</td>\n",
       "      <td>Benign keratosis-like lesions</td>\n",
       "      <td>2</td>\n",
       "      <td>[[[131, 99, 94], [130, 93, 86], [137, 99, 87],...</td>\n",
       "    </tr>\n",
       "    <tr>\n",
       "      <th>3</th>\n",
       "      <td>HAM_0000979</td>\n",
       "      <td>ISIC_0028043</td>\n",
       "      <td>histo</td>\n",
       "      <td>70.0</td>\n",
       "      <td>male</td>\n",
       "      <td>scalp</td>\n",
       "      <td>../data/HAM10000_images_part_1/ISIC_0028043.jpg</td>\n",
       "      <td>Benign keratosis-like lesions</td>\n",
       "      <td>2</td>\n",
       "      <td>[[[115, 85, 94], [121, 90, 100], [124, 93, 105...</td>\n",
       "    </tr>\n",
       "    <tr>\n",
       "      <th>4</th>\n",
       "      <td>HAM_0005896</td>\n",
       "      <td>ISIC_0027735</td>\n",
       "      <td>confocal</td>\n",
       "      <td>50.0</td>\n",
       "      <td>female</td>\n",
       "      <td>face</td>\n",
       "      <td>../data/HAM10000_images_part_1/ISIC_0027735.jpg</td>\n",
       "      <td>Benign keratosis-like lesions</td>\n",
       "      <td>2</td>\n",
       "      <td>[[[170, 133, 158], [168, 130, 158], [167, 128,...</td>\n",
       "    </tr>\n",
       "  </tbody>\n",
       "</table>\n",
       "</div>"
      ],
      "text/plain": [
       "     lesion_id      image_id    dx_type   age     sex     localization  \\\n",
       "0  HAM_0001896  ISIC_0030203      histo  50.0    male             back   \n",
       "1  HAM_0000643  ISIC_0029731  consensus  75.0    male             face   \n",
       "2  HAM_0002827  ISIC_0025777      histo  80.0    male  lower extremity   \n",
       "3  HAM_0000979  ISIC_0028043      histo  70.0    male            scalp   \n",
       "4  HAM_0005896  ISIC_0027735   confocal  50.0  female             face   \n",
       "\n",
       "                                              path  \\\n",
       "0  ../data/HAM10000_images_part_2/ISIC_0030203.jpg   \n",
       "1  ../data/HAM10000_images_part_2/ISIC_0029731.jpg   \n",
       "2  ../data/HAM10000_images_part_1/ISIC_0025777.jpg   \n",
       "3  ../data/HAM10000_images_part_1/ISIC_0028043.jpg   \n",
       "4  ../data/HAM10000_images_part_1/ISIC_0027735.jpg   \n",
       "\n",
       "                        cell_type  cell_type_idx  \\\n",
       "0  Benign keratosis-like lesions               2   \n",
       "1  Benign keratosis-like lesions               2   \n",
       "2  Benign keratosis-like lesions               2   \n",
       "3  Benign keratosis-like lesions               2   \n",
       "4  Benign keratosis-like lesions               2   \n",
       "\n",
       "                                               image  \n",
       "0  [[[195, 167, 170], [196, 167, 169], [196, 167,...  \n",
       "1  [[[189, 92, 94], [191, 93, 93], [191, 91, 92],...  \n",
       "2  [[[131, 99, 94], [130, 93, 86], [137, 99, 87],...  \n",
       "3  [[[115, 85, 94], [121, 90, 100], [124, 93, 105...  \n",
       "4  [[[170, 133, 158], [168, 130, 158], [167, 128,...  "
      ]
     },
     "execution_count": 232,
     "metadata": {},
     "output_type": "execute_result"
    }
   ],
   "source": [
    "df_new.head()"
   ]
  },
  {
   "cell_type": "code",
   "execution_count": 233,
   "metadata": {},
   "outputs": [
    {
     "data": {
      "text/plain": [
       "Index(['lesion_id', 'image_id', 'dx_type', 'age', 'sex', 'localization',\n",
       "       'path', 'cell_type', 'cell_type_idx', 'image'],\n",
       "      dtype='object')"
      ]
     },
     "execution_count": 233,
     "metadata": {},
     "output_type": "execute_result"
    }
   ],
   "source": [
    "df_new.columns"
   ]
  },
  {
   "cell_type": "code",
   "execution_count": 234,
   "metadata": {},
   "outputs": [],
   "source": [
    "df_new.to_csv(\"../data/balanced_data.csv\", index=False)"
   ]
  },
  {
   "cell_type": "code",
   "execution_count": 235,
   "metadata": {},
   "outputs": [],
   "source": [
    "balanced_df = pd.read_csv(\"../data/balanced_data.csv\")"
   ]
  },
  {
   "cell_type": "code",
   "execution_count": 236,
   "metadata": {},
   "outputs": [
    {
     "data": {
      "text/html": [
       "<div>\n",
       "<style scoped>\n",
       "    .dataframe tbody tr th:only-of-type {\n",
       "        vertical-align: middle;\n",
       "    }\n",
       "\n",
       "    .dataframe tbody tr th {\n",
       "        vertical-align: top;\n",
       "    }\n",
       "\n",
       "    .dataframe thead th {\n",
       "        text-align: right;\n",
       "    }\n",
       "</style>\n",
       "<table border=\"1\" class=\"dataframe\">\n",
       "  <thead>\n",
       "    <tr style=\"text-align: right;\">\n",
       "      <th></th>\n",
       "      <th>lesion_id</th>\n",
       "      <th>image_id</th>\n",
       "      <th>dx_type</th>\n",
       "      <th>age</th>\n",
       "      <th>sex</th>\n",
       "      <th>localization</th>\n",
       "      <th>path</th>\n",
       "      <th>cell_type</th>\n",
       "      <th>cell_type_idx</th>\n",
       "      <th>image</th>\n",
       "    </tr>\n",
       "  </thead>\n",
       "  <tbody>\n",
       "    <tr>\n",
       "      <th>0</th>\n",
       "      <td>HAM_0001896</td>\n",
       "      <td>ISIC_0030203</td>\n",
       "      <td>histo</td>\n",
       "      <td>50.0</td>\n",
       "      <td>male</td>\n",
       "      <td>back</td>\n",
       "      <td>../data/HAM10000_images_part_2/ISIC_0030203.jpg</td>\n",
       "      <td>Benign keratosis-like lesions</td>\n",
       "      <td>2</td>\n",
       "      <td>[[[195 167 170]\\n  [196 167 169]\\n  [196 167 1...</td>\n",
       "    </tr>\n",
       "    <tr>\n",
       "      <th>1</th>\n",
       "      <td>HAM_0000643</td>\n",
       "      <td>ISIC_0029731</td>\n",
       "      <td>consensus</td>\n",
       "      <td>75.0</td>\n",
       "      <td>male</td>\n",
       "      <td>face</td>\n",
       "      <td>../data/HAM10000_images_part_2/ISIC_0029731.jpg</td>\n",
       "      <td>Benign keratosis-like lesions</td>\n",
       "      <td>2</td>\n",
       "      <td>[[[189  92  94]\\n  [191  93  93]\\n  [191  91  ...</td>\n",
       "    </tr>\n",
       "    <tr>\n",
       "      <th>2</th>\n",
       "      <td>HAM_0002827</td>\n",
       "      <td>ISIC_0025777</td>\n",
       "      <td>histo</td>\n",
       "      <td>80.0</td>\n",
       "      <td>male</td>\n",
       "      <td>lower extremity</td>\n",
       "      <td>../data/HAM10000_images_part_1/ISIC_0025777.jpg</td>\n",
       "      <td>Benign keratosis-like lesions</td>\n",
       "      <td>2</td>\n",
       "      <td>[[[131  99  94]\\n  [130  93  86]\\n  [137  99  ...</td>\n",
       "    </tr>\n",
       "    <tr>\n",
       "      <th>3</th>\n",
       "      <td>HAM_0000979</td>\n",
       "      <td>ISIC_0028043</td>\n",
       "      <td>histo</td>\n",
       "      <td>70.0</td>\n",
       "      <td>male</td>\n",
       "      <td>scalp</td>\n",
       "      <td>../data/HAM10000_images_part_1/ISIC_0028043.jpg</td>\n",
       "      <td>Benign keratosis-like lesions</td>\n",
       "      <td>2</td>\n",
       "      <td>[[[115  85  94]\\n  [121  90 100]\\n  [124  93 1...</td>\n",
       "    </tr>\n",
       "    <tr>\n",
       "      <th>4</th>\n",
       "      <td>HAM_0005896</td>\n",
       "      <td>ISIC_0027735</td>\n",
       "      <td>confocal</td>\n",
       "      <td>50.0</td>\n",
       "      <td>female</td>\n",
       "      <td>face</td>\n",
       "      <td>../data/HAM10000_images_part_1/ISIC_0027735.jpg</td>\n",
       "      <td>Benign keratosis-like lesions</td>\n",
       "      <td>2</td>\n",
       "      <td>[[[170 133 158]\\n  [168 130 158]\\n  [167 128 1...</td>\n",
       "    </tr>\n",
       "  </tbody>\n",
       "</table>\n",
       "</div>"
      ],
      "text/plain": [
       "     lesion_id      image_id    dx_type   age     sex     localization  \\\n",
       "0  HAM_0001896  ISIC_0030203      histo  50.0    male             back   \n",
       "1  HAM_0000643  ISIC_0029731  consensus  75.0    male             face   \n",
       "2  HAM_0002827  ISIC_0025777      histo  80.0    male  lower extremity   \n",
       "3  HAM_0000979  ISIC_0028043      histo  70.0    male            scalp   \n",
       "4  HAM_0005896  ISIC_0027735   confocal  50.0  female             face   \n",
       "\n",
       "                                              path  \\\n",
       "0  ../data/HAM10000_images_part_2/ISIC_0030203.jpg   \n",
       "1  ../data/HAM10000_images_part_2/ISIC_0029731.jpg   \n",
       "2  ../data/HAM10000_images_part_1/ISIC_0025777.jpg   \n",
       "3  ../data/HAM10000_images_part_1/ISIC_0028043.jpg   \n",
       "4  ../data/HAM10000_images_part_1/ISIC_0027735.jpg   \n",
       "\n",
       "                        cell_type  cell_type_idx  \\\n",
       "0  Benign keratosis-like lesions               2   \n",
       "1  Benign keratosis-like lesions               2   \n",
       "2  Benign keratosis-like lesions               2   \n",
       "3  Benign keratosis-like lesions               2   \n",
       "4  Benign keratosis-like lesions               2   \n",
       "\n",
       "                                               image  \n",
       "0  [[[195 167 170]\\n  [196 167 169]\\n  [196 167 1...  \n",
       "1  [[[189  92  94]\\n  [191  93  93]\\n  [191  91  ...  \n",
       "2  [[[131  99  94]\\n  [130  93  86]\\n  [137  99  ...  \n",
       "3  [[[115  85  94]\\n  [121  90 100]\\n  [124  93 1...  \n",
       "4  [[[170 133 158]\\n  [168 130 158]\\n  [167 128 1...  "
      ]
     },
     "execution_count": 236,
     "metadata": {},
     "output_type": "execute_result"
    }
   ],
   "source": [
    "balanced_df.head()"
   ]
  },
  {
   "cell_type": "code",
   "execution_count": 237,
   "metadata": {},
   "outputs": [
    {
     "data": {
      "text/plain": [
       "<Figure size 1200x400 with 0 Axes>"
      ]
     },
     "execution_count": 237,
     "metadata": {},
     "output_type": "execute_result"
    },
    {
     "data": {
      "text/plain": [
       "<Axes: xlabel='cell_type'>"
      ]
     },
     "execution_count": 237,
     "metadata": {},
     "output_type": "execute_result"
    },
    {
     "data": {
      "image/png": "[encoded data removed]",
      "text/plain": [
       "<Figure size 1200x400 with 1 Axes>"
      ]
     },
     "metadata": {},
     "output_type": "display_data"
    }
   ],
   "source": [
    "plt.figure(figsize=(12, 4))\n",
    "balanced_df['cell_type'].value_counts().plot(kind='bar', color=[\"blue\", \"orange\", \"green\", \"purple\", \"red\"])"
   ]
  },
  {
   "cell_type": "code",
   "execution_count": 239,
   "metadata": {},
   "outputs": [
    {
     "data": {
      "text/plain": [
       "<Figure size 1200x400 with 0 Axes>"
      ]
     },
     "execution_count": 239,
     "metadata": {},
     "output_type": "execute_result"
    },
    {
     "data": {
      "text/plain": [
       "<Axes: xlabel='localization'>"
      ]
     },
     "execution_count": 239,
     "metadata": {},
     "output_type": "execute_result"
    },
    {
     "data": {
      "image/png": "[encoded data removed]",
      "text/plain": [
       "<Figure size 1200x400 with 1 Axes>"
      ]
     },
     "metadata": {},
     "output_type": "display_data"
    }
   ],
   "source": [
    "plt.figure(figsize=(12, 4))\n",
    "skin_df['localization'].value_counts().plot(kind='bar', color=[\"blue\", \"orange\", \"green\", \"purple\", \"red\", \"pink\", \"brown\"])"
   ]
  },
  {
   "cell_type": "code",
   "execution_count": 31,
   "metadata": {},
   "outputs": [
    {
     "data": {
      "text/plain": [
       "<Axes: >"
      ]
     },
     "execution_count": 31,
     "metadata": {},
     "output_type": "execute_result"
    },
    {
     "data": {
      "image/png": "[encoded data removed]",
      "text/plain": [
       "<Figure size 640x480 with 1 Axes>"
      ]
     },
     "metadata": {},
     "output_type": "display_data"
    }
   ],
   "source": [
    "skin_df['age'].hist(bins=40)"
   ]
  },
  {
   "cell_type": "code",
   "execution_count": 32,
   "metadata": {},
   "outputs": [
    {
     "data": {
      "text/plain": [
       "<Figure size 1200x400 with 0 Axes>"
      ]
     },
     "execution_count": 32,
     "metadata": {},
     "output_type": "execute_result"
    },
    {
     "data": {
      "text/plain": [
       "<Axes: xlabel='sex'>"
      ]
     },
     "execution_count": 32,
     "metadata": {},
     "output_type": "execute_result"
    },
    {
     "data": {
      "image/png": "[encoded data removed]",
      "text/plain": [
       "<Figure size 1200x400 with 1 Axes>"
      ]
     },
     "metadata": {},
     "output_type": "display_data"
    }
   ],
   "source": [
    "plt.figure(figsize=(12, 4))\n",
    "skin_df['sex'].value_counts().plot(kind='bar', color=[\"blue\", \"orange\"])"
   ]
  },
  {
   "cell_type": "code",
   "execution_count": 33,
   "metadata": {},
   "outputs": [
    {
     "name": "stdout",
     "output_type": "stream",
     "text": [
      "Width:  600\n",
      "Height: 450\n"
     ]
    }
   ],
   "source": [
    "im = Image.open(skin_df[\"path\"][0])\n",
    "width, height = im.size\n",
    "print(\"Width: \", width)\n",
    "print(\"Height:\", height)"
   ]
  },
  {
   "cell_type": "code",
   "execution_count": 241,
   "metadata": {},
   "outputs": [],
   "source": [
    "# Create a TensorFlow Dataset from the DataFrame.\n",
    "dataset = tf.data.Dataset.from_tensor_slices((balanced_df[\"path\"], balanced_df[\"cell_type\"]))"
   ]
  },
  {
   "cell_type": "code",
   "execution_count": 243,
   "metadata": {},
   "outputs": [
    {
     "name": "stdout",
     "output_type": "stream",
     "text": [
      "(<tf.Tensor: shape=(), dtype=string, numpy=b'../data/HAM10000_images_part_2/ISIC_0030203.jpg'>, <tf.Tensor: shape=(), dtype=string, numpy=b'Benign keratosis-like lesions '>)\n",
      "(<tf.Tensor: shape=(), dtype=string, numpy=b'../data/HAM10000_images_part_2/ISIC_0029731.jpg'>, <tf.Tensor: shape=(), dtype=string, numpy=b'Benign keratosis-like lesions '>)\n",
      "(<tf.Tensor: shape=(), dtype=string, numpy=b'../data/HAM10000_images_part_1/ISIC_0025777.jpg'>, <tf.Tensor: shape=(), dtype=string, numpy=b'Benign keratosis-like lesions '>)\n",
      "(<tf.Tensor: shape=(), dtype=string, numpy=b'../data/HAM10000_images_part_1/ISIC_0028043.jpg'>, <tf.Tensor: shape=(), dtype=string, numpy=b'Benign keratosis-like lesions '>)\n",
      "(<tf.Tensor: shape=(), dtype=string, numpy=b'../data/HAM10000_images_part_1/ISIC_0027735.jpg'>, <tf.Tensor: shape=(), dtype=string, numpy=b'Benign keratosis-like lesions '>)\n",
      "(<tf.Tensor: shape=(), dtype=string, numpy=b'../data/HAM10000_images_part_1/ISIC_0028622.jpg'>, <tf.Tensor: shape=(), dtype=string, numpy=b'Benign keratosis-like lesions '>)\n",
      "(<tf.Tensor: shape=(), dtype=string, numpy=b'../data/HAM10000_images_part_2/ISIC_0031677.jpg'>, <tf.Tensor: shape=(), dtype=string, numpy=b'Benign keratosis-like lesions '>)\n",
      "(<tf.Tensor: shape=(), dtype=string, numpy=b'../data/HAM10000_images_part_1/ISIC_0026675.jpg'>, <tf.Tensor: shape=(), dtype=string, numpy=b'Benign keratosis-like lesions '>)\n",
      "(<tf.Tensor: shape=(), dtype=string, numpy=b'../data/HAM10000_images_part_1/ISIC_0025066.jpg'>, <tf.Tensor: shape=(), dtype=string, numpy=b'Benign keratosis-like lesions '>)\n",
      "(<tf.Tensor: shape=(), dtype=string, numpy=b'../data/HAM10000_images_part_1/ISIC_0028550.jpg'>, <tf.Tensor: shape=(), dtype=string, numpy=b'Benign keratosis-like lesions '>)\n",
      "(<tf.Tensor: shape=(), dtype=string, numpy=b'../data/HAM10000_images_part_2/ISIC_0033397.jpg'>, <tf.Tensor: shape=(), dtype=string, numpy=b'Benign keratosis-like lesions '>)\n",
      "(<tf.Tensor: shape=(), dtype=string, numpy=b'../data/HAM10000_images_part_2/ISIC_0033041.jpg'>, <tf.Tensor: shape=(), dtype=string, numpy=b'Benign keratosis-like lesions '>)\n",
      "(<tf.Tensor: shape=(), dtype=string, numpy=b'../data/HAM10000_images_part_2/ISIC_0031326.jpg'>, <tf.Tensor: shape=(), dtype=string, numpy=b'Benign keratosis-like lesions '>)\n",
      "(<tf.Tensor: shape=(), dtype=string, numpy=b'../data/HAM10000_images_part_2/ISIC_0031716.jpg'>, <tf.Tensor: shape=(), dtype=string, numpy=b'Benign keratosis-like lesions '>)\n",
      "(<tf.Tensor: shape=(), dtype=string, numpy=b'../data/HAM10000_images_part_2/ISIC_0031150.jpg'>, <tf.Tensor: shape=(), dtype=string, numpy=b'Benign keratosis-like lesions '>)\n",
      "(<tf.Tensor: shape=(), dtype=string, numpy=b'../data/HAM10000_images_part_2/ISIC_0030383.jpg'>, <tf.Tensor: shape=(), dtype=string, numpy=b'Benign keratosis-like lesions '>)\n",
      "(<tf.Tensor: shape=(), dtype=string, numpy=b'../data/HAM10000_images_part_1/ISIC_0027780.jpg'>, <tf.Tensor: shape=(), dtype=string, numpy=b'Benign keratosis-like lesions '>)\n",
      "(<tf.Tensor: shape=(), dtype=string, numpy=b'../data/HAM10000_images_part_1/ISIC_0026511.jpg'>, <tf.Tensor: shape=(), dtype=string, numpy=b'Benign keratosis-like lesions '>)\n",
      "(<tf.Tensor: shape=(), dtype=string, numpy=b'../data/HAM10000_images_part_2/ISIC_0030876.jpg'>, <tf.Tensor: shape=(), dtype=string, numpy=b'Benign keratosis-like lesions '>)\n",
      "(<tf.Tensor: shape=(), dtype=string, numpy=b'../data/HAM10000_images_part_1/ISIC_0028611.jpg'>, <tf.Tensor: shape=(), dtype=string, numpy=b'Benign keratosis-like lesions '>)\n",
      "(<tf.Tensor: shape=(), dtype=string, numpy=b'../data/HAM10000_images_part_2/ISIC_0029674.jpg'>, <tf.Tensor: shape=(), dtype=string, numpy=b'Benign keratosis-like lesions '>)\n",
      "(<tf.Tensor: shape=(), dtype=string, numpy=b'../data/HAM10000_images_part_2/ISIC_0032159.jpg'>, <tf.Tensor: shape=(), dtype=string, numpy=b'Benign keratosis-like lesions '>)\n",
      "(<tf.Tensor: shape=(), dtype=string, numpy=b'../data/HAM10000_images_part_1/ISIC_0025627.jpg'>, <tf.Tensor: shape=(), dtype=string, numpy=b'Benign keratosis-like lesions '>)\n",
      "(<tf.Tensor: shape=(), dtype=string, numpy=b'../data/HAM10000_images_part_2/ISIC_0029420.jpg'>, <tf.Tensor: shape=(), dtype=string, numpy=b'Benign keratosis-like lesions '>)\n",
      "(<tf.Tensor: shape=(), dtype=string, numpy=b'../data/HAM10000_images_part_1/ISIC_0026844.jpg'>, <tf.Tensor: shape=(), dtype=string, numpy=b'Benign keratosis-like lesions '>)\n",
      "(<tf.Tensor: shape=(), dtype=string, numpy=b'../data/HAM10000_images_part_1/ISIC_0028094.jpg'>, <tf.Tensor: shape=(), dtype=string, numpy=b'Benign keratosis-like lesions '>)\n",
      "(<tf.Tensor: shape=(), dtype=string, numpy=b'../data/HAM10000_images_part_2/ISIC_0034165.jpg'>, <tf.Tensor: shape=(), dtype=string, numpy=b'Benign keratosis-like lesions '>)\n",
      "(<tf.Tensor: shape=(), dtype=string, numpy=b'../data/HAM10000_images_part_1/ISIC_0025374.jpg'>, <tf.Tensor: shape=(), dtype=string, numpy=b'Benign keratosis-like lesions '>)\n",
      "(<tf.Tensor: shape=(), dtype=string, numpy=b'../data/HAM10000_images_part_1/ISIC_0028503.jpg'>, <tf.Tensor: shape=(), dtype=string, numpy=b'Benign keratosis-like lesions '>)\n",
      "(<tf.Tensor: shape=(), dtype=string, numpy=b'../data/HAM10000_images_part_1/ISIC_0024635.jpg'>, <tf.Tensor: shape=(), dtype=string, numpy=b'Benign keratosis-like lesions '>)\n",
      "(<tf.Tensor: shape=(), dtype=string, numpy=b'../data/HAM10000_images_part_1/ISIC_0027041.jpg'>, <tf.Tensor: shape=(), dtype=string, numpy=b'Benign keratosis-like lesions '>)\n",
      "(<tf.Tensor: shape=(), dtype=string, numpy=b'../data/HAM10000_images_part_2/ISIC_0031601.jpg'>, <tf.Tensor: shape=(), dtype=string, numpy=b'Benign keratosis-like lesions '>)\n",
      "(<tf.Tensor: shape=(), dtype=string, numpy=b'../data/HAM10000_images_part_2/ISIC_0032654.jpg'>, <tf.Tensor: shape=(), dtype=string, numpy=b'Benign keratosis-like lesions '>)\n",
      "(<tf.Tensor: shape=(), dtype=string, numpy=b'../data/HAM10000_images_part_1/ISIC_0026135.jpg'>, <tf.Tensor: shape=(), dtype=string, numpy=b'Benign keratosis-like lesions '>)\n",
      "(<tf.Tensor: shape=(), dtype=string, numpy=b'../data/HAM10000_images_part_1/ISIC_0024337.jpg'>, <tf.Tensor: shape=(), dtype=string, numpy=b'Benign keratosis-like lesions '>)\n",
      "(<tf.Tensor: shape=(), dtype=string, numpy=b'../data/HAM10000_images_part_1/ISIC_0026477.jpg'>, <tf.Tensor: shape=(), dtype=string, numpy=b'Benign keratosis-like lesions '>)\n",
      "(<tf.Tensor: shape=(), dtype=string, numpy=b'../data/HAM10000_images_part_1/ISIC_0025076.jpg'>, <tf.Tensor: shape=(), dtype=string, numpy=b'Benign keratosis-like lesions '>)\n",
      "(<tf.Tensor: shape=(), dtype=string, numpy=b'../data/HAM10000_images_part_1/ISIC_0028555.jpg'>, <tf.Tensor: shape=(), dtype=string, numpy=b'Benign keratosis-like lesions '>)\n",
      "(<tf.Tensor: shape=(), dtype=string, numpy=b'../data/HAM10000_images_part_2/ISIC_0030088.jpg'>, <tf.Tensor: shape=(), dtype=string, numpy=b'Benign keratosis-like lesions '>)\n",
      "(<tf.Tensor: shape=(), dtype=string, numpy=b'../data/HAM10000_images_part_1/ISIC_0026378.jpg'>, <tf.Tensor: shape=(), dtype=string, numpy=b'Benign keratosis-like lesions '>)\n",
      "(<tf.Tensor: shape=(), dtype=string, numpy=b'../data/HAM10000_images_part_2/ISIC_0029600.jpg'>, <tf.Tensor: shape=(), dtype=string, numpy=b'Benign keratosis-like lesions '>)\n",
      "(<tf.Tensor: shape=(), dtype=string, numpy=b'../data/HAM10000_images_part_1/ISIC_0028650.jpg'>, <tf.Tensor: shape=(), dtype=string, numpy=b'Benign keratosis-like lesions '>)\n",
      "(<tf.Tensor: shape=(), dtype=string, numpy=b'../data/HAM10000_images_part_1/ISIC_0026895.jpg'>, <tf.Tensor: shape=(), dtype=string, numpy=b'Benign keratosis-like lesions '>)\n",
      "(<tf.Tensor: shape=(), dtype=string, numpy=b'../data/HAM10000_images_part_2/ISIC_0032358.jpg'>, <tf.Tensor: shape=(), dtype=string, numpy=b'Benign keratosis-like lesions '>)\n",
      "(<tf.Tensor: shape=(), dtype=string, numpy=b'../data/HAM10000_images_part_1/ISIC_0027781.jpg'>, <tf.Tensor: shape=(), dtype=string, numpy=b'Benign keratosis-like lesions '>)\n",
      "(<tf.Tensor: shape=(), dtype=string, numpy=b'../data/HAM10000_images_part_1/ISIC_0027996.jpg'>, <tf.Tensor: shape=(), dtype=string, numpy=b'Benign keratosis-like lesions '>)\n",
      "(<tf.Tensor: shape=(), dtype=string, numpy=b'../data/HAM10000_images_part_2/ISIC_0033246.jpg'>, <tf.Tensor: shape=(), dtype=string, numpy=b'Benign keratosis-like lesions '>)\n",
      "(<tf.Tensor: shape=(), dtype=string, numpy=b'../data/HAM10000_images_part_2/ISIC_0031630.jpg'>, <tf.Tensor: shape=(), dtype=string, numpy=b'Benign keratosis-like lesions '>)\n",
      "(<tf.Tensor: shape=(), dtype=string, numpy=b'../data/HAM10000_images_part_2/ISIC_0031761.jpg'>, <tf.Tensor: shape=(), dtype=string, numpy=b'Benign keratosis-like lesions '>)\n",
      "(<tf.Tensor: shape=(), dtype=string, numpy=b'../data/HAM10000_images_part_1/ISIC_0026277.jpg'>, <tf.Tensor: shape=(), dtype=string, numpy=b'Benign keratosis-like lesions '>)\n",
      "(<tf.Tensor: shape=(), dtype=string, numpy=b'../data/HAM10000_images_part_2/ISIC_0032757.jpg'>, <tf.Tensor: shape=(), dtype=string, numpy=b'Benign keratosis-like lesions '>)\n",
      "(<tf.Tensor: shape=(), dtype=string, numpy=b'../data/HAM10000_images_part_2/ISIC_0029519.jpg'>, <tf.Tensor: shape=(), dtype=string, numpy=b'Benign keratosis-like lesions '>)\n",
      "(<tf.Tensor: shape=(), dtype=string, numpy=b'../data/HAM10000_images_part_2/ISIC_0030488.jpg'>, <tf.Tensor: shape=(), dtype=string, numpy=b'Benign keratosis-like lesions '>)\n",
      "(<tf.Tensor: shape=(), dtype=string, numpy=b'../data/HAM10000_images_part_1/ISIC_0029022.jpg'>, <tf.Tensor: shape=(), dtype=string, numpy=b'Benign keratosis-like lesions '>)\n",
      "(<tf.Tensor: shape=(), dtype=string, numpy=b'../data/HAM10000_images_part_1/ISIC_0029115.jpg'>, <tf.Tensor: shape=(), dtype=string, numpy=b'Benign keratosis-like lesions '>)\n",
      "(<tf.Tensor: shape=(), dtype=string, numpy=b'../data/HAM10000_images_part_2/ISIC_0032024.jpg'>, <tf.Tensor: shape=(), dtype=string, numpy=b'Benign keratosis-like lesions '>)\n",
      "(<tf.Tensor: shape=(), dtype=string, numpy=b'../data/HAM10000_images_part_2/ISIC_0032304.jpg'>, <tf.Tensor: shape=(), dtype=string, numpy=b'Benign keratosis-like lesions '>)\n",
      "(<tf.Tensor: shape=(), dtype=string, numpy=b'../data/HAM10000_images_part_1/ISIC_0027025.jpg'>, <tf.Tensor: shape=(), dtype=string, numpy=b'Benign keratosis-like lesions '>)\n",
      "(<tf.Tensor: shape=(), dtype=string, numpy=b'../data/HAM10000_images_part_1/ISIC_0026787.jpg'>, <tf.Tensor: shape=(), dtype=string, numpy=b'Benign keratosis-like lesions '>)\n",
      "(<tf.Tensor: shape=(), dtype=string, numpy=b'../data/HAM10000_images_part_1/ISIC_0027815.jpg'>, <tf.Tensor: shape=(), dtype=string, numpy=b'Benign keratosis-like lesions '>)\n",
      "(<tf.Tensor: shape=(), dtype=string, numpy=b'../data/HAM10000_images_part_1/ISIC_0027509.jpg'>, <tf.Tensor: shape=(), dtype=string, numpy=b'Benign keratosis-like lesions '>)\n",
      "(<tf.Tensor: shape=(), dtype=string, numpy=b'../data/HAM10000_images_part_1/ISIC_0024623.jpg'>, <tf.Tensor: shape=(), dtype=string, numpy=b'Benign keratosis-like lesions '>)\n",
      "(<tf.Tensor: shape=(), dtype=string, numpy=b'../data/HAM10000_images_part_1/ISIC_0025743.jpg'>, <tf.Tensor: shape=(), dtype=string, numpy=b'Benign keratosis-like lesions '>)\n",
      "(<tf.Tensor: shape=(), dtype=string, numpy=b'../data/HAM10000_images_part_2/ISIC_0029929.jpg'>, <tf.Tensor: shape=(), dtype=string, numpy=b'Benign keratosis-like lesions '>)\n",
      "(<tf.Tensor: shape=(), dtype=string, numpy=b'../data/HAM10000_images_part_2/ISIC_0033722.jpg'>, <tf.Tensor: shape=(), dtype=string, numpy=b'Benign keratosis-like lesions '>)\n",
      "(<tf.Tensor: shape=(), dtype=string, numpy=b'../data/HAM10000_images_part_1/ISIC_0027437.jpg'>, <tf.Tensor: shape=(), dtype=string, numpy=b'Benign keratosis-like lesions '>)\n",
      "(<tf.Tensor: shape=(), dtype=string, numpy=b'../data/HAM10000_images_part_1/ISIC_0027068.jpg'>, <tf.Tensor: shape=(), dtype=string, numpy=b'Benign keratosis-like lesions '>)\n",
      "(<tf.Tensor: shape=(), dtype=string, numpy=b'../data/HAM10000_images_part_1/ISIC_0027454.jpg'>, <tf.Tensor: shape=(), dtype=string, numpy=b'Benign keratosis-like lesions '>)\n",
      "(<tf.Tensor: shape=(), dtype=string, numpy=b'../data/HAM10000_images_part_2/ISIC_0029418.jpg'>, <tf.Tensor: shape=(), dtype=string, numpy=b'Benign keratosis-like lesions '>)\n",
      "(<tf.Tensor: shape=(), dtype=string, numpy=b'../data/HAM10000_images_part_2/ISIC_0033853.jpg'>, <tf.Tensor: shape=(), dtype=string, numpy=b'Benign keratosis-like lesions '>)\n",
      "(<tf.Tensor: shape=(), dtype=string, numpy=b'../data/HAM10000_images_part_2/ISIC_0032827.jpg'>, <tf.Tensor: shape=(), dtype=string, numpy=b'Benign keratosis-like lesions '>)\n",
      "(<tf.Tensor: shape=(), dtype=string, numpy=b'../data/HAM10000_images_part_2/ISIC_0032395.jpg'>, <tf.Tensor: shape=(), dtype=string, numpy=b'Benign keratosis-like lesions '>)\n",
      "(<tf.Tensor: shape=(), dtype=string, numpy=b'../data/HAM10000_images_part_2/ISIC_0031138.jpg'>, <tf.Tensor: shape=(), dtype=string, numpy=b'Benign keratosis-like lesions '>)\n",
      "(<tf.Tensor: shape=(), dtype=string, numpy=b'../data/HAM10000_images_part_1/ISIC_0029176.jpg'>, <tf.Tensor: shape=(), dtype=string, numpy=b'Benign keratosis-like lesions '>)\n",
      "(<tf.Tensor: shape=(), dtype=string, numpy=b'../data/HAM10000_images_part_1/ISIC_0027167.jpg'>, <tf.Tensor: shape=(), dtype=string, numpy=b'Benign keratosis-like lesions '>)\n",
      "(<tf.Tensor: shape=(), dtype=string, numpy=b'../data/HAM10000_images_part_1/ISIC_0025131.jpg'>, <tf.Tensor: shape=(), dtype=string, numpy=b'Benign keratosis-like lesions '>)\n",
      "(<tf.Tensor: shape=(), dtype=string, numpy=b'../data/HAM10000_images_part_1/ISIC_0027990.jpg'>, <tf.Tensor: shape=(), dtype=string, numpy=b'Benign keratosis-like lesions '>)\n",
      "(<tf.Tensor: shape=(), dtype=string, numpy=b'../data/HAM10000_images_part_2/ISIC_0032335.jpg'>, <tf.Tensor: shape=(), dtype=string, numpy=b'Benign keratosis-like lesions '>)\n",
      "(<tf.Tensor: shape=(), dtype=string, numpy=b'../data/HAM10000_images_part_2/ISIC_0034318.jpg'>, <tf.Tensor: shape=(), dtype=string, numpy=b'Benign keratosis-like lesions '>)\n",
      "(<tf.Tensor: shape=(), dtype=string, numpy=b'../data/HAM10000_images_part_2/ISIC_0031061.jpg'>, <tf.Tensor: shape=(), dtype=string, numpy=b'Benign keratosis-like lesions '>)\n",
      "(<tf.Tensor: shape=(), dtype=string, numpy=b'../data/HAM10000_images_part_2/ISIC_0029880.jpg'>, <tf.Tensor: shape=(), dtype=string, numpy=b'Benign keratosis-like lesions '>)\n",
      "(<tf.Tensor: shape=(), dtype=string, numpy=b'../data/HAM10000_images_part_2/ISIC_0030396.jpg'>, <tf.Tensor: shape=(), dtype=string, numpy=b'Benign keratosis-like lesions '>)\n",
      "(<tf.Tensor: shape=(), dtype=string, numpy=b'../data/HAM10000_images_part_1/ISIC_0026042.jpg'>, <tf.Tensor: shape=(), dtype=string, numpy=b'Benign keratosis-like lesions '>)\n",
      "(<tf.Tensor: shape=(), dtype=string, numpy=b'../data/HAM10000_images_part_1/ISIC_0027957.jpg'>, <tf.Tensor: shape=(), dtype=string, numpy=b'Benign keratosis-like lesions '>)\n",
      "(<tf.Tensor: shape=(), dtype=string, numpy=b'../data/HAM10000_images_part_1/ISIC_0027435.jpg'>, <tf.Tensor: shape=(), dtype=string, numpy=b'Benign keratosis-like lesions '>)\n",
      "(<tf.Tensor: shape=(), dtype=string, numpy=b'../data/HAM10000_images_part_1/ISIC_0026553.jpg'>, <tf.Tensor: shape=(), dtype=string, numpy=b'Benign keratosis-like lesions '>)\n",
      "(<tf.Tensor: shape=(), dtype=string, numpy=b'../data/HAM10000_images_part_2/ISIC_0034070.jpg'>, <tf.Tensor: shape=(), dtype=string, numpy=b'Benign keratosis-like lesions '>)\n",
      "(<tf.Tensor: shape=(), dtype=string, numpy=b'../data/HAM10000_images_part_1/ISIC_0028496.jpg'>, <tf.Tensor: shape=(), dtype=string, numpy=b'Benign keratosis-like lesions '>)\n",
      "(<tf.Tensor: shape=(), dtype=string, numpy=b'../data/HAM10000_images_part_2/ISIC_0030323.jpg'>, <tf.Tensor: shape=(), dtype=string, numpy=b'Benign keratosis-like lesions '>)\n",
      "(<tf.Tensor: shape=(), dtype=string, numpy=b'../data/HAM10000_images_part_1/ISIC_0024761.jpg'>, <tf.Tensor: shape=(), dtype=string, numpy=b'Benign keratosis-like lesions '>)\n",
      "(<tf.Tensor: shape=(), dtype=string, numpy=b'../data/HAM10000_images_part_2/ISIC_0031495.jpg'>, <tf.Tensor: shape=(), dtype=string, numpy=b'Benign keratosis-like lesions '>)\n",
      "(<tf.Tensor: shape=(), dtype=string, numpy=b'../data/HAM10000_images_part_2/ISIC_0030783.jpg'>, <tf.Tensor: shape=(), dtype=string, numpy=b'Benign keratosis-like lesions '>)\n",
      "(<tf.Tensor: shape=(), dtype=string, numpy=b'../data/HAM10000_images_part_2/ISIC_0031362.jpg'>, <tf.Tensor: shape=(), dtype=string, numpy=b'Benign keratosis-like lesions '>)\n",
      "(<tf.Tensor: shape=(), dtype=string, numpy=b'../data/HAM10000_images_part_1/ISIC_0027139.jpg'>, <tf.Tensor: shape=(), dtype=string, numpy=b'Benign keratosis-like lesions '>)\n",
      "(<tf.Tensor: shape=(), dtype=string, numpy=b'../data/HAM10000_images_part_1/ISIC_0026923.jpg'>, <tf.Tensor: shape=(), dtype=string, numpy=b'Benign keratosis-like lesions '>)\n",
      "(<tf.Tensor: shape=(), dtype=string, numpy=b'../data/HAM10000_images_part_2/ISIC_0033539.jpg'>, <tf.Tensor: shape=(), dtype=string, numpy=b'Benign keratosis-like lesions '>)\n",
      "(<tf.Tensor: shape=(), dtype=string, numpy=b'../data/HAM10000_images_part_2/ISIC_0031753.jpg'>, <tf.Tensor: shape=(), dtype=string, numpy=b'Benign keratosis-like lesions '>)\n",
      "(<tf.Tensor: shape=(), dtype=string, numpy=b'../data/HAM10000_images_part_1/ISIC_0027826.jpg'>, <tf.Tensor: shape=(), dtype=string, numpy=b'Benign keratosis-like lesions '>)\n",
      "(<tf.Tensor: shape=(), dtype=string, numpy=b'../data/HAM10000_images_part_2/ISIC_0030721.jpg'>, <tf.Tensor: shape=(), dtype=string, numpy=b'Benign keratosis-like lesions '>)\n",
      "(<tf.Tensor: shape=(), dtype=string, numpy=b'../data/HAM10000_images_part_1/ISIC_0028977.jpg'>, <tf.Tensor: shape=(), dtype=string, numpy=b'Benign keratosis-like lesions '>)\n",
      "(<tf.Tensor: shape=(), dtype=string, numpy=b'../data/HAM10000_images_part_1/ISIC_0024471.jpg'>, <tf.Tensor: shape=(), dtype=string, numpy=b'Benign keratosis-like lesions '>)\n",
      "(<tf.Tensor: shape=(), dtype=string, numpy=b'../data/HAM10000_images_part_1/ISIC_0027419.jpg'>, <tf.Tensor: shape=(), dtype=string, numpy=b'Benign keratosis-like lesions '>)\n",
      "(<tf.Tensor: shape=(), dtype=string, numpy=b'../data/HAM10000_images_part_1/ISIC_0024971.jpg'>, <tf.Tensor: shape=(), dtype=string, numpy=b'Benign keratosis-like lesions '>)\n",
      "(<tf.Tensor: shape=(), dtype=string, numpy=b'../data/HAM10000_images_part_1/ISIC_0029135.jpg'>, <tf.Tensor: shape=(), dtype=string, numpy=b'Benign keratosis-like lesions '>)\n",
      "(<tf.Tensor: shape=(), dtype=string, numpy=b'../data/HAM10000_images_part_1/ISIC_0024696.jpg'>, <tf.Tensor: shape=(), dtype=string, numpy=b'Benign keratosis-like lesions '>)\n",
      "(<tf.Tensor: shape=(), dtype=string, numpy=b'../data/HAM10000_images_part_2/ISIC_0033482.jpg'>, <tf.Tensor: shape=(), dtype=string, numpy=b'Benign keratosis-like lesions '>)\n",
      "(<tf.Tensor: shape=(), dtype=string, numpy=b'../data/HAM10000_images_part_1/ISIC_0029126.jpg'>, <tf.Tensor: shape=(), dtype=string, numpy=b'Benign keratosis-like lesions '>)\n",
      "(<tf.Tensor: shape=(), dtype=string, numpy=b'../data/HAM10000_images_part_2/ISIC_0033855.jpg'>, <tf.Tensor: shape=(), dtype=string, numpy=b'Benign keratosis-like lesions '>)\n",
      "(<tf.Tensor: shape=(), dtype=string, numpy=b'../data/HAM10000_images_part_2/ISIC_0032534.jpg'>, <tf.Tensor: shape=(), dtype=string, numpy=b'Benign keratosis-like lesions '>)\n",
      "(<tf.Tensor: shape=(), dtype=string, numpy=b'../data/HAM10000_images_part_2/ISIC_0031424.jpg'>, <tf.Tensor: shape=(), dtype=string, numpy=b'Benign keratosis-like lesions '>)\n",
      "(<tf.Tensor: shape=(), dtype=string, numpy=b'../data/HAM10000_images_part_2/ISIC_0033449.jpg'>, <tf.Tensor: shape=(), dtype=string, numpy=b'Benign keratosis-like lesions '>)\n",
      "(<tf.Tensor: shape=(), dtype=string, numpy=b'../data/HAM10000_images_part_1/ISIC_0026018.jpg'>, <tf.Tensor: shape=(), dtype=string, numpy=b'Benign keratosis-like lesions '>)\n",
      "(<tf.Tensor: shape=(), dtype=string, numpy=b'../data/HAM10000_images_part_2/ISIC_0029801.jpg'>, <tf.Tensor: shape=(), dtype=string, numpy=b'Benign keratosis-like lesions '>)\n",
      "(<tf.Tensor: shape=(), dtype=string, numpy=b'../data/HAM10000_images_part_1/ISIC_0025583.jpg'>, <tf.Tensor: shape=(), dtype=string, numpy=b'Benign keratosis-like lesions '>)\n",
      "(<tf.Tensor: shape=(), dtype=string, numpy=b'../data/HAM10000_images_part_2/ISIC_0032325.jpg'>, <tf.Tensor: shape=(), dtype=string, numpy=b'Benign keratosis-like lesions '>)\n",
      "(<tf.Tensor: shape=(), dtype=string, numpy=b'../data/HAM10000_images_part_1/ISIC_0028958.jpg'>, <tf.Tensor: shape=(), dtype=string, numpy=b'Benign keratosis-like lesions '>)\n",
      "(<tf.Tensor: shape=(), dtype=string, numpy=b'../data/HAM10000_images_part_2/ISIC_0033783.jpg'>, <tf.Tensor: shape=(), dtype=string, numpy=b'Benign keratosis-like lesions '>)\n",
      "(<tf.Tensor: shape=(), dtype=string, numpy=b'../data/HAM10000_images_part_1/ISIC_0027796.jpg'>, <tf.Tensor: shape=(), dtype=string, numpy=b'Benign keratosis-like lesions '>)\n",
      "(<tf.Tensor: shape=(), dtype=string, numpy=b'../data/HAM10000_images_part_2/ISIC_0033685.jpg'>, <tf.Tensor: shape=(), dtype=string, numpy=b'Benign keratosis-like lesions '>)\n",
      "(<tf.Tensor: shape=(), dtype=string, numpy=b'../data/HAM10000_images_part_2/ISIC_0032636.jpg'>, <tf.Tensor: shape=(), dtype=string, numpy=b'Benign keratosis-like lesions '>)\n",
      "(<tf.Tensor: shape=(), dtype=string, numpy=b'../data/HAM10000_images_part_2/ISIC_0033280.jpg'>, <tf.Tensor: shape=(), dtype=string, numpy=b'Benign keratosis-like lesions '>)\n",
      "(<tf.Tensor: shape=(), dtype=string, numpy=b'../data/HAM10000_images_part_1/ISIC_0026070.jpg'>, <tf.Tensor: shape=(), dtype=string, numpy=b'Benign keratosis-like lesions '>)\n",
      "(<tf.Tensor: shape=(), dtype=string, numpy=b'../data/HAM10000_images_part_2/ISIC_0032365.jpg'>, <tf.Tensor: shape=(), dtype=string, numpy=b'Benign keratosis-like lesions '>)\n",
      "(<tf.Tensor: shape=(), dtype=string, numpy=b'../data/HAM10000_images_part_2/ISIC_0032829.jpg'>, <tf.Tensor: shape=(), dtype=string, numpy=b'Benign keratosis-like lesions '>)\n",
      "(<tf.Tensor: shape=(), dtype=string, numpy=b'../data/HAM10000_images_part_2/ISIC_0031591.jpg'>, <tf.Tensor: shape=(), dtype=string, numpy=b'Benign keratosis-like lesions '>)\n",
      "(<tf.Tensor: shape=(), dtype=string, numpy=b'../data/HAM10000_images_part_1/ISIC_0024772.jpg'>, <tf.Tensor: shape=(), dtype=string, numpy=b'Benign keratosis-like lesions '>)\n",
      "(<tf.Tensor: shape=(), dtype=string, numpy=b'../data/HAM10000_images_part_2/ISIC_0032128.jpg'>, <tf.Tensor: shape=(), dtype=string, numpy=b'Benign keratosis-like lesions '>)\n",
      "(<tf.Tensor: shape=(), dtype=string, numpy=b'../data/HAM10000_images_part_2/ISIC_0030081.jpg'>, <tf.Tensor: shape=(), dtype=string, numpy=b'Benign keratosis-like lesions '>)\n",
      "(<tf.Tensor: shape=(), dtype=string, numpy=b'../data/HAM10000_images_part_2/ISIC_0030316.jpg'>, <tf.Tensor: shape=(), dtype=string, numpy=b'Benign keratosis-like lesions '>)\n",
      "(<tf.Tensor: shape=(), dtype=string, numpy=b'../data/HAM10000_images_part_1/ISIC_0026280.jpg'>, <tf.Tensor: shape=(), dtype=string, numpy=b'Benign keratosis-like lesions '>)\n",
      "(<tf.Tensor: shape=(), dtype=string, numpy=b'../data/HAM10000_images_part_2/ISIC_0033778.jpg'>, <tf.Tensor: shape=(), dtype=string, numpy=b'Benign keratosis-like lesions '>)\n",
      "(<tf.Tensor: shape=(), dtype=string, numpy=b'../data/HAM10000_images_part_1/ISIC_0025103.jpg'>, <tf.Tensor: shape=(), dtype=string, numpy=b'Benign keratosis-like lesions '>)\n",
      "(<tf.Tensor: shape=(), dtype=string, numpy=b'../data/HAM10000_images_part_1/ISIC_0025431.jpg'>, <tf.Tensor: shape=(), dtype=string, numpy=b'Benign keratosis-like lesions '>)\n",
      "(<tf.Tensor: shape=(), dtype=string, numpy=b'../data/HAM10000_images_part_1/ISIC_0025275.jpg'>, <tf.Tensor: shape=(), dtype=string, numpy=b'Benign keratosis-like lesions '>)\n",
      "(<tf.Tensor: shape=(), dtype=string, numpy=b'../data/HAM10000_images_part_1/ISIC_0026961.jpg'>, <tf.Tensor: shape=(), dtype=string, numpy=b'Benign keratosis-like lesions '>)\n",
      "(<tf.Tensor: shape=(), dtype=string, numpy=b'../data/HAM10000_images_part_2/ISIC_0031951.jpg'>, <tf.Tensor: shape=(), dtype=string, numpy=b'Benign keratosis-like lesions '>)\n",
      "(<tf.Tensor: shape=(), dtype=string, numpy=b'../data/HAM10000_images_part_1/ISIC_0026044.jpg'>, <tf.Tensor: shape=(), dtype=string, numpy=b'Benign keratosis-like lesions '>)\n",
      "(<tf.Tensor: shape=(), dtype=string, numpy=b'../data/HAM10000_images_part_1/ISIC_0026631.jpg'>, <tf.Tensor: shape=(), dtype=string, numpy=b'Benign keratosis-like lesions '>)\n",
      "(<tf.Tensor: shape=(), dtype=string, numpy=b'../data/HAM10000_images_part_2/ISIC_0030124.jpg'>, <tf.Tensor: shape=(), dtype=string, numpy=b'Benign keratosis-like lesions '>)\n",
      "(<tf.Tensor: shape=(), dtype=string, numpy=b'../data/HAM10000_images_part_1/ISIC_0025222.jpg'>, <tf.Tensor: shape=(), dtype=string, numpy=b'Benign keratosis-like lesions '>)\n",
      "(<tf.Tensor: shape=(), dtype=string, numpy=b'../data/HAM10000_images_part_1/ISIC_0026441.jpg'>, <tf.Tensor: shape=(), dtype=string, numpy=b'Benign keratosis-like lesions '>)\n",
      "(<tf.Tensor: shape=(), dtype=string, numpy=b'../data/HAM10000_images_part_2/ISIC_0029793.jpg'>, <tf.Tensor: shape=(), dtype=string, numpy=b'Benign keratosis-like lesions '>)\n",
      "(<tf.Tensor: shape=(), dtype=string, numpy=b'../data/HAM10000_images_part_1/ISIC_0028343.jpg'>, <tf.Tensor: shape=(), dtype=string, numpy=b'Benign keratosis-like lesions '>)\n",
      "(<tf.Tensor: shape=(), dtype=string, numpy=b'../data/HAM10000_images_part_2/ISIC_0031125.jpg'>, <tf.Tensor: shape=(), dtype=string, numpy=b'Benign keratosis-like lesions '>)\n",
      "(<tf.Tensor: shape=(), dtype=string, numpy=b'../data/HAM10000_images_part_1/ISIC_0029289.jpg'>, <tf.Tensor: shape=(), dtype=string, numpy=b'Benign keratosis-like lesions '>)\n",
      "(<tf.Tensor: shape=(), dtype=string, numpy=b'../data/HAM10000_images_part_1/ISIC_0024336.jpg'>, <tf.Tensor: shape=(), dtype=string, numpy=b'Benign keratosis-like lesions '>)\n",
      "(<tf.Tensor: shape=(), dtype=string, numpy=b'../data/HAM10000_images_part_2/ISIC_0032949.jpg'>, <tf.Tensor: shape=(), dtype=string, numpy=b'Benign keratosis-like lesions '>)\n",
      "(<tf.Tensor: shape=(), dtype=string, numpy=b'../data/HAM10000_images_part_2/ISIC_0033691.jpg'>, <tf.Tensor: shape=(), dtype=string, numpy=b'Benign keratosis-like lesions '>)\n",
      "(<tf.Tensor: shape=(), dtype=string, numpy=b'../data/HAM10000_images_part_2/ISIC_0032271.jpg'>, <tf.Tensor: shape=(), dtype=string, numpy=b'Benign keratosis-like lesions '>)\n",
      "(<tf.Tensor: shape=(), dtype=string, numpy=b'../data/HAM10000_images_part_1/ISIC_0025654.jpg'>, <tf.Tensor: shape=(), dtype=string, numpy=b'Benign keratosis-like lesions '>)\n",
      "(<tf.Tensor: shape=(), dtype=string, numpy=b'../data/HAM10000_images_part_2/ISIC_0029548.jpg'>, <tf.Tensor: shape=(), dtype=string, numpy=b'Benign keratosis-like lesions '>)\n",
      "(<tf.Tensor: shape=(), dtype=string, numpy=b'../data/HAM10000_images_part_1/ISIC_0026717.jpg'>, <tf.Tensor: shape=(), dtype=string, numpy=b'Benign keratosis-like lesions '>)\n",
      "(<tf.Tensor: shape=(), dtype=string, numpy=b'../data/HAM10000_images_part_1/ISIC_0024740.jpg'>, <tf.Tensor: shape=(), dtype=string, numpy=b'Benign keratosis-like lesions '>)\n",
      "(<tf.Tensor: shape=(), dtype=string, numpy=b'../data/HAM10000_images_part_2/ISIC_0032898.jpg'>, <tf.Tensor: shape=(), dtype=string, numpy=b'Benign keratosis-like lesions '>)\n",
      "(<tf.Tensor: shape=(), dtype=string, numpy=b'../data/HAM10000_images_part_1/ISIC_0024909.jpg'>, <tf.Tensor: shape=(), dtype=string, numpy=b'Benign keratosis-like lesions '>)\n",
      "(<tf.Tensor: shape=(), dtype=string, numpy=b'../data/HAM10000_images_part_2/ISIC_0030372.jpg'>, <tf.Tensor: shape=(), dtype=string, numpy=b'Benign keratosis-like lesions '>)\n",
      "(<tf.Tensor: shape=(), dtype=string, numpy=b'../data/HAM10000_images_part_1/ISIC_0029288.jpg'>, <tf.Tensor: shape=(), dtype=string, numpy=b'Benign keratosis-like lesions '>)\n",
      "(<tf.Tensor: shape=(), dtype=string, numpy=b'../data/HAM10000_images_part_1/ISIC_0027649.jpg'>, <tf.Tensor: shape=(), dtype=string, numpy=b'Benign keratosis-like lesions '>)\n",
      "(<tf.Tensor: shape=(), dtype=string, numpy=b'../data/HAM10000_images_part_2/ISIC_0029924.jpg'>, <tf.Tensor: shape=(), dtype=string, numpy=b'Benign keratosis-like lesions '>)\n",
      "(<tf.Tensor: shape=(), dtype=string, numpy=b'../data/HAM10000_images_part_1/ISIC_0028797.jpg'>, <tf.Tensor: shape=(), dtype=string, numpy=b'Benign keratosis-like lesions '>)\n",
      "(<tf.Tensor: shape=(), dtype=string, numpy=b'../data/HAM10000_images_part_1/ISIC_0025330.jpg'>, <tf.Tensor: shape=(), dtype=string, numpy=b'Benign keratosis-like lesions '>)\n",
      "(<tf.Tensor: shape=(), dtype=string, numpy=b'../data/HAM10000_images_part_2/ISIC_0031196.jpg'>, <tf.Tensor: shape=(), dtype=string, numpy=b'Benign keratosis-like lesions '>)\n",
      "(<tf.Tensor: shape=(), dtype=string, numpy=b'../data/HAM10000_images_part_1/ISIC_0028792.jpg'>, <tf.Tensor: shape=(), dtype=string, numpy=b'Benign keratosis-like lesions '>)\n",
      "(<tf.Tensor: shape=(), dtype=string, numpy=b'../data/HAM10000_images_part_2/ISIC_0032978.jpg'>, <tf.Tensor: shape=(), dtype=string, numpy=b'Benign keratosis-like lesions '>)\n",
      "(<tf.Tensor: shape=(), dtype=string, numpy=b'../data/HAM10000_images_part_2/ISIC_0032111.jpg'>, <tf.Tensor: shape=(), dtype=string, numpy=b'Benign keratosis-like lesions '>)\n",
      "(<tf.Tensor: shape=(), dtype=string, numpy=b'../data/HAM10000_images_part_2/ISIC_0029311.jpg'>, <tf.Tensor: shape=(), dtype=string, numpy=b'Benign keratosis-like lesions '>)\n",
      "(<tf.Tensor: shape=(), dtype=string, numpy=b'../data/HAM10000_images_part_1/ISIC_0024592.jpg'>, <tf.Tensor: shape=(), dtype=string, numpy=b'Benign keratosis-like lesions '>)\n",
      "(<tf.Tensor: shape=(), dtype=string, numpy=b'../data/HAM10000_images_part_1/ISIC_0025180.jpg'>, <tf.Tensor: shape=(), dtype=string, numpy=b'Benign keratosis-like lesions '>)\n",
      "(<tf.Tensor: shape=(), dtype=string, numpy=b'../data/HAM10000_images_part_2/ISIC_0031159.jpg'>, <tf.Tensor: shape=(), dtype=string, numpy=b'Benign keratosis-like lesions '>)\n",
      "(<tf.Tensor: shape=(), dtype=string, numpy=b'../data/HAM10000_images_part_2/ISIC_0031819.jpg'>, <tf.Tensor: shape=(), dtype=string, numpy=b'Benign keratosis-like lesions '>)\n",
      "(<tf.Tensor: shape=(), dtype=string, numpy=b'../data/HAM10000_images_part_1/ISIC_0025454.jpg'>, <tf.Tensor: shape=(), dtype=string, numpy=b'Benign keratosis-like lesions '>)\n",
      "(<tf.Tensor: shape=(), dtype=string, numpy=b'../data/HAM10000_images_part_1/ISIC_0028876.jpg'>, <tf.Tensor: shape=(), dtype=string, numpy=b'Benign keratosis-like lesions '>)\n",
      "(<tf.Tensor: shape=(), dtype=string, numpy=b'../data/HAM10000_images_part_1/ISIC_0026607.jpg'>, <tf.Tensor: shape=(), dtype=string, numpy=b'Benign keratosis-like lesions '>)\n",
      "(<tf.Tensor: shape=(), dtype=string, numpy=b'../data/HAM10000_images_part_2/ISIC_0030706.jpg'>, <tf.Tensor: shape=(), dtype=string, numpy=b'Benign keratosis-like lesions '>)\n",
      "(<tf.Tensor: shape=(), dtype=string, numpy=b'../data/HAM10000_images_part_2/ISIC_0031961.jpg'>, <tf.Tensor: shape=(), dtype=string, numpy=b'Benign keratosis-like lesions '>)\n",
      "(<tf.Tensor: shape=(), dtype=string, numpy=b'../data/HAM10000_images_part_2/ISIC_0030965.jpg'>, <tf.Tensor: shape=(), dtype=string, numpy=b'Benign keratosis-like lesions '>)\n",
      "(<tf.Tensor: shape=(), dtype=string, numpy=b'../data/HAM10000_images_part_2/ISIC_0030607.jpg'>, <tf.Tensor: shape=(), dtype=string, numpy=b'Benign keratosis-like lesions '>)\n",
      "(<tf.Tensor: shape=(), dtype=string, numpy=b'../data/HAM10000_images_part_2/ISIC_0030789.jpg'>, <tf.Tensor: shape=(), dtype=string, numpy=b'Benign keratosis-like lesions '>)\n",
      "(<tf.Tensor: shape=(), dtype=string, numpy=b'../data/HAM10000_images_part_2/ISIC_0031130.jpg'>, <tf.Tensor: shape=(), dtype=string, numpy=b'Benign keratosis-like lesions '>)\n",
      "(<tf.Tensor: shape=(), dtype=string, numpy=b'../data/HAM10000_images_part_1/ISIC_0024312.jpg'>, <tf.Tensor: shape=(), dtype=string, numpy=b'Benign keratosis-like lesions '>)\n",
      "(<tf.Tensor: shape=(), dtype=string, numpy=b'../data/HAM10000_images_part_2/ISIC_0032343.jpg'>, <tf.Tensor: shape=(), dtype=string, numpy=b'Benign keratosis-like lesions '>)\n",
      "(<tf.Tensor: shape=(), dtype=string, numpy=b'../data/HAM10000_images_part_2/ISIC_0033437.jpg'>, <tf.Tensor: shape=(), dtype=string, numpy=b'Benign keratosis-like lesions '>)\n",
      "(<tf.Tensor: shape=(), dtype=string, numpy=b'../data/HAM10000_images_part_1/ISIC_0026967.jpg'>, <tf.Tensor: shape=(), dtype=string, numpy=b'Benign keratosis-like lesions '>)\n",
      "(<tf.Tensor: shape=(), dtype=string, numpy=b'../data/HAM10000_images_part_1/ISIC_0028490.jpg'>, <tf.Tensor: shape=(), dtype=string, numpy=b'Benign keratosis-like lesions '>)\n",
      "(<tf.Tensor: shape=(), dtype=string, numpy=b'../data/HAM10000_images_part_2/ISIC_0032063.jpg'>, <tf.Tensor: shape=(), dtype=string, numpy=b'Benign keratosis-like lesions '>)\n",
      "(<tf.Tensor: shape=(), dtype=string, numpy=b'../data/HAM10000_images_part_2/ISIC_0031334.jpg'>, <tf.Tensor: shape=(), dtype=string, numpy=b'Benign keratosis-like lesions '>)\n",
      "(<tf.Tensor: shape=(), dtype=string, numpy=b'../data/HAM10000_images_part_1/ISIC_0026861.jpg'>, <tf.Tensor: shape=(), dtype=string, numpy=b'Benign keratosis-like lesions '>)\n",
      "(<tf.Tensor: shape=(), dtype=string, numpy=b'../data/HAM10000_images_part_2/ISIC_0031078.jpg'>, <tf.Tensor: shape=(), dtype=string, numpy=b'Benign keratosis-like lesions '>)\n",
      "(<tf.Tensor: shape=(), dtype=string, numpy=b'../data/HAM10000_images_part_2/ISIC_0031016.jpg'>, <tf.Tensor: shape=(), dtype=string, numpy=b'Benign keratosis-like lesions '>)\n",
      "(<tf.Tensor: shape=(), dtype=string, numpy=b'../data/HAM10000_images_part_2/ISIC_0033750.jpg'>, <tf.Tensor: shape=(), dtype=string, numpy=b'Benign keratosis-like lesions '>)\n",
      "(<tf.Tensor: shape=(), dtype=string, numpy=b'../data/HAM10000_images_part_1/ISIC_0025376.jpg'>, <tf.Tensor: shape=(), dtype=string, numpy=b'Benign keratosis-like lesions '>)\n",
      "(<tf.Tensor: shape=(), dtype=string, numpy=b'../data/HAM10000_images_part_1/ISIC_0028856.jpg'>, <tf.Tensor: shape=(), dtype=string, numpy=b'Benign keratosis-like lesions '>)\n",
      "(<tf.Tensor: shape=(), dtype=string, numpy=b'../data/HAM10000_images_part_1/ISIC_0025326.jpg'>, <tf.Tensor: shape=(), dtype=string, numpy=b'Benign keratosis-like lesions '>)\n",
      "(<tf.Tensor: shape=(), dtype=string, numpy=b'../data/HAM10000_images_part_2/ISIC_0033507.jpg'>, <tf.Tensor: shape=(), dtype=string, numpy=b'Benign keratosis-like lesions '>)\n",
      "(<tf.Tensor: shape=(), dtype=string, numpy=b'../data/HAM10000_images_part_1/ISIC_0027023.jpg'>, <tf.Tensor: shape=(), dtype=string, numpy=b'Benign keratosis-like lesions '>)\n",
      "(<tf.Tensor: shape=(), dtype=string, numpy=b'../data/HAM10000_images_part_1/ISIC_0028052.jpg'>, <tf.Tensor: shape=(), dtype=string, numpy=b'Benign keratosis-like lesions '>)\n",
      "(<tf.Tensor: shape=(), dtype=string, numpy=b'../data/HAM10000_images_part_2/ISIC_0029676.jpg'>, <tf.Tensor: shape=(), dtype=string, numpy=b'Benign keratosis-like lesions '>)\n",
      "(<tf.Tensor: shape=(), dtype=string, numpy=b'../data/HAM10000_images_part_2/ISIC_0031352.jpg'>, <tf.Tensor: shape=(), dtype=string, numpy=b'Benign keratosis-like lesions '>)\n",
      "(<tf.Tensor: shape=(), dtype=string, numpy=b'../data/HAM10000_images_part_1/ISIC_0028223.jpg'>, <tf.Tensor: shape=(), dtype=string, numpy=b'Benign keratosis-like lesions '>)\n",
      "(<tf.Tensor: shape=(), dtype=string, numpy=b'../data/HAM10000_images_part_1/ISIC_0025746.jpg'>, <tf.Tensor: shape=(), dtype=string, numpy=b'Benign keratosis-like lesions '>)\n",
      "(<tf.Tensor: shape=(), dtype=string, numpy=b'../data/HAM10000_images_part_1/ISIC_0025716.jpg'>, <tf.Tensor: shape=(), dtype=string, numpy=b'Benign keratosis-like lesions '>)\n",
      "(<tf.Tensor: shape=(), dtype=string, numpy=b'../data/HAM10000_images_part_1/ISIC_0028525.jpg'>, <tf.Tensor: shape=(), dtype=string, numpy=b'Benign keratosis-like lesions '>)\n",
      "(<tf.Tensor: shape=(), dtype=string, numpy=b'../data/HAM10000_images_part_1/ISIC_0026290.jpg'>, <tf.Tensor: shape=(), dtype=string, numpy=b'Benign keratosis-like lesions '>)\n",
      "(<tf.Tensor: shape=(), dtype=string, numpy=b'../data/HAM10000_images_part_2/ISIC_0034303.jpg'>, <tf.Tensor: shape=(), dtype=string, numpy=b'Benign keratosis-like lesions '>)\n",
      "(<tf.Tensor: shape=(), dtype=string, numpy=b'../data/HAM10000_images_part_2/ISIC_0032740.jpg'>, <tf.Tensor: shape=(), dtype=string, numpy=b'Benign keratosis-like lesions '>)\n",
      "(<tf.Tensor: shape=(), dtype=string, numpy=b'../data/HAM10000_images_part_1/ISIC_0028104.jpg'>, <tf.Tensor: shape=(), dtype=string, numpy=b'Benign keratosis-like lesions '>)\n",
      "(<tf.Tensor: shape=(), dtype=string, numpy=b'../data/HAM10000_images_part_2/ISIC_0033952.jpg'>, <tf.Tensor: shape=(), dtype=string, numpy=b'Benign keratosis-like lesions '>)\n",
      "(<tf.Tensor: shape=(), dtype=string, numpy=b'../data/HAM10000_images_part_2/ISIC_0031825.jpg'>, <tf.Tensor: shape=(), dtype=string, numpy=b'Benign keratosis-like lesions '>)\n",
      "(<tf.Tensor: shape=(), dtype=string, numpy=b'../data/HAM10000_images_part_2/ISIC_0030329.jpg'>, <tf.Tensor: shape=(), dtype=string, numpy=b'Benign keratosis-like lesions '>)\n",
      "(<tf.Tensor: shape=(), dtype=string, numpy=b'../data/HAM10000_images_part_2/ISIC_0030522.jpg'>, <tf.Tensor: shape=(), dtype=string, numpy=b'Benign keratosis-like lesions '>)\n",
      "(<tf.Tensor: shape=(), dtype=string, numpy=b'../data/HAM10000_images_part_1/ISIC_0024943.jpg'>, <tf.Tensor: shape=(), dtype=string, numpy=b'Benign keratosis-like lesions '>)\n",
      "(<tf.Tensor: shape=(), dtype=string, numpy=b'../data/HAM10000_images_part_2/ISIC_0033701.jpg'>, <tf.Tensor: shape=(), dtype=string, numpy=b'Benign keratosis-like lesions '>)\n",
      "(<tf.Tensor: shape=(), dtype=string, numpy=b'../data/HAM10000_images_part_2/ISIC_0033490.jpg'>, <tf.Tensor: shape=(), dtype=string, numpy=b'Benign keratosis-like lesions '>)\n",
      "(<tf.Tensor: shape=(), dtype=string, numpy=b'../data/HAM10000_images_part_1/ISIC_0025906.jpg'>, <tf.Tensor: shape=(), dtype=string, numpy=b'Benign keratosis-like lesions '>)\n",
      "(<tf.Tensor: shape=(), dtype=string, numpy=b'../data/HAM10000_images_part_2/ISIC_0030123.jpg'>, <tf.Tensor: shape=(), dtype=string, numpy=b'Benign keratosis-like lesions '>)\n",
      "(<tf.Tensor: shape=(), dtype=string, numpy=b'../data/HAM10000_images_part_1/ISIC_0028200.jpg'>, <tf.Tensor: shape=(), dtype=string, numpy=b'Benign keratosis-like lesions '>)\n",
      "(<tf.Tensor: shape=(), dtype=string, numpy=b'../data/HAM10000_images_part_1/ISIC_0029029.jpg'>, <tf.Tensor: shape=(), dtype=string, numpy=b'Benign keratosis-like lesions '>)\n",
      "(<tf.Tensor: shape=(), dtype=string, numpy=b'../data/HAM10000_images_part_1/ISIC_0027953.jpg'>, <tf.Tensor: shape=(), dtype=string, numpy=b'Benign keratosis-like lesions '>)\n",
      "(<tf.Tensor: shape=(), dtype=string, numpy=b'../data/HAM10000_images_part_1/ISIC_0028992.jpg'>, <tf.Tensor: shape=(), dtype=string, numpy=b'Benign keratosis-like lesions '>)\n",
      "(<tf.Tensor: shape=(), dtype=string, numpy=b'../data/HAM10000_images_part_1/ISIC_0026072.jpg'>, <tf.Tensor: shape=(), dtype=string, numpy=b'Benign keratosis-like lesions '>)\n",
      "(<tf.Tensor: shape=(), dtype=string, numpy=b'../data/HAM10000_images_part_2/ISIC_0031376.jpg'>, <tf.Tensor: shape=(), dtype=string, numpy=b'Benign keratosis-like lesions '>)\n",
      "(<tf.Tensor: shape=(), dtype=string, numpy=b'../data/HAM10000_images_part_1/ISIC_0027239.jpg'>, <tf.Tensor: shape=(), dtype=string, numpy=b'Benign keratosis-like lesions '>)\n",
      "(<tf.Tensor: shape=(), dtype=string, numpy=b'../data/HAM10000_images_part_1/ISIC_0026783.jpg'>, <tf.Tensor: shape=(), dtype=string, numpy=b'Benign keratosis-like lesions '>)\n",
      "(<tf.Tensor: shape=(), dtype=string, numpy=b'../data/HAM10000_images_part_1/ISIC_0026444.jpg'>, <tf.Tensor: shape=(), dtype=string, numpy=b'Benign keratosis-like lesions '>)\n",
      "(<tf.Tensor: shape=(), dtype=string, numpy=b'../data/HAM10000_images_part_1/ISIC_0024422.jpg'>, <tf.Tensor: shape=(), dtype=string, numpy=b'Benign keratosis-like lesions '>)\n",
      "(<tf.Tensor: shape=(), dtype=string, numpy=b'../data/HAM10000_images_part_2/ISIC_0030319.jpg'>, <tf.Tensor: shape=(), dtype=string, numpy=b'Benign keratosis-like lesions '>)\n",
      "(<tf.Tensor: shape=(), dtype=string, numpy=b'../data/HAM10000_images_part_1/ISIC_0029251.jpg'>, <tf.Tensor: shape=(), dtype=string, numpy=b'Benign keratosis-like lesions '>)\n",
      "(<tf.Tensor: shape=(), dtype=string, numpy=b'../data/HAM10000_images_part_2/ISIC_0032330.jpg'>, <tf.Tensor: shape=(), dtype=string, numpy=b'Benign keratosis-like lesions '>)\n",
      "(<tf.Tensor: shape=(), dtype=string, numpy=b'../data/HAM10000_images_part_1/ISIC_0026680.jpg'>, <tf.Tensor: shape=(), dtype=string, numpy=b'Melanocytic nevi'>)\n",
      "(<tf.Tensor: shape=(), dtype=string, numpy=b'../data/HAM10000_images_part_1/ISIC_0028019.jpg'>, <tf.Tensor: shape=(), dtype=string, numpy=b'Melanocytic nevi'>)\n",
      "(<tf.Tensor: shape=(), dtype=string, numpy=b'../data/HAM10000_images_part_2/ISIC_0029422.jpg'>, <tf.Tensor: shape=(), dtype=string, numpy=b'Melanocytic nevi'>)\n",
      "(<tf.Tensor: shape=(), dtype=string, numpy=b'../data/HAM10000_images_part_1/ISIC_0025325.jpg'>, <tf.Tensor: shape=(), dtype=string, numpy=b'Melanocytic nevi'>)\n",
      "(<tf.Tensor: shape=(), dtype=string, numpy=b'../data/HAM10000_images_part_2/ISIC_0031419.jpg'>, <tf.Tensor: shape=(), dtype=string, numpy=b'Melanocytic nevi'>)\n",
      "(<tf.Tensor: shape=(), dtype=string, numpy=b'../data/HAM10000_images_part_2/ISIC_0029769.jpg'>, <tf.Tensor: shape=(), dtype=string, numpy=b'Melanocytic nevi'>)\n",
      "(<tf.Tensor: shape=(), dtype=string, numpy=b'../data/HAM10000_images_part_2/ISIC_0032785.jpg'>, <tf.Tensor: shape=(), dtype=string, numpy=b'Melanocytic nevi'>)\n",
      "(<tf.Tensor: shape=(), dtype=string, numpy=b'../data/HAM10000_images_part_2/ISIC_0033741.jpg'>, <tf.Tensor: shape=(), dtype=string, numpy=b'Melanocytic nevi'>)\n",
      "(<tf.Tensor: shape=(), dtype=string, numpy=b'../data/HAM10000_images_part_1/ISIC_0027223.jpg'>, <tf.Tensor: shape=(), dtype=string, numpy=b'Melanocytic nevi'>)\n",
      "(<tf.Tensor: shape=(), dtype=string, numpy=b'../data/HAM10000_images_part_2/ISIC_0030529.jpg'>, <tf.Tensor: shape=(), dtype=string, numpy=b'Melanocytic nevi'>)\n",
      "(<tf.Tensor: shape=(), dtype=string, numpy=b'../data/HAM10000_images_part_2/ISIC_0032449.jpg'>, <tf.Tensor: shape=(), dtype=string, numpy=b'Melanocytic nevi'>)\n",
      "(<tf.Tensor: shape=(), dtype=string, numpy=b'../data/HAM10000_images_part_1/ISIC_0025541.jpg'>, <tf.Tensor: shape=(), dtype=string, numpy=b'Melanocytic nevi'>)\n",
      "(<tf.Tensor: shape=(), dtype=string, numpy=b'../data/HAM10000_images_part_1/ISIC_0025801.jpg'>, <tf.Tensor: shape=(), dtype=string, numpy=b'Melanocytic nevi'>)\n",
      "(<tf.Tensor: shape=(), dtype=string, numpy=b'../data/HAM10000_images_part_1/ISIC_0028015.jpg'>, <tf.Tensor: shape=(), dtype=string, numpy=b'Melanocytic nevi'>)\n",
      "(<tf.Tensor: shape=(), dtype=string, numpy=b'../data/HAM10000_images_part_1/ISIC_0024903.jpg'>, <tf.Tensor: shape=(), dtype=string, numpy=b'Melanocytic nevi'>)\n",
      "(<tf.Tensor: shape=(), dtype=string, numpy=b'../data/HAM10000_images_part_1/ISIC_0028048.jpg'>, <tf.Tensor: shape=(), dtype=string, numpy=b'Melanocytic nevi'>)\n",
      "(<tf.Tensor: shape=(), dtype=string, numpy=b'../data/HAM10000_images_part_1/ISIC_0027304.jpg'>, <tf.Tensor: shape=(), dtype=string, numpy=b'Melanocytic nevi'>)\n",
      "(<tf.Tensor: shape=(), dtype=string, numpy=b'../data/HAM10000_images_part_2/ISIC_0029590.jpg'>, <tf.Tensor: shape=(), dtype=string, numpy=b'Melanocytic nevi'>)\n",
      "(<tf.Tensor: shape=(), dtype=string, numpy=b'../data/HAM10000_images_part_2/ISIC_0031248.jpg'>, <tf.Tensor: shape=(), dtype=string, numpy=b'Melanocytic nevi'>)\n",
      "(<tf.Tensor: shape=(), dtype=string, numpy=b'../data/HAM10000_images_part_2/ISIC_0029330.jpg'>, <tf.Tensor: shape=(), dtype=string, numpy=b'Melanocytic nevi'>)\n",
      "(<tf.Tensor: shape=(), dtype=string, numpy=b'../data/HAM10000_images_part_1/ISIC_0026904.jpg'>, <tf.Tensor: shape=(), dtype=string, numpy=b'Melanocytic nevi'>)\n",
      "(<tf.Tensor: shape=(), dtype=string, numpy=b'../data/HAM10000_images_part_2/ISIC_0031477.jpg'>, <tf.Tensor: shape=(), dtype=string, numpy=b'Melanocytic nevi'>)\n",
      "(<tf.Tensor: shape=(), dtype=string, numpy=b'../data/HAM10000_images_part_2/ISIC_0033347.jpg'>, <tf.Tensor: shape=(), dtype=string, numpy=b'Melanocytic nevi'>)\n",
      "(<tf.Tensor: shape=(), dtype=string, numpy=b'../data/HAM10000_images_part_2/ISIC_0032142.jpg'>, <tf.Tensor: shape=(), dtype=string, numpy=b'Melanocytic nevi'>)\n",
      "(<tf.Tensor: shape=(), dtype=string, numpy=b'../data/HAM10000_images_part_2/ISIC_0029433.jpg'>, <tf.Tensor: shape=(), dtype=string, numpy=b'Melanocytic nevi'>)\n",
      "(<tf.Tensor: shape=(), dtype=string, numpy=b'../data/HAM10000_images_part_1/ISIC_0025456.jpg'>, <tf.Tensor: shape=(), dtype=string, numpy=b'Melanocytic nevi'>)\n",
      "(<tf.Tensor: shape=(), dtype=string, numpy=b'../data/HAM10000_images_part_1/ISIC_0026878.jpg'>, <tf.Tensor: shape=(), dtype=string, numpy=b'Melanocytic nevi'>)\n",
      "(<tf.Tensor: shape=(), dtype=string, numpy=b'../data/HAM10000_images_part_2/ISIC_0031003.jpg'>, <tf.Tensor: shape=(), dtype=string, numpy=b'Melanocytic nevi'>)\n",
      "(<tf.Tensor: shape=(), dtype=string, numpy=b'../data/HAM10000_images_part_2/ISIC_0029935.jpg'>, <tf.Tensor: shape=(), dtype=string, numpy=b'Melanocytic nevi'>)\n",
      "(<tf.Tensor: shape=(), dtype=string, numpy=b'../data/HAM10000_images_part_1/ISIC_0028948.jpg'>, <tf.Tensor: shape=(), dtype=string, numpy=b'Melanocytic nevi'>)\n",
      "(<tf.Tensor: shape=(), dtype=string, numpy=b'../data/HAM10000_images_part_2/ISIC_0029423.jpg'>, <tf.Tensor: shape=(), dtype=string, numpy=b'Melanocytic nevi'>)\n",
      "(<tf.Tensor: shape=(), dtype=string, numpy=b'../data/HAM10000_images_part_1/ISIC_0024603.jpg'>, <tf.Tensor: shape=(), dtype=string, numpy=b'Melanocytic nevi'>)\n",
      "(<tf.Tensor: shape=(), dtype=string, numpy=b'../data/HAM10000_images_part_1/ISIC_0027912.jpg'>, <tf.Tensor: shape=(), dtype=string, numpy=b'Melanocytic nevi'>)\n",
      "(<tf.Tensor: shape=(), dtype=string, numpy=b'../data/HAM10000_images_part_2/ISIC_0033188.jpg'>, <tf.Tensor: shape=(), dtype=string, numpy=b'Melanocytic nevi'>)\n",
      "(<tf.Tensor: shape=(), dtype=string, numpy=b'../data/HAM10000_images_part_1/ISIC_0026792.jpg'>, <tf.Tensor: shape=(), dtype=string, numpy=b'Melanocytic nevi'>)\n",
      "(<tf.Tensor: shape=(), dtype=string, numpy=b'../data/HAM10000_images_part_1/ISIC_0026983.jpg'>, <tf.Tensor: shape=(), dtype=string, numpy=b'Melanocytic nevi'>)\n",
      "(<tf.Tensor: shape=(), dtype=string, numpy=b'../data/HAM10000_images_part_1/ISIC_0027909.jpg'>, <tf.Tensor: shape=(), dtype=string, numpy=b'Melanocytic nevi'>)\n",
      "(<tf.Tensor: shape=(), dtype=string, numpy=b'../data/HAM10000_images_part_1/ISIC_0026237.jpg'>, <tf.Tensor: shape=(), dtype=string, numpy=b'Melanocytic nevi'>)\n",
      "(<tf.Tensor: shape=(), dtype=string, numpy=b'../data/HAM10000_images_part_2/ISIC_0031073.jpg'>, <tf.Tensor: shape=(), dtype=string, numpy=b'Melanocytic nevi'>)\n",
      "(<tf.Tensor: shape=(), dtype=string, numpy=b'../data/HAM10000_images_part_1/ISIC_0025206.jpg'>, <tf.Tensor: shape=(), dtype=string, numpy=b'Melanocytic nevi'>)\n",
      "(<tf.Tensor: shape=(), dtype=string, numpy=b'../data/HAM10000_images_part_2/ISIC_0030239.jpg'>, <tf.Tensor: shape=(), dtype=string, numpy=b'Melanocytic nevi'>)\n",
      "(<tf.Tensor: shape=(), dtype=string, numpy=b'../data/HAM10000_images_part_1/ISIC_0026527.jpg'>, <tf.Tensor: shape=(), dtype=string, numpy=b'Melanocytic nevi'>)\n",
      "(<tf.Tensor: shape=(), dtype=string, numpy=b'../data/HAM10000_images_part_2/ISIC_0032361.jpg'>, <tf.Tensor: shape=(), dtype=string, numpy=b'Melanocytic nevi'>)\n",
      "(<tf.Tensor: shape=(), dtype=string, numpy=b'../data/HAM10000_images_part_2/ISIC_0030751.jpg'>, <tf.Tensor: shape=(), dtype=string, numpy=b'Melanocytic nevi'>)\n",
      "(<tf.Tensor: shape=(), dtype=string, numpy=b'../data/HAM10000_images_part_1/ISIC_0024879.jpg'>, <tf.Tensor: shape=(), dtype=string, numpy=b'Melanocytic nevi'>)\n",
      "(<tf.Tensor: shape=(), dtype=string, numpy=b'../data/HAM10000_images_part_1/ISIC_0026589.jpg'>, <tf.Tensor: shape=(), dtype=string, numpy=b'Melanocytic nevi'>)\n",
      "(<tf.Tensor: shape=(), dtype=string, numpy=b'../data/HAM10000_images_part_2/ISIC_0031713.jpg'>, <tf.Tensor: shape=(), dtype=string, numpy=b'Melanocytic nevi'>)\n",
      "(<tf.Tensor: shape=(), dtype=string, numpy=b'../data/HAM10000_images_part_1/ISIC_0026305.jpg'>, <tf.Tensor: shape=(), dtype=string, numpy=b'Melanocytic nevi'>)\n",
      "(<tf.Tensor: shape=(), dtype=string, numpy=b'../data/HAM10000_images_part_1/ISIC_0029258.jpg'>, <tf.Tensor: shape=(), dtype=string, numpy=b'Melanocytic nevi'>)\n",
      "(<tf.Tensor: shape=(), dtype=string, numpy=b'../data/HAM10000_images_part_1/ISIC_0024321.jpg'>, <tf.Tensor: shape=(), dtype=string, numpy=b'Melanocytic nevi'>)\n",
      "(<tf.Tensor: shape=(), dtype=string, numpy=b'../data/HAM10000_images_part_1/ISIC_0025203.jpg'>, <tf.Tensor: shape=(), dtype=string, numpy=b'Melanocytic nevi'>)\n",
      "(<tf.Tensor: shape=(), dtype=string, numpy=b'../data/HAM10000_images_part_1/ISIC_0027248.jpg'>, <tf.Tensor: shape=(), dtype=string, numpy=b'Melanocytic nevi'>)\n",
      "(<tf.Tensor: shape=(), dtype=string, numpy=b'../data/HAM10000_images_part_1/ISIC_0027088.jpg'>, <tf.Tensor: shape=(), dtype=string, numpy=b'Melanocytic nevi'>)\n",
      "(<tf.Tensor: shape=(), dtype=string, numpy=b'../data/HAM10000_images_part_1/ISIC_0026882.jpg'>, <tf.Tensor: shape=(), dtype=string, numpy=b'Melanocytic nevi'>)\n",
      "(<tf.Tensor: shape=(), dtype=string, numpy=b'../data/HAM10000_images_part_1/ISIC_0028668.jpg'>, <tf.Tensor: shape=(), dtype=string, numpy=b'Melanocytic nevi'>)\n",
      "(<tf.Tensor: shape=(), dtype=string, numpy=b'../data/HAM10000_images_part_2/ISIC_0031541.jpg'>, <tf.Tensor: shape=(), dtype=string, numpy=b'Melanocytic nevi'>)\n",
      "(<tf.Tensor: shape=(), dtype=string, numpy=b'../data/HAM10000_images_part_1/ISIC_0027418.jpg'>, <tf.Tensor: shape=(), dtype=string, numpy=b'Melanocytic nevi'>)\n",
      "(<tf.Tensor: shape=(), dtype=string, numpy=b'../data/HAM10000_images_part_2/ISIC_0032223.jpg'>, <tf.Tensor: shape=(), dtype=string, numpy=b'Melanocytic nevi'>)\n",
      "(<tf.Tensor: shape=(), dtype=string, numpy=b'../data/HAM10000_images_part_1/ISIC_0027860.jpg'>, <tf.Tensor: shape=(), dtype=string, numpy=b'Melanocytic nevi'>)\n",
      "(<tf.Tensor: shape=(), dtype=string, numpy=b'../data/HAM10000_images_part_1/ISIC_0028074.jpg'>, <tf.Tensor: shape=(), dtype=string, numpy=b'Melanocytic nevi'>)\n",
      "(<tf.Tensor: shape=(), dtype=string, numpy=b'../data/HAM10000_images_part_1/ISIC_0027348.jpg'>, <tf.Tensor: shape=(), dtype=string, numpy=b'Melanocytic nevi'>)\n",
      "(<tf.Tensor: shape=(), dtype=string, numpy=b'../data/HAM10000_images_part_2/ISIC_0030615.jpg'>, <tf.Tensor: shape=(), dtype=string, numpy=b'Melanocytic nevi'>)\n",
      "(<tf.Tensor: shape=(), dtype=string, numpy=b'../data/HAM10000_images_part_2/ISIC_0030752.jpg'>, <tf.Tensor: shape=(), dtype=string, numpy=b'Melanocytic nevi'>)\n",
      "(<tf.Tensor: shape=(), dtype=string, numpy=b'../data/HAM10000_images_part_2/ISIC_0031490.jpg'>, <tf.Tensor: shape=(), dtype=string, numpy=b'Melanocytic nevi'>)\n",
      "(<tf.Tensor: shape=(), dtype=string, numpy=b'../data/HAM10000_images_part_2/ISIC_0030201.jpg'>, <tf.Tensor: shape=(), dtype=string, numpy=b'Melanocytic nevi'>)\n",
      "(<tf.Tensor: shape=(), dtype=string, numpy=b'../data/HAM10000_images_part_2/ISIC_0033792.jpg'>, <tf.Tensor: shape=(), dtype=string, numpy=b'Melanocytic nevi'>)\n",
      "(<tf.Tensor: shape=(), dtype=string, numpy=b'../data/HAM10000_images_part_1/ISIC_0025150.jpg'>, <tf.Tensor: shape=(), dtype=string, numpy=b'Melanocytic nevi'>)\n",
      "(<tf.Tensor: shape=(), dtype=string, numpy=b'../data/HAM10000_images_part_2/ISIC_0032574.jpg'>, <tf.Tensor: shape=(), dtype=string, numpy=b'Melanocytic nevi'>)\n",
      "(<tf.Tensor: shape=(), dtype=string, numpy=b'../data/HAM10000_images_part_2/ISIC_0032268.jpg'>, <tf.Tensor: shape=(), dtype=string, numpy=b'Melanocytic nevi'>)\n",
      "(<tf.Tensor: shape=(), dtype=string, numpy=b'../data/HAM10000_images_part_1/ISIC_0027395.jpg'>, <tf.Tensor: shape=(), dtype=string, numpy=b'Melanocytic nevi'>)\n",
      "(<tf.Tensor: shape=(), dtype=string, numpy=b'../data/HAM10000_images_part_2/ISIC_0032693.jpg'>, <tf.Tensor: shape=(), dtype=string, numpy=b'Melanocytic nevi'>)\n",
      "(<tf.Tensor: shape=(), dtype=string, numpy=b'../data/HAM10000_images_part_2/ISIC_0031936.jpg'>, <tf.Tensor: shape=(), dtype=string, numpy=b'Melanocytic nevi'>)\n",
      "(<tf.Tensor: shape=(), dtype=string, numpy=b'../data/HAM10000_images_part_2/ISIC_0031909.jpg'>, <tf.Tensor: shape=(), dtype=string, numpy=b'Melanocytic nevi'>)\n",
      "(<tf.Tensor: shape=(), dtype=string, numpy=b'../data/HAM10000_images_part_2/ISIC_0033919.jpg'>, <tf.Tensor: shape=(), dtype=string, numpy=b'Melanocytic nevi'>)\n",
      "(<tf.Tensor: shape=(), dtype=string, numpy=b'../data/HAM10000_images_part_1/ISIC_0028546.jpg'>, <tf.Tensor: shape=(), dtype=string, numpy=b'Melanocytic nevi'>)\n",
      "(<tf.Tensor: shape=(), dtype=string, numpy=b'../data/HAM10000_images_part_2/ISIC_0030071.jpg'>, <tf.Tensor: shape=(), dtype=string, numpy=b'Melanocytic nevi'>)\n",
      "(<tf.Tensor: shape=(), dtype=string, numpy=b'../data/HAM10000_images_part_2/ISIC_0030069.jpg'>, <tf.Tensor: shape=(), dtype=string, numpy=b'Melanocytic nevi'>)\n",
      "(<tf.Tensor: shape=(), dtype=string, numpy=b'../data/HAM10000_images_part_1/ISIC_0026234.jpg'>, <tf.Tensor: shape=(), dtype=string, numpy=b'Melanocytic nevi'>)\n",
      "(<tf.Tensor: shape=(), dtype=string, numpy=b'../data/HAM10000_images_part_1/ISIC_0026295.jpg'>, <tf.Tensor: shape=(), dtype=string, numpy=b'Melanocytic nevi'>)\n",
      "(<tf.Tensor: shape=(), dtype=string, numpy=b'../data/HAM10000_images_part_2/ISIC_0032021.jpg'>, <tf.Tensor: shape=(), dtype=string, numpy=b'Melanocytic nevi'>)\n",
      "(<tf.Tensor: shape=(), dtype=string, numpy=b'../data/HAM10000_images_part_2/ISIC_0033091.jpg'>, <tf.Tensor: shape=(), dtype=string, numpy=b'Melanocytic nevi'>)\n",
      "(<tf.Tensor: shape=(), dtype=string, numpy=b'../data/HAM10000_images_part_2/ISIC_0033296.jpg'>, <tf.Tensor: shape=(), dtype=string, numpy=b'Melanocytic nevi'>)\n",
      "(<tf.Tensor: shape=(), dtype=string, numpy=b'../data/HAM10000_images_part_2/ISIC_0029784.jpg'>, <tf.Tensor: shape=(), dtype=string, numpy=b'Melanocytic nevi'>)\n",
      "(<tf.Tensor: shape=(), dtype=string, numpy=b'../data/HAM10000_images_part_1/ISIC_0029006.jpg'>, <tf.Tensor: shape=(), dtype=string, numpy=b'Melanocytic nevi'>)\n",
      "(<tf.Tensor: shape=(), dtype=string, numpy=b'../data/HAM10000_images_part_2/ISIC_0030157.jpg'>, <tf.Tensor: shape=(), dtype=string, numpy=b'Melanocytic nevi'>)\n",
      "(<tf.Tensor: shape=(), dtype=string, numpy=b'../data/HAM10000_images_part_1/ISIC_0025868.jpg'>, <tf.Tensor: shape=(), dtype=string, numpy=b'Melanocytic nevi'>)\n",
      "(<tf.Tensor: shape=(), dtype=string, numpy=b'../data/HAM10000_images_part_1/ISIC_0025720.jpg'>, <tf.Tensor: shape=(), dtype=string, numpy=b'Melanocytic nevi'>)\n",
      "(<tf.Tensor: shape=(), dtype=string, numpy=b'../data/HAM10000_images_part_1/ISIC_0026019.jpg'>, <tf.Tensor: shape=(), dtype=string, numpy=b'Melanocytic nevi'>)\n",
      "(<tf.Tensor: shape=(), dtype=string, numpy=b'../data/HAM10000_images_part_1/ISIC_0027750.jpg'>, <tf.Tensor: shape=(), dtype=string, numpy=b'Melanocytic nevi'>)\n",
      "(<tf.Tensor: shape=(), dtype=string, numpy=b'../data/HAM10000_images_part_1/ISIC_0024985.jpg'>, <tf.Tensor: shape=(), dtype=string, numpy=b'Melanocytic nevi'>)\n",
      "(<tf.Tensor: shape=(), dtype=string, numpy=b'../data/HAM10000_images_part_1/ISIC_0029225.jpg'>, <tf.Tensor: shape=(), dtype=string, numpy=b'Melanocytic nevi'>)\n",
      "(<tf.Tensor: shape=(), dtype=string, numpy=b'../data/HAM10000_images_part_2/ISIC_0029809.jpg'>, <tf.Tensor: shape=(), dtype=string, numpy=b'Melanocytic nevi'>)\n",
      "(<tf.Tensor: shape=(), dtype=string, numpy=b'../data/HAM10000_images_part_1/ISIC_0026026.jpg'>, <tf.Tensor: shape=(), dtype=string, numpy=b'Melanocytic nevi'>)\n",
      "(<tf.Tensor: shape=(), dtype=string, numpy=b'../data/HAM10000_images_part_2/ISIC_0030650.jpg'>, <tf.Tensor: shape=(), dtype=string, numpy=b'Melanocytic nevi'>)\n",
      "(<tf.Tensor: shape=(), dtype=string, numpy=b'../data/HAM10000_images_part_1/ISIC_0025186.jpg'>, <tf.Tensor: shape=(), dtype=string, numpy=b'Melanocytic nevi'>)\n",
      "(<tf.Tensor: shape=(), dtype=string, numpy=b'../data/HAM10000_images_part_1/ISIC_0028008.jpg'>, <tf.Tensor: shape=(), dtype=string, numpy=b'Melanocytic nevi'>)\n",
      "(<tf.Tensor: shape=(), dtype=string, numpy=b'../data/HAM10000_images_part_2/ISIC_0031594.jpg'>, <tf.Tensor: shape=(), dtype=string, numpy=b'Melanocytic nevi'>)\n",
      "(<tf.Tensor: shape=(), dtype=string, numpy=b'../data/HAM10000_images_part_2/ISIC_0030850.jpg'>, <tf.Tensor: shape=(), dtype=string, numpy=b'Melanocytic nevi'>)\n",
      "(<tf.Tensor: shape=(), dtype=string, numpy=b'../data/HAM10000_images_part_2/ISIC_0032705.jpg'>, <tf.Tensor: shape=(), dtype=string, numpy=b'Melanocytic nevi'>)\n",
      "(<tf.Tensor: shape=(), dtype=string, numpy=b'../data/HAM10000_images_part_1/ISIC_0027686.jpg'>, <tf.Tensor: shape=(), dtype=string, numpy=b'Melanocytic nevi'>)\n",
      "(<tf.Tensor: shape=(), dtype=string, numpy=b'../data/HAM10000_images_part_2/ISIC_0029829.jpg'>, <tf.Tensor: shape=(), dtype=string, numpy=b'Melanocytic nevi'>)\n",
      "(<tf.Tensor: shape=(), dtype=string, numpy=b'../data/HAM10000_images_part_2/ISIC_0031139.jpg'>, <tf.Tensor: shape=(), dtype=string, numpy=b'Melanocytic nevi'>)\n",
      "(<tf.Tensor: shape=(), dtype=string, numpy=b'../data/HAM10000_images_part_1/ISIC_0027827.jpg'>, <tf.Tensor: shape=(), dtype=string, numpy=b'Melanocytic nevi'>)\n",
      "(<tf.Tensor: shape=(), dtype=string, numpy=b'../data/HAM10000_images_part_1/ISIC_0028748.jpg'>, <tf.Tensor: shape=(), dtype=string, numpy=b'Melanocytic nevi'>)\n",
      "(<tf.Tensor: shape=(), dtype=string, numpy=b'../data/HAM10000_images_part_2/ISIC_0030538.jpg'>, <tf.Tensor: shape=(), dtype=string, numpy=b'Melanocytic nevi'>)\n",
      "(<tf.Tensor: shape=(), dtype=string, numpy=b'../data/HAM10000_images_part_2/ISIC_0030111.jpg'>, <tf.Tensor: shape=(), dtype=string, numpy=b'Melanocytic nevi'>)\n",
      "(<tf.Tensor: shape=(), dtype=string, numpy=b'../data/HAM10000_images_part_2/ISIC_0032256.jpg'>, <tf.Tensor: shape=(), dtype=string, numpy=b'Melanocytic nevi'>)\n",
      "(<tf.Tensor: shape=(), dtype=string, numpy=b'../data/HAM10000_images_part_2/ISIC_0032789.jpg'>, <tf.Tensor: shape=(), dtype=string, numpy=b'Melanocytic nevi'>)\n",
      "(<tf.Tensor: shape=(), dtype=string, numpy=b'../data/HAM10000_images_part_1/ISIC_0027001.jpg'>, <tf.Tensor: shape=(), dtype=string, numpy=b'Melanocytic nevi'>)\n",
      "(<tf.Tensor: shape=(), dtype=string, numpy=b'../data/HAM10000_images_part_1/ISIC_0025929.jpg'>, <tf.Tensor: shape=(), dtype=string, numpy=b'Melanocytic nevi'>)\n",
      "(<tf.Tensor: shape=(), dtype=string, numpy=b'../data/HAM10000_images_part_1/ISIC_0025013.jpg'>, <tf.Tensor: shape=(), dtype=string, numpy=b'Melanocytic nevi'>)\n",
      "(<tf.Tensor: shape=(), dtype=string, numpy=b'../data/HAM10000_images_part_1/ISIC_0024914.jpg'>, <tf.Tensor: shape=(), dtype=string, numpy=b'Melanocytic nevi'>)\n",
      "(<tf.Tensor: shape=(), dtype=string, numpy=b'../data/HAM10000_images_part_1/ISIC_0025723.jpg'>, <tf.Tensor: shape=(), dtype=string, numpy=b'Melanocytic nevi'>)\n",
      "(<tf.Tensor: shape=(), dtype=string, numpy=b'../data/HAM10000_images_part_2/ISIC_0030162.jpg'>, <tf.Tensor: shape=(), dtype=string, numpy=b'Melanocytic nevi'>)\n",
      "(<tf.Tensor: shape=(), dtype=string, numpy=b'../data/HAM10000_images_part_2/ISIC_0029635.jpg'>, <tf.Tensor: shape=(), dtype=string, numpy=b'Melanocytic nevi'>)\n",
      "(<tf.Tensor: shape=(), dtype=string, numpy=b'../data/HAM10000_images_part_1/ISIC_0026817.jpg'>, <tf.Tensor: shape=(), dtype=string, numpy=b'Melanocytic nevi'>)\n",
      "(<tf.Tensor: shape=(), dtype=string, numpy=b'../data/HAM10000_images_part_1/ISIC_0026881.jpg'>, <tf.Tensor: shape=(), dtype=string, numpy=b'Melanocytic nevi'>)\n",
      "(<tf.Tensor: shape=(), dtype=string, numpy=b'../data/HAM10000_images_part_1/ISIC_0027667.jpg'>, <tf.Tensor: shape=(), dtype=string, numpy=b'Melanocytic nevi'>)\n",
      "(<tf.Tensor: shape=(), dtype=string, numpy=b'../data/HAM10000_images_part_2/ISIC_0029444.jpg'>, <tf.Tensor: shape=(), dtype=string, numpy=b'Melanocytic nevi'>)\n",
      "(<tf.Tensor: shape=(), dtype=string, numpy=b'../data/HAM10000_images_part_2/ISIC_0029492.jpg'>, <tf.Tensor: shape=(), dtype=string, numpy=b'Melanocytic nevi'>)\n",
      "(<tf.Tensor: shape=(), dtype=string, numpy=b'../data/HAM10000_images_part_2/ISIC_0033313.jpg'>, <tf.Tensor: shape=(), dtype=string, numpy=b'Melanocytic nevi'>)\n",
      "(<tf.Tensor: shape=(), dtype=string, numpy=b'../data/HAM10000_images_part_2/ISIC_0030424.jpg'>, <tf.Tensor: shape=(), dtype=string, numpy=b'Melanocytic nevi'>)\n",
      "(<tf.Tensor: shape=(), dtype=string, numpy=b'../data/HAM10000_images_part_2/ISIC_0032276.jpg'>, <tf.Tensor: shape=(), dtype=string, numpy=b'Melanocytic nevi'>)\n",
      "(<tf.Tensor: shape=(), dtype=string, numpy=b'../data/HAM10000_images_part_1/ISIC_0026681.jpg'>, <tf.Tensor: shape=(), dtype=string, numpy=b'Melanocytic nevi'>)\n",
      "(<tf.Tensor: shape=(), dtype=string, numpy=b'../data/HAM10000_images_part_1/ISIC_0029105.jpg'>, <tf.Tensor: shape=(), dtype=string, numpy=b'Melanocytic nevi'>)\n",
      "(<tf.Tensor: shape=(), dtype=string, numpy=b'../data/HAM10000_images_part_2/ISIC_0032403.jpg'>, <tf.Tensor: shape=(), dtype=string, numpy=b'Melanocytic nevi'>)\n",
      "(<tf.Tensor: shape=(), dtype=string, numpy=b'../data/HAM10000_images_part_1/ISIC_0027324.jpg'>, <tf.Tensor: shape=(), dtype=string, numpy=b'Melanocytic nevi'>)\n",
      "(<tf.Tensor: shape=(), dtype=string, numpy=b'../data/HAM10000_images_part_1/ISIC_0028802.jpg'>, <tf.Tensor: shape=(), dtype=string, numpy=b'Melanocytic nevi'>)\n",
      "(<tf.Tensor: shape=(), dtype=string, numpy=b'../data/HAM10000_images_part_1/ISIC_0025540.jpg'>, <tf.Tensor: shape=(), dtype=string, numpy=b'Melanocytic nevi'>)\n",
      "(<tf.Tensor: shape=(), dtype=string, numpy=b'../data/HAM10000_images_part_2/ISIC_0029445.jpg'>, <tf.Tensor: shape=(), dtype=string, numpy=b'Melanocytic nevi'>)\n",
      "(<tf.Tensor: shape=(), dtype=string, numpy=b'../data/HAM10000_images_part_1/ISIC_0024523.jpg'>, <tf.Tensor: shape=(), dtype=string, numpy=b'Melanocytic nevi'>)\n",
      "(<tf.Tensor: shape=(), dtype=string, numpy=b'../data/HAM10000_images_part_2/ISIC_0030580.jpg'>, <tf.Tensor: shape=(), dtype=string, numpy=b'Melanocytic nevi'>)\n",
      "(<tf.Tensor: shape=(), dtype=string, numpy=b'../data/HAM10000_images_part_1/ISIC_0025633.jpg'>, <tf.Tensor: shape=(), dtype=string, numpy=b'Melanocytic nevi'>)\n",
      "(<tf.Tensor: shape=(), dtype=string, numpy=b'../data/HAM10000_images_part_1/ISIC_0025448.jpg'>, <tf.Tensor: shape=(), dtype=string, numpy=b'Melanocytic nevi'>)\n",
      "(<tf.Tensor: shape=(), dtype=string, numpy=b'../data/HAM10000_images_part_1/ISIC_0028039.jpg'>, <tf.Tensor: shape=(), dtype=string, numpy=b'Melanocytic nevi'>)\n",
      "(<tf.Tensor: shape=(), dtype=string, numpy=b'../data/HAM10000_images_part_1/ISIC_0028731.jpg'>, <tf.Tensor: shape=(), dtype=string, numpy=b'Melanocytic nevi'>)\n",
      "(<tf.Tensor: shape=(), dtype=string, numpy=b'../data/HAM10000_images_part_2/ISIC_0029828.jpg'>, <tf.Tensor: shape=(), dtype=string, numpy=b'Melanocytic nevi'>)\n",
      "(<tf.Tensor: shape=(), dtype=string, numpy=b'../data/HAM10000_images_part_2/ISIC_0032083.jpg'>, <tf.Tensor: shape=(), dtype=string, numpy=b'Melanocytic nevi'>)\n",
      "(<tf.Tensor: shape=(), dtype=string, numpy=b'../data/HAM10000_images_part_1/ISIC_0027357.jpg'>, <tf.Tensor: shape=(), dtype=string, numpy=b'Melanocytic nevi'>)\n",
      "(<tf.Tensor: shape=(), dtype=string, numpy=b'../data/HAM10000_images_part_1/ISIC_0025734.jpg'>, <tf.Tensor: shape=(), dtype=string, numpy=b'Melanocytic nevi'>)\n",
      "(<tf.Tensor: shape=(), dtype=string, numpy=b'../data/HAM10000_images_part_2/ISIC_0033895.jpg'>, <tf.Tensor: shape=(), dtype=string, numpy=b'Melanocytic nevi'>)\n",
      "(<tf.Tensor: shape=(), dtype=string, numpy=b'../data/HAM10000_images_part_2/ISIC_0031635.jpg'>, <tf.Tensor: shape=(), dtype=string, numpy=b'Melanocytic nevi'>)\n",
      "(<tf.Tensor: shape=(), dtype=string, numpy=b'../data/HAM10000_images_part_2/ISIC_0032084.jpg'>, <tf.Tensor: shape=(), dtype=string, numpy=b'Melanocytic nevi'>)\n",
      "(<tf.Tensor: shape=(), dtype=string, numpy=b'../data/HAM10000_images_part_1/ISIC_0026749.jpg'>, <tf.Tensor: shape=(), dtype=string, numpy=b'Melanocytic nevi'>)\n",
      "(<tf.Tensor: shape=(), dtype=string, numpy=b'../data/HAM10000_images_part_2/ISIC_0029688.jpg'>, <tf.Tensor: shape=(), dtype=string, numpy=b'Melanocytic nevi'>)\n",
      "(<tf.Tensor: shape=(), dtype=string, numpy=b'../data/HAM10000_images_part_2/ISIC_0031235.jpg'>, <tf.Tensor: shape=(), dtype=string, numpy=b'Melanocytic nevi'>)\n",
      "(<tf.Tensor: shape=(), dtype=string, numpy=b'../data/HAM10000_images_part_1/ISIC_0028244.jpg'>, <tf.Tensor: shape=(), dtype=string, numpy=b'Melanocytic nevi'>)\n",
      "(<tf.Tensor: shape=(), dtype=string, numpy=b'../data/HAM10000_images_part_2/ISIC_0030559.jpg'>, <tf.Tensor: shape=(), dtype=string, numpy=b'Melanocytic nevi'>)\n",
      "(<tf.Tensor: shape=(), dtype=string, numpy=b'../data/HAM10000_images_part_1/ISIC_0028853.jpg'>, <tf.Tensor: shape=(), dtype=string, numpy=b'Melanocytic nevi'>)\n",
      "(<tf.Tensor: shape=(), dtype=string, numpy=b'../data/HAM10000_images_part_1/ISIC_0026241.jpg'>, <tf.Tensor: shape=(), dtype=string, numpy=b'Melanocytic nevi'>)\n",
      "(<tf.Tensor: shape=(), dtype=string, numpy=b'../data/HAM10000_images_part_2/ISIC_0032469.jpg'>, <tf.Tensor: shape=(), dtype=string, numpy=b'Melanocytic nevi'>)\n",
      "(<tf.Tensor: shape=(), dtype=string, numpy=b'../data/HAM10000_images_part_2/ISIC_0030642.jpg'>, <tf.Tensor: shape=(), dtype=string, numpy=b'Melanocytic nevi'>)\n",
      "(<tf.Tensor: shape=(), dtype=string, numpy=b'../data/HAM10000_images_part_2/ISIC_0029888.jpg'>, <tf.Tensor: shape=(), dtype=string, numpy=b'Melanocytic nevi'>)\n",
      "(<tf.Tensor: shape=(), dtype=string, numpy=b'../data/HAM10000_images_part_2/ISIC_0031611.jpg'>, <tf.Tensor: shape=(), dtype=string, numpy=b'Melanocytic nevi'>)\n",
      "(<tf.Tensor: shape=(), dtype=string, numpy=b'../data/HAM10000_images_part_1/ISIC_0024978.jpg'>, <tf.Tensor: shape=(), dtype=string, numpy=b'Melanocytic nevi'>)\n",
      "(<tf.Tensor: shape=(), dtype=string, numpy=b'../data/HAM10000_images_part_2/ISIC_0030072.jpg'>, <tf.Tensor: shape=(), dtype=string, numpy=b'Melanocytic nevi'>)\n",
      "(<tf.Tensor: shape=(), dtype=string, numpy=b'../data/HAM10000_images_part_1/ISIC_0027848.jpg'>, <tf.Tensor: shape=(), dtype=string, numpy=b'Melanocytic nevi'>)\n",
      "(<tf.Tensor: shape=(), dtype=string, numpy=b'../data/HAM10000_images_part_2/ISIC_0031302.jpg'>, <tf.Tensor: shape=(), dtype=string, numpy=b'Melanocytic nevi'>)\n",
      "(<tf.Tensor: shape=(), dtype=string, numpy=b'../data/HAM10000_images_part_2/ISIC_0032585.jpg'>, <tf.Tensor: shape=(), dtype=string, numpy=b'Melanocytic nevi'>)\n",
      "(<tf.Tensor: shape=(), dtype=string, numpy=b'../data/HAM10000_images_part_2/ISIC_0030739.jpg'>, <tf.Tensor: shape=(), dtype=string, numpy=b'Melanocytic nevi'>)\n",
      "(<tf.Tensor: shape=(), dtype=string, numpy=b'../data/HAM10000_images_part_1/ISIC_0028007.jpg'>, <tf.Tensor: shape=(), dtype=string, numpy=b'Melanocytic nevi'>)\n",
      "(<tf.Tensor: shape=(), dtype=string, numpy=b'../data/HAM10000_images_part_2/ISIC_0030260.jpg'>, <tf.Tensor: shape=(), dtype=string, numpy=b'Melanocytic nevi'>)\n",
      "(<tf.Tensor: shape=(), dtype=string, numpy=b'../data/HAM10000_images_part_1/ISIC_0026434.jpg'>, <tf.Tensor: shape=(), dtype=string, numpy=b'Melanocytic nevi'>)\n",
      "(<tf.Tensor: shape=(), dtype=string, numpy=b'../data/HAM10000_images_part_1/ISIC_0026461.jpg'>, <tf.Tensor: shape=(), dtype=string, numpy=b'Melanocytic nevi'>)\n",
      "(<tf.Tensor: shape=(), dtype=string, numpy=b'../data/HAM10000_images_part_1/ISIC_0026345.jpg'>, <tf.Tensor: shape=(), dtype=string, numpy=b'Melanocytic nevi'>)\n",
      "(<tf.Tensor: shape=(), dtype=string, numpy=b'../data/HAM10000_images_part_2/ISIC_0029408.jpg'>, <tf.Tensor: shape=(), dtype=string, numpy=b'Melanocytic nevi'>)\n",
      "(<tf.Tensor: shape=(), dtype=string, numpy=b'../data/HAM10000_images_part_2/ISIC_0030299.jpg'>, <tf.Tensor: shape=(), dtype=string, numpy=b'Melanocytic nevi'>)\n",
      "(<tf.Tensor: shape=(), dtype=string, numpy=b'../data/HAM10000_images_part_1/ISIC_0028182.jpg'>, <tf.Tensor: shape=(), dtype=string, numpy=b'Melanocytic nevi'>)\n",
      "(<tf.Tensor: shape=(), dtype=string, numpy=b'../data/HAM10000_images_part_2/ISIC_0032292.jpg'>, <tf.Tensor: shape=(), dtype=string, numpy=b'Melanocytic nevi'>)\n",
      "(<tf.Tensor: shape=(), dtype=string, numpy=b'../data/HAM10000_images_part_2/ISIC_0031645.jpg'>, <tf.Tensor: shape=(), dtype=string, numpy=b'Melanocytic nevi'>)\n",
      "(<tf.Tensor: shape=(), dtype=string, numpy=b'../data/HAM10000_images_part_2/ISIC_0032262.jpg'>, <tf.Tensor: shape=(), dtype=string, numpy=b'Melanocytic nevi'>)\n",
      "(<tf.Tensor: shape=(), dtype=string, numpy=b'../data/HAM10000_images_part_2/ISIC_0029873.jpg'>, <tf.Tensor: shape=(), dtype=string, numpy=b'Melanocytic nevi'>)\n",
      "(<tf.Tensor: shape=(), dtype=string, numpy=b'../data/HAM10000_images_part_2/ISIC_0030328.jpg'>, <tf.Tensor: shape=(), dtype=string, numpy=b'Melanocytic nevi'>)\n",
      "(<tf.Tensor: shape=(), dtype=string, numpy=b'../data/HAM10000_images_part_1/ISIC_0025866.jpg'>, <tf.Tensor: shape=(), dtype=string, numpy=b'Melanocytic nevi'>)\n",
      "(<tf.Tensor: shape=(), dtype=string, numpy=b'../data/HAM10000_images_part_2/ISIC_0029365.jpg'>, <tf.Tensor: shape=(), dtype=string, numpy=b'Melanocytic nevi'>)\n",
      "(<tf.Tensor: shape=(), dtype=string, numpy=b'../data/HAM10000_images_part_1/ISIC_0027955.jpg'>, <tf.Tensor: shape=(), dtype=string, numpy=b'Melanocytic nevi'>)\n",
      "(<tf.Tensor: shape=(), dtype=string, numpy=b'../data/HAM10000_images_part_1/ISIC_0025192.jpg'>, <tf.Tensor: shape=(), dtype=string, numpy=b'Melanocytic nevi'>)\n",
      "(<tf.Tensor: shape=(), dtype=string, numpy=b'../data/HAM10000_images_part_2/ISIC_0030994.jpg'>, <tf.Tensor: shape=(), dtype=string, numpy=b'Melanocytic nevi'>)\n",
      "(<tf.Tensor: shape=(), dtype=string, numpy=b'../data/HAM10000_images_part_2/ISIC_0032418.jpg'>, <tf.Tensor: shape=(), dtype=string, numpy=b'Melanocytic nevi'>)\n",
      "(<tf.Tensor: shape=(), dtype=string, numpy=b'../data/HAM10000_images_part_1/ISIC_0027110.jpg'>, <tf.Tensor: shape=(), dtype=string, numpy=b'Melanocytic nevi'>)\n",
      "(<tf.Tensor: shape=(), dtype=string, numpy=b'../data/HAM10000_images_part_2/ISIC_0031193.jpg'>, <tf.Tensor: shape=(), dtype=string, numpy=b'Melanocytic nevi'>)\n",
      "(<tf.Tensor: shape=(), dtype=string, numpy=b'../data/HAM10000_images_part_1/ISIC_0028446.jpg'>, <tf.Tensor: shape=(), dtype=string, numpy=b'Melanocytic nevi'>)\n",
      "(<tf.Tensor: shape=(), dtype=string, numpy=b'../data/HAM10000_images_part_1/ISIC_0024628.jpg'>, <tf.Tensor: shape=(), dtype=string, numpy=b'Melanocytic nevi'>)\n",
      "(<tf.Tensor: shape=(), dtype=string, numpy=b'../data/HAM10000_images_part_1/ISIC_0025657.jpg'>, <tf.Tensor: shape=(), dtype=string, numpy=b'Melanocytic nevi'>)\n",
      "(<tf.Tensor: shape=(), dtype=string, numpy=b'../data/HAM10000_images_part_2/ISIC_0031054.jpg'>, <tf.Tensor: shape=(), dtype=string, numpy=b'Melanocytic nevi'>)\n",
      "(<tf.Tensor: shape=(), dtype=string, numpy=b'../data/HAM10000_images_part_2/ISIC_0029594.jpg'>, <tf.Tensor: shape=(), dtype=string, numpy=b'Melanocytic nevi'>)\n",
      "(<tf.Tensor: shape=(), dtype=string, numpy=b'../data/HAM10000_images_part_2/ISIC_0031173.jpg'>, <tf.Tensor: shape=(), dtype=string, numpy=b'Melanocytic nevi'>)\n",
      "(<tf.Tensor: shape=(), dtype=string, numpy=b'../data/HAM10000_images_part_1/ISIC_0028580.jpg'>, <tf.Tensor: shape=(), dtype=string, numpy=b'Melanocytic nevi'>)\n",
      "(<tf.Tensor: shape=(), dtype=string, numpy=b'../data/HAM10000_images_part_2/ISIC_0032241.jpg'>, <tf.Tensor: shape=(), dtype=string, numpy=b'Melanocytic nevi'>)\n",
      "(<tf.Tensor: shape=(), dtype=string, numpy=b'../data/HAM10000_images_part_2/ISIC_0029661.jpg'>, <tf.Tensor: shape=(), dtype=string, numpy=b'Melanocytic nevi'>)\n",
      "(<tf.Tensor: shape=(), dtype=string, numpy=b'../data/HAM10000_images_part_2/ISIC_0030990.jpg'>, <tf.Tensor: shape=(), dtype=string, numpy=b'Melanocytic nevi'>)\n",
      "(<tf.Tensor: shape=(), dtype=string, numpy=b'../data/HAM10000_images_part_2/ISIC_0031788.jpg'>, <tf.Tensor: shape=(), dtype=string, numpy=b'Melanocytic nevi'>)\n",
      "(<tf.Tensor: shape=(), dtype=string, numpy=b'../data/HAM10000_images_part_1/ISIC_0024392.jpg'>, <tf.Tensor: shape=(), dtype=string, numpy=b'Melanocytic nevi'>)\n",
      "(<tf.Tensor: shape=(), dtype=string, numpy=b'../data/HAM10000_images_part_1/ISIC_0028711.jpg'>, <tf.Tensor: shape=(), dtype=string, numpy=b'Melanocytic nevi'>)\n",
      "(<tf.Tensor: shape=(), dtype=string, numpy=b'../data/HAM10000_images_part_2/ISIC_0030909.jpg'>, <tf.Tensor: shape=(), dtype=string, numpy=b'Melanocytic nevi'>)\n",
      "(<tf.Tensor: shape=(), dtype=string, numpy=b'../data/HAM10000_images_part_1/ISIC_0026683.jpg'>, <tf.Tensor: shape=(), dtype=string, numpy=b'Melanocytic nevi'>)\n",
      "(<tf.Tensor: shape=(), dtype=string, numpy=b'../data/HAM10000_images_part_2/ISIC_0031047.jpg'>, <tf.Tensor: shape=(), dtype=string, numpy=b'Melanocytic nevi'>)\n",
      "(<tf.Tensor: shape=(), dtype=string, numpy=b'../data/HAM10000_images_part_1/ISIC_0024399.jpg'>, <tf.Tensor: shape=(), dtype=string, numpy=b'Melanocytic nevi'>)\n",
      "(<tf.Tensor: shape=(), dtype=string, numpy=b'../data/HAM10000_images_part_1/ISIC_0028243.jpg'>, <tf.Tensor: shape=(), dtype=string, numpy=b'Melanocytic nevi'>)\n",
      "(<tf.Tensor: shape=(), dtype=string, numpy=b'../data/HAM10000_images_part_1/ISIC_0024530.jpg'>, <tf.Tensor: shape=(), dtype=string, numpy=b'Melanocytic nevi'>)\n",
      "(<tf.Tensor: shape=(), dtype=string, numpy=b'../data/HAM10000_images_part_2/ISIC_0032362.jpg'>, <tf.Tensor: shape=(), dtype=string, numpy=b'Melanocytic nevi'>)\n",
      "(<tf.Tensor: shape=(), dtype=string, numpy=b'../data/HAM10000_images_part_1/ISIC_0025944.jpg'>, <tf.Tensor: shape=(), dtype=string, numpy=b'Melanocytic nevi'>)\n",
      "(<tf.Tensor: shape=(), dtype=string, numpy=b'../data/HAM10000_images_part_1/ISIC_0028332.jpg'>, <tf.Tensor: shape=(), dtype=string, numpy=b'Melanocytic nevi'>)\n",
      "(<tf.Tensor: shape=(), dtype=string, numpy=b'../data/HAM10000_images_part_1/ISIC_0025595.jpg'>, <tf.Tensor: shape=(), dtype=string, numpy=b'Melanocytic nevi'>)\n",
      "(<tf.Tensor: shape=(), dtype=string, numpy=b'../data/HAM10000_images_part_2/ISIC_0031404.jpg'>, <tf.Tensor: shape=(), dtype=string, numpy=b'Melanocytic nevi'>)\n",
      "(<tf.Tensor: shape=(), dtype=string, numpy=b'../data/HAM10000_images_part_2/ISIC_0029946.jpg'>, <tf.Tensor: shape=(), dtype=string, numpy=b'Melanocytic nevi'>)\n",
      "(<tf.Tensor: shape=(), dtype=string, numpy=b'../data/HAM10000_images_part_2/ISIC_0029969.jpg'>, <tf.Tensor: shape=(), dtype=string, numpy=b'Melanocytic nevi'>)\n",
      "(<tf.Tensor: shape=(), dtype=string, numpy=b'../data/HAM10000_images_part_1/ISIC_0029120.jpg'>, <tf.Tensor: shape=(), dtype=string, numpy=b'Melanocytic nevi'>)\n",
      "(<tf.Tensor: shape=(), dtype=string, numpy=b'../data/HAM10000_images_part_2/ISIC_0032231.jpg'>, <tf.Tensor: shape=(), dtype=string, numpy=b'Melanocytic nevi'>)\n",
      "(<tf.Tensor: shape=(), dtype=string, numpy=b'../data/HAM10000_images_part_1/ISIC_0027338.jpg'>, <tf.Tensor: shape=(), dtype=string, numpy=b'Melanocytic nevi'>)\n",
      "(<tf.Tensor: shape=(), dtype=string, numpy=b'../data/HAM10000_images_part_1/ISIC_0028253.jpg'>, <tf.Tensor: shape=(), dtype=string, numpy=b'Melanocytic nevi'>)\n",
      "(<tf.Tensor: shape=(), dtype=string, numpy=b'../data/HAM10000_images_part_1/ISIC_0025256.jpg'>, <tf.Tensor: shape=(), dtype=string, numpy=b'Melanocytic nevi'>)\n",
      "(<tf.Tensor: shape=(), dtype=string, numpy=b'../data/HAM10000_images_part_2/ISIC_0030152.jpg'>, <tf.Tensor: shape=(), dtype=string, numpy=b'Melanocytic nevi'>)\n",
      "(<tf.Tensor: shape=(), dtype=string, numpy=b'../data/HAM10000_images_part_2/ISIC_0031084.jpg'>, <tf.Tensor: shape=(), dtype=string, numpy=b'Melanocytic nevi'>)\n",
      "(<tf.Tensor: shape=(), dtype=string, numpy=b'../data/HAM10000_images_part_1/ISIC_0024882.jpg'>, <tf.Tensor: shape=(), dtype=string, numpy=b'Melanocytic nevi'>)\n",
      "(<tf.Tensor: shape=(), dtype=string, numpy=b'../data/HAM10000_images_part_1/ISIC_0028070.jpg'>, <tf.Tensor: shape=(), dtype=string, numpy=b'Melanocytic nevi'>)\n",
      "(<tf.Tensor: shape=(), dtype=string, numpy=b'../data/HAM10000_images_part_1/ISIC_0029008.jpg'>, <tf.Tensor: shape=(), dtype=string, numpy=b'Melanocytic nevi'>)\n",
      "(<tf.Tensor: shape=(), dtype=string, numpy=b'../data/HAM10000_images_part_1/ISIC_0027206.jpg'>, <tf.Tensor: shape=(), dtype=string, numpy=b'Melanocytic nevi'>)\n",
      "(<tf.Tensor: shape=(), dtype=string, numpy=b'../data/HAM10000_images_part_2/ISIC_0031240.jpg'>, <tf.Tensor: shape=(), dtype=string, numpy=b'Melanocytic nevi'>)\n",
      "(<tf.Tensor: shape=(), dtype=string, numpy=b'../data/HAM10000_images_part_1/ISIC_0027091.jpg'>, <tf.Tensor: shape=(), dtype=string, numpy=b'Melanocytic nevi'>)\n",
      "(<tf.Tensor: shape=(), dtype=string, numpy=b'../data/HAM10000_images_part_1/ISIC_0026816.jpg'>, <tf.Tensor: shape=(), dtype=string, numpy=b'Melanocytic nevi'>)\n",
      "(<tf.Tensor: shape=(), dtype=string, numpy=b'../data/HAM10000_images_part_1/ISIC_0024778.jpg'>, <tf.Tensor: shape=(), dtype=string, numpy=b'Melanocytic nevi'>)\n",
      "(<tf.Tensor: shape=(), dtype=string, numpy=b'../data/HAM10000_images_part_2/ISIC_0033364.jpg'>, <tf.Tensor: shape=(), dtype=string, numpy=b'Melanocytic nevi'>)\n",
      "(<tf.Tensor: shape=(), dtype=string, numpy=b'../data/HAM10000_images_part_2/ISIC_0030179.jpg'>, <tf.Tensor: shape=(), dtype=string, numpy=b'Melanocytic nevi'>)\n",
      "(<tf.Tensor: shape=(), dtype=string, numpy=b'../data/HAM10000_images_part_2/ISIC_0030115.jpg'>, <tf.Tensor: shape=(), dtype=string, numpy=b'Melanocytic nevi'>)\n",
      "(<tf.Tensor: shape=(), dtype=string, numpy=b'../data/HAM10000_images_part_2/ISIC_0030596.jpg'>, <tf.Tensor: shape=(), dtype=string, numpy=b'Melanocytic nevi'>)\n",
      "(<tf.Tensor: shape=(), dtype=string, numpy=b'../data/HAM10000_images_part_1/ISIC_0026197.jpg'>, <tf.Tensor: shape=(), dtype=string, numpy=b'Melanocytic nevi'>)\n",
      "(<tf.Tensor: shape=(), dtype=string, numpy=b'../data/HAM10000_images_part_1/ISIC_0026224.jpg'>, <tf.Tensor: shape=(), dtype=string, numpy=b'Melanocytic nevi'>)\n",
      "(<tf.Tensor: shape=(), dtype=string, numpy=b'../data/HAM10000_images_part_1/ISIC_0027163.jpg'>, <tf.Tensor: shape=(), dtype=string, numpy=b'Melanoma'>)\n",
      "(<tf.Tensor: shape=(), dtype=string, numpy=b'../data/HAM10000_images_part_1/ISIC_0025832.jpg'>, <tf.Tensor: shape=(), dtype=string, numpy=b'Melanoma'>)\n",
      "(<tf.Tensor: shape=(), dtype=string, numpy=b'../data/HAM10000_images_part_1/ISIC_0026892.jpg'>, <tf.Tensor: shape=(), dtype=string, numpy=b'Melanoma'>)\n",
      "(<tf.Tensor: shape=(), dtype=string, numpy=b'../data/HAM10000_images_part_2/ISIC_0029562.jpg'>, <tf.Tensor: shape=(), dtype=string, numpy=b'Melanoma'>)\n",
      "(<tf.Tensor: shape=(), dtype=string, numpy=b'../data/HAM10000_images_part_1/ISIC_0028878.jpg'>, <tf.Tensor: shape=(), dtype=string, numpy=b'Melanoma'>)\n",
      "(<tf.Tensor: shape=(), dtype=string, numpy=b'../data/HAM10000_images_part_2/ISIC_0032462.jpg'>, <tf.Tensor: shape=(), dtype=string, numpy=b'Melanoma'>)\n",
      "(<tf.Tensor: shape=(), dtype=string, numpy=b'../data/HAM10000_images_part_2/ISIC_0032036.jpg'>, <tf.Tensor: shape=(), dtype=string, numpy=b'Melanoma'>)\n",
      "(<tf.Tensor: shape=(), dtype=string, numpy=b'../data/HAM10000_images_part_1/ISIC_0024701.jpg'>, <tf.Tensor: shape=(), dtype=string, numpy=b'Melanoma'>)\n",
      "(<tf.Tensor: shape=(), dtype=string, numpy=b'../data/HAM10000_images_part_2/ISIC_0033198.jpg'>, <tf.Tensor: shape=(), dtype=string, numpy=b'Melanoma'>)\n",
      "(<tf.Tensor: shape=(), dtype=string, numpy=b'../data/HAM10000_images_part_2/ISIC_0030281.jpg'>, <tf.Tensor: shape=(), dtype=string, numpy=b'Melanoma'>)\n",
      "(<tf.Tensor: shape=(), dtype=string, numpy=b'../data/HAM10000_images_part_2/ISIC_0034061.jpg'>, <tf.Tensor: shape=(), dtype=string, numpy=b'Melanoma'>)\n",
      "(<tf.Tensor: shape=(), dtype=string, numpy=b'../data/HAM10000_images_part_2/ISIC_0033947.jpg'>, <tf.Tensor: shape=(), dtype=string, numpy=b'Melanoma'>)\n",
      "(<tf.Tensor: shape=(), dtype=string, numpy=b'../data/HAM10000_images_part_1/ISIC_0029170.jpg'>, <tf.Tensor: shape=(), dtype=string, numpy=b'Melanoma'>)\n",
      "(<tf.Tensor: shape=(), dtype=string, numpy=b'../data/HAM10000_images_part_1/ISIC_0026868.jpg'>, <tf.Tensor: shape=(), dtype=string, numpy=b'Melanoma'>)\n",
      "(<tf.Tensor: shape=(), dtype=string, numpy=b'../data/HAM10000_images_part_2/ISIC_0030795.jpg'>, <tf.Tensor: shape=(), dtype=string, numpy=b'Melanoma'>)\n",
      "(<tf.Tensor: shape=(), dtype=string, numpy=b'../data/HAM10000_images_part_2/ISIC_0034049.jpg'>, <tf.Tensor: shape=(), dtype=string, numpy=b'Melanoma'>)\n",
      "(<tf.Tensor: shape=(), dtype=string, numpy=b'../data/HAM10000_images_part_1/ISIC_0029092.jpg'>, <tf.Tensor: shape=(), dtype=string, numpy=b'Melanoma'>)\n",
      "(<tf.Tensor: shape=(), dtype=string, numpy=b'../data/HAM10000_images_part_2/ISIC_0033068.jpg'>, <tf.Tensor: shape=(), dtype=string, numpy=b'Melanoma'>)\n",
      "(<tf.Tensor: shape=(), dtype=string, numpy=b'../data/HAM10000_images_part_2/ISIC_0031087.jpg'>, <tf.Tensor: shape=(), dtype=string, numpy=b'Melanoma'>)\n",
      "(<tf.Tensor: shape=(), dtype=string, numpy=b'../data/HAM10000_images_part_2/ISIC_0033518.jpg'>, <tf.Tensor: shape=(), dtype=string, numpy=b'Melanoma'>)\n",
      "(<tf.Tensor: shape=(), dtype=string, numpy=b'../data/HAM10000_images_part_2/ISIC_0031310.jpg'>, <tf.Tensor: shape=(), dtype=string, numpy=b'Melanoma'>)\n",
      "(<tf.Tensor: shape=(), dtype=string, numpy=b'../data/HAM10000_images_part_2/ISIC_0032207.jpg'>, <tf.Tensor: shape=(), dtype=string, numpy=b'Melanoma'>)\n",
      "(<tf.Tensor: shape=(), dtype=string, numpy=b'../data/HAM10000_images_part_1/ISIC_0025964.jpg'>, <tf.Tensor: shape=(), dtype=string, numpy=b'Melanoma'>)\n",
      "(<tf.Tensor: shape=(), dtype=string, numpy=b'../data/HAM10000_images_part_1/ISIC_0025489.jpg'>, <tf.Tensor: shape=(), dtype=string, numpy=b'Melanoma'>)\n",
      "(<tf.Tensor: shape=(), dtype=string, numpy=b'../data/HAM10000_images_part_2/ISIC_0033902.jpg'>, <tf.Tensor: shape=(), dtype=string, numpy=b'Melanoma'>)\n",
      "(<tf.Tensor: shape=(), dtype=string, numpy=b'../data/HAM10000_images_part_1/ISIC_0024640.jpg'>, <tf.Tensor: shape=(), dtype=string, numpy=b'Melanoma'>)\n",
      "(<tf.Tensor: shape=(), dtype=string, numpy=b'../data/HAM10000_images_part_2/ISIC_0030083.jpg'>, <tf.Tensor: shape=(), dtype=string, numpy=b'Melanoma'>)\n",
      "(<tf.Tensor: shape=(), dtype=string, numpy=b'../data/HAM10000_images_part_2/ISIC_0034262.jpg'>, <tf.Tensor: shape=(), dtype=string, numpy=b'Melanoma'>)\n",
      "(<tf.Tensor: shape=(), dtype=string, numpy=b'../data/HAM10000_images_part_2/ISIC_0032504.jpg'>, <tf.Tensor: shape=(), dtype=string, numpy=b'Melanoma'>)\n",
      "(<tf.Tensor: shape=(), dtype=string, numpy=b'../data/HAM10000_images_part_2/ISIC_0029958.jpg'>, <tf.Tensor: shape=(), dtype=string, numpy=b'Melanoma'>)\n",
      "(<tf.Tensor: shape=(), dtype=string, numpy=b'../data/HAM10000_images_part_2/ISIC_0033942.jpg'>, <tf.Tensor: shape=(), dtype=string, numpy=b'Melanoma'>)\n",
      "(<tf.Tensor: shape=(), dtype=string, numpy=b'../data/HAM10000_images_part_2/ISIC_0029512.jpg'>, <tf.Tensor: shape=(), dtype=string, numpy=b'Melanoma'>)\n",
      "(<tf.Tensor: shape=(), dtype=string, numpy=b'../data/HAM10000_images_part_2/ISIC_0034006.jpg'>, <tf.Tensor: shape=(), dtype=string, numpy=b'Melanoma'>)\n",
      "(<tf.Tensor: shape=(), dtype=string, numpy=b'../data/HAM10000_images_part_2/ISIC_0032726.jpg'>, <tf.Tensor: shape=(), dtype=string, numpy=b'Melanoma'>)\n",
      "(<tf.Tensor: shape=(), dtype=string, numpy=b'../data/HAM10000_images_part_2/ISIC_0030759.jpg'>, <tf.Tensor: shape=(), dtype=string, numpy=b'Melanoma'>)\n",
      "(<tf.Tensor: shape=(), dtype=string, numpy=b'../data/HAM10000_images_part_2/ISIC_0032968.jpg'>, <tf.Tensor: shape=(), dtype=string, numpy=b'Melanoma'>)\n",
      "(<tf.Tensor: shape=(), dtype=string, numpy=b'../data/HAM10000_images_part_2/ISIC_0032532.jpg'>, <tf.Tensor: shape=(), dtype=string, numpy=b'Melanoma'>)\n",
      "(<tf.Tensor: shape=(), dtype=string, numpy=b'../data/HAM10000_images_part_1/ISIC_0028017.jpg'>, <tf.Tensor: shape=(), dtype=string, numpy=b'Melanoma'>)\n",
      "(<tf.Tensor: shape=(), dtype=string, numpy=b'../data/HAM10000_images_part_1/ISIC_0026647.jpg'>, <tf.Tensor: shape=(), dtype=string, numpy=b'Melanoma'>)\n",
      "(<tf.Tensor: shape=(), dtype=string, numpy=b'../data/HAM10000_images_part_1/ISIC_0025097.jpg'>, <tf.Tensor: shape=(), dtype=string, numpy=b'Melanoma'>)\n",
      "(<tf.Tensor: shape=(), dtype=string, numpy=b'../data/HAM10000_images_part_1/ISIC_0027359.jpg'>, <tf.Tensor: shape=(), dtype=string, numpy=b'Melanoma'>)\n",
      "(<tf.Tensor: shape=(), dtype=string, numpy=b'../data/HAM10000_images_part_2/ISIC_0033569.jpg'>, <tf.Tensor: shape=(), dtype=string, numpy=b'Melanoma'>)\n",
      "(<tf.Tensor: shape=(), dtype=string, numpy=b'../data/HAM10000_images_part_2/ISIC_0033209.jpg'>, <tf.Tensor: shape=(), dtype=string, numpy=b'Melanoma'>)\n",
      "(<tf.Tensor: shape=(), dtype=string, numpy=b'../data/HAM10000_images_part_2/ISIC_0033141.jpg'>, <tf.Tensor: shape=(), dtype=string, numpy=b'Melanoma'>)\n",
      "(<tf.Tensor: shape=(), dtype=string, numpy=b'../data/HAM10000_images_part_2/ISIC_0032308.jpg'>, <tf.Tensor: shape=(), dtype=string, numpy=b'Melanoma'>)\n",
      "(<tf.Tensor: shape=(), dtype=string, numpy=b'../data/HAM10000_images_part_1/ISIC_0027487.jpg'>, <tf.Tensor: shape=(), dtype=string, numpy=b'Melanoma'>)\n",
      "(<tf.Tensor: shape=(), dtype=string, numpy=b'../data/HAM10000_images_part_1/ISIC_0024967.jpg'>, <tf.Tensor: shape=(), dtype=string, numpy=b'Melanoma'>)\n",
      "(<tf.Tensor: shape=(), dtype=string, numpy=b'../data/HAM10000_images_part_2/ISIC_0033344.jpg'>, <tf.Tensor: shape=(), dtype=string, numpy=b'Melanoma'>)\n",
      "(<tf.Tensor: shape=(), dtype=string, numpy=b'../data/HAM10000_images_part_1/ISIC_0026604.jpg'>, <tf.Tensor: shape=(), dtype=string, numpy=b'Melanoma'>)\n",
      "(<tf.Tensor: shape=(), dtype=string, numpy=b'../data/HAM10000_images_part_2/ISIC_0034118.jpg'>, <tf.Tensor: shape=(), dtype=string, numpy=b'Melanoma'>)\n",
      "(<tf.Tensor: shape=(), dtype=string, numpy=b'../data/HAM10000_images_part_1/ISIC_0025520.jpg'>, <tf.Tensor: shape=(), dtype=string, numpy=b'Melanoma'>)\n",
      "(<tf.Tensor: shape=(), dtype=string, numpy=b'../data/HAM10000_images_part_1/ISIC_0027420.jpg'>, <tf.Tensor: shape=(), dtype=string, numpy=b'Melanoma'>)\n",
      "(<tf.Tensor: shape=(), dtype=string, numpy=b'../data/HAM10000_images_part_1/ISIC_0029013.jpg'>, <tf.Tensor: shape=(), dtype=string, numpy=b'Melanoma'>)\n",
      "(<tf.Tensor: shape=(), dtype=string, numpy=b'../data/HAM10000_images_part_2/ISIC_0032389.jpg'>, <tf.Tensor: shape=(), dtype=string, numpy=b'Melanoma'>)\n",
      "(<tf.Tensor: shape=(), dtype=string, numpy=b'../data/HAM10000_images_part_2/ISIC_0032958.jpg'>, <tf.Tensor: shape=(), dtype=string, numpy=b'Melanoma'>)\n",
      "(<tf.Tensor: shape=(), dtype=string, numpy=b'../data/HAM10000_images_part_2/ISIC_0030110.jpg'>, <tf.Tensor: shape=(), dtype=string, numpy=b'Melanoma'>)\n",
      "(<tf.Tensor: shape=(), dtype=string, numpy=b'../data/HAM10000_images_part_1/ISIC_0025674.jpg'>, <tf.Tensor: shape=(), dtype=string, numpy=b'Melanoma'>)\n",
      "(<tf.Tensor: shape=(), dtype=string, numpy=b'../data/HAM10000_images_part_2/ISIC_0033416.jpg'>, <tf.Tensor: shape=(), dtype=string, numpy=b'Melanoma'>)\n",
      "(<tf.Tensor: shape=(), dtype=string, numpy=b'../data/HAM10000_images_part_2/ISIC_0033027.jpg'>, <tf.Tensor: shape=(), dtype=string, numpy=b'Melanoma'>)\n",
      "(<tf.Tensor: shape=(), dtype=string, numpy=b'../data/HAM10000_images_part_1/ISIC_0029000.jpg'>, <tf.Tensor: shape=(), dtype=string, numpy=b'Melanoma'>)\n",
      "(<tf.Tensor: shape=(), dtype=string, numpy=b'../data/HAM10000_images_part_2/ISIC_0030445.jpg'>, <tf.Tensor: shape=(), dtype=string, numpy=b'Melanoma'>)\n",
      "(<tf.Tensor: shape=(), dtype=string, numpy=b'../data/HAM10000_images_part_1/ISIC_0024756.jpg'>, <tf.Tensor: shape=(), dtype=string, numpy=b'Melanoma'>)\n",
      "(<tf.Tensor: shape=(), dtype=string, numpy=b'../data/HAM10000_images_part_1/ISIC_0025512.jpg'>, <tf.Tensor: shape=(), dtype=string, numpy=b'Melanoma'>)\n",
      "(<tf.Tensor: shape=(), dtype=string, numpy=b'../data/HAM10000_images_part_1/ISIC_0026045.jpg'>, <tf.Tensor: shape=(), dtype=string, numpy=b'Melanoma'>)\n",
      "(<tf.Tensor: shape=(), dtype=string, numpy=b'../data/HAM10000_images_part_2/ISIC_0029547.jpg'>, <tf.Tensor: shape=(), dtype=string, numpy=b'Melanoma'>)\n",
      "(<tf.Tensor: shape=(), dtype=string, numpy=b'../data/HAM10000_images_part_2/ISIC_0029316.jpg'>, <tf.Tensor: shape=(), dtype=string, numpy=b'Melanoma'>)\n",
      "(<tf.Tensor: shape=(), dtype=string, numpy=b'../data/HAM10000_images_part_1/ISIC_0025363.jpg'>, <tf.Tensor: shape=(), dtype=string, numpy=b'Melanoma'>)\n",
      "(<tf.Tensor: shape=(), dtype=string, numpy=b'../data/HAM10000_images_part_2/ISIC_0032921.jpg'>, <tf.Tensor: shape=(), dtype=string, numpy=b'Melanoma'>)\n",
      "(<tf.Tensor: shape=(), dtype=string, numpy=b'../data/HAM10000_images_part_2/ISIC_0030187.jpg'>, <tf.Tensor: shape=(), dtype=string, numpy=b'Melanoma'>)\n",
      "(<tf.Tensor: shape=(), dtype=string, numpy=b'../data/HAM10000_images_part_1/ISIC_0027560.jpg'>, <tf.Tensor: shape=(), dtype=string, numpy=b'Melanoma'>)\n",
      "(<tf.Tensor: shape=(), dtype=string, numpy=b'../data/HAM10000_images_part_1/ISIC_0025573.jpg'>, <tf.Tensor: shape=(), dtype=string, numpy=b'Melanoma'>)\n",
      "(<tf.Tensor: shape=(), dtype=string, numpy=b'../data/HAM10000_images_part_1/ISIC_0026266.jpg'>, <tf.Tensor: shape=(), dtype=string, numpy=b'Melanoma'>)\n",
      "(<tf.Tensor: shape=(), dtype=string, numpy=b'../data/HAM10000_images_part_2/ISIC_0031550.jpg'>, <tf.Tensor: shape=(), dtype=string, numpy=b'Melanoma'>)\n",
      "(<tf.Tensor: shape=(), dtype=string, numpy=b'../data/HAM10000_images_part_1/ISIC_0027253.jpg'>, <tf.Tensor: shape=(), dtype=string, numpy=b'Melanoma'>)\n",
      "(<tf.Tensor: shape=(), dtype=string, numpy=b'../data/HAM10000_images_part_1/ISIC_0028746.jpg'>, <tf.Tensor: shape=(), dtype=string, numpy=b'Melanoma'>)\n",
      "(<tf.Tensor: shape=(), dtype=string, numpy=b'../data/HAM10000_images_part_2/ISIC_0032466.jpg'>, <tf.Tensor: shape=(), dtype=string, numpy=b'Melanoma'>)\n",
      "(<tf.Tensor: shape=(), dtype=string, numpy=b'../data/HAM10000_images_part_2/ISIC_0030910.jpg'>, <tf.Tensor: shape=(), dtype=string, numpy=b'Melanoma'>)\n",
      "(<tf.Tensor: shape=(), dtype=string, numpy=b'../data/HAM10000_images_part_2/ISIC_0030929.jpg'>, <tf.Tensor: shape=(), dtype=string, numpy=b'Melanoma'>)\n",
      "(<tf.Tensor: shape=(), dtype=string, numpy=b'../data/HAM10000_images_part_1/ISIC_0025145.jpg'>, <tf.Tensor: shape=(), dtype=string, numpy=b'Melanoma'>)\n",
      "(<tf.Tensor: shape=(), dtype=string, numpy=b'../data/HAM10000_images_part_1/ISIC_0029081.jpg'>, <tf.Tensor: shape=(), dtype=string, numpy=b'Melanoma'>)\n",
      "(<tf.Tensor: shape=(), dtype=string, numpy=b'../data/HAM10000_images_part_2/ISIC_0034046.jpg'>, <tf.Tensor: shape=(), dtype=string, numpy=b'Melanoma'>)\n",
      "(<tf.Tensor: shape=(), dtype=string, numpy=b'../data/HAM10000_images_part_1/ISIC_0027102.jpg'>, <tf.Tensor: shape=(), dtype=string, numpy=b'Melanoma'>)\n",
      "(<tf.Tensor: shape=(), dtype=string, numpy=b'../data/HAM10000_images_part_2/ISIC_0030760.jpg'>, <tf.Tensor: shape=(), dtype=string, numpy=b'Melanoma'>)\n",
      "(<tf.Tensor: shape=(), dtype=string, numpy=b'../data/HAM10000_images_part_1/ISIC_0028481.jpg'>, <tf.Tensor: shape=(), dtype=string, numpy=b'Melanoma'>)\n",
      "(<tf.Tensor: shape=(), dtype=string, numpy=b'../data/HAM10000_images_part_1/ISIC_0027261.jpg'>, <tf.Tensor: shape=(), dtype=string, numpy=b'Melanoma'>)\n",
      "(<tf.Tensor: shape=(), dtype=string, numpy=b'../data/HAM10000_images_part_1/ISIC_0027663.jpg'>, <tf.Tensor: shape=(), dtype=string, numpy=b'Melanoma'>)\n",
      "(<tf.Tensor: shape=(), dtype=string, numpy=b'../data/HAM10000_images_part_2/ISIC_0030382.jpg'>, <tf.Tensor: shape=(), dtype=string, numpy=b'Melanoma'>)\n",
      "(<tf.Tensor: shape=(), dtype=string, numpy=b'../data/HAM10000_images_part_2/ISIC_0032862.jpg'>, <tf.Tensor: shape=(), dtype=string, numpy=b'Melanoma'>)\n",
      "(<tf.Tensor: shape=(), dtype=string, numpy=b'../data/HAM10000_images_part_1/ISIC_0026150.jpg'>, <tf.Tensor: shape=(), dtype=string, numpy=b'Melanoma'>)\n",
      "(<tf.Tensor: shape=(), dtype=string, numpy=b'../data/HAM10000_images_part_2/ISIC_0032869.jpg'>, <tf.Tensor: shape=(), dtype=string, numpy=b'Melanoma'>)\n",
      "(<tf.Tensor: shape=(), dtype=string, numpy=b'../data/HAM10000_images_part_2/ISIC_0031741.jpg'>, <tf.Tensor: shape=(), dtype=string, numpy=b'Melanoma'>)\n",
      "(<tf.Tensor: shape=(), dtype=string, numpy=b'../data/HAM10000_images_part_1/ISIC_0029242.jpg'>, <tf.Tensor: shape=(), dtype=string, numpy=b'Melanoma'>)\n",
      "(<tf.Tensor: shape=(), dtype=string, numpy=b'../data/HAM10000_images_part_1/ISIC_0025409.jpg'>, <tf.Tensor: shape=(), dtype=string, numpy=b'Melanoma'>)\n",
      "(<tf.Tensor: shape=(), dtype=string, numpy=b'../data/HAM10000_images_part_1/ISIC_0024900.jpg'>, <tf.Tensor: shape=(), dtype=string, numpy=b'Melanoma'>)\n",
      "(<tf.Tensor: shape=(), dtype=string, numpy=b'../data/HAM10000_images_part_1/ISIC_0029094.jpg'>, <tf.Tensor: shape=(), dtype=string, numpy=b'Melanoma'>)\n",
      "(<tf.Tensor: shape=(), dtype=string, numpy=b'../data/HAM10000_images_part_2/ISIC_0030366.jpg'>, <tf.Tensor: shape=(), dtype=string, numpy=b'Melanoma'>)\n",
      "(<tf.Tensor: shape=(), dtype=string, numpy=b'../data/HAM10000_images_part_1/ISIC_0027238.jpg'>, <tf.Tensor: shape=(), dtype=string, numpy=b'Melanoma'>)\n",
      "(<tf.Tensor: shape=(), dtype=string, numpy=b'../data/HAM10000_images_part_2/ISIC_0034239.jpg'>, <tf.Tensor: shape=(), dtype=string, numpy=b'Melanoma'>)\n",
      "(<tf.Tensor: shape=(), dtype=string, numpy=b'../data/HAM10000_images_part_2/ISIC_0029318.jpg'>, <tf.Tensor: shape=(), dtype=string, numpy=b'Melanoma'>)\n",
      "(<tf.Tensor: shape=(), dtype=string, numpy=b'../data/HAM10000_images_part_2/ISIC_0034034.jpg'>, <tf.Tensor: shape=(), dtype=string, numpy=b'Melanoma'>)\n",
      "(<tf.Tensor: shape=(), dtype=string, numpy=b'../data/HAM10000_images_part_2/ISIC_0032684.jpg'>, <tf.Tensor: shape=(), dtype=string, numpy=b'Melanoma'>)\n",
      "(<tf.Tensor: shape=(), dtype=string, numpy=b'../data/HAM10000_images_part_2/ISIC_0031545.jpg'>, <tf.Tensor: shape=(), dtype=string, numpy=b'Melanoma'>)\n",
      "(<tf.Tensor: shape=(), dtype=string, numpy=b'../data/HAM10000_images_part_2/ISIC_0032149.jpg'>, <tf.Tensor: shape=(), dtype=string, numpy=b'Melanoma'>)\n",
      "(<tf.Tensor: shape=(), dtype=string, numpy=b'../data/HAM10000_images_part_2/ISIC_0033578.jpg'>, <tf.Tensor: shape=(), dtype=string, numpy=b'Melanoma'>)\n",
      "(<tf.Tensor: shape=(), dtype=string, numpy=b'../data/HAM10000_images_part_2/ISIC_0033820.jpg'>, <tf.Tensor: shape=(), dtype=string, numpy=b'Melanoma'>)\n",
      "(<tf.Tensor: shape=(), dtype=string, numpy=b'../data/HAM10000_images_part_1/ISIC_0028519.jpg'>, <tf.Tensor: shape=(), dtype=string, numpy=b'Melanoma'>)\n",
      "(<tf.Tensor: shape=(), dtype=string, numpy=b'../data/HAM10000_images_part_2/ISIC_0032430.jpg'>, <tf.Tensor: shape=(), dtype=string, numpy=b'Melanoma'>)\n",
      "(<tf.Tensor: shape=(), dtype=string, numpy=b'../data/HAM10000_images_part_1/ISIC_0027838.jpg'>, <tf.Tensor: shape=(), dtype=string, numpy=b'Melanoma'>)\n",
      "(<tf.Tensor: shape=(), dtype=string, numpy=b'../data/HAM10000_images_part_1/ISIC_0026268.jpg'>, <tf.Tensor: shape=(), dtype=string, numpy=b'Melanoma'>)\n",
      "(<tf.Tensor: shape=(), dtype=string, numpy=b'../data/HAM10000_images_part_1/ISIC_0024644.jpg'>, <tf.Tensor: shape=(), dtype=string, numpy=b'Melanoma'>)\n",
      "(<tf.Tensor: shape=(), dtype=string, numpy=b'../data/HAM10000_images_part_2/ISIC_0029574.jpg'>, <tf.Tensor: shape=(), dtype=string, numpy=b'Melanoma'>)\n",
      "(<tf.Tensor: shape=(), dtype=string, numpy=b'../data/HAM10000_images_part_2/ISIC_0031177.jpg'>, <tf.Tensor: shape=(), dtype=string, numpy=b'Melanoma'>)\n",
      "(<tf.Tensor: shape=(), dtype=string, numpy=b'../data/HAM10000_images_part_2/ISIC_0032602.jpg'>, <tf.Tensor: shape=(), dtype=string, numpy=b'Melanoma'>)\n",
      "(<tf.Tensor: shape=(), dtype=string, numpy=b'../data/HAM10000_images_part_1/ISIC_0025450.jpg'>, <tf.Tensor: shape=(), dtype=string, numpy=b'Melanoma'>)\n",
      "(<tf.Tensor: shape=(), dtype=string, numpy=b'../data/HAM10000_images_part_2/ISIC_0033806.jpg'>, <tf.Tensor: shape=(), dtype=string, numpy=b'Melanoma'>)\n",
      "(<tf.Tensor: shape=(), dtype=string, numpy=b'../data/HAM10000_images_part_2/ISIC_0032982.jpg'>, <tf.Tensor: shape=(), dtype=string, numpy=b'Melanoma'>)\n",
      "(<tf.Tensor: shape=(), dtype=string, numpy=b'../data/HAM10000_images_part_2/ISIC_0029319.jpg'>, <tf.Tensor: shape=(), dtype=string, numpy=b'Melanoma'>)\n",
      "(<tf.Tensor: shape=(), dtype=string, numpy=b'../data/HAM10000_images_part_1/ISIC_0025268.jpg'>, <tf.Tensor: shape=(), dtype=string, numpy=b'Melanoma'>)\n",
      "(<tf.Tensor: shape=(), dtype=string, numpy=b'../data/HAM10000_images_part_2/ISIC_0034275.jpg'>, <tf.Tensor: shape=(), dtype=string, numpy=b'Melanoma'>)\n",
      "(<tf.Tensor: shape=(), dtype=string, numpy=b'../data/HAM10000_images_part_1/ISIC_0026167.jpg'>, <tf.Tensor: shape=(), dtype=string, numpy=b'Melanoma'>)\n",
      "(<tf.Tensor: shape=(), dtype=string, numpy=b'../data/HAM10000_images_part_2/ISIC_0033872.jpg'>, <tf.Tensor: shape=(), dtype=string, numpy=b'Melanoma'>)\n",
      "(<tf.Tensor: shape=(), dtype=string, numpy=b'../data/HAM10000_images_part_1/ISIC_0029033.jpg'>, <tf.Tensor: shape=(), dtype=string, numpy=b'Melanoma'>)\n",
      "(<tf.Tensor: shape=(), dtype=string, numpy=b'../data/HAM10000_images_part_1/ISIC_0029157.jpg'>, <tf.Tensor: shape=(), dtype=string, numpy=b'Melanoma'>)\n",
      "(<tf.Tensor: shape=(), dtype=string, numpy=b'../data/HAM10000_images_part_2/ISIC_0030238.jpg'>, <tf.Tensor: shape=(), dtype=string, numpy=b'Melanoma'>)\n",
      "(<tf.Tensor: shape=(), dtype=string, numpy=b'../data/HAM10000_images_part_2/ISIC_0031915.jpg'>, <tf.Tensor: shape=(), dtype=string, numpy=b'Melanoma'>)\n",
      "(<tf.Tensor: shape=(), dtype=string, numpy=b'../data/HAM10000_images_part_2/ISIC_0034051.jpg'>, <tf.Tensor: shape=(), dtype=string, numpy=b'Melanoma'>)\n",
      "(<tf.Tensor: shape=(), dtype=string, numpy=b'../data/HAM10000_images_part_1/ISIC_0028493.jpg'>, <tf.Tensor: shape=(), dtype=string, numpy=b'Melanoma'>)\n",
      "(<tf.Tensor: shape=(), dtype=string, numpy=b'../data/HAM10000_images_part_2/ISIC_0030818.jpg'>, <tf.Tensor: shape=(), dtype=string, numpy=b'Melanoma'>)\n",
      "(<tf.Tensor: shape=(), dtype=string, numpy=b'../data/HAM10000_images_part_2/ISIC_0030060.jpg'>, <tf.Tensor: shape=(), dtype=string, numpy=b'Melanoma'>)\n",
      "(<tf.Tensor: shape=(), dtype=string, numpy=b'../data/HAM10000_images_part_1/ISIC_0026120.jpg'>, <tf.Tensor: shape=(), dtype=string, numpy=b'Melanoma'>)\n",
      "(<tf.Tensor: shape=(), dtype=string, numpy=b'../data/HAM10000_images_part_1/ISIC_0028548.jpg'>, <tf.Tensor: shape=(), dtype=string, numpy=b'Melanoma'>)\n",
      "(<tf.Tensor: shape=(), dtype=string, numpy=b'../data/HAM10000_images_part_1/ISIC_0027130.jpg'>, <tf.Tensor: shape=(), dtype=string, numpy=b'Melanoma'>)\n",
      "(<tf.Tensor: shape=(), dtype=string, numpy=b'../data/HAM10000_images_part_2/ISIC_0032400.jpg'>, <tf.Tensor: shape=(), dtype=string, numpy=b'Melanoma'>)\n",
      "(<tf.Tensor: shape=(), dtype=string, numpy=b'../data/HAM10000_images_part_2/ISIC_0030901.jpg'>, <tf.Tensor: shape=(), dtype=string, numpy=b'Melanoma'>)\n",
      "(<tf.Tensor: shape=(), dtype=string, numpy=b'../data/HAM10000_images_part_2/ISIC_0033122.jpg'>, <tf.Tensor: shape=(), dtype=string, numpy=b'Melanoma'>)\n",
      "(<tf.Tensor: shape=(), dtype=string, numpy=b'../data/HAM10000_images_part_2/ISIC_0032152.jpg'>, <tf.Tensor: shape=(), dtype=string, numpy=b'Melanoma'>)\n",
      "(<tf.Tensor: shape=(), dtype=string, numpy=b'../data/HAM10000_images_part_1/ISIC_0028326.jpg'>, <tf.Tensor: shape=(), dtype=string, numpy=b'Melanoma'>)\n",
      "(<tf.Tensor: shape=(), dtype=string, numpy=b'../data/HAM10000_images_part_1/ISIC_0028696.jpg'>, <tf.Tensor: shape=(), dtype=string, numpy=b'Melanoma'>)\n",
      "(<tf.Tensor: shape=(), dtype=string, numpy=b'../data/HAM10000_images_part_2/ISIC_0033186.jpg'>, <tf.Tensor: shape=(), dtype=string, numpy=b'Melanoma'>)\n",
      "(<tf.Tensor: shape=(), dtype=string, numpy=b'../data/HAM10000_images_part_2/ISIC_0032870.jpg'>, <tf.Tensor: shape=(), dtype=string, numpy=b'Melanoma'>)\n",
      "(<tf.Tensor: shape=(), dtype=string, numpy=b'../data/HAM10000_images_part_2/ISIC_0030932.jpg'>, <tf.Tensor: shape=(), dtype=string, numpy=b'Melanoma'>)\n",
      "(<tf.Tensor: shape=(), dtype=string, numpy=b'../data/HAM10000_images_part_1/ISIC_0026430.jpg'>, <tf.Tensor: shape=(), dtype=string, numpy=b'Melanoma'>)\n",
      "(<tf.Tensor: shape=(), dtype=string, numpy=b'../data/HAM10000_images_part_1/ISIC_0027149.jpg'>, <tf.Tensor: shape=(), dtype=string, numpy=b'Melanoma'>)\n",
      "(<tf.Tensor: shape=(), dtype=string, numpy=b'../data/HAM10000_images_part_2/ISIC_0031554.jpg'>, <tf.Tensor: shape=(), dtype=string, numpy=b'Melanoma'>)\n",
      "(<tf.Tensor: shape=(), dtype=string, numpy=b'../data/HAM10000_images_part_1/ISIC_0027561.jpg'>, <tf.Tensor: shape=(), dtype=string, numpy=b'Melanoma'>)\n",
      "(<tf.Tensor: shape=(), dtype=string, numpy=b'../data/HAM10000_images_part_1/ISIC_0028537.jpg'>, <tf.Tensor: shape=(), dtype=string, numpy=b'Melanoma'>)\n",
      "(<tf.Tensor: shape=(), dtype=string, numpy=b'../data/HAM10000_images_part_1/ISIC_0024805.jpg'>, <tf.Tensor: shape=(), dtype=string, numpy=b'Melanoma'>)\n",
      "(<tf.Tensor: shape=(), dtype=string, numpy=b'../data/HAM10000_images_part_1/ISIC_0025277.jpg'>, <tf.Tensor: shape=(), dtype=string, numpy=b'Melanoma'>)\n",
      "(<tf.Tensor: shape=(), dtype=string, numpy=b'../data/HAM10000_images_part_1/ISIC_0027282.jpg'>, <tf.Tensor: shape=(), dtype=string, numpy=b'Melanoma'>)\n",
      "(<tf.Tensor: shape=(), dtype=string, numpy=b'../data/HAM10000_images_part_2/ISIC_0032220.jpg'>, <tf.Tensor: shape=(), dtype=string, numpy=b'Melanoma'>)\n",
      "(<tf.Tensor: shape=(), dtype=string, numpy=b'../data/HAM10000_images_part_2/ISIC_0033470.jpg'>, <tf.Tensor: shape=(), dtype=string, numpy=b'Melanoma'>)\n",
      "(<tf.Tensor: shape=(), dtype=string, numpy=b'../data/HAM10000_images_part_2/ISIC_0033812.jpg'>, <tf.Tensor: shape=(), dtype=string, numpy=b'Melanoma'>)\n",
      "(<tf.Tensor: shape=(), dtype=string, numpy=b'../data/HAM10000_images_part_2/ISIC_0032845.jpg'>, <tf.Tensor: shape=(), dtype=string, numpy=b'Melanoma'>)\n",
      "(<tf.Tensor: shape=(), dtype=string, numpy=b'../data/HAM10000_images_part_1/ISIC_0027328.jpg'>, <tf.Tensor: shape=(), dtype=string, numpy=b'Melanoma'>)\n",
      "(<tf.Tensor: shape=(), dtype=string, numpy=b'../data/HAM10000_images_part_1/ISIC_0024972.jpg'>, <tf.Tensor: shape=(), dtype=string, numpy=b'Melanoma'>)\n",
      "(<tf.Tensor: shape=(), dtype=string, numpy=b'../data/HAM10000_images_part_1/ISIC_0028463.jpg'>, <tf.Tensor: shape=(), dtype=string, numpy=b'Melanoma'>)\n",
      "(<tf.Tensor: shape=(), dtype=string, numpy=b'../data/HAM10000_images_part_2/ISIC_0032192.jpg'>, <tf.Tensor: shape=(), dtype=string, numpy=b'Melanoma'>)\n",
      "(<tf.Tensor: shape=(), dtype=string, numpy=b'../data/HAM10000_images_part_1/ISIC_0025904.jpg'>, <tf.Tensor: shape=(), dtype=string, numpy=b'Melanoma'>)\n",
      "(<tf.Tensor: shape=(), dtype=string, numpy=b'../data/HAM10000_images_part_2/ISIC_0033333.jpg'>, <tf.Tensor: shape=(), dtype=string, numpy=b'Melanoma'>)\n",
      "(<tf.Tensor: shape=(), dtype=string, numpy=b'../data/HAM10000_images_part_1/ISIC_0028860.jpg'>, <tf.Tensor: shape=(), dtype=string, numpy=b'Melanoma'>)\n",
      "(<tf.Tensor: shape=(), dtype=string, numpy=b'../data/HAM10000_images_part_2/ISIC_0031745.jpg'>, <tf.Tensor: shape=(), dtype=string, numpy=b'Melanoma'>)\n",
      "(<tf.Tensor: shape=(), dtype=string, numpy=b'../data/HAM10000_images_part_2/ISIC_0032287.jpg'>, <tf.Tensor: shape=(), dtype=string, numpy=b'Melanoma'>)\n",
      "(<tf.Tensor: shape=(), dtype=string, numpy=b'../data/HAM10000_images_part_1/ISIC_0026475.jpg'>, <tf.Tensor: shape=(), dtype=string, numpy=b'Melanoma'>)\n",
      "(<tf.Tensor: shape=(), dtype=string, numpy=b'../data/HAM10000_images_part_1/ISIC_0028051.jpg'>, <tf.Tensor: shape=(), dtype=string, numpy=b'Melanoma'>)\n",
      "(<tf.Tensor: shape=(), dtype=string, numpy=b'../data/HAM10000_images_part_2/ISIC_0031941.jpg'>, <tf.Tensor: shape=(), dtype=string, numpy=b'Melanoma'>)\n",
      "(<tf.Tensor: shape=(), dtype=string, numpy=b'../data/HAM10000_images_part_1/ISIC_0026131.jpg'>, <tf.Tensor: shape=(), dtype=string, numpy=b'Melanoma'>)\n",
      "(<tf.Tensor: shape=(), dtype=string, numpy=b'../data/HAM10000_images_part_2/ISIC_0031239.jpg'>, <tf.Tensor: shape=(), dtype=string, numpy=b'Melanoma'>)\n",
      "(<tf.Tensor: shape=(), dtype=string, numpy=b'../data/HAM10000_images_part_1/ISIC_0026993.jpg'>, <tf.Tensor: shape=(), dtype=string, numpy=b'Melanoma'>)\n",
      "(<tf.Tensor: shape=(), dtype=string, numpy=b'../data/HAM10000_images_part_2/ISIC_0030360.jpg'>, <tf.Tensor: shape=(), dtype=string, numpy=b'Melanoma'>)\n",
      "(<tf.Tensor: shape=(), dtype=string, numpy=b'../data/HAM10000_images_part_2/ISIC_0030695.jpg'>, <tf.Tensor: shape=(), dtype=string, numpy=b'Melanoma'>)\n",
      "(<tf.Tensor: shape=(), dtype=string, numpy=b'../data/HAM10000_images_part_1/ISIC_0025105.jpg'>, <tf.Tensor: shape=(), dtype=string, numpy=b'Melanoma'>)\n",
      "(<tf.Tensor: shape=(), dtype=string, numpy=b'../data/HAM10000_images_part_2/ISIC_0032081.jpg'>, <tf.Tensor: shape=(), dtype=string, numpy=b'Melanoma'>)\n",
      "(<tf.Tensor: shape=(), dtype=string, numpy=b'../data/HAM10000_images_part_1/ISIC_0025303.jpg'>, <tf.Tensor: shape=(), dtype=string, numpy=b'Melanoma'>)\n",
      "(<tf.Tensor: shape=(), dtype=string, numpy=b'../data/HAM10000_images_part_2/ISIC_0033394.jpg'>, <tf.Tensor: shape=(), dtype=string, numpy=b'Melanoma'>)\n",
      "(<tf.Tensor: shape=(), dtype=string, numpy=b'../data/HAM10000_images_part_2/ISIC_0031377.jpg'>, <tf.Tensor: shape=(), dtype=string, numpy=b'Melanoma'>)\n",
      "(<tf.Tensor: shape=(), dtype=string, numpy=b'../data/HAM10000_images_part_2/ISIC_0032182.jpg'>, <tf.Tensor: shape=(), dtype=string, numpy=b'Melanoma'>)\n",
      "(<tf.Tensor: shape=(), dtype=string, numpy=b'../data/HAM10000_images_part_2/ISIC_0033901.jpg'>, <tf.Tensor: shape=(), dtype=string, numpy=b'Melanoma'>)\n",
      "(<tf.Tensor: shape=(), dtype=string, numpy=b'../data/HAM10000_images_part_2/ISIC_0031977.jpg'>, <tf.Tensor: shape=(), dtype=string, numpy=b'Melanoma'>)\n",
      "(<tf.Tensor: shape=(), dtype=string, numpy=b'../data/HAM10000_images_part_1/ISIC_0028847.jpg'>, <tf.Tensor: shape=(), dtype=string, numpy=b'Melanoma'>)\n",
      "(<tf.Tensor: shape=(), dtype=string, numpy=b'../data/HAM10000_images_part_1/ISIC_0025603.jpg'>, <tf.Tensor: shape=(), dtype=string, numpy=b'Melanoma'>)\n",
      "(<tf.Tensor: shape=(), dtype=string, numpy=b'../data/HAM10000_images_part_2/ISIC_0033074.jpg'>, <tf.Tensor: shape=(), dtype=string, numpy=b'Melanoma'>)\n",
      "(<tf.Tensor: shape=(), dtype=string, numpy=b'../data/HAM10000_images_part_2/ISIC_0031146.jpg'>, <tf.Tensor: shape=(), dtype=string, numpy=b'Melanoma'>)\n",
      "(<tf.Tensor: shape=(), dtype=string, numpy=b'../data/HAM10000_images_part_2/ISIC_0030171.jpg'>, <tf.Tensor: shape=(), dtype=string, numpy=b'Melanoma'>)\n",
      "(<tf.Tensor: shape=(), dtype=string, numpy=b'../data/HAM10000_images_part_1/ISIC_0025814.jpg'>, <tf.Tensor: shape=(), dtype=string, numpy=b'Melanoma'>)\n",
      "(<tf.Tensor: shape=(), dtype=string, numpy=b'../data/HAM10000_images_part_1/ISIC_0024571.jpg'>, <tf.Tensor: shape=(), dtype=string, numpy=b'Melanoma'>)\n",
      "(<tf.Tensor: shape=(), dtype=string, numpy=b'../data/HAM10000_images_part_2/ISIC_0031517.jpg'>, <tf.Tensor: shape=(), dtype=string, numpy=b'Melanoma'>)\n",
      "(<tf.Tensor: shape=(), dtype=string, numpy=b'../data/HAM10000_images_part_2/ISIC_0032408.jpg'>, <tf.Tensor: shape=(), dtype=string, numpy=b'Melanoma'>)\n",
      "(<tf.Tensor: shape=(), dtype=string, numpy=b'../data/HAM10000_images_part_1/ISIC_0028198.jpg'>, <tf.Tensor: shape=(), dtype=string, numpy=b'Melanoma'>)\n",
      "(<tf.Tensor: shape=(), dtype=string, numpy=b'../data/HAM10000_images_part_1/ISIC_0026811.jpg'>, <tf.Tensor: shape=(), dtype=string, numpy=b'Melanoma'>)\n",
      "(<tf.Tensor: shape=(), dtype=string, numpy=b'../data/HAM10000_images_part_2/ISIC_0033834.jpg'>, <tf.Tensor: shape=(), dtype=string, numpy=b'Melanoma'>)\n",
      "(<tf.Tensor: shape=(), dtype=string, numpy=b'../data/HAM10000_images_part_2/ISIC_0033999.jpg'>, <tf.Tensor: shape=(), dtype=string, numpy=b'Melanoma'>)\n",
      "(<tf.Tensor: shape=(), dtype=string, numpy=b'../data/HAM10000_images_part_2/ISIC_0033670.jpg'>, <tf.Tensor: shape=(), dtype=string, numpy=b'Melanoma'>)\n",
      "(<tf.Tensor: shape=(), dtype=string, numpy=b'../data/HAM10000_images_part_2/ISIC_0033154.jpg'>, <tf.Tensor: shape=(), dtype=string, numpy=b'Melanoma'>)\n",
      "(<tf.Tensor: shape=(), dtype=string, numpy=b'../data/HAM10000_images_part_2/ISIC_0031498.jpg'>, <tf.Tensor: shape=(), dtype=string, numpy=b'Melanoma'>)\n",
      "(<tf.Tensor: shape=(), dtype=string, numpy=b'../data/HAM10000_images_part_2/ISIC_0032836.jpg'>, <tf.Tensor: shape=(), dtype=string, numpy=b'Melanoma'>)\n",
      "(<tf.Tensor: shape=(), dtype=string, numpy=b'../data/HAM10000_images_part_1/ISIC_0026438.jpg'>, <tf.Tensor: shape=(), dtype=string, numpy=b'Melanoma'>)\n",
      "(<tf.Tensor: shape=(), dtype=string, numpy=b'../data/HAM10000_images_part_2/ISIC_0033728.jpg'>, <tf.Tensor: shape=(), dtype=string, numpy=b'Melanoma'>)\n",
      "(<tf.Tensor: shape=(), dtype=string, numpy=b'../data/HAM10000_images_part_2/ISIC_0030501.jpg'>, <tf.Tensor: shape=(), dtype=string, numpy=b'Melanoma'>)\n",
      "(<tf.Tensor: shape=(), dtype=string, numpy=b'../data/HAM10000_images_part_2/ISIC_0034243.jpg'>, <tf.Tensor: shape=(), dtype=string, numpy=b'Melanoma'>)\n",
      "(<tf.Tensor: shape=(), dtype=string, numpy=b'../data/HAM10000_images_part_1/ISIC_0028219.jpg'>, <tf.Tensor: shape=(), dtype=string, numpy=b'Melanoma'>)\n",
      "(<tf.Tensor: shape=(), dtype=string, numpy=b'../data/HAM10000_images_part_2/ISIC_0033957.jpg'>, <tf.Tensor: shape=(), dtype=string, numpy=b'Melanoma'>)\n",
      "(<tf.Tensor: shape=(), dtype=string, numpy=b'../data/HAM10000_images_part_2/ISIC_0032685.jpg'>, <tf.Tensor: shape=(), dtype=string, numpy=b'Melanoma'>)\n",
      "(<tf.Tensor: shape=(), dtype=string, numpy=b'../data/HAM10000_images_part_2/ISIC_0030324.jpg'>, <tf.Tensor: shape=(), dtype=string, numpy=b'Melanoma'>)\n",
      "(<tf.Tensor: shape=(), dtype=string, numpy=b'../data/HAM10000_images_part_2/ISIC_0033268.jpg'>, <tf.Tensor: shape=(), dtype=string, numpy=b'Melanoma'>)\n",
      "(<tf.Tensor: shape=(), dtype=string, numpy=b'../data/HAM10000_images_part_2/ISIC_0029575.jpg'>, <tf.Tensor: shape=(), dtype=string, numpy=b'Melanoma'>)\n",
      "(<tf.Tensor: shape=(), dtype=string, numpy=b'../data/HAM10000_images_part_1/ISIC_0028930.jpg'>, <tf.Tensor: shape=(), dtype=string, numpy=b'Melanoma'>)\n",
      "(<tf.Tensor: shape=(), dtype=string, numpy=b'../data/HAM10000_images_part_2/ISIC_0033668.jpg'>, <tf.Tensor: shape=(), dtype=string, numpy=b'Melanoma'>)\n",
      "(<tf.Tensor: shape=(), dtype=string, numpy=b'../data/HAM10000_images_part_1/ISIC_0025316.jpg'>, <tf.Tensor: shape=(), dtype=string, numpy=b'Melanoma'>)\n",
      "(<tf.Tensor: shape=(), dtype=string, numpy=b'../data/HAM10000_images_part_1/ISIC_0028087.jpg'>, <tf.Tensor: shape=(), dtype=string, numpy=b'Melanoma'>)\n",
      "(<tf.Tensor: shape=(), dtype=string, numpy=b'../data/HAM10000_images_part_2/ISIC_0031890.jpg'>, <tf.Tensor: shape=(), dtype=string, numpy=b'Melanoma'>)\n",
      "(<tf.Tensor: shape=(), dtype=string, numpy=b'../data/HAM10000_images_part_2/ISIC_0032019.jpg'>, <tf.Tensor: shape=(), dtype=string, numpy=b'Melanoma'>)\n",
      "(<tf.Tensor: shape=(), dtype=string, numpy=b'../data/HAM10000_images_part_2/ISIC_0033023.jpg'>, <tf.Tensor: shape=(), dtype=string, numpy=b'Melanoma'>)\n",
      "(<tf.Tensor: shape=(), dtype=string, numpy=b'../data/HAM10000_images_part_2/ISIC_0032730.jpg'>, <tf.Tensor: shape=(), dtype=string, numpy=b'Melanoma'>)\n",
      "(<tf.Tensor: shape=(), dtype=string, numpy=b'../data/HAM10000_images_part_2/ISIC_0030681.jpg'>, <tf.Tensor: shape=(), dtype=string, numpy=b'Melanoma'>)\n",
      "(<tf.Tensor: shape=(), dtype=string, numpy=b'../data/HAM10000_images_part_2/ISIC_0031709.jpg'>, <tf.Tensor: shape=(), dtype=string, numpy=b'Melanoma'>)\n",
      "(<tf.Tensor: shape=(), dtype=string, numpy=b'../data/HAM10000_images_part_1/ISIC_0026694.jpg'>, <tf.Tensor: shape=(), dtype=string, numpy=b'Melanoma'>)\n",
      "(<tf.Tensor: shape=(), dtype=string, numpy=b'../data/HAM10000_images_part_1/ISIC_0026774.jpg'>, <tf.Tensor: shape=(), dtype=string, numpy=b'Melanoma'>)\n",
      "(<tf.Tensor: shape=(), dtype=string, numpy=b'../data/HAM10000_images_part_2/ISIC_0033559.jpg'>, <tf.Tensor: shape=(), dtype=string, numpy=b'Melanoma'>)\n",
      "(<tf.Tensor: shape=(), dtype=string, numpy=b'../data/HAM10000_images_part_1/ISIC_0028916.jpg'>, <tf.Tensor: shape=(), dtype=string, numpy=b'Melanoma'>)\n",
      "(<tf.Tensor: shape=(), dtype=string, numpy=b'../data/HAM10000_images_part_2/ISIC_0032531.jpg'>, <tf.Tensor: shape=(), dtype=string, numpy=b'Melanoma'>)\n",
      "(<tf.Tensor: shape=(), dtype=string, numpy=b'../data/HAM10000_images_part_1/ISIC_0025748.jpg'>, <tf.Tensor: shape=(), dtype=string, numpy=b'Melanoma'>)\n",
      "(<tf.Tensor: shape=(), dtype=string, numpy=b'../data/HAM10000_images_part_1/ISIC_0026738.jpg'>, <tf.Tensor: shape=(), dtype=string, numpy=b'Melanoma'>)\n",
      "(<tf.Tensor: shape=(), dtype=string, numpy=b'../data/HAM10000_images_part_1/ISIC_0029216.jpg'>, <tf.Tensor: shape=(), dtype=string, numpy=b'Melanoma'>)\n",
      "(<tf.Tensor: shape=(), dtype=string, numpy=b'../data/HAM10000_images_part_1/ISIC_0028760.jpg'>, <tf.Tensor: shape=(), dtype=string, numpy=b'Melanoma'>)\n",
      "(<tf.Tensor: shape=(), dtype=string, numpy=b'../data/HAM10000_images_part_2/ISIC_0032807.jpg'>, <tf.Tensor: shape=(), dtype=string, numpy=b'Melanoma'>)\n",
      "(<tf.Tensor: shape=(), dtype=string, numpy=b'../data/HAM10000_images_part_1/ISIC_0024630.jpg'>, <tf.Tensor: shape=(), dtype=string, numpy=b'Melanoma'>)\n",
      "(<tf.Tensor: shape=(), dtype=string, numpy=b'../data/HAM10000_images_part_2/ISIC_0031186.jpg'>, <tf.Tensor: shape=(), dtype=string, numpy=b'Melanoma'>)\n",
      "(<tf.Tensor: shape=(), dtype=string, numpy=b'../data/HAM10000_images_part_2/ISIC_0030031.jpg'>, <tf.Tensor: shape=(), dtype=string, numpy=b'Melanoma'>)\n",
      "(<tf.Tensor: shape=(), dtype=string, numpy=b'../data/HAM10000_images_part_1/ISIC_0025383.jpg'>, <tf.Tensor: shape=(), dtype=string, numpy=b'Basal cell carcinoma'>)\n",
      "(<tf.Tensor: shape=(), dtype=string, numpy=b'../data/HAM10000_images_part_1/ISIC_0028197.jpg'>, <tf.Tensor: shape=(), dtype=string, numpy=b'Basal cell carcinoma'>)\n",
      "(<tf.Tensor: shape=(), dtype=string, numpy=b'../data/HAM10000_images_part_2/ISIC_0030954.jpg'>, <tf.Tensor: shape=(), dtype=string, numpy=b'Basal cell carcinoma'>)\n",
      "(<tf.Tensor: shape=(), dtype=string, numpy=b'../data/HAM10000_images_part_1/ISIC_0024432.jpg'>, <tf.Tensor: shape=(), dtype=string, numpy=b'Basal cell carcinoma'>)\n",
      "(<tf.Tensor: shape=(), dtype=string, numpy=b'../data/HAM10000_images_part_2/ISIC_0031026.jpg'>, <tf.Tensor: shape=(), dtype=string, numpy=b'Basal cell carcinoma'>)\n",
      "(<tf.Tensor: shape=(), dtype=string, numpy=b'../data/HAM10000_images_part_2/ISIC_0030528.jpg'>, <tf.Tensor: shape=(), dtype=string, numpy=b'Basal cell carcinoma'>)\n",
      "(<tf.Tensor: shape=(), dtype=string, numpy=b'../data/HAM10000_images_part_1/ISIC_0026968.jpg'>, <tf.Tensor: shape=(), dtype=string, numpy=b'Basal cell carcinoma'>)\n",
      "(<tf.Tensor: shape=(), dtype=string, numpy=b'../data/HAM10000_images_part_2/ISIC_0031971.jpg'>, <tf.Tensor: shape=(), dtype=string, numpy=b'Basal cell carcinoma'>)\n",
      "(<tf.Tensor: shape=(), dtype=string, numpy=b'../data/HAM10000_images_part_2/ISIC_0030964.jpg'>, <tf.Tensor: shape=(), dtype=string, numpy=b'Basal cell carcinoma'>)\n",
      "(<tf.Tensor: shape=(), dtype=string, numpy=b'../data/HAM10000_images_part_2/ISIC_0032164.jpg'>, <tf.Tensor: shape=(), dtype=string, numpy=b'Basal cell carcinoma'>)\n",
      "(<tf.Tensor: shape=(), dtype=string, numpy=b'../data/HAM10000_images_part_1/ISIC_0024457.jpg'>, <tf.Tensor: shape=(), dtype=string, numpy=b'Basal cell carcinoma'>)\n",
      "(<tf.Tensor: shape=(), dtype=string, numpy=b'../data/HAM10000_images_part_1/ISIC_0028688.jpg'>, <tf.Tensor: shape=(), dtype=string, numpy=b'Basal cell carcinoma'>)\n",
      "(<tf.Tensor: shape=(), dtype=string, numpy=b'../data/HAM10000_images_part_2/ISIC_0031697.jpg'>, <tf.Tensor: shape=(), dtype=string, numpy=b'Basal cell carcinoma'>)\n",
      "(<tf.Tensor: shape=(), dtype=string, numpy=b'../data/HAM10000_images_part_2/ISIC_0031643.jpg'>, <tf.Tensor: shape=(), dtype=string, numpy=b'Basal cell carcinoma'>)\n",
      "(<tf.Tensor: shape=(), dtype=string, numpy=b'../data/HAM10000_images_part_2/ISIC_0034047.jpg'>, <tf.Tensor: shape=(), dtype=string, numpy=b'Basal cell carcinoma'>)\n",
      "(<tf.Tensor: shape=(), dtype=string, numpy=b'../data/HAM10000_images_part_1/ISIC_0029192.jpg'>, <tf.Tensor: shape=(), dtype=string, numpy=b'Basal cell carcinoma'>)\n",
      "(<tf.Tensor: shape=(), dtype=string, numpy=b'../data/HAM10000_images_part_2/ISIC_0033666.jpg'>, <tf.Tensor: shape=(), dtype=string, numpy=b'Basal cell carcinoma'>)\n",
      "(<tf.Tensor: shape=(), dtype=string, numpy=b'../data/HAM10000_images_part_1/ISIC_0024431.jpg'>, <tf.Tensor: shape=(), dtype=string, numpy=b'Basal cell carcinoma'>)\n",
      "(<tf.Tensor: shape=(), dtype=string, numpy=b'../data/HAM10000_images_part_1/ISIC_0026056.jpg'>, <tf.Tensor: shape=(), dtype=string, numpy=b'Basal cell carcinoma'>)\n",
      "(<tf.Tensor: shape=(), dtype=string, numpy=b'../data/HAM10000_images_part_1/ISIC_0025630.jpg'>, <tf.Tensor: shape=(), dtype=string, numpy=b'Basal cell carcinoma'>)\n",
      "(<tf.Tensor: shape=(), dtype=string, numpy=b'../data/HAM10000_images_part_1/ISIC_0027046.jpg'>, <tf.Tensor: shape=(), dtype=string, numpy=b'Basal cell carcinoma'>)\n",
      "(<tf.Tensor: shape=(), dtype=string, numpy=b'../data/HAM10000_images_part_2/ISIC_0030403.jpg'>, <tf.Tensor: shape=(), dtype=string, numpy=b'Basal cell carcinoma'>)\n",
      "(<tf.Tensor: shape=(), dtype=string, numpy=b'../data/HAM10000_images_part_1/ISIC_0026829.jpg'>, <tf.Tensor: shape=(), dtype=string, numpy=b'Basal cell carcinoma'>)\n",
      "(<tf.Tensor: shape=(), dtype=string, numpy=b'../data/HAM10000_images_part_1/ISIC_0026845.jpg'>, <tf.Tensor: shape=(), dtype=string, numpy=b'Basal cell carcinoma'>)\n",
      "(<tf.Tensor: shape=(), dtype=string, numpy=b'../data/HAM10000_images_part_2/ISIC_0030446.jpg'>, <tf.Tensor: shape=(), dtype=string, numpy=b'Basal cell carcinoma'>)\n",
      "(<tf.Tensor: shape=(), dtype=string, numpy=b'../data/HAM10000_images_part_2/ISIC_0029917.jpg'>, <tf.Tensor: shape=(), dtype=string, numpy=b'Basal cell carcinoma'>)\n",
      "(<tf.Tensor: shape=(), dtype=string, numpy=b'../data/HAM10000_images_part_1/ISIC_0026321.jpg'>, <tf.Tensor: shape=(), dtype=string, numpy=b'Basal cell carcinoma'>)\n",
      "(<tf.Tensor: shape=(), dtype=string, numpy=b'../data/HAM10000_images_part_2/ISIC_0034299.jpg'>, <tf.Tensor: shape=(), dtype=string, numpy=b'Basal cell carcinoma'>)\n",
      "(<tf.Tensor: shape=(), dtype=string, numpy=b'../data/HAM10000_images_part_2/ISIC_0030339.jpg'>, <tf.Tensor: shape=(), dtype=string, numpy=b'Basal cell carcinoma'>)\n",
      "(<tf.Tensor: shape=(), dtype=string, numpy=b'../data/HAM10000_images_part_1/ISIC_0028989.jpg'>, <tf.Tensor: shape=(), dtype=string, numpy=b'Basal cell carcinoma'>)\n",
      "(<tf.Tensor: shape=(), dtype=string, numpy=b'../data/HAM10000_images_part_2/ISIC_0030737.jpg'>, <tf.Tensor: shape=(), dtype=string, numpy=b'Basal cell carcinoma'>)\n",
      "(<tf.Tensor: shape=(), dtype=string, numpy=b'../data/HAM10000_images_part_1/ISIC_0027478.jpg'>, <tf.Tensor: shape=(), dtype=string, numpy=b'Basal cell carcinoma'>)\n",
      "(<tf.Tensor: shape=(), dtype=string, numpy=b'../data/HAM10000_images_part_2/ISIC_0033257.jpg'>, <tf.Tensor: shape=(), dtype=string, numpy=b'Basal cell carcinoma'>)\n",
      "(<tf.Tensor: shape=(), dtype=string, numpy=b'../data/HAM10000_images_part_1/ISIC_0025102.jpg'>, <tf.Tensor: shape=(), dtype=string, numpy=b'Basal cell carcinoma'>)\n",
      "(<tf.Tensor: shape=(), dtype=string, numpy=b'../data/HAM10000_images_part_2/ISIC_0033372.jpg'>, <tf.Tensor: shape=(), dtype=string, numpy=b'Basal cell carcinoma'>)\n",
      "(<tf.Tensor: shape=(), dtype=string, numpy=b'../data/HAM10000_images_part_2/ISIC_0033354.jpg'>, <tf.Tensor: shape=(), dtype=string, numpy=b'Basal cell carcinoma'>)\n",
      "(<tf.Tensor: shape=(), dtype=string, numpy=b'../data/HAM10000_images_part_1/ISIC_0028329.jpg'>, <tf.Tensor: shape=(), dtype=string, numpy=b'Basal cell carcinoma'>)\n",
      "(<tf.Tensor: shape=(), dtype=string, numpy=b'../data/HAM10000_images_part_1/ISIC_0028815.jpg'>, <tf.Tensor: shape=(), dtype=string, numpy=b'Basal cell carcinoma'>)\n",
      "(<tf.Tensor: shape=(), dtype=string, numpy=b'../data/HAM10000_images_part_1/ISIC_0027704.jpg'>, <tf.Tensor: shape=(), dtype=string, numpy=b'Basal cell carcinoma'>)\n",
      "(<tf.Tensor: shape=(), dtype=string, numpy=b'../data/HAM10000_images_part_1/ISIC_0028814.jpg'>, <tf.Tensor: shape=(), dtype=string, numpy=b'Basal cell carcinoma'>)\n",
      "(<tf.Tensor: shape=(), dtype=string, numpy=b'../data/HAM10000_images_part_2/ISIC_0031351.jpg'>, <tf.Tensor: shape=(), dtype=string, numpy=b'Basal cell carcinoma'>)\n",
      "(<tf.Tensor: shape=(), dtype=string, numpy=b'../data/HAM10000_images_part_1/ISIC_0028807.jpg'>, <tf.Tensor: shape=(), dtype=string, numpy=b'Basal cell carcinoma'>)\n",
      "(<tf.Tensor: shape=(), dtype=string, numpy=b'../data/HAM10000_images_part_2/ISIC_0029747.jpg'>, <tf.Tensor: shape=(), dtype=string, numpy=b'Basal cell carcinoma'>)\n",
      "(<tf.Tensor: shape=(), dtype=string, numpy=b'../data/HAM10000_images_part_1/ISIC_0025299.jpg'>, <tf.Tensor: shape=(), dtype=string, numpy=b'Basal cell carcinoma'>)\n",
      "(<tf.Tensor: shape=(), dtype=string, numpy=b'../data/HAM10000_images_part_1/ISIC_0028978.jpg'>, <tf.Tensor: shape=(), dtype=string, numpy=b'Basal cell carcinoma'>)\n",
      "(<tf.Tensor: shape=(), dtype=string, numpy=b'../data/HAM10000_images_part_2/ISIC_0031063.jpg'>, <tf.Tensor: shape=(), dtype=string, numpy=b'Basal cell carcinoma'>)\n",
      "(<tf.Tensor: shape=(), dtype=string, numpy=b'../data/HAM10000_images_part_2/ISIC_0031943.jpg'>, <tf.Tensor: shape=(), dtype=string, numpy=b'Basal cell carcinoma'>)\n",
      "(<tf.Tensor: shape=(), dtype=string, numpy=b'../data/HAM10000_images_part_2/ISIC_0031614.jpg'>, <tf.Tensor: shape=(), dtype=string, numpy=b'Basal cell carcinoma'>)\n",
      "(<tf.Tensor: shape=(), dtype=string, numpy=b'../data/HAM10000_images_part_2/ISIC_0031836.jpg'>, <tf.Tensor: shape=(), dtype=string, numpy=b'Basal cell carcinoma'>)\n",
      "(<tf.Tensor: shape=(), dtype=string, numpy=b'../data/HAM10000_images_part_2/ISIC_0029392.jpg'>, <tf.Tensor: shape=(), dtype=string, numpy=b'Basal cell carcinoma'>)\n",
      "(<tf.Tensor: shape=(), dtype=string, numpy=b'../data/HAM10000_images_part_2/ISIC_0033020.jpg'>, <tf.Tensor: shape=(), dtype=string, numpy=b'Basal cell carcinoma'>)\n",
      "(<tf.Tensor: shape=(), dtype=string, numpy=b'../data/HAM10000_images_part_1/ISIC_0025601.jpg'>, <tf.Tensor: shape=(), dtype=string, numpy=b'Basal cell carcinoma'>)\n",
      "(<tf.Tensor: shape=(), dtype=string, numpy=b'../data/HAM10000_images_part_2/ISIC_0032316.jpg'>, <tf.Tensor: shape=(), dtype=string, numpy=b'Basal cell carcinoma'>)\n",
      "(<tf.Tensor: shape=(), dtype=string, numpy=b'../data/HAM10000_images_part_2/ISIC_0031263.jpg'>, <tf.Tensor: shape=(), dtype=string, numpy=b'Basal cell carcinoma'>)\n",
      "(<tf.Tensor: shape=(), dtype=string, numpy=b'../data/HAM10000_images_part_1/ISIC_0028818.jpg'>, <tf.Tensor: shape=(), dtype=string, numpy=b'Basal cell carcinoma'>)\n",
      "(<tf.Tensor: shape=(), dtype=string, numpy=b'../data/HAM10000_images_part_1/ISIC_0025031.jpg'>, <tf.Tensor: shape=(), dtype=string, numpy=b'Basal cell carcinoma'>)\n",
      "(<tf.Tensor: shape=(), dtype=string, numpy=b'../data/HAM10000_images_part_1/ISIC_0024403.jpg'>, <tf.Tensor: shape=(), dtype=string, numpy=b'Basal cell carcinoma'>)\n",
      "(<tf.Tensor: shape=(), dtype=string, numpy=b'../data/HAM10000_images_part_2/ISIC_0030010.jpg'>, <tf.Tensor: shape=(), dtype=string, numpy=b'Basal cell carcinoma'>)\n",
      "(<tf.Tensor: shape=(), dtype=string, numpy=b'../data/HAM10000_images_part_1/ISIC_0028980.jpg'>, <tf.Tensor: shape=(), dtype=string, numpy=b'Basal cell carcinoma'>)\n",
      "(<tf.Tensor: shape=(), dtype=string, numpy=b'../data/HAM10000_images_part_1/ISIC_0027229.jpg'>, <tf.Tensor: shape=(), dtype=string, numpy=b'Basal cell carcinoma'>)\n",
      "(<tf.Tensor: shape=(), dtype=string, numpy=b'../data/HAM10000_images_part_2/ISIC_0031266.jpg'>, <tf.Tensor: shape=(), dtype=string, numpy=b'Basal cell carcinoma'>)\n",
      "(<tf.Tensor: shape=(), dtype=string, numpy=b'../data/HAM10000_images_part_2/ISIC_0029680.jpg'>, <tf.Tensor: shape=(), dtype=string, numpy=b'Basal cell carcinoma'>)\n",
      "(<tf.Tensor: shape=(), dtype=string, numpy=b'../data/HAM10000_images_part_2/ISIC_0033483.jpg'>, <tf.Tensor: shape=(), dtype=string, numpy=b'Basal cell carcinoma'>)\n",
      "(<tf.Tensor: shape=(), dtype=string, numpy=b'../data/HAM10000_images_part_2/ISIC_0030352.jpg'>, <tf.Tensor: shape=(), dtype=string, numpy=b'Basal cell carcinoma'>)\n",
      "(<tf.Tensor: shape=(), dtype=string, numpy=b'../data/HAM10000_images_part_2/ISIC_0029412.jpg'>, <tf.Tensor: shape=(), dtype=string, numpy=b'Basal cell carcinoma'>)\n",
      "(<tf.Tensor: shape=(), dtype=string, numpy=b'../data/HAM10000_images_part_2/ISIC_0034155.jpg'>, <tf.Tensor: shape=(), dtype=string, numpy=b'Basal cell carcinoma'>)\n",
      "(<tf.Tensor: shape=(), dtype=string, numpy=b'../data/HAM10000_images_part_1/ISIC_0028495.jpg'>, <tf.Tensor: shape=(), dtype=string, numpy=b'Basal cell carcinoma'>)\n",
      "(<tf.Tensor: shape=(), dtype=string, numpy=b'../data/HAM10000_images_part_1/ISIC_0025260.jpg'>, <tf.Tensor: shape=(), dtype=string, numpy=b'Basal cell carcinoma'>)\n",
      "(<tf.Tensor: shape=(), dtype=string, numpy=b'../data/HAM10000_images_part_1/ISIC_0025644.jpg'>, <tf.Tensor: shape=(), dtype=string, numpy=b'Basal cell carcinoma'>)\n",
      "(<tf.Tensor: shape=(), dtype=string, numpy=b'../data/HAM10000_images_part_1/ISIC_0028113.jpg'>, <tf.Tensor: shape=(), dtype=string, numpy=b'Basal cell carcinoma'>)\n",
      "(<tf.Tensor: shape=(), dtype=string, numpy=b'../data/HAM10000_images_part_2/ISIC_0031824.jpg'>, <tf.Tensor: shape=(), dtype=string, numpy=b'Basal cell carcinoma'>)\n",
      "(<tf.Tensor: shape=(), dtype=string, numpy=b'../data/HAM10000_images_part_1/ISIC_0027976.jpg'>, <tf.Tensor: shape=(), dtype=string, numpy=b'Basal cell carcinoma'>)\n",
      "(<tf.Tensor: shape=(), dtype=string, numpy=b'../data/HAM10000_images_part_2/ISIC_0029391.jpg'>, <tf.Tensor: shape=(), dtype=string, numpy=b'Basal cell carcinoma'>)\n",
      "(<tf.Tensor: shape=(), dtype=string, numpy=b'../data/HAM10000_images_part_1/ISIC_0024590.jpg'>, <tf.Tensor: shape=(), dtype=string, numpy=b'Basal cell carcinoma'>)\n",
      "(<tf.Tensor: shape=(), dtype=string, numpy=b'../data/HAM10000_images_part_1/ISIC_0028155.jpg'>, <tf.Tensor: shape=(), dtype=string, numpy=b'Basal cell carcinoma'>)\n",
      "(<tf.Tensor: shape=(), dtype=string, numpy=b'../data/HAM10000_images_part_1/ISIC_0025417.jpg'>, <tf.Tensor: shape=(), dtype=string, numpy=b'Basal cell carcinoma'>)\n",
      "(<tf.Tensor: shape=(), dtype=string, numpy=b'../data/HAM10000_images_part_2/ISIC_0029546.jpg'>, <tf.Tensor: shape=(), dtype=string, numpy=b'Basal cell carcinoma'>)\n",
      "(<tf.Tensor: shape=(), dtype=string, numpy=b'../data/HAM10000_images_part_1/ISIC_0024572.jpg'>, <tf.Tensor: shape=(), dtype=string, numpy=b'Basal cell carcinoma'>)\n",
      "(<tf.Tensor: shape=(), dtype=string, numpy=b'../data/HAM10000_images_part_1/ISIC_0028570.jpg'>, <tf.Tensor: shape=(), dtype=string, numpy=b'Basal cell carcinoma'>)\n",
      "(<tf.Tensor: shape=(), dtype=string, numpy=b'../data/HAM10000_images_part_1/ISIC_0028283.jpg'>, <tf.Tensor: shape=(), dtype=string, numpy=b'Basal cell carcinoma'>)\n",
      "(<tf.Tensor: shape=(), dtype=string, numpy=b'../data/HAM10000_images_part_1/ISIC_0027846.jpg'>, <tf.Tensor: shape=(), dtype=string, numpy=b'Basal cell carcinoma'>)\n",
      "(<tf.Tensor: shape=(), dtype=string, numpy=b'../data/HAM10000_images_part_2/ISIC_0030349.jpg'>, <tf.Tensor: shape=(), dtype=string, numpy=b'Basal cell carcinoma'>)\n",
      "(<tf.Tensor: shape=(), dtype=string, numpy=b'../data/HAM10000_images_part_1/ISIC_0027473.jpg'>, <tf.Tensor: shape=(), dtype=string, numpy=b'Basal cell carcinoma'>)\n",
      "(<tf.Tensor: shape=(), dtype=string, numpy=b'../data/HAM10000_images_part_1/ISIC_0025617.jpg'>, <tf.Tensor: shape=(), dtype=string, numpy=b'Basal cell carcinoma'>)\n",
      "(<tf.Tensor: shape=(), dtype=string, numpy=b'../data/HAM10000_images_part_2/ISIC_0030766.jpg'>, <tf.Tensor: shape=(), dtype=string, numpy=b'Basal cell carcinoma'>)\n",
      "(<tf.Tensor: shape=(), dtype=string, numpy=b'../data/HAM10000_images_part_2/ISIC_0031539.jpg'>, <tf.Tensor: shape=(), dtype=string, numpy=b'Basal cell carcinoma'>)\n",
      "(<tf.Tensor: shape=(), dtype=string, numpy=b'../data/HAM10000_images_part_2/ISIC_0030868.jpg'>, <tf.Tensor: shape=(), dtype=string, numpy=b'Basal cell carcinoma'>)\n",
      "(<tf.Tensor: shape=(), dtype=string, numpy=b'../data/HAM10000_images_part_1/ISIC_0025301.jpg'>, <tf.Tensor: shape=(), dtype=string, numpy=b'Basal cell carcinoma'>)\n",
      "(<tf.Tensor: shape=(), dtype=string, numpy=b'../data/HAM10000_images_part_2/ISIC_0031009.jpg'>, <tf.Tensor: shape=(), dtype=string, numpy=b'Basal cell carcinoma'>)\n",
      "(<tf.Tensor: shape=(), dtype=string, numpy=b'../data/HAM10000_images_part_2/ISIC_0029602.jpg'>, <tf.Tensor: shape=(), dtype=string, numpy=b'Basal cell carcinoma'>)\n",
      "(<tf.Tensor: shape=(), dtype=string, numpy=b'../data/HAM10000_images_part_2/ISIC_0030687.jpg'>, <tf.Tensor: shape=(), dtype=string, numpy=b'Basal cell carcinoma'>)\n",
      "(<tf.Tensor: shape=(), dtype=string, numpy=b'../data/HAM10000_images_part_2/ISIC_0032174.jpg'>, <tf.Tensor: shape=(), dtype=string, numpy=b'Basal cell carcinoma'>)\n",
      "(<tf.Tensor: shape=(), dtype=string, numpy=b'../data/HAM10000_images_part_2/ISIC_0032959.jpg'>, <tf.Tensor: shape=(), dtype=string, numpy=b'Basal cell carcinoma'>)\n",
      "(<tf.Tensor: shape=(), dtype=string, numpy=b'../data/HAM10000_images_part_1/ISIC_0024848.jpg'>, <tf.Tensor: shape=(), dtype=string, numpy=b'Basal cell carcinoma'>)\n",
      "(<tf.Tensor: shape=(), dtype=string, numpy=b'../data/HAM10000_images_part_1/ISIC_0024332.jpg'>, <tf.Tensor: shape=(), dtype=string, numpy=b'Basal cell carcinoma'>)\n",
      "(<tf.Tensor: shape=(), dtype=string, numpy=b'../data/HAM10000_images_part_1/ISIC_0026090.jpg'>, <tf.Tensor: shape=(), dtype=string, numpy=b'Basal cell carcinoma'>)\n",
      "(<tf.Tensor: shape=(), dtype=string, numpy=b'../data/HAM10000_images_part_1/ISIC_0025932.jpg'>, <tf.Tensor: shape=(), dtype=string, numpy=b'Basal cell carcinoma'>)\n",
      "(<tf.Tensor: shape=(), dtype=string, numpy=b'../data/HAM10000_images_part_2/ISIC_0031056.jpg'>, <tf.Tensor: shape=(), dtype=string, numpy=b'Basal cell carcinoma'>)\n",
      "(<tf.Tensor: shape=(), dtype=string, numpy=b'../data/HAM10000_images_part_1/ISIC_0024984.jpg'>, <tf.Tensor: shape=(), dtype=string, numpy=b'Basal cell carcinoma'>)\n",
      "(<tf.Tensor: shape=(), dtype=string, numpy=b'../data/HAM10000_images_part_2/ISIC_0032652.jpg'>, <tf.Tensor: shape=(), dtype=string, numpy=b'Basal cell carcinoma'>)\n",
      "(<tf.Tensor: shape=(), dtype=string, numpy=b'../data/HAM10000_images_part_2/ISIC_0032439.jpg'>, <tf.Tensor: shape=(), dtype=string, numpy=b'Basal cell carcinoma'>)\n",
      "(<tf.Tensor: shape=(), dtype=string, numpy=b'../data/HAM10000_images_part_2/ISIC_0030767.jpg'>, <tf.Tensor: shape=(), dtype=string, numpy=b'Basal cell carcinoma'>)\n",
      "(<tf.Tensor: shape=(), dtype=string, numpy=b'../data/HAM10000_images_part_1/ISIC_0029034.jpg'>, <tf.Tensor: shape=(), dtype=string, numpy=b'Basal cell carcinoma'>)\n",
      "(<tf.Tensor: shape=(), dtype=string, numpy=b'../data/HAM10000_images_part_1/ISIC_0027814.jpg'>, <tf.Tensor: shape=(), dtype=string, numpy=b'Basal cell carcinoma'>)\n",
      "(<tf.Tensor: shape=(), dtype=string, numpy=b'../data/HAM10000_images_part_2/ISIC_0032092.jpg'>, <tf.Tensor: shape=(), dtype=string, numpy=b'Basal cell carcinoma'>)\n",
      "(<tf.Tensor: shape=(), dtype=string, numpy=b'../data/HAM10000_images_part_2/ISIC_0031384.jpg'>, <tf.Tensor: shape=(), dtype=string, numpy=b'Basal cell carcinoma'>)\n",
      "(<tf.Tensor: shape=(), dtype=string, numpy=b'../data/HAM10000_images_part_2/ISIC_0030594.jpg'>, <tf.Tensor: shape=(), dtype=string, numpy=b'Basal cell carcinoma'>)\n",
      "(<tf.Tensor: shape=(), dtype=string, numpy=b'../data/HAM10000_images_part_1/ISIC_0029193.jpg'>, <tf.Tensor: shape=(), dtype=string, numpy=b'Basal cell carcinoma'>)\n",
      "(<tf.Tensor: shape=(), dtype=string, numpy=b'../data/HAM10000_images_part_1/ISIC_0026154.jpg'>, <tf.Tensor: shape=(), dtype=string, numpy=b'Basal cell carcinoma'>)\n",
      "(<tf.Tensor: shape=(), dtype=string, numpy=b'../data/HAM10000_images_part_1/ISIC_0024743.jpg'>, <tf.Tensor: shape=(), dtype=string, numpy=b'Basal cell carcinoma'>)\n",
      "(<tf.Tensor: shape=(), dtype=string, numpy=b'../data/HAM10000_images_part_1/ISIC_0028457.jpg'>, <tf.Tensor: shape=(), dtype=string, numpy=b'Basal cell carcinoma'>)\n",
      "(<tf.Tensor: shape=(), dtype=string, numpy=b'../data/HAM10000_images_part_1/ISIC_0028973.jpg'>, <tf.Tensor: shape=(), dtype=string, numpy=b'Basal cell carcinoma'>)\n",
      "(<tf.Tensor: shape=(), dtype=string, numpy=b'../data/HAM10000_images_part_1/ISIC_0028583.jpg'>, <tf.Tensor: shape=(), dtype=string, numpy=b'Basal cell carcinoma'>)\n",
      "(<tf.Tensor: shape=(), dtype=string, numpy=b'../data/HAM10000_images_part_2/ISIC_0030230.jpg'>, <tf.Tensor: shape=(), dtype=string, numpy=b'Basal cell carcinoma'>)\n",
      "(<tf.Tensor: shape=(), dtype=string, numpy=b'../data/HAM10000_images_part_1/ISIC_0024634.jpg'>, <tf.Tensor: shape=(), dtype=string, numpy=b'Basal cell carcinoma'>)\n",
      "(<tf.Tensor: shape=(), dtype=string, numpy=b'../data/HAM10000_images_part_1/ISIC_0029201.jpg'>, <tf.Tensor: shape=(), dtype=string, numpy=b'Basal cell carcinoma'>)\n",
      "(<tf.Tensor: shape=(), dtype=string, numpy=b'../data/HAM10000_images_part_1/ISIC_0028671.jpg'>, <tf.Tensor: shape=(), dtype=string, numpy=b'Basal cell carcinoma'>)\n",
      "(<tf.Tensor: shape=(), dtype=string, numpy=b'../data/HAM10000_images_part_1/ISIC_0029053.jpg'>, <tf.Tensor: shape=(), dtype=string, numpy=b'Basal cell carcinoma'>)\n",
      "(<tf.Tensor: shape=(), dtype=string, numpy=b'../data/HAM10000_images_part_2/ISIC_0031225.jpg'>, <tf.Tensor: shape=(), dtype=string, numpy=b'Basal cell carcinoma'>)\n",
      "(<tf.Tensor: shape=(), dtype=string, numpy=b'../data/HAM10000_images_part_2/ISIC_0034015.jpg'>, <tf.Tensor: shape=(), dtype=string, numpy=b'Basal cell carcinoma'>)\n",
      "(<tf.Tensor: shape=(), dtype=string, numpy=b'../data/HAM10000_images_part_2/ISIC_0030271.jpg'>, <tf.Tensor: shape=(), dtype=string, numpy=b'Basal cell carcinoma'>)\n",
      "(<tf.Tensor: shape=(), dtype=string, numpy=b'../data/HAM10000_images_part_2/ISIC_0031007.jpg'>, <tf.Tensor: shape=(), dtype=string, numpy=b'Basal cell carcinoma'>)\n",
      "(<tf.Tensor: shape=(), dtype=string, numpy=b'../data/HAM10000_images_part_1/ISIC_0025711.jpg'>, <tf.Tensor: shape=(), dtype=string, numpy=b'Basal cell carcinoma'>)\n",
      "(<tf.Tensor: shape=(), dtype=string, numpy=b'../data/HAM10000_images_part_1/ISIC_0028871.jpg'>, <tf.Tensor: shape=(), dtype=string, numpy=b'Basal cell carcinoma'>)\n",
      "(<tf.Tensor: shape=(), dtype=string, numpy=b'../data/HAM10000_images_part_1/ISIC_0026496.jpg'>, <tf.Tensor: shape=(), dtype=string, numpy=b'Basal cell carcinoma'>)\n",
      "(<tf.Tensor: shape=(), dtype=string, numpy=b'../data/HAM10000_images_part_1/ISIC_0027189.jpg'>, <tf.Tensor: shape=(), dtype=string, numpy=b'Basal cell carcinoma'>)\n",
      "(<tf.Tensor: shape=(), dtype=string, numpy=b'../data/HAM10000_images_part_1/ISIC_0026074.jpg'>, <tf.Tensor: shape=(), dtype=string, numpy=b'Basal cell carcinoma'>)\n",
      "(<tf.Tensor: shape=(), dtype=string, numpy=b'../data/HAM10000_images_part_1/ISIC_0027819.jpg'>, <tf.Tensor: shape=(), dtype=string, numpy=b'Basal cell carcinoma'>)\n",
      "(<tf.Tensor: shape=(), dtype=string, numpy=b'../data/HAM10000_images_part_1/ISIC_0027759.jpg'>, <tf.Tensor: shape=(), dtype=string, numpy=b'Basal cell carcinoma'>)\n",
      "(<tf.Tensor: shape=(), dtype=string, numpy=b'../data/HAM10000_images_part_2/ISIC_0031166.jpg'>, <tf.Tensor: shape=(), dtype=string, numpy=b'Basal cell carcinoma'>)\n",
      "(<tf.Tensor: shape=(), dtype=string, numpy=b'../data/HAM10000_images_part_1/ISIC_0027966.jpg'>, <tf.Tensor: shape=(), dtype=string, numpy=b'Basal cell carcinoma'>)\n",
      "(<tf.Tensor: shape=(), dtype=string, numpy=b'../data/HAM10000_images_part_2/ISIC_0031762.jpg'>, <tf.Tensor: shape=(), dtype=string, numpy=b'Basal cell carcinoma'>)\n",
      "(<tf.Tensor: shape=(), dtype=string, numpy=b'../data/HAM10000_images_part_1/ISIC_0025266.jpg'>, <tf.Tensor: shape=(), dtype=string, numpy=b'Basal cell carcinoma'>)\n",
      "(<tf.Tensor: shape=(), dtype=string, numpy=b'../data/HAM10000_images_part_1/ISIC_0024454.jpg'>, <tf.Tensor: shape=(), dtype=string, numpy=b'Basal cell carcinoma'>)\n",
      "(<tf.Tensor: shape=(), dtype=string, numpy=b'../data/HAM10000_images_part_2/ISIC_0031041.jpg'>, <tf.Tensor: shape=(), dtype=string, numpy=b'Basal cell carcinoma'>)\n",
      "(<tf.Tensor: shape=(), dtype=string, numpy=b'../data/HAM10000_images_part_2/ISIC_0032727.jpg'>, <tf.Tensor: shape=(), dtype=string, numpy=b'Basal cell carcinoma'>)\n",
      "(<tf.Tensor: shape=(), dtype=string, numpy=b'../data/HAM10000_images_part_1/ISIC_0029220.jpg'>, <tf.Tensor: shape=(), dtype=string, numpy=b'Basal cell carcinoma'>)\n",
      "(<tf.Tensor: shape=(), dtype=string, numpy=b'../data/HAM10000_images_part_2/ISIC_0034306.jpg'>, <tf.Tensor: shape=(), dtype=string, numpy=b'Basal cell carcinoma'>)\n",
      "(<tf.Tensor: shape=(), dtype=string, numpy=b'../data/HAM10000_images_part_1/ISIC_0027920.jpg'>, <tf.Tensor: shape=(), dtype=string, numpy=b'Basal cell carcinoma'>)\n",
      "(<tf.Tensor: shape=(), dtype=string, numpy=b'../data/HAM10000_images_part_1/ISIC_0024897.jpg'>, <tf.Tensor: shape=(), dtype=string, numpy=b'Basal cell carcinoma'>)\n",
      "(<tf.Tensor: shape=(), dtype=string, numpy=b'../data/HAM10000_images_part_1/ISIC_0027135.jpg'>, <tf.Tensor: shape=(), dtype=string, numpy=b'Basal cell carcinoma'>)\n",
      "(<tf.Tensor: shape=(), dtype=string, numpy=b'../data/HAM10000_images_part_1/ISIC_0025940.jpg'>, <tf.Tensor: shape=(), dtype=string, numpy=b'Basal cell carcinoma'>)\n",
      "(<tf.Tensor: shape=(), dtype=string, numpy=b'../data/HAM10000_images_part_1/ISIC_0024666.jpg'>, <tf.Tensor: shape=(), dtype=string, numpy=b'Basal cell carcinoma'>)\n",
      "(<tf.Tensor: shape=(), dtype=string, numpy=b'../data/HAM10000_images_part_1/ISIC_0028350.jpg'>, <tf.Tensor: shape=(), dtype=string, numpy=b'Basal cell carcinoma'>)\n",
      "(<tf.Tensor: shape=(), dtype=string, numpy=b'../data/HAM10000_images_part_2/ISIC_0031318.jpg'>, <tf.Tensor: shape=(), dtype=string, numpy=b'Basal cell carcinoma'>)\n",
      "(<tf.Tensor: shape=(), dtype=string, numpy=b'../data/HAM10000_images_part_2/ISIC_0030915.jpg'>, <tf.Tensor: shape=(), dtype=string, numpy=b'Basal cell carcinoma'>)\n",
      "(<tf.Tensor: shape=(), dtype=string, numpy=b'../data/HAM10000_images_part_2/ISIC_0031749.jpg'>, <tf.Tensor: shape=(), dtype=string, numpy=b'Basal cell carcinoma'>)\n",
      "(<tf.Tensor: shape=(), dtype=string, numpy=b'../data/HAM10000_images_part_1/ISIC_0025731.jpg'>, <tf.Tensor: shape=(), dtype=string, numpy=b'Basal cell carcinoma'>)\n",
      "(<tf.Tensor: shape=(), dtype=string, numpy=b'../data/HAM10000_images_part_1/ISIC_0024504.jpg'>, <tf.Tensor: shape=(), dtype=string, numpy=b'Basal cell carcinoma'>)\n",
      "(<tf.Tensor: shape=(), dtype=string, numpy=b'../data/HAM10000_images_part_2/ISIC_0029647.jpg'>, <tf.Tensor: shape=(), dtype=string, numpy=b'Basal cell carcinoma'>)\n",
      "(<tf.Tensor: shape=(), dtype=string, numpy=b'../data/HAM10000_images_part_1/ISIC_0024452.jpg'>, <tf.Tensor: shape=(), dtype=string, numpy=b'Basal cell carcinoma'>)\n",
      "(<tf.Tensor: shape=(), dtype=string, numpy=b'../data/HAM10000_images_part_2/ISIC_0032415.jpg'>, <tf.Tensor: shape=(), dtype=string, numpy=b'Basal cell carcinoma'>)\n",
      "(<tf.Tensor: shape=(), dtype=string, numpy=b'../data/HAM10000_images_part_1/ISIC_0027281.jpg'>, <tf.Tensor: shape=(), dtype=string, numpy=b'Basal cell carcinoma'>)\n",
      "(<tf.Tensor: shape=(), dtype=string, numpy=b'../data/HAM10000_images_part_2/ISIC_0029856.jpg'>, <tf.Tensor: shape=(), dtype=string, numpy=b'Basal cell carcinoma'>)\n",
      "(<tf.Tensor: shape=(), dtype=string, numpy=b'../data/HAM10000_images_part_1/ISIC_0027433.jpg'>, <tf.Tensor: shape=(), dtype=string, numpy=b'Basal cell carcinoma'>)\n",
      "(<tf.Tensor: shape=(), dtype=string, numpy=b'../data/HAM10000_images_part_2/ISIC_0031140.jpg'>, <tf.Tensor: shape=(), dtype=string, numpy=b'Basal cell carcinoma'>)\n",
      "(<tf.Tensor: shape=(), dtype=string, numpy=b'../data/HAM10000_images_part_2/ISIC_0032314.jpg'>, <tf.Tensor: shape=(), dtype=string, numpy=b'Basal cell carcinoma'>)\n",
      "(<tf.Tensor: shape=(), dtype=string, numpy=b'../data/HAM10000_images_part_1/ISIC_0027851.jpg'>, <tf.Tensor: shape=(), dtype=string, numpy=b'Basal cell carcinoma'>)\n",
      "(<tf.Tensor: shape=(), dtype=string, numpy=b'../data/HAM10000_images_part_1/ISIC_0026952.jpg'>, <tf.Tensor: shape=(), dtype=string, numpy=b'Basal cell carcinoma'>)\n",
      "(<tf.Tensor: shape=(), dtype=string, numpy=b'../data/HAM10000_images_part_1/ISIC_0028059.jpg'>, <tf.Tensor: shape=(), dtype=string, numpy=b'Basal cell carcinoma'>)\n",
      "(<tf.Tensor: shape=(), dtype=string, numpy=b'../data/HAM10000_images_part_1/ISIC_0027998.jpg'>, <tf.Tensor: shape=(), dtype=string, numpy=b'Basal cell carcinoma'>)\n",
      "(<tf.Tensor: shape=(), dtype=string, numpy=b'../data/HAM10000_images_part_1/ISIC_0026831.jpg'>, <tf.Tensor: shape=(), dtype=string, numpy=b'Basal cell carcinoma'>)\n",
      "(<tf.Tensor: shape=(), dtype=string, numpy=b'../data/HAM10000_images_part_2/ISIC_0031122.jpg'>, <tf.Tensor: shape=(), dtype=string, numpy=b'Basal cell carcinoma'>)\n",
      "(<tf.Tensor: shape=(), dtype=string, numpy=b'../data/HAM10000_images_part_2/ISIC_0029805.jpg'>, <tf.Tensor: shape=(), dtype=string, numpy=b'Basal cell carcinoma'>)\n",
      "(<tf.Tensor: shape=(), dtype=string, numpy=b'../data/HAM10000_images_part_1/ISIC_0028653.jpg'>, <tf.Tensor: shape=(), dtype=string, numpy=b'Basal cell carcinoma'>)\n",
      "(<tf.Tensor: shape=(), dtype=string, numpy=b'../data/HAM10000_images_part_1/ISIC_0026957.jpg'>, <tf.Tensor: shape=(), dtype=string, numpy=b'Basal cell carcinoma'>)\n",
      "(<tf.Tensor: shape=(), dtype=string, numpy=b'../data/HAM10000_images_part_1/ISIC_0027677.jpg'>, <tf.Tensor: shape=(), dtype=string, numpy=b'Basal cell carcinoma'>)\n",
      "(<tf.Tensor: shape=(), dtype=string, numpy=b'../data/HAM10000_images_part_1/ISIC_0024564.jpg'>, <tf.Tensor: shape=(), dtype=string, numpy=b'Basal cell carcinoma'>)\n",
      "(<tf.Tensor: shape=(), dtype=string, numpy=b'../data/HAM10000_images_part_2/ISIC_0031442.jpg'>, <tf.Tensor: shape=(), dtype=string, numpy=b'Basal cell carcinoma'>)\n",
      "(<tf.Tensor: shape=(), dtype=string, numpy=b'../data/HAM10000_images_part_1/ISIC_0027090.jpg'>, <tf.Tensor: shape=(), dtype=string, numpy=b'Basal cell carcinoma'>)\n",
      "(<tf.Tensor: shape=(), dtype=string, numpy=b'../data/HAM10000_images_part_2/ISIC_0030096.jpg'>, <tf.Tensor: shape=(), dtype=string, numpy=b'Basal cell carcinoma'>)\n",
      "(<tf.Tensor: shape=(), dtype=string, numpy=b'../data/HAM10000_images_part_1/ISIC_0027545.jpg'>, <tf.Tensor: shape=(), dtype=string, numpy=b'Basal cell carcinoma'>)\n",
      "(<tf.Tensor: shape=(), dtype=string, numpy=b'../data/HAM10000_images_part_2/ISIC_0030261.jpg'>, <tf.Tensor: shape=(), dtype=string, numpy=b'Basal cell carcinoma'>)\n",
      "(<tf.Tensor: shape=(), dtype=string, numpy=b'../data/HAM10000_images_part_2/ISIC_0032611.jpg'>, <tf.Tensor: shape=(), dtype=string, numpy=b'Basal cell carcinoma'>)\n",
      "(<tf.Tensor: shape=(), dtype=string, numpy=b'../data/HAM10000_images_part_1/ISIC_0025046.jpg'>, <tf.Tensor: shape=(), dtype=string, numpy=b'Basal cell carcinoma'>)\n",
      "(<tf.Tensor: shape=(), dtype=string, numpy=b'../data/HAM10000_images_part_1/ISIC_0024795.jpg'>, <tf.Tensor: shape=(), dtype=string, numpy=b'Basal cell carcinoma'>)\n",
      "(<tf.Tensor: shape=(), dtype=string, numpy=b'../data/HAM10000_images_part_1/ISIC_0024360.jpg'>, <tf.Tensor: shape=(), dtype=string, numpy=b'Basal cell carcinoma'>)\n",
      "(<tf.Tensor: shape=(), dtype=string, numpy=b'../data/HAM10000_images_part_1/ISIC_0028316.jpg'>, <tf.Tensor: shape=(), dtype=string, numpy=b'Basal cell carcinoma'>)\n",
      "(<tf.Tensor: shape=(), dtype=string, numpy=b'../data/HAM10000_images_part_2/ISIC_0029466.jpg'>, <tf.Tensor: shape=(), dtype=string, numpy=b'Basal cell carcinoma'>)\n",
      "(<tf.Tensor: shape=(), dtype=string, numpy=b'../data/HAM10000_images_part_1/ISIC_0029123.jpg'>, <tf.Tensor: shape=(), dtype=string, numpy=b'Basal cell carcinoma'>)\n",
      "(<tf.Tensor: shape=(), dtype=string, numpy=b'../data/HAM10000_images_part_2/ISIC_0031698.jpg'>, <tf.Tensor: shape=(), dtype=string, numpy=b'Basal cell carcinoma'>)\n",
      "(<tf.Tensor: shape=(), dtype=string, numpy=b'../data/HAM10000_images_part_2/ISIC_0029644.jpg'>, <tf.Tensor: shape=(), dtype=string, numpy=b'Basal cell carcinoma'>)\n",
      "(<tf.Tensor: shape=(), dtype=string, numpy=b'../data/HAM10000_images_part_2/ISIC_0029564.jpg'>, <tf.Tensor: shape=(), dtype=string, numpy=b'Basal cell carcinoma'>)\n",
      "(<tf.Tensor: shape=(), dtype=string, numpy=b'../data/HAM10000_images_part_1/ISIC_0028107.jpg'>, <tf.Tensor: shape=(), dtype=string, numpy=b'Basal cell carcinoma'>)\n",
      "(<tf.Tensor: shape=(), dtype=string, numpy=b'../data/HAM10000_images_part_2/ISIC_0032497.jpg'>, <tf.Tensor: shape=(), dtype=string, numpy=b'Basal cell carcinoma'>)\n",
      "(<tf.Tensor: shape=(), dtype=string, numpy=b'../data/HAM10000_images_part_2/ISIC_0029745.jpg'>, <tf.Tensor: shape=(), dtype=string, numpy=b'Basal cell carcinoma'>)\n",
      "(<tf.Tensor: shape=(), dtype=string, numpy=b'../data/HAM10000_images_part_1/ISIC_0028937.jpg'>, <tf.Tensor: shape=(), dtype=string, numpy=b'Basal cell carcinoma'>)\n",
      "(<tf.Tensor: shape=(), dtype=string, numpy=b'../data/HAM10000_images_part_1/ISIC_0028303.jpg'>, <tf.Tensor: shape=(), dtype=string, numpy=b'Basal cell carcinoma'>)\n",
      "(<tf.Tensor: shape=(), dtype=string, numpy=b'../data/HAM10000_images_part_1/ISIC_0025557.jpg'>, <tf.Tensor: shape=(), dtype=string, numpy=b'Basal cell carcinoma'>)\n",
      "(<tf.Tensor: shape=(), dtype=string, numpy=b'../data/HAM10000_images_part_2/ISIC_0031272.jpg'>, <tf.Tensor: shape=(), dtype=string, numpy=b'Basal cell carcinoma'>)\n",
      "(<tf.Tensor: shape=(), dtype=string, numpy=b'../data/HAM10000_images_part_2/ISIC_0030514.jpg'>, <tf.Tensor: shape=(), dtype=string, numpy=b'Basal cell carcinoma'>)\n",
      "(<tf.Tensor: shape=(), dtype=string, numpy=b'../data/HAM10000_images_part_2/ISIC_0031976.jpg'>, <tf.Tensor: shape=(), dtype=string, numpy=b'Basal cell carcinoma'>)\n",
      "(<tf.Tensor: shape=(), dtype=string, numpy=b'../data/HAM10000_images_part_1/ISIC_0027825.jpg'>, <tf.Tensor: shape=(), dtype=string, numpy=b'Basal cell carcinoma'>)\n",
      "(<tf.Tensor: shape=(), dtype=string, numpy=b'../data/HAM10000_images_part_2/ISIC_0034058.jpg'>, <tf.Tensor: shape=(), dtype=string, numpy=b'Basal cell carcinoma'>)\n",
      "(<tf.Tensor: shape=(), dtype=string, numpy=b'../data/HAM10000_images_part_1/ISIC_0025975.jpg'>, <tf.Tensor: shape=(), dtype=string, numpy=b'Basal cell carcinoma'>)\n",
      "(<tf.Tensor: shape=(), dtype=string, numpy=b'../data/HAM10000_images_part_1/ISIC_0024799.jpg'>, <tf.Tensor: shape=(), dtype=string, numpy=b'Basal cell carcinoma'>)\n",
      "(<tf.Tensor: shape=(), dtype=string, numpy=b'../data/HAM10000_images_part_1/ISIC_0026350.jpg'>, <tf.Tensor: shape=(), dtype=string, numpy=b'Basal cell carcinoma'>)\n",
      "(<tf.Tensor: shape=(), dtype=string, numpy=b'../data/HAM10000_images_part_2/ISIC_0032302.jpg'>, <tf.Tensor: shape=(), dtype=string, numpy=b'Basal cell carcinoma'>)\n",
      "(<tf.Tensor: shape=(), dtype=string, numpy=b'../data/HAM10000_images_part_2/ISIC_0030094.jpg'>, <tf.Tensor: shape=(), dtype=string, numpy=b'Basal cell carcinoma'>)\n",
      "(<tf.Tensor: shape=(), dtype=string, numpy=b'../data/HAM10000_images_part_2/ISIC_0030197.jpg'>, <tf.Tensor: shape=(), dtype=string, numpy=b'Basal cell carcinoma'>)\n",
      "(<tf.Tensor: shape=(), dtype=string, numpy=b'../data/HAM10000_images_part_1/ISIC_0024515.jpg'>, <tf.Tensor: shape=(), dtype=string, numpy=b'Basal cell carcinoma'>)\n",
      "(<tf.Tensor: shape=(), dtype=string, numpy=b'../data/HAM10000_images_part_1/ISIC_0026118.jpg'>, <tf.Tensor: shape=(), dtype=string, numpy=b'Basal cell carcinoma'>)\n",
      "(<tf.Tensor: shape=(), dtype=string, numpy=b'../data/HAM10000_images_part_1/ISIC_0025433.jpg'>, <tf.Tensor: shape=(), dtype=string, numpy=b'Basal cell carcinoma'>)\n",
      "(<tf.Tensor: shape=(), dtype=string, numpy=b'../data/HAM10000_images_part_1/ISIC_0024632.jpg'>, <tf.Tensor: shape=(), dtype=string, numpy=b'Basal cell carcinoma'>)\n",
      "(<tf.Tensor: shape=(), dtype=string, numpy=b'../data/HAM10000_images_part_1/ISIC_0025564.jpg'>, <tf.Tensor: shape=(), dtype=string, numpy=b'Basal cell carcinoma'>)\n",
      "(<tf.Tensor: shape=(), dtype=string, numpy=b'../data/HAM10000_images_part_2/ISIC_0031986.jpg'>, <tf.Tensor: shape=(), dtype=string, numpy=b'Basal cell carcinoma'>)\n",
      "(<tf.Tensor: shape=(), dtype=string, numpy=b'../data/HAM10000_images_part_1/ISIC_0026230.jpg'>, <tf.Tensor: shape=(), dtype=string, numpy=b'Basal cell carcinoma'>)\n",
      "(<tf.Tensor: shape=(), dtype=string, numpy=b'../data/HAM10000_images_part_2/ISIC_0030511.jpg'>, <tf.Tensor: shape=(), dtype=string, numpy=b'Basal cell carcinoma'>)\n",
      "(<tf.Tensor: shape=(), dtype=string, numpy=b'../data/HAM10000_images_part_1/ISIC_0028964.jpg'>, <tf.Tensor: shape=(), dtype=string, numpy=b'Basal cell carcinoma'>)\n",
      "(<tf.Tensor: shape=(), dtype=string, numpy=b'../data/HAM10000_images_part_2/ISIC_0029489.jpg'>, <tf.Tensor: shape=(), dtype=string, numpy=b'Basal cell carcinoma'>)\n",
      "(<tf.Tensor: shape=(), dtype=string, numpy=b'../data/HAM10000_images_part_1/ISIC_0027915.jpg'>, <tf.Tensor: shape=(), dtype=string, numpy=b'Basal cell carcinoma'>)\n",
      "(<tf.Tensor: shape=(), dtype=string, numpy=b'../data/HAM10000_images_part_2/ISIC_0030690.jpg'>, <tf.Tensor: shape=(), dtype=string, numpy=b'Basal cell carcinoma'>)\n",
      "(<tf.Tensor: shape=(), dtype=string, numpy=b'../data/HAM10000_images_part_1/ISIC_0024949.jpg'>, <tf.Tensor: shape=(), dtype=string, numpy=b'Basal cell carcinoma'>)\n",
      "(<tf.Tensor: shape=(), dtype=string, numpy=b'../data/HAM10000_images_part_2/ISIC_0031236.jpg'>, <tf.Tensor: shape=(), dtype=string, numpy=b'Basal cell carcinoma'>)\n",
      "(<tf.Tensor: shape=(), dtype=string, numpy=b'../data/HAM10000_images_part_2/ISIC_0031925.jpg'>, <tf.Tensor: shape=(), dtype=string, numpy=b'Basal cell carcinoma'>)\n",
      "(<tf.Tensor: shape=(), dtype=string, numpy=b'../data/HAM10000_images_part_2/ISIC_0033203.jpg'>, <tf.Tensor: shape=(), dtype=string, numpy=b'Basal cell carcinoma'>)\n",
      "(<tf.Tensor: shape=(), dtype=string, numpy=b'../data/HAM10000_images_part_2/ISIC_0031294.jpg'>, <tf.Tensor: shape=(), dtype=string, numpy=b'Basal cell carcinoma'>)\n",
      "(<tf.Tensor: shape=(), dtype=string, numpy=b'../data/HAM10000_images_part_2/ISIC_0029331.jpg'>, <tf.Tensor: shape=(), dtype=string, numpy=b'Basal cell carcinoma'>)\n",
      "(<tf.Tensor: shape=(), dtype=string, numpy=b'../data/HAM10000_images_part_2/ISIC_0033609.jpg'>, <tf.Tensor: shape=(), dtype=string, numpy=b'Basal cell carcinoma'>)\n",
      "(<tf.Tensor: shape=(), dtype=string, numpy=b'../data/HAM10000_images_part_2/ISIC_0030249.jpg'>, <tf.Tensor: shape=(), dtype=string, numpy=b'Basal cell carcinoma'>)\n",
      "(<tf.Tensor: shape=(), dtype=string, numpy=b'../data/HAM10000_images_part_2/ISIC_0033720.jpg'>, <tf.Tensor: shape=(), dtype=string, numpy=b'Basal cell carcinoma'>)\n",
      "(<tf.Tensor: shape=(), dtype=string, numpy=b'../data/HAM10000_images_part_2/ISIC_0030181.jpg'>, <tf.Tensor: shape=(), dtype=string, numpy=b'Basal cell carcinoma'>)\n",
      "(<tf.Tensor: shape=(), dtype=string, numpy=b'../data/HAM10000_images_part_1/ISIC_0026275.jpg'>, <tf.Tensor: shape=(), dtype=string, numpy=b'Basal cell carcinoma'>)\n",
      "(<tf.Tensor: shape=(), dtype=string, numpy=b'../data/HAM10000_images_part_2/ISIC_0034161.jpg'>, <tf.Tensor: shape=(), dtype=string, numpy=b'Basal cell carcinoma'>)\n",
      "(<tf.Tensor: shape=(), dtype=string, numpy=b'../data/HAM10000_images_part_2/ISIC_0032194.jpg'>, <tf.Tensor: shape=(), dtype=string, numpy=b'Basal cell carcinoma'>)\n",
      "(<tf.Tensor: shape=(), dtype=string, numpy=b'../data/HAM10000_images_part_1/ISIC_0026988.jpg'>, <tf.Tensor: shape=(), dtype=string, numpy=b'Basal cell carcinoma'>)\n",
      "(<tf.Tensor: shape=(), dtype=string, numpy=b'../data/HAM10000_images_part_2/ISIC_0031712.jpg'>, <tf.Tensor: shape=(), dtype=string, numpy=b'Basal cell carcinoma'>)\n",
      "(<tf.Tensor: shape=(), dtype=string, numpy=b'../data/HAM10000_images_part_1/ISIC_0026192.jpg'>, <tf.Tensor: shape=(), dtype=string, numpy=b'Basal cell carcinoma'>)\n",
      "(<tf.Tensor: shape=(), dtype=string, numpy=b'../data/HAM10000_images_part_2/ISIC_0029417.jpg'>, <tf.Tensor: shape=(), dtype=string, numpy=b'Actinic keratoses'>)\n",
      "(<tf.Tensor: shape=(), dtype=string, numpy=b'../data/HAM10000_images_part_2/ISIC_0029915.jpg'>, <tf.Tensor: shape=(), dtype=string, numpy=b'Actinic keratoses'>)\n",
      "(<tf.Tensor: shape=(), dtype=string, numpy=b'../data/HAM10000_images_part_2/ISIC_0029360.jpg'>, <tf.Tensor: shape=(), dtype=string, numpy=b'Actinic keratoses'>)\n",
      "(<tf.Tensor: shape=(), dtype=string, numpy=b'../data/HAM10000_images_part_2/ISIC_0029659.jpg'>, <tf.Tensor: shape=(), dtype=string, numpy=b'Actinic keratoses'>)\n",
      "(<tf.Tensor: shape=(), dtype=string, numpy=b'../data/HAM10000_images_part_1/ISIC_0026575.jpg'>, <tf.Tensor: shape=(), dtype=string, numpy=b'Actinic keratoses'>)\n",
      "(<tf.Tensor: shape=(), dtype=string, numpy=b'../data/HAM10000_images_part_1/ISIC_0025178.jpg'>, <tf.Tensor: shape=(), dtype=string, numpy=b'Actinic keratoses'>)\n",
      "(<tf.Tensor: shape=(), dtype=string, numpy=b'../data/HAM10000_images_part_1/ISIC_0029041.jpg'>, <tf.Tensor: shape=(), dtype=string, numpy=b'Actinic keratoses'>)\n",
      "(<tf.Tensor: shape=(), dtype=string, numpy=b'../data/HAM10000_images_part_2/ISIC_0031929.jpg'>, <tf.Tensor: shape=(), dtype=string, numpy=b'Actinic keratoses'>)\n",
      "(<tf.Tensor: shape=(), dtype=string, numpy=b'../data/HAM10000_images_part_2/ISIC_0032173.jpg'>, <tf.Tensor: shape=(), dtype=string, numpy=b'Actinic keratoses'>)\n",
      "(<tf.Tensor: shape=(), dtype=string, numpy=b'../data/HAM10000_images_part_2/ISIC_0033456.jpg'>, <tf.Tensor: shape=(), dtype=string, numpy=b'Actinic keratoses'>)\n",
      "(<tf.Tensor: shape=(), dtype=string, numpy=b'../data/HAM10000_images_part_2/ISIC_0030408.jpg'>, <tf.Tensor: shape=(), dtype=string, numpy=b'Actinic keratoses'>)\n",
      "(<tf.Tensor: shape=(), dtype=string, numpy=b'../data/HAM10000_images_part_1/ISIC_0027795.jpg'>, <tf.Tensor: shape=(), dtype=string, numpy=b'Actinic keratoses'>)\n",
      "(<tf.Tensor: shape=(), dtype=string, numpy=b'../data/HAM10000_images_part_1/ISIC_0024913.jpg'>, <tf.Tensor: shape=(), dtype=string, numpy=b'Actinic keratoses'>)\n",
      "(<tf.Tensor: shape=(), dtype=string, numpy=b'../data/HAM10000_images_part_2/ISIC_0032329.jpg'>, <tf.Tensor: shape=(), dtype=string, numpy=b'Actinic keratoses'>)\n",
      "(<tf.Tensor: shape=(), dtype=string, numpy=b'../data/HAM10000_images_part_2/ISIC_0031198.jpg'>, <tf.Tensor: shape=(), dtype=string, numpy=b'Actinic keratoses'>)\n",
      "(<tf.Tensor: shape=(), dtype=string, numpy=b'../data/HAM10000_images_part_1/ISIC_0026872.jpg'>, <tf.Tensor: shape=(), dtype=string, numpy=b'Actinic keratoses'>)\n",
      "(<tf.Tensor: shape=(), dtype=string, numpy=b'../data/HAM10000_images_part_2/ISIC_0031191.jpg'>, <tf.Tensor: shape=(), dtype=string, numpy=b'Actinic keratoses'>)\n",
      "(<tf.Tensor: shape=(), dtype=string, numpy=b'../data/HAM10000_images_part_1/ISIC_0025948.jpg'>, <tf.Tensor: shape=(), dtype=string, numpy=b'Actinic keratoses'>)\n",
      "(<tf.Tensor: shape=(), dtype=string, numpy=b'../data/HAM10000_images_part_2/ISIC_0031119.jpg'>, <tf.Tensor: shape=(), dtype=string, numpy=b'Actinic keratoses'>)\n",
      "(<tf.Tensor: shape=(), dtype=string, numpy=b'../data/HAM10000_images_part_1/ISIC_0024562.jpg'>, <tf.Tensor: shape=(), dtype=string, numpy=b'Actinic keratoses'>)\n",
      "(<tf.Tensor: shape=(), dtype=string, numpy=b'../data/HAM10000_images_part_1/ISIC_0026362.jpg'>, <tf.Tensor: shape=(), dtype=string, numpy=b'Actinic keratoses'>)\n",
      "(<tf.Tensor: shape=(), dtype=string, numpy=b'../data/HAM10000_images_part_2/ISIC_0030297.jpg'>, <tf.Tensor: shape=(), dtype=string, numpy=b'Actinic keratoses'>)\n",
      "(<tf.Tensor: shape=(), dtype=string, numpy=b'../data/HAM10000_images_part_1/ISIC_0027084.jpg'>, <tf.Tensor: shape=(), dtype=string, numpy=b'Actinic keratoses'>)\n",
      "(<tf.Tensor: shape=(), dtype=string, numpy=b'../data/HAM10000_images_part_2/ISIC_0030714.jpg'>, <tf.Tensor: shape=(), dtype=string, numpy=b'Actinic keratoses'>)\n",
      "(<tf.Tensor: shape=(), dtype=string, numpy=b'../data/HAM10000_images_part_1/ISIC_0028158.jpg'>, <tf.Tensor: shape=(), dtype=string, numpy=b'Actinic keratoses'>)\n",
      "(<tf.Tensor: shape=(), dtype=string, numpy=b'../data/HAM10000_images_part_1/ISIC_0028231.jpg'>, <tf.Tensor: shape=(), dtype=string, numpy=b'Actinic keratoses'>)\n",
      "(<tf.Tensor: shape=(), dtype=string, numpy=b'../data/HAM10000_images_part_1/ISIC_0026411.jpg'>, <tf.Tensor: shape=(), dtype=string, numpy=b'Actinic keratoses'>)\n",
      "(<tf.Tensor: shape=(), dtype=string, numpy=b'../data/HAM10000_images_part_2/ISIC_0029634.jpg'>, <tf.Tensor: shape=(), dtype=string, numpy=b'Actinic keratoses'>)\n",
      "(<tf.Tensor: shape=(), dtype=string, numpy=b'../data/HAM10000_images_part_2/ISIC_0031918.jpg'>, <tf.Tensor: shape=(), dtype=string, numpy=b'Actinic keratoses'>)\n",
      "(<tf.Tensor: shape=(), dtype=string, numpy=b'../data/HAM10000_images_part_2/ISIC_0030803.jpg'>, <tf.Tensor: shape=(), dtype=string, numpy=b'Actinic keratoses'>)\n",
      "(<tf.Tensor: shape=(), dtype=string, numpy=b'../data/HAM10000_images_part_1/ISIC_0027231.jpg'>, <tf.Tensor: shape=(), dtype=string, numpy=b'Actinic keratoses'>)\n",
      "(<tf.Tensor: shape=(), dtype=string, numpy=b'../data/HAM10000_images_part_1/ISIC_0027719.jpg'>, <tf.Tensor: shape=(), dtype=string, numpy=b'Actinic keratoses'>)\n",
      "(<tf.Tensor: shape=(), dtype=string, numpy=b'../data/HAM10000_images_part_1/ISIC_0024843.jpg'>, <tf.Tensor: shape=(), dtype=string, numpy=b'Actinic keratoses'>)\n",
      "(<tf.Tensor: shape=(), dtype=string, numpy=b'../data/HAM10000_images_part_1/ISIC_0028381.jpg'>, <tf.Tensor: shape=(), dtype=string, numpy=b'Actinic keratoses'>)\n",
      "(<tf.Tensor: shape=(), dtype=string, numpy=b'../data/HAM10000_images_part_2/ISIC_0030602.jpg'>, <tf.Tensor: shape=(), dtype=string, numpy=b'Actinic keratoses'>)\n",
      "(<tf.Tensor: shape=(), dtype=string, numpy=b'../data/HAM10000_images_part_2/ISIC_0031874.jpg'>, <tf.Tensor: shape=(), dtype=string, numpy=b'Actinic keratoses'>)\n",
      "(<tf.Tensor: shape=(), dtype=string, numpy=b'../data/HAM10000_images_part_2/ISIC_0032437.jpg'>, <tf.Tensor: shape=(), dtype=string, numpy=b'Actinic keratoses'>)\n",
      "(<tf.Tensor: shape=(), dtype=string, numpy=b'../data/HAM10000_images_part_1/ISIC_0025069.jpg'>, <tf.Tensor: shape=(), dtype=string, numpy=b'Actinic keratoses'>)\n",
      "(<tf.Tensor: shape=(), dtype=string, numpy=b'../data/HAM10000_images_part_1/ISIC_0027700.jpg'>, <tf.Tensor: shape=(), dtype=string, numpy=b'Actinic keratoses'>)\n",
      "(<tf.Tensor: shape=(), dtype=string, numpy=b'../data/HAM10000_images_part_1/ISIC_0025411.jpg'>, <tf.Tensor: shape=(), dtype=string, numpy=b'Actinic keratoses'>)\n",
      "(<tf.Tensor: shape=(), dtype=string, numpy=b'../data/HAM10000_images_part_1/ISIC_0025130.jpg'>, <tf.Tensor: shape=(), dtype=string, numpy=b'Actinic keratoses'>)\n",
      "(<tf.Tensor: shape=(), dtype=string, numpy=b'../data/HAM10000_images_part_2/ISIC_0030076.jpg'>, <tf.Tensor: shape=(), dtype=string, numpy=b'Actinic keratoses'>)\n",
      "(<tf.Tensor: shape=(), dtype=string, numpy=b'../data/HAM10000_images_part_1/ISIC_0028816.jpg'>, <tf.Tensor: shape=(), dtype=string, numpy=b'Actinic keratoses'>)\n",
      "(<tf.Tensor: shape=(), dtype=string, numpy=b'../data/HAM10000_images_part_1/ISIC_0029067.jpg'>, <tf.Tensor: shape=(), dtype=string, numpy=b'Actinic keratoses'>)\n",
      "(<tf.Tensor: shape=(), dtype=string, numpy=b'../data/HAM10000_images_part_1/ISIC_0026927.jpg'>, <tf.Tensor: shape=(), dtype=string, numpy=b'Actinic keratoses'>)\n",
      "(<tf.Tensor: shape=(), dtype=string, numpy=b'../data/HAM10000_images_part_1/ISIC_0025539.jpg'>, <tf.Tensor: shape=(), dtype=string, numpy=b'Actinic keratoses'>)\n",
      "(<tf.Tensor: shape=(), dtype=string, numpy=b'../data/HAM10000_images_part_2/ISIC_0030191.jpg'>, <tf.Tensor: shape=(), dtype=string, numpy=b'Actinic keratoses'>)\n",
      "(<tf.Tensor: shape=(), dtype=string, numpy=b'../data/HAM10000_images_part_2/ISIC_0031043.jpg'>, <tf.Tensor: shape=(), dtype=string, numpy=b'Actinic keratoses'>)\n",
      "(<tf.Tensor: shape=(), dtype=string, numpy=b'../data/HAM10000_images_part_1/ISIC_0025331.jpg'>, <tf.Tensor: shape=(), dtype=string, numpy=b'Actinic keratoses'>)\n",
      "(<tf.Tensor: shape=(), dtype=string, numpy=b'../data/HAM10000_images_part_1/ISIC_0027577.jpg'>, <tf.Tensor: shape=(), dtype=string, numpy=b'Actinic keratoses'>)\n",
      "(<tf.Tensor: shape=(), dtype=string, numpy=b'../data/HAM10000_images_part_1/ISIC_0025696.jpg'>, <tf.Tensor: shape=(), dtype=string, numpy=b'Actinic keratoses'>)\n",
      "(<tf.Tensor: shape=(), dtype=string, numpy=b'../data/HAM10000_images_part_2/ISIC_0032455.jpg'>, <tf.Tensor: shape=(), dtype=string, numpy=b'Actinic keratoses'>)\n",
      "(<tf.Tensor: shape=(), dtype=string, numpy=b'../data/HAM10000_images_part_2/ISIC_0030794.jpg'>, <tf.Tensor: shape=(), dtype=string, numpy=b'Actinic keratoses'>)\n",
      "(<tf.Tensor: shape=(), dtype=string, numpy=b'../data/HAM10000_images_part_2/ISIC_0031738.jpg'>, <tf.Tensor: shape=(), dtype=string, numpy=b'Actinic keratoses'>)\n",
      "(<tf.Tensor: shape=(), dtype=string, numpy=b'../data/HAM10000_images_part_2/ISIC_0029930.jpg'>, <tf.Tensor: shape=(), dtype=string, numpy=b'Actinic keratoses'>)\n",
      "(<tf.Tensor: shape=(), dtype=string, numpy=b'../data/HAM10000_images_part_1/ISIC_0026327.jpg'>, <tf.Tensor: shape=(), dtype=string, numpy=b'Actinic keratoses'>)\n",
      "(<tf.Tensor: shape=(), dtype=string, numpy=b'../data/HAM10000_images_part_1/ISIC_0027678.jpg'>, <tf.Tensor: shape=(), dtype=string, numpy=b'Actinic keratoses'>)\n",
      "(<tf.Tensor: shape=(), dtype=string, numpy=b'../data/HAM10000_images_part_2/ISIC_0032349.jpg'>, <tf.Tensor: shape=(), dtype=string, numpy=b'Actinic keratoses'>)\n",
      "(<tf.Tensor: shape=(), dtype=string, numpy=b'../data/HAM10000_images_part_2/ISIC_0029362.jpg'>, <tf.Tensor: shape=(), dtype=string, numpy=b'Actinic keratoses'>)\n",
      "(<tf.Tensor: shape=(), dtype=string, numpy=b'../data/HAM10000_images_part_1/ISIC_0027708.jpg'>, <tf.Tensor: shape=(), dtype=string, numpy=b'Actinic keratoses'>)\n",
      "(<tf.Tensor: shape=(), dtype=string, numpy=b'../data/HAM10000_images_part_2/ISIC_0030991.jpg'>, <tf.Tensor: shape=(), dtype=string, numpy=b'Actinic keratoses'>)\n",
      "(<tf.Tensor: shape=(), dtype=string, numpy=b'../data/HAM10000_images_part_2/ISIC_0029541.jpg'>, <tf.Tensor: shape=(), dtype=string, numpy=b'Actinic keratoses'>)\n",
      "(<tf.Tensor: shape=(), dtype=string, numpy=b'../data/HAM10000_images_part_1/ISIC_0027958.jpg'>, <tf.Tensor: shape=(), dtype=string, numpy=b'Actinic keratoses'>)\n",
      "(<tf.Tensor: shape=(), dtype=string, numpy=b'../data/HAM10000_images_part_2/ISIC_0030827.jpg'>, <tf.Tensor: shape=(), dtype=string, numpy=b'Actinic keratoses'>)\n",
      "(<tf.Tensor: shape=(), dtype=string, numpy=b'../data/HAM10000_images_part_2/ISIC_0031940.jpg'>, <tf.Tensor: shape=(), dtype=string, numpy=b'Actinic keratoses'>)\n",
      "(<tf.Tensor: shape=(), dtype=string, numpy=b'../data/HAM10000_images_part_1/ISIC_0026729.jpg'>, <tf.Tensor: shape=(), dtype=string, numpy=b'Actinic keratoses'>)\n",
      "(<tf.Tensor: shape=(), dtype=string, numpy=b'../data/HAM10000_images_part_1/ISIC_0028372.jpg'>, <tf.Tensor: shape=(), dtype=string, numpy=b'Actinic keratoses'>)\n",
      "(<tf.Tensor: shape=(), dtype=string, numpy=b'../data/HAM10000_images_part_1/ISIC_0026625.jpg'>, <tf.Tensor: shape=(), dtype=string, numpy=b'Actinic keratoses'>)\n",
      "(<tf.Tensor: shape=(), dtype=string, numpy=b'../data/HAM10000_images_part_1/ISIC_0028854.jpg'>, <tf.Tensor: shape=(), dtype=string, numpy=b'Actinic keratoses'>)\n",
      "(<tf.Tensor: shape=(), dtype=string, numpy=b'../data/HAM10000_images_part_2/ISIC_0031044.jpg'>, <tf.Tensor: shape=(), dtype=string, numpy=b'Actinic keratoses'>)\n",
      "(<tf.Tensor: shape=(), dtype=string, numpy=b'../data/HAM10000_images_part_1/ISIC_0025712.jpg'>, <tf.Tensor: shape=(), dtype=string, numpy=b'Actinic keratoses'>)\n",
      "(<tf.Tensor: shape=(), dtype=string, numpy=b'../data/HAM10000_images_part_1/ISIC_0025358.jpg'>, <tf.Tensor: shape=(), dtype=string, numpy=b'Actinic keratoses'>)\n",
      "(<tf.Tensor: shape=(), dtype=string, numpy=b'../data/HAM10000_images_part_2/ISIC_0031852.jpg'>, <tf.Tensor: shape=(), dtype=string, numpy=b'Actinic keratoses'>)\n",
      "(<tf.Tensor: shape=(), dtype=string, numpy=b'../data/HAM10000_images_part_2/ISIC_0031609.jpg'>, <tf.Tensor: shape=(), dtype=string, numpy=b'Actinic keratoses'>)\n",
      "(<tf.Tensor: shape=(), dtype=string, numpy=b'../data/HAM10000_images_part_2/ISIC_0032422.jpg'>, <tf.Tensor: shape=(), dtype=string, numpy=b'Actinic keratoses'>)\n",
      "(<tf.Tensor: shape=(), dtype=string, numpy=b'../data/HAM10000_images_part_2/ISIC_0031012.jpg'>, <tf.Tensor: shape=(), dtype=string, numpy=b'Actinic keratoses'>)\n",
      "(<tf.Tensor: shape=(), dtype=string, numpy=b'../data/HAM10000_images_part_1/ISIC_0024707.jpg'>, <tf.Tensor: shape=(), dtype=string, numpy=b'Actinic keratoses'>)\n",
      "(<tf.Tensor: shape=(), dtype=string, numpy=b'../data/HAM10000_images_part_1/ISIC_0026992.jpg'>, <tf.Tensor: shape=(), dtype=string, numpy=b'Actinic keratoses'>)\n",
      "(<tf.Tensor: shape=(), dtype=string, numpy=b'../data/HAM10000_images_part_2/ISIC_0030491.jpg'>, <tf.Tensor: shape=(), dtype=string, numpy=b'Actinic keratoses'>)\n",
      "(<tf.Tensor: shape=(), dtype=string, numpy=b'../data/HAM10000_images_part_2/ISIC_0029715.jpg'>, <tf.Tensor: shape=(), dtype=string, numpy=b'Actinic keratoses'>)\n",
      "(<tf.Tensor: shape=(), dtype=string, numpy=b'../data/HAM10000_images_part_2/ISIC_0029860.jpg'>, <tf.Tensor: shape=(), dtype=string, numpy=b'Actinic keratoses'>)\n",
      "(<tf.Tensor: shape=(), dtype=string, numpy=b'../data/HAM10000_images_part_1/ISIC_0027650.jpg'>, <tf.Tensor: shape=(), dtype=string, numpy=b'Actinic keratoses'>)\n",
      "(<tf.Tensor: shape=(), dtype=string, numpy=b'../data/HAM10000_images_part_2/ISIC_0030341.jpg'>, <tf.Tensor: shape=(), dtype=string, numpy=b'Actinic keratoses'>)\n",
      "(<tf.Tensor: shape=(), dtype=string, numpy=b'../data/HAM10000_images_part_1/ISIC_0024517.jpg'>, <tf.Tensor: shape=(), dtype=string, numpy=b'Actinic keratoses'>)\n",
      "(<tf.Tensor: shape=(), dtype=string, numpy=b'../data/HAM10000_images_part_1/ISIC_0025825.jpg'>, <tf.Tensor: shape=(), dtype=string, numpy=b'Actinic keratoses'>)\n",
      "(<tf.Tensor: shape=(), dtype=string, numpy=b'../data/HAM10000_images_part_1/ISIC_0025808.jpg'>, <tf.Tensor: shape=(), dtype=string, numpy=b'Actinic keratoses'>)\n",
      "(<tf.Tensor: shape=(), dtype=string, numpy=b'../data/HAM10000_images_part_1/ISIC_0027303.jpg'>, <tf.Tensor: shape=(), dtype=string, numpy=b'Actinic keratoses'>)\n",
      "(<tf.Tensor: shape=(), dtype=string, numpy=b'../data/HAM10000_images_part_1/ISIC_0026645.jpg'>, <tf.Tensor: shape=(), dtype=string, numpy=b'Actinic keratoses'>)\n",
      "(<tf.Tensor: shape=(), dtype=string, numpy=b'../data/HAM10000_images_part_1/ISIC_0024710.jpg'>, <tf.Tensor: shape=(), dtype=string, numpy=b'Actinic keratoses'>)\n",
      "(<tf.Tensor: shape=(), dtype=string, numpy=b'../data/HAM10000_images_part_2/ISIC_0029315.jpg'>, <tf.Tensor: shape=(), dtype=string, numpy=b'Actinic keratoses'>)\n",
      "(<tf.Tensor: shape=(), dtype=string, numpy=b'../data/HAM10000_images_part_2/ISIC_0029811.jpg'>, <tf.Tensor: shape=(), dtype=string, numpy=b'Actinic keratoses'>)\n",
      "(<tf.Tensor: shape=(), dtype=string, numpy=b'../data/HAM10000_images_part_1/ISIC_0024450.jpg'>, <tf.Tensor: shape=(), dtype=string, numpy=b'Actinic keratoses'>)\n",
      "(<tf.Tensor: shape=(), dtype=string, numpy=b'../data/HAM10000_images_part_1/ISIC_0024771.jpg'>, <tf.Tensor: shape=(), dtype=string, numpy=b'Actinic keratoses'>)\n",
      "(<tf.Tensor: shape=(), dtype=string, numpy=b'../data/HAM10000_images_part_1/ISIC_0027753.jpg'>, <tf.Tensor: shape=(), dtype=string, numpy=b'Actinic keratoses'>)\n",
      "(<tf.Tensor: shape=(), dtype=string, numpy=b'../data/HAM10000_images_part_1/ISIC_0026466.jpg'>, <tf.Tensor: shape=(), dtype=string, numpy=b'Actinic keratoses'>)\n",
      "(<tf.Tensor: shape=(), dtype=string, numpy=b'../data/HAM10000_images_part_2/ISIC_0029932.jpg'>, <tf.Tensor: shape=(), dtype=string, numpy=b'Actinic keratoses'>)\n",
      "(<tf.Tensor: shape=(), dtype=string, numpy=b'../data/HAM10000_images_part_2/ISIC_0030375.jpg'>, <tf.Tensor: shape=(), dtype=string, numpy=b'Actinic keratoses'>)\n",
      "(<tf.Tensor: shape=(), dtype=string, numpy=b'../data/HAM10000_images_part_2/ISIC_0030175.jpg'>, <tf.Tensor: shape=(), dtype=string, numpy=b'Actinic keratoses'>)\n",
      "(<tf.Tensor: shape=(), dtype=string, numpy=b'../data/HAM10000_images_part_2/ISIC_0031335.jpg'>, <tf.Tensor: shape=(), dtype=string, numpy=b'Actinic keratoses'>)\n",
      "(<tf.Tensor: shape=(), dtype=string, numpy=b'../data/HAM10000_images_part_2/ISIC_0031692.jpg'>, <tf.Tensor: shape=(), dtype=string, numpy=b'Actinic keratoses'>)\n",
      "(<tf.Tensor: shape=(), dtype=string, numpy=b'../data/HAM10000_images_part_2/ISIC_0032203.jpg'>, <tf.Tensor: shape=(), dtype=string, numpy=b'Actinic keratoses'>)\n",
      "(<tf.Tensor: shape=(), dtype=string, numpy=b'../data/HAM10000_images_part_1/ISIC_0025089.jpg'>, <tf.Tensor: shape=(), dtype=string, numpy=b'Actinic keratoses'>)\n",
      "(<tf.Tensor: shape=(), dtype=string, numpy=b'../data/HAM10000_images_part_1/ISIC_0028190.jpg'>, <tf.Tensor: shape=(), dtype=string, numpy=b'Actinic keratoses'>)\n",
      "(<tf.Tensor: shape=(), dtype=string, numpy=b'../data/HAM10000_images_part_1/ISIC_0028314.jpg'>, <tf.Tensor: shape=(), dtype=string, numpy=b'Actinic keratoses'>)\n",
      "(<tf.Tensor: shape=(), dtype=string, numpy=b'../data/HAM10000_images_part_2/ISIC_0029371.jpg'>, <tf.Tensor: shape=(), dtype=string, numpy=b'Actinic keratoses'>)\n",
      "(<tf.Tensor: shape=(), dtype=string, numpy=b'../data/HAM10000_images_part_2/ISIC_0030707.jpg'>, <tf.Tensor: shape=(), dtype=string, numpy=b'Actinic keratoses'>)\n",
      "(<tf.Tensor: shape=(), dtype=string, numpy=b'../data/HAM10000_images_part_2/ISIC_0031211.jpg'>, <tf.Tensor: shape=(), dtype=string, numpy=b'Actinic keratoses'>)\n",
      "(<tf.Tensor: shape=(), dtype=string, numpy=b'../data/HAM10000_images_part_1/ISIC_0028872.jpg'>, <tf.Tensor: shape=(), dtype=string, numpy=b'Actinic keratoses'>)\n",
      "(<tf.Tensor: shape=(), dtype=string, numpy=b'../data/HAM10000_images_part_2/ISIC_0030953.jpg'>, <tf.Tensor: shape=(), dtype=string, numpy=b'Actinic keratoses'>)\n",
      "(<tf.Tensor: shape=(), dtype=string, numpy=b'../data/HAM10000_images_part_2/ISIC_0030821.jpg'>, <tf.Tensor: shape=(), dtype=string, numpy=b'Actinic keratoses'>)\n",
      "(<tf.Tensor: shape=(), dtype=string, numpy=b'../data/HAM10000_images_part_2/ISIC_0031292.jpg'>, <tf.Tensor: shape=(), dtype=string, numpy=b'Actinic keratoses'>)\n",
      "(<tf.Tensor: shape=(), dtype=string, numpy=b'../data/HAM10000_images_part_1/ISIC_0029059.jpg'>, <tf.Tensor: shape=(), dtype=string, numpy=b'Actinic keratoses'>)\n",
      "(<tf.Tensor: shape=(), dtype=string, numpy=b'../data/HAM10000_images_part_1/ISIC_0025182.jpg'>, <tf.Tensor: shape=(), dtype=string, numpy=b'Actinic keratoses'>)\n",
      "(<tf.Tensor: shape=(), dtype=string, numpy=b'../data/HAM10000_images_part_1/ISIC_0028659.jpg'>, <tf.Tensor: shape=(), dtype=string, numpy=b'Actinic keratoses'>)\n",
      "(<tf.Tensor: shape=(), dtype=string, numpy=b'../data/HAM10000_images_part_2/ISIC_0031570.jpg'>, <tf.Tensor: shape=(), dtype=string, numpy=b'Actinic keratoses'>)\n",
      "(<tf.Tensor: shape=(), dtype=string, numpy=b'../data/HAM10000_images_part_1/ISIC_0024418.jpg'>, <tf.Tensor: shape=(), dtype=string, numpy=b'Actinic keratoses'>)\n",
      "(<tf.Tensor: shape=(), dtype=string, numpy=b'../data/HAM10000_images_part_1/ISIC_0027172.jpg'>, <tf.Tensor: shape=(), dtype=string, numpy=b'Actinic keratoses'>)\n",
      "(<tf.Tensor: shape=(), dtype=string, numpy=b'../data/HAM10000_images_part_1/ISIC_0028644.jpg'>, <tf.Tensor: shape=(), dtype=string, numpy=b'Actinic keratoses'>)\n",
      "(<tf.Tensor: shape=(), dtype=string, numpy=b'../data/HAM10000_images_part_1/ISIC_0025637.jpg'>, <tf.Tensor: shape=(), dtype=string, numpy=b'Actinic keratoses'>)\n",
      "(<tf.Tensor: shape=(), dtype=string, numpy=b'../data/HAM10000_images_part_2/ISIC_0032277.jpg'>, <tf.Tensor: shape=(), dtype=string, numpy=b'Actinic keratoses'>)\n",
      "(<tf.Tensor: shape=(), dtype=string, numpy=b'../data/HAM10000_images_part_1/ISIC_0025953.jpg'>, <tf.Tensor: shape=(), dtype=string, numpy=b'Actinic keratoses'>)\n",
      "(<tf.Tensor: shape=(), dtype=string, numpy=b'../data/HAM10000_images_part_1/ISIC_0026203.jpg'>, <tf.Tensor: shape=(), dtype=string, numpy=b'Actinic keratoses'>)\n",
      "(<tf.Tensor: shape=(), dtype=string, numpy=b'../data/HAM10000_images_part_1/ISIC_0025811.jpg'>, <tf.Tensor: shape=(), dtype=string, numpy=b'Actinic keratoses'>)\n",
      "(<tf.Tensor: shape=(), dtype=string, numpy=b'../data/HAM10000_images_part_1/ISIC_0026212.jpg'>, <tf.Tensor: shape=(), dtype=string, numpy=b'Actinic keratoses'>)\n",
      "(<tf.Tensor: shape=(), dtype=string, numpy=b'../data/HAM10000_images_part_1/ISIC_0026014.jpg'>, <tf.Tensor: shape=(), dtype=string, numpy=b'Actinic keratoses'>)\n",
      "(<tf.Tensor: shape=(), dtype=string, numpy=b'../data/HAM10000_images_part_2/ISIC_0032371.jpg'>, <tf.Tensor: shape=(), dtype=string, numpy=b'Actinic keratoses'>)\n",
      "(<tf.Tensor: shape=(), dtype=string, numpy=b'../data/HAM10000_images_part_2/ISIC_0029610.jpg'>, <tf.Tensor: shape=(), dtype=string, numpy=b'Actinic keratoses'>)\n",
      "(<tf.Tensor: shape=(), dtype=string, numpy=b'../data/HAM10000_images_part_2/ISIC_0029840.jpg'>, <tf.Tensor: shape=(), dtype=string, numpy=b'Actinic keratoses'>)\n",
      "(<tf.Tensor: shape=(), dtype=string, numpy=b'../data/HAM10000_images_part_1/ISIC_0027047.jpg'>, <tf.Tensor: shape=(), dtype=string, numpy=b'Actinic keratoses'>)\n",
      "(<tf.Tensor: shape=(), dtype=string, numpy=b'../data/HAM10000_images_part_2/ISIC_0030143.jpg'>, <tf.Tensor: shape=(), dtype=string, numpy=b'Actinic keratoses'>)\n",
      "(<tf.Tensor: shape=(), dtype=string, numpy=b'../data/HAM10000_images_part_1/ISIC_0029210.jpg'>, <tf.Tensor: shape=(), dtype=string, numpy=b'Actinic keratoses'>)\n",
      "(<tf.Tensor: shape=(), dtype=string, numpy=b'../data/HAM10000_images_part_2/ISIC_0032154.jpg'>, <tf.Tensor: shape=(), dtype=string, numpy=b'Actinic keratoses'>)\n",
      "(<tf.Tensor: shape=(), dtype=string, numpy=b'../data/HAM10000_images_part_2/ISIC_0032356.jpg'>, <tf.Tensor: shape=(), dtype=string, numpy=b'Actinic keratoses'>)\n",
      "(<tf.Tensor: shape=(), dtype=string, numpy=b'../data/HAM10000_images_part_1/ISIC_0026100.jpg'>, <tf.Tensor: shape=(), dtype=string, numpy=b'Actinic keratoses'>)\n",
      "(<tf.Tensor: shape=(), dtype=string, numpy=b'../data/HAM10000_images_part_1/ISIC_0024522.jpg'>, <tf.Tensor: shape=(), dtype=string, numpy=b'Actinic keratoses'>)\n",
      "(<tf.Tensor: shape=(), dtype=string, numpy=b'../data/HAM10000_images_part_2/ISIC_0029851.jpg'>, <tf.Tensor: shape=(), dtype=string, numpy=b'Actinic keratoses'>)\n",
      "(<tf.Tensor: shape=(), dtype=string, numpy=b'../data/HAM10000_images_part_1/ISIC_0028558.jpg'>, <tf.Tensor: shape=(), dtype=string, numpy=b'Actinic keratoses'>)\n",
      "(<tf.Tensor: shape=(), dtype=string, numpy=b'../data/HAM10000_images_part_1/ISIC_0027529.jpg'>, <tf.Tensor: shape=(), dtype=string, numpy=b'Actinic keratoses'>)\n",
      "(<tf.Tensor: shape=(), dtype=string, numpy=b'../data/HAM10000_images_part_2/ISIC_0029573.jpg'>, <tf.Tensor: shape=(), dtype=string, numpy=b'Actinic keratoses'>)\n",
      "(<tf.Tensor: shape=(), dtype=string, numpy=b'../data/HAM10000_images_part_1/ISIC_0025350.jpg'>, <tf.Tensor: shape=(), dtype=string, numpy=b'Actinic keratoses'>)\n",
      "(<tf.Tensor: shape=(), dtype=string, numpy=b'../data/HAM10000_images_part_2/ISIC_0030280.jpg'>, <tf.Tensor: shape=(), dtype=string, numpy=b'Actinic keratoses'>)\n",
      "(<tf.Tensor: shape=(), dtype=string, numpy=b'../data/HAM10000_images_part_1/ISIC_0026720.jpg'>, <tf.Tensor: shape=(), dtype=string, numpy=b'Actinic keratoses'>)\n",
      "(<tf.Tensor: shape=(), dtype=string, numpy=b'../data/HAM10000_images_part_2/ISIC_0031672.jpg'>, <tf.Tensor: shape=(), dtype=string, numpy=b'Actinic keratoses'>)\n",
      "(<tf.Tensor: shape=(), dtype=string, numpy=b'../data/HAM10000_images_part_1/ISIC_0026149.jpg'>, <tf.Tensor: shape=(), dtype=string, numpy=b'Actinic keratoses'>)\n",
      "(<tf.Tensor: shape=(), dtype=string, numpy=b'../data/HAM10000_images_part_2/ISIC_0029598.jpg'>, <tf.Tensor: shape=(), dtype=string, numpy=b'Actinic keratoses'>)\n",
      "(<tf.Tensor: shape=(), dtype=string, numpy=b'../data/HAM10000_images_part_1/ISIC_0026525.jpg'>, <tf.Tensor: shape=(), dtype=string, numpy=b'Actinic keratoses'>)\n",
      "(<tf.Tensor: shape=(), dtype=string, numpy=b'../data/HAM10000_images_part_1/ISIC_0026709.jpg'>, <tf.Tensor: shape=(), dtype=string, numpy=b'Actinic keratoses'>)\n",
      "(<tf.Tensor: shape=(), dtype=string, numpy=b'../data/HAM10000_images_part_1/ISIC_0028224.jpg'>, <tf.Tensor: shape=(), dtype=string, numpy=b'Actinic keratoses'>)\n",
      "(<tf.Tensor: shape=(), dtype=string, numpy=b'../data/HAM10000_images_part_2/ISIC_0032897.jpg'>, <tf.Tensor: shape=(), dtype=string, numpy=b'Actinic keratoses'>)\n",
      "(<tf.Tensor: shape=(), dtype=string, numpy=b'../data/HAM10000_images_part_1/ISIC_0026319.jpg'>, <tf.Tensor: shape=(), dtype=string, numpy=b'Actinic keratoses'>)\n",
      "(<tf.Tensor: shape=(), dtype=string, numpy=b'../data/HAM10000_images_part_2/ISIC_0030730.jpg'>, <tf.Tensor: shape=(), dtype=string, numpy=b'Actinic keratoses'>)\n",
      "(<tf.Tensor: shape=(), dtype=string, numpy=b'../data/HAM10000_images_part_2/ISIC_0030549.jpg'>, <tf.Tensor: shape=(), dtype=string, numpy=b'Actinic keratoses'>)\n",
      "(<tf.Tensor: shape=(), dtype=string, numpy=b'../data/HAM10000_images_part_1/ISIC_0025247.jpg'>, <tf.Tensor: shape=(), dtype=string, numpy=b'Actinic keratoses'>)\n",
      "(<tf.Tensor: shape=(), dtype=string, numpy=b'../data/HAM10000_images_part_1/ISIC_0026178.jpg'>, <tf.Tensor: shape=(), dtype=string, numpy=b'Actinic keratoses'>)\n",
      "(<tf.Tensor: shape=(), dtype=string, numpy=b'../data/HAM10000_images_part_1/ISIC_0028499.jpg'>, <tf.Tensor: shape=(), dtype=string, numpy=b'Actinic keratoses'>)\n",
      "(<tf.Tensor: shape=(), dtype=string, numpy=b'../data/HAM10000_images_part_1/ISIC_0025577.jpg'>, <tf.Tensor: shape=(), dtype=string, numpy=b'Actinic keratoses'>)\n",
      "(<tf.Tensor: shape=(), dtype=string, numpy=b'../data/HAM10000_images_part_1/ISIC_0025029.jpg'>, <tf.Tensor: shape=(), dtype=string, numpy=b'Actinic keratoses'>)\n",
      "(<tf.Tensor: shape=(), dtype=string, numpy=b'../data/HAM10000_images_part_1/ISIC_0026132.jpg'>, <tf.Tensor: shape=(), dtype=string, numpy=b'Actinic keratoses'>)\n",
      "(<tf.Tensor: shape=(), dtype=string, numpy=b'../data/HAM10000_images_part_1/ISIC_0025790.jpg'>, <tf.Tensor: shape=(), dtype=string, numpy=b'Actinic keratoses'>)\n",
      "(<tf.Tensor: shape=(), dtype=string, numpy=b'../data/HAM10000_images_part_1/ISIC_0026626.jpg'>, <tf.Tensor: shape=(), dtype=string, numpy=b'Actinic keratoses'>)\n",
      "(<tf.Tensor: shape=(), dtype=string, numpy=b'../data/HAM10000_images_part_1/ISIC_0028335.jpg'>, <tf.Tensor: shape=(), dtype=string, numpy=b'Actinic keratoses'>)\n",
      "(<tf.Tensor: shape=(), dtype=string, numpy=b'../data/HAM10000_images_part_1/ISIC_0027580.jpg'>, <tf.Tensor: shape=(), dtype=string, numpy=b'Actinic keratoses'>)\n",
      "(<tf.Tensor: shape=(), dtype=string, numpy=b'../data/HAM10000_images_part_1/ISIC_0025803.jpg'>, <tf.Tensor: shape=(), dtype=string, numpy=b'Actinic keratoses'>)\n",
      "(<tf.Tensor: shape=(), dtype=string, numpy=b'../data/HAM10000_images_part_1/ISIC_0026981.jpg'>, <tf.Tensor: shape=(), dtype=string, numpy=b'Actinic keratoses'>)\n",
      "(<tf.Tensor: shape=(), dtype=string, numpy=b'../data/HAM10000_images_part_2/ISIC_0029900.jpg'>, <tf.Tensor: shape=(), dtype=string, numpy=b'Actinic keratoses'>)\n",
      "(<tf.Tensor: shape=(), dtype=string, numpy=b'../data/HAM10000_images_part_2/ISIC_0029549.jpg'>, <tf.Tensor: shape=(), dtype=string, numpy=b'Actinic keratoses'>)\n",
      "(<tf.Tensor: shape=(), dtype=string, numpy=b'../data/HAM10000_images_part_1/ISIC_0026905.jpg'>, <tf.Tensor: shape=(), dtype=string, numpy=b'Actinic keratoses'>)\n",
      "(<tf.Tensor: shape=(), dtype=string, numpy=b'../data/HAM10000_images_part_1/ISIC_0024470.jpg'>, <tf.Tensor: shape=(), dtype=string, numpy=b'Actinic keratoses'>)\n",
      "(<tf.Tensor: shape=(), dtype=string, numpy=b'../data/HAM10000_images_part_1/ISIC_0024646.jpg'>, <tf.Tensor: shape=(), dtype=string, numpy=b'Actinic keratoses'>)\n",
      "(<tf.Tensor: shape=(), dtype=string, numpy=b'../data/HAM10000_images_part_2/ISIC_0033000.jpg'>, <tf.Tensor: shape=(), dtype=string, numpy=b'Actinic keratoses'>)\n",
      "(<tf.Tensor: shape=(), dtype=string, numpy=b'../data/HAM10000_images_part_2/ISIC_0031228.jpg'>, <tf.Tensor: shape=(), dtype=string, numpy=b'Actinic keratoses'>)\n",
      "(<tf.Tensor: shape=(), dtype=string, numpy=b'../data/HAM10000_images_part_1/ISIC_0027930.jpg'>, <tf.Tensor: shape=(), dtype=string, numpy=b'Actinic keratoses'>)\n",
      "(<tf.Tensor: shape=(), dtype=string, numpy=b'../data/HAM10000_images_part_1/ISIC_0024329.jpg'>, <tf.Tensor: shape=(), dtype=string, numpy=b'Actinic keratoses'>)\n",
      "(<tf.Tensor: shape=(), dtype=string, numpy=b'../data/HAM10000_images_part_1/ISIC_0024925.jpg'>, <tf.Tensor: shape=(), dtype=string, numpy=b'Actinic keratoses'>)\n",
      "(<tf.Tensor: shape=(), dtype=string, numpy=b'../data/HAM10000_images_part_2/ISIC_0029460.jpg'>, <tf.Tensor: shape=(), dtype=string, numpy=b'Actinic keratoses'>)\n",
      "(<tf.Tensor: shape=(), dtype=string, numpy=b'../data/HAM10000_images_part_2/ISIC_0030844.jpg'>, <tf.Tensor: shape=(), dtype=string, numpy=b'Actinic keratoses'>)\n",
      "(<tf.Tensor: shape=(), dtype=string, numpy=b'../data/HAM10000_images_part_2/ISIC_0031993.jpg'>, <tf.Tensor: shape=(), dtype=string, numpy=b'Actinic keratoses'>)\n",
      "(<tf.Tensor: shape=(), dtype=string, numpy=b'../data/HAM10000_images_part_2/ISIC_0032404.jpg'>, <tf.Tensor: shape=(), dtype=string, numpy=b'Actinic keratoses'>)\n",
      "(<tf.Tensor: shape=(), dtype=string, numpy=b'../data/HAM10000_images_part_1/ISIC_0025957.jpg'>, <tf.Tensor: shape=(), dtype=string, numpy=b'Actinic keratoses'>)\n",
      "(<tf.Tensor: shape=(), dtype=string, numpy=b'../data/HAM10000_images_part_2/ISIC_0031927.jpg'>, <tf.Tensor: shape=(), dtype=string, numpy=b'Actinic keratoses'>)\n",
      "(<tf.Tensor: shape=(), dtype=string, numpy=b'../data/HAM10000_images_part_1/ISIC_0027550.jpg'>, <tf.Tensor: shape=(), dtype=string, numpy=b'Actinic keratoses'>)\n",
      "(<tf.Tensor: shape=(), dtype=string, numpy=b'../data/HAM10000_images_part_1/ISIC_0024800.jpg'>, <tf.Tensor: shape=(), dtype=string, numpy=b'Actinic keratoses'>)\n",
      "(<tf.Tensor: shape=(), dtype=string, numpy=b'../data/HAM10000_images_part_2/ISIC_0030344.jpg'>, <tf.Tensor: shape=(), dtype=string, numpy=b'Actinic keratoses'>)\n",
      "(<tf.Tensor: shape=(), dtype=string, numpy=b'../data/HAM10000_images_part_1/ISIC_0025264.jpg'>, <tf.Tensor: shape=(), dtype=string, numpy=b'Actinic keratoses'>)\n",
      "(<tf.Tensor: shape=(), dtype=string, numpy=b'../data/HAM10000_images_part_1/ISIC_0026171.jpg'>, <tf.Tensor: shape=(), dtype=string, numpy=b'Actinic keratoses'>)\n",
      "(<tf.Tensor: shape=(), dtype=string, numpy=b'../data/HAM10000_images_part_1/ISIC_0026457.jpg'>, <tf.Tensor: shape=(), dtype=string, numpy=b'Actinic keratoses'>)\n",
      "(<tf.Tensor: shape=(), dtype=string, numpy=b'../data/HAM10000_images_part_1/ISIC_0026848.jpg'>, <tf.Tensor: shape=(), dtype=string, numpy=b'Actinic keratoses'>)\n",
      "(<tf.Tensor: shape=(), dtype=string, numpy=b'../data/HAM10000_images_part_1/ISIC_0027562.jpg'>, <tf.Tensor: shape=(), dtype=string, numpy=b'Actinic keratoses'>)\n",
      "(<tf.Tensor: shape=(), dtype=string, numpy=b'../data/HAM10000_images_part_1/ISIC_0024539.jpg'>, <tf.Tensor: shape=(), dtype=string, numpy=b'Actinic keratoses'>)\n",
      "(<tf.Tensor: shape=(), dtype=string, numpy=b'../data/HAM10000_images_part_1/ISIC_0028763.jpg'>, <tf.Tensor: shape=(), dtype=string, numpy=b'Actinic keratoses'>)\n",
      "(<tf.Tensor: shape=(), dtype=string, numpy=b'../data/HAM10000_images_part_1/ISIC_0029133.jpg'>, <tf.Tensor: shape=(), dtype=string, numpy=b'Actinic keratoses'>)\n",
      "(<tf.Tensor: shape=(), dtype=string, numpy=b'../data/HAM10000_images_part_1/ISIC_0027767.jpg'>, <tf.Tensor: shape=(), dtype=string, numpy=b'Actinic keratoses'>)\n",
      "(<tf.Tensor: shape=(), dtype=string, numpy=b'../data/HAM10000_images_part_1/ISIC_0027294.jpg'>, <tf.Tensor: shape=(), dtype=string, numpy=b'Actinic keratoses'>)\n",
      "(<tf.Tensor: shape=(), dtype=string, numpy=b'../data/HAM10000_images_part_1/ISIC_0027668.jpg'>, <tf.Tensor: shape=(), dtype=string, numpy=b'Actinic keratoses'>)\n",
      "(<tf.Tensor: shape=(), dtype=string, numpy=b'../data/HAM10000_images_part_1/ISIC_0025427.jpg'>, <tf.Tensor: shape=(), dtype=string, numpy=b'Actinic keratoses'>)\n",
      "(<tf.Tensor: shape=(), dtype=string, numpy=b'../data/HAM10000_images_part_2/ISIC_0032135.jpg'>, <tf.Tensor: shape=(), dtype=string, numpy=b'Actinic keratoses'>)\n",
      "(<tf.Tensor: shape=(), dtype=string, numpy=b'../data/HAM10000_images_part_1/ISIC_0025780.jpg'>, <tf.Tensor: shape=(), dtype=string, numpy=b'Actinic keratoses'>)\n",
      "(<tf.Tensor: shape=(), dtype=string, numpy=b'../data/HAM10000_images_part_1/ISIC_0028941.jpg'>, <tf.Tensor: shape=(), dtype=string, numpy=b'Actinic keratoses'>)\n",
      "(<tf.Tensor: shape=(), dtype=string, numpy=b'../data/HAM10000_images_part_2/ISIC_0030463.jpg'>, <tf.Tensor: shape=(), dtype=string, numpy=b'Actinic keratoses'>)\n",
      "(<tf.Tensor: shape=(), dtype=string, numpy=b'../data/HAM10000_images_part_2/ISIC_0029827.jpg'>, <tf.Tensor: shape=(), dtype=string, numpy=b'Actinic keratoses'>)\n",
      "(<tf.Tensor: shape=(), dtype=string, numpy=b'../data/HAM10000_images_part_1/ISIC_0026468.jpg'>, <tf.Tensor: shape=(), dtype=string, numpy=b'Actinic keratoses'>)\n",
      "(<tf.Tensor: shape=(), dtype=string, numpy=b'../data/HAM10000_images_part_1/ISIC_0026702.jpg'>, <tf.Tensor: shape=(), dtype=string, numpy=b'Actinic keratoses'>)\n",
      "(<tf.Tensor: shape=(), dtype=string, numpy=b'../data/HAM10000_images_part_1/ISIC_0027452.jpg'>, <tf.Tensor: shape=(), dtype=string, numpy=b'Actinic keratoses'>)\n",
      "(<tf.Tensor: shape=(), dtype=string, numpy=b'../data/HAM10000_images_part_1/ISIC_0026984.jpg'>, <tf.Tensor: shape=(), dtype=string, numpy=b'Actinic keratoses'>)\n",
      "(<tf.Tensor: shape=(), dtype=string, numpy=b'../data/HAM10000_images_part_2/ISIC_0032206.jpg'>, <tf.Tensor: shape=(), dtype=string, numpy=b'Actinic keratoses'>)\n",
      "(<tf.Tensor: shape=(), dtype=string, numpy=b'../data/HAM10000_images_part_2/ISIC_0032199.jpg'>, <tf.Tensor: shape=(), dtype=string, numpy=b'Actinic keratoses'>)\n",
      "(<tf.Tensor: shape=(), dtype=string, numpy=b'../data/HAM10000_images_part_2/ISIC_0029713.jpg'>, <tf.Tensor: shape=(), dtype=string, numpy=b'Actinic keratoses'>)\n",
      "(<tf.Tensor: shape=(), dtype=string, numpy=b'../data/HAM10000_images_part_1/ISIC_0028370.jpg'>, <tf.Tensor: shape=(), dtype=string, numpy=b'Actinic keratoses'>)\n",
      "(<tf.Tensor: shape=(), dtype=string, numpy=b'../data/HAM10000_images_part_2/ISIC_0033866.jpg'>, <tf.Tensor: shape=(), dtype=string, numpy=b'Actinic keratoses'>)\n",
      "(<tf.Tensor: shape=(), dtype=string, numpy=b'../data/HAM10000_images_part_1/ISIC_0024654.jpg'>, <tf.Tensor: shape=(), dtype=string, numpy=b'Actinic keratoses'>)\n",
      "(<tf.Tensor: shape=(), dtype=string, numpy=b'../data/HAM10000_images_part_1/ISIC_0028820.jpg'>, <tf.Tensor: shape=(), dtype=string, numpy=b'Actinic keratoses'>)\n",
      "(<tf.Tensor: shape=(), dtype=string, numpy=b'../data/HAM10000_images_part_1/ISIC_0027829.jpg'>, <tf.Tensor: shape=(), dtype=string, numpy=b'Actinic keratoses'>)\n",
      "(<tf.Tensor: shape=(), dtype=string, numpy=b'../data/HAM10000_images_part_2/ISIC_0031506.jpg'>, <tf.Tensor: shape=(), dtype=string, numpy=b'Actinic keratoses'>)\n",
      "(<tf.Tensor: shape=(), dtype=string, numpy=b'../data/HAM10000_images_part_1/ISIC_0027254.jpg'>, <tf.Tensor: shape=(), dtype=string, numpy=b'Actinic keratoses'>)\n",
      "(<tf.Tensor: shape=(), dtype=string, numpy=b'../data/HAM10000_images_part_1/ISIC_0025368.jpg'>, <tf.Tensor: shape=(), dtype=string, numpy=b'Actinic keratoses'>)\n",
      "(<tf.Tensor: shape=(), dtype=string, numpy=b'../data/HAM10000_images_part_1/ISIC_0026194.jpg'>, <tf.Tensor: shape=(), dtype=string, numpy=b'Actinic keratoses'>)\n",
      "(<tf.Tensor: shape=(), dtype=string, numpy=b'../data/HAM10000_images_part_1/ISIC_0026765.jpg'>, <tf.Tensor: shape=(), dtype=string, numpy=b'Actinic keratoses'>)\n",
      "(<tf.Tensor: shape=(), dtype=string, numpy=b'../data/HAM10000_images_part_1/ISIC_0024511.jpg'>, <tf.Tensor: shape=(), dtype=string, numpy=b'Actinic keratoses'>)\n",
      "(<tf.Tensor: shape=(), dtype=string, numpy=b'../data/HAM10000_images_part_2/ISIC_0029830.jpg'>, <tf.Tensor: shape=(), dtype=string, numpy=b'Actinic keratoses'>)\n",
      "(<tf.Tensor: shape=(), dtype=string, numpy=b'../data/HAM10000_images_part_1/ISIC_0027588.jpg'>, <tf.Tensor: shape=(), dtype=string, numpy=b'Actinic keratoses'>)\n",
      "(<tf.Tensor: shape=(), dtype=string, numpy=b'../data/HAM10000_images_part_1/ISIC_0027334.jpg'>, <tf.Tensor: shape=(), dtype=string, numpy=b'Actinic keratoses'>)\n",
      "(<tf.Tensor: shape=(), dtype=string, numpy=b'../data/HAM10000_images_part_2/ISIC_0030133.jpg'>, <tf.Tensor: shape=(), dtype=string, numpy=b'Actinic keratoses'>)\n",
      "(<tf.Tensor: shape=(), dtype=string, numpy=b'../data/HAM10000_images_part_2/ISIC_0033811.jpg'>, <tf.Tensor: shape=(), dtype=string, numpy=b'Actinic keratoses'>)\n",
      "(<tf.Tensor: shape=(), dtype=string, numpy=b'../data/HAM10000_images_part_2/ISIC_0030877.jpg'>, <tf.Tensor: shape=(), dtype=string, numpy=b'Actinic keratoses'>)\n",
      "(<tf.Tensor: shape=(), dtype=string, numpy=b'../data/HAM10000_images_part_2/ISIC_0031922.jpg'>, <tf.Tensor: shape=(), dtype=string, numpy=b'Actinic keratoses'>)\n",
      "(<tf.Tensor: shape=(), dtype=string, numpy=b'../data/HAM10000_images_part_2/ISIC_0029309.jpg'>, <tf.Tensor: shape=(), dtype=string, numpy=b'Actinic keratoses'>)\n",
      "(<tf.Tensor: shape=(), dtype=string, numpy=b'../data/HAM10000_images_part_2/ISIC_0033705.jpg'>, <tf.Tensor: shape=(), dtype=string, numpy=b'Actinic keratoses'>)\n",
      "(<tf.Tensor: shape=(), dtype=string, numpy=b'../data/HAM10000_images_part_2/ISIC_0033084.jpg'>, <tf.Tensor: shape=(), dtype=string, numpy=b'Actinic keratoses'>)\n"
     ]
    }
   ],
   "source": [
    "for i in dataset:\n",
    "    print(i)"
   ]
  },
  {
   "cell_type": "code",
   "execution_count": 247,
   "metadata": {},
   "outputs": [],
   "source": [
    "# Create a TensorFlow dataset.\n",
    "dataset = tf.data.Dataset.from_tensor_slices((balanced_df['path'], balanced_df['cell_type_idx']))\n",
    "\n",
    "# Convert the images to Tensors.\n",
    "def _decode_image(image_path):\n",
    "    image = tf.io.read_file(image_path)\n",
    "    image = tf.image.decode_jpeg(image)\n",
    "    image = tf.image.convert_image_dtype(image, tf.float32)\n",
    "    return image\n",
    "\n",
    "dataset = dataset.map(lambda image_path, label: (_decode_image(image_path), label), num_parallel_calls=tf.data.experimental.AUTOTUNE)\n",
    "\n",
    "# Save the dataset.\n",
    "dataset.save('tfrecords/file.tfrecords')"
   ]
  },
  {
   "cell_type": "code",
   "execution_count": 249,
   "metadata": {},
   "outputs": [],
   "source": [
    "tfrecord_file = 'tfrecords/file.tfrecords'\n",
    "dataset = tf.data.TFRecordDataset(tfrecord_file)"
   ]
  },
  {
   "cell_type": "code",
   "execution_count": null,
   "metadata": {},
   "outputs": [],
   "source": [
    "train_size = int(0.7 * len(dataset))\n",
    "val_size = len(dataset) - train_size\n",
    "train_dataset = dataset.take(train_size)\n",
    "val_dataset = dataset.skip(train_size)"
   ]
  },
  {
   "cell_type": "code",
   "execution_count": null,
   "metadata": {},
   "outputs": [],
   "source": [
    "import csv\n",
    "import os\n",
    "import shutil\n",
    "\n",
    "# Load the CSV file.\n",
    "csv_file = '../data/balanced_data.csv'\n",
    "with open(csv_file, 'r') as csvfile:\n",
    "    reader = csv.reader(csvfile, delimiter=',')\n",
    "    for row in list(reader)[1:]:\n",
    "        image_path = row[6]\n",
    "        label = row[8]\n",
    "\n",
    "        # Create the output directory.\n",
    "        output_dir = os.path.join('dataset', label)\n",
    "        if not os.path.exists(output_dir):\n",
    "            os.mkdir(output_dir)\n",
    "\n",
    "        # Copy the image to the output directory.\n",
    "        image_name = os.path.basename(image_path)\n",
    "        output_path = os.path.join(output_dir, image_name)\n",
    "        shutil.copyfile(image_path, output_path)"
   ]
  },
  {
   "attachments": {},
   "cell_type": "markdown",
   "metadata": {},
   "source": [
    "Targeting One-Hot Encoding"
   ]
  },
  {
   "attachments": {},
   "cell_type": "markdown",
   "metadata": {},
   "source": [
    "We first split the dataset to 80% training data and 20% testing data. We then take the 80% training data and split it into 87.5% training data and 12.5% validation data, to form our 70% Training - 10% Validation - 20% Testing. Note that the split will be applied across each class individually to ensure there is enough samples from each class in each split for accurate modeling, meaning each class will be split 70:10:20 as well. This is done by setting 'stratify' in train_test_split function to our target.\n",
    "\n",
    "Training: 80% * 87.5% = 70%\n",
    "Validation: 80% * 12.5% = 10%\n",
    "Testing: 20%\n",
    "\n",
    "The hold-out method was prefered over the K-fold method here. K-fold cross-validation is often used for simple models with few parameters, models with simple hyperparameters and that are easy to optimize. Typical examples are linear regression, logistic regression, small neural networks and support vector machines. For a convolutional neural network with many parameters (e.g. more than one million) we just have too many possible changes in the architecture. In addition, lets look at a very important concept in machine learning; variance error vs. biased error. Let us say you have N models that you trained, they all have variance error and zero biased error, in this case using cross validation to select a model is not useful, but averaging the models is useful. If you have N models that all have different biased errors (non zero), then using cross validation is useful to select the best model, but averaging is harmful. Anytime you have models that have different biased errors, use cross validation to determine the best model. Anytime you have models that have variance errors, use averaging to determine the final outcome. CNN has tendency toward overfitting not underfitting. Today we know that the deeper the network the better it is, but overfitting is what scares us. Example: Alex-Hinton paper in 2012 (http://www.cs.toronto.edu/~hinton/absps/imagenet.pdf), the paper where Alex proposed his AlexNet network. You will see that most of the tricks they proposed is to deal with overfitting (variance error) and not biased errors.\n",
    "80:20 Train Test Split"
   ]
  },
  {
   "attachments": {},
   "cell_type": "markdown",
   "metadata": {},
   "source": [
    "Features Normalization"
   ]
  },
  {
   "cell_type": "code",
   "execution_count": 43,
   "metadata": {},
   "outputs": [],
   "source": [
    "# x_train_images = np.asarray(X_train['image'].tolist())\n",
    "# x_val_images = np.asarray(X_val['image'].tolist())\n",
    "# x_test_images = np.asarray(X_test['image'].tolist())"
   ]
  },
  {
   "cell_type": "code",
   "execution_count": 44,
   "metadata": {},
   "outputs": [],
   "source": [
    "# x_train_mean = np.mean(x_train_images)\n",
    "# x_train_std = np.std(x_train_images)"
   ]
  },
  {
   "cell_type": "code",
   "execution_count": 45,
   "metadata": {},
   "outputs": [],
   "source": [
    "# x_train_normalized = (x_train_images - x_train_mean)/x_train_std\n",
    "# x_val_normalized = (x_val_images - x_train_mean)/x_train_std\n",
    "# x_test_normalized = (x_test_images - x_train_mean)/x_train_std"
   ]
  },
  {
   "cell_type": "code",
   "execution_count": 46,
   "metadata": {},
   "outputs": [],
   "source": [
    "# input_shape = (int(width), int(height), 3)\n",
    "# x_train_normalized = x_train_normalized.reshape(x_train_normalized.shape[0], * (input_shape))\n",
    "# x_val_normalized = x_val_normalized.reshape(x_val_normalized.shape[0], * (input_shape))\n",
    "# x_test_normalized = x_test_normalized.reshape(x_test_normalized.shape[0], * (input_shape))"
   ]
  },
  {
   "cell_type": "code",
   "execution_count": 335,
   "metadata": {},
   "outputs": [],
   "source": [
    "augmented_data = ImageDataGenerator(featurewise_center=False, \n",
    "                                    samplewise_center=False, \n",
    "                                    featurewise_std_normalization=False, \n",
    "                                    samplewise_std_normalization=False, \n",
    "                                    zca_whitening=False, \n",
    "                                    zca_epsilon=1e-06, \n",
    "                                    rotation_range=20, \n",
    "                                    width_shift_range=0.2, \n",
    "                                    height_shift_range=0.2, \n",
    "                                    brightness_range=None, \n",
    "                                    shear_range=0.1, \n",
    "                                    zoom_range=0.1, \n",
    "                                    channel_shift_range=0.1, \n",
    "                                    fill_mode='nearest', \n",
    "                                    cval=0.0, \n",
    "                                    horizontal_flip=False, \n",
    "                                    vertical_flip=False, \n",
    "                                    rescale=None, \n",
    "                                    preprocessing_function=None, \n",
    "                                    data_format='channels_last', \n",
    "                                    validation_split=0.0, \n",
    "                                    interpolation_order=1, \n",
    "                                    dtype='float32')"
   ]
  },
  {
   "cell_type": "code",
   "execution_count": 336,
   "metadata": {},
   "outputs": [],
   "source": [
    "# augmented_data.fit(x_train_normalized)"
   ]
  },
  {
   "cell_type": "code",
   "execution_count": 49,
   "metadata": {},
   "outputs": [
    {
     "name": "stdout",
     "output_type": "stream",
     "text": [
      "Model: \"sequential\"\n",
      "_________________________________________________________________\n",
      " Layer (type)                Output Shape              Param #   \n",
      "=================================================================\n",
      " conv2d (Conv2D)             (None, 150, 112, 32)      896       \n",
      "                                                                 \n",
      " conv2d_1 (Conv2D)           (None, 150, 112, 32)      9248      \n",
      "                                                                 \n",
      " max_pooling2d (MaxPooling2  (None, 75, 56, 32)        0         \n",
      " D)                                                              \n",
      "                                                                 \n",
      " dropout (Dropout)           (None, 75, 56, 32)        0         \n",
      "                                                                 \n",
      " conv2d_2 (Conv2D)           (None, 75, 56, 64)        18496     \n",
      "                                                                 \n",
      " conv2d_3 (Conv2D)           (None, 75, 56, 64)        36928     \n",
      "                                                                 \n",
      " max_pooling2d_1 (MaxPoolin  (None, 37, 28, 64)        0         \n",
      " g2D)                                                            \n",
      "                                                                 \n",
      " dropout_1 (Dropout)         (None, 37, 28, 64)        0         \n",
      "                                                                 \n",
      " flatten (Flatten)           (None, 66304)             0         \n",
      "                                                                 \n",
      " dense (Dense)               (None, 128)               8487040   \n",
      "                                                                 \n",
      " dropout_2 (Dropout)         (None, 128)               0         \n",
      "                                                                 \n",
      " dense_1 (Dense)             (None, 7)                 903       \n",
      "                                                                 \n",
      "=================================================================\n",
      "Total params: 8553511 (32.63 MB)\n",
      "Trainable params: 8553511 (32.63 MB)\n",
      "Non-trainable params: 0 (0.00 Byte)\n",
      "_________________________________________________________________\n"
     ]
    }
   ],
   "source": [
    "#Keras Sequential API\n",
    "#CNN Model: Conv x2 -> MaxPool -> Dropout -> Conv x2 -> MaxPool -> Dropout -> Flatten -> Dense -> Dropout -> Dense \n",
    "model = Sequential()\n",
    "model.add(Conv2D(32, kernel_size=(3, 3), activation='relu', padding = 'Same', input_shape=input_shape))\n",
    "model.add(Conv2D(32, kernel_size=(3, 3), activation='relu', padding = 'Same'))\n",
    "model.add(MaxPool2D(pool_size = (2, 2)))\n",
    "model.add(Dropout(0.25))\n",
    "\n",
    "model.add(Conv2D(64, (3, 3), activation='relu', padding = 'Same'))\n",
    "model.add(Conv2D(64, (3, 3), activation='relu', padding = 'Same'))\n",
    "model.add(MaxPool2D(pool_size=(2, 2)))\n",
    "model.add(Dropout(0.40))\n",
    "\n",
    "model.add(Flatten())\n",
    "model.add(Dense(128, activation='relu'))\n",
    "model.add(Dropout(0.5))\n",
    "model.add(Dense(num_classes, activation='softmax'))\n",
    "model.summary()"
   ]
  },
  {
   "cell_type": "code",
   "execution_count": 50,
   "metadata": {},
   "outputs": [
    {
     "name": "stderr",
     "output_type": "stream",
     "text": [
      "WARNING:absl:At this time, the v2.11+ optimizer `tf.keras.optimizers.Adam` runs slowly on M1/M2 Macs, please use the legacy Keras optimizer instead, located at `tf.keras.optimizers.legacy.Adam`.\n",
      "WARNING:absl:`lr` is deprecated in Keras optimizer, please use `learning_rate` or use the legacy optimizer, e.g.,tf.keras.optimizers.legacy.Adam.\n"
     ]
    }
   ],
   "source": [
    "import tensorflow.keras.optimizers as tko\n",
    "optimizer = tko.Adam(lr=0.001)"
   ]
  },
  {
   "cell_type": "code",
   "execution_count": 51,
   "metadata": {},
   "outputs": [],
   "source": [
    "loss = \"categorical_crossentropy\""
   ]
  },
  {
   "cell_type": "code",
   "execution_count": 52,
   "metadata": {},
   "outputs": [],
   "source": [
    "metrics=[\"accuracy\"]"
   ]
  },
  {
   "cell_type": "code",
   "execution_count": 53,
   "metadata": {},
   "outputs": [
    {
     "name": "stderr",
     "output_type": "stream",
     "text": [
      "WARNING:absl:There is a known slowdown when using v2.11+ Keras optimizers on M1/M2 Macs. Falling back to the legacy Keras optimizer, i.e., `tf.keras.optimizers.legacy.Adam`.\n"
     ]
    }
   ],
   "source": [
    "model.compile(optimizer = optimizer , loss = loss, metrics = metrics)"
   ]
  },
  {
   "cell_type": "code",
   "execution_count": 54,
   "metadata": {},
   "outputs": [],
   "source": [
    "reduce_lr = ReduceLROnPlateau(monitor='val_accuracy', patience=3, verbose=1, factor=0.5, min_lr=0.00001) # Scheduler Learning Rate"
   ]
  },
  {
   "cell_type": "code",
   "execution_count": 55,
   "metadata": {},
   "outputs": [
    {
     "data": {
      "text/html": [
       "<div>\n",
       "<style scoped>\n",
       "    .dataframe tbody tr th:only-of-type {\n",
       "        vertical-align: middle;\n",
       "    }\n",
       "\n",
       "    .dataframe tbody tr th {\n",
       "        vertical-align: top;\n",
       "    }\n",
       "\n",
       "    .dataframe thead th {\n",
       "        text-align: right;\n",
       "    }\n",
       "</style>\n",
       "<table border=\"1\" class=\"dataframe\">\n",
       "  <thead>\n",
       "    <tr style=\"text-align: right;\">\n",
       "      <th></th>\n",
       "      <th>cell_type</th>\n",
       "      <th>cell_type_idx</th>\n",
       "    </tr>\n",
       "  </thead>\n",
       "  <tbody>\n",
       "    <tr>\n",
       "      <th>9687</th>\n",
       "      <td>Actinic keratoses</td>\n",
       "      <td>0</td>\n",
       "    </tr>\n",
       "  </tbody>\n",
       "</table>\n",
       "</div>"
      ],
      "text/plain": [
       "              cell_type  cell_type_idx\n",
       "9687  Actinic keratoses              0"
      ]
     },
     "execution_count": 55,
     "metadata": {},
     "output_type": "execute_result"
    },
    {
     "data": {
      "text/html": [
       "<div>\n",
       "<style scoped>\n",
       "    .dataframe tbody tr th:only-of-type {\n",
       "        vertical-align: middle;\n",
       "    }\n",
       "\n",
       "    .dataframe tbody tr th {\n",
       "        vertical-align: top;\n",
       "    }\n",
       "\n",
       "    .dataframe thead th {\n",
       "        text-align: right;\n",
       "    }\n",
       "</style>\n",
       "<table border=\"1\" class=\"dataframe\">\n",
       "  <thead>\n",
       "    <tr style=\"text-align: right;\">\n",
       "      <th></th>\n",
       "      <th>cell_type</th>\n",
       "      <th>cell_type_idx</th>\n",
       "    </tr>\n",
       "  </thead>\n",
       "  <tbody>\n",
       "    <tr>\n",
       "      <th>2462</th>\n",
       "      <td>Basal cell carcinoma</td>\n",
       "      <td>1</td>\n",
       "    </tr>\n",
       "  </tbody>\n",
       "</table>\n",
       "</div>"
      ],
      "text/plain": [
       "                 cell_type  cell_type_idx\n",
       "2462  Basal cell carcinoma              1"
      ]
     },
     "execution_count": 55,
     "metadata": {},
     "output_type": "execute_result"
    },
    {
     "data": {
      "text/html": [
       "<div>\n",
       "<style scoped>\n",
       "    .dataframe tbody tr th:only-of-type {\n",
       "        vertical-align: middle;\n",
       "    }\n",
       "\n",
       "    .dataframe tbody tr th {\n",
       "        vertical-align: top;\n",
       "    }\n",
       "\n",
       "    .dataframe thead th {\n",
       "        text-align: right;\n",
       "    }\n",
       "</style>\n",
       "<table border=\"1\" class=\"dataframe\">\n",
       "  <thead>\n",
       "    <tr style=\"text-align: right;\">\n",
       "      <th></th>\n",
       "      <th>cell_type</th>\n",
       "      <th>cell_type_idx</th>\n",
       "    </tr>\n",
       "  </thead>\n",
       "  <tbody>\n",
       "    <tr>\n",
       "      <th>0</th>\n",
       "      <td>Benign keratosis-like lesions</td>\n",
       "      <td>2</td>\n",
       "    </tr>\n",
       "  </tbody>\n",
       "</table>\n",
       "</div>"
      ],
      "text/plain": [
       "                        cell_type  cell_type_idx\n",
       "0  Benign keratosis-like lesions               2"
      ]
     },
     "execution_count": 55,
     "metadata": {},
     "output_type": "execute_result"
    },
    {
     "data": {
      "text/html": [
       "<div>\n",
       "<style scoped>\n",
       "    .dataframe tbody tr th:only-of-type {\n",
       "        vertical-align: middle;\n",
       "    }\n",
       "\n",
       "    .dataframe tbody tr th {\n",
       "        vertical-align: top;\n",
       "    }\n",
       "\n",
       "    .dataframe thead th {\n",
       "        text-align: right;\n",
       "    }\n",
       "</style>\n",
       "<table border=\"1\" class=\"dataframe\">\n",
       "  <thead>\n",
       "    <tr style=\"text-align: right;\">\n",
       "      <th></th>\n",
       "      <th>cell_type</th>\n",
       "      <th>cell_type_idx</th>\n",
       "    </tr>\n",
       "  </thead>\n",
       "  <tbody>\n",
       "    <tr>\n",
       "      <th>1095</th>\n",
       "      <td>Dermatofibroma</td>\n",
       "      <td>3</td>\n",
       "    </tr>\n",
       "  </tbody>\n",
       "</table>\n",
       "</div>"
      ],
      "text/plain": [
       "           cell_type  cell_type_idx\n",
       "1095  Dermatofibroma              3"
      ]
     },
     "execution_count": 55,
     "metadata": {},
     "output_type": "execute_result"
    },
    {
     "data": {
      "text/html": [
       "<div>\n",
       "<style scoped>\n",
       "    .dataframe tbody tr th:only-of-type {\n",
       "        vertical-align: middle;\n",
       "    }\n",
       "\n",
       "    .dataframe tbody tr th {\n",
       "        vertical-align: top;\n",
       "    }\n",
       "\n",
       "    .dataframe thead th {\n",
       "        text-align: right;\n",
       "    }\n",
       "</style>\n",
       "<table border=\"1\" class=\"dataframe\">\n",
       "  <thead>\n",
       "    <tr style=\"text-align: right;\">\n",
       "      <th></th>\n",
       "      <th>cell_type</th>\n",
       "      <th>cell_type_idx</th>\n",
       "    </tr>\n",
       "  </thead>\n",
       "  <tbody>\n",
       "    <tr>\n",
       "      <th>64</th>\n",
       "      <td>Melanocytic nevi</td>\n",
       "      <td>4</td>\n",
       "    </tr>\n",
       "  </tbody>\n",
       "</table>\n",
       "</div>"
      ],
      "text/plain": [
       "           cell_type  cell_type_idx\n",
       "64  Melanocytic nevi              4"
      ]
     },
     "execution_count": 55,
     "metadata": {},
     "output_type": "execute_result"
    },
    {
     "data": {
      "text/html": [
       "<div>\n",
       "<style scoped>\n",
       "    .dataframe tbody tr th:only-of-type {\n",
       "        vertical-align: middle;\n",
       "    }\n",
       "\n",
       "    .dataframe tbody tr th {\n",
       "        vertical-align: top;\n",
       "    }\n",
       "\n",
       "    .dataframe thead th {\n",
       "        text-align: right;\n",
       "    }\n",
       "</style>\n",
       "<table border=\"1\" class=\"dataframe\">\n",
       "  <thead>\n",
       "    <tr style=\"text-align: right;\">\n",
       "      <th></th>\n",
       "      <th>cell_type</th>\n",
       "      <th>cell_type_idx</th>\n",
       "    </tr>\n",
       "  </thead>\n",
       "  <tbody>\n",
       "    <tr>\n",
       "      <th>1211</th>\n",
       "      <td>Melanoma</td>\n",
       "      <td>5</td>\n",
       "    </tr>\n",
       "  </tbody>\n",
       "</table>\n",
       "</div>"
      ],
      "text/plain": [
       "     cell_type  cell_type_idx\n",
       "1211  Melanoma              5"
      ]
     },
     "execution_count": 55,
     "metadata": {},
     "output_type": "execute_result"
    },
    {
     "data": {
      "text/html": [
       "<div>\n",
       "<style scoped>\n",
       "    .dataframe tbody tr th:only-of-type {\n",
       "        vertical-align: middle;\n",
       "    }\n",
       "\n",
       "    .dataframe tbody tr th {\n",
       "        vertical-align: top;\n",
       "    }\n",
       "\n",
       "    .dataframe thead th {\n",
       "        text-align: right;\n",
       "    }\n",
       "</style>\n",
       "<table border=\"1\" class=\"dataframe\">\n",
       "  <thead>\n",
       "    <tr style=\"text-align: right;\">\n",
       "      <th></th>\n",
       "      <th>cell_type</th>\n",
       "      <th>cell_type_idx</th>\n",
       "    </tr>\n",
       "  </thead>\n",
       "  <tbody>\n",
       "    <tr>\n",
       "      <th>2320</th>\n",
       "      <td>Vascular lesions</td>\n",
       "      <td>6</td>\n",
       "    </tr>\n",
       "  </tbody>\n",
       "</table>\n",
       "</div>"
      ],
      "text/plain": [
       "             cell_type  cell_type_idx\n",
       "2320  Vascular lesions              6"
      ]
     },
     "execution_count": 55,
     "metadata": {},
     "output_type": "execute_result"
    }
   ],
   "source": [
    "skin_df.loc[skin_df['dx'] == 'akiec', ['cell_type', 'cell_type_idx']].head(1)\n",
    "skin_df.loc[skin_df['dx'] == 'bcc', ['cell_type', 'cell_type_idx']].head(1)\n",
    "skin_df.loc[skin_df['dx'] == 'bkl', ['cell_type', 'cell_type_idx']].head(1)\n",
    "skin_df.loc[skin_df['dx'] == 'df', ['cell_type', 'cell_type_idx']].head(1)\n",
    "skin_df.loc[skin_df['dx'] == 'nv', ['cell_type', 'cell_type_idx']].head(1)\n",
    "skin_df.loc[skin_df['dx'] == 'mel', ['cell_type', 'cell_type_idx']].head(1)\n",
    "skin_df.loc[skin_df['dx'] == 'vasc', ['cell_type', 'cell_type_idx']].head(1)"
   ]
  },
  {
   "cell_type": "code",
   "execution_count": 56,
   "metadata": {},
   "outputs": [],
   "source": [
    "class_weights={\n",
    "    0: 1.0, # akiec\n",
    "    1: 1.0, # bcc\n",
    "    2: 1.0, # bkl\n",
    "    3: 1.0, # df\n",
    "    4: 3.0, # nv # Try to make the model more sensitive to Melanocytic nevi\n",
    "    5: 1.0, # mel\n",
    "    6: 1.0, # vasc\n",
    "}"
   ]
  },
  {
   "cell_type": "code",
   "execution_count": 57,
   "metadata": {},
   "outputs": [],
   "source": [
    "epochs = 10\n",
    "batch_size = 8\n",
    "steps_per_epoch = len(x_train_normalized) / batch_size"
   ]
  },
  {
   "attachments": {},
   "cell_type": "markdown",
   "metadata": {},
   "source": [
    "Hyper Parameter, inisialisasi yang diset sebelum melakukan training, dan parameter ini yang bisa di intervensi sm manusia, sedangkan parameter itu mesinnya langsung, semisal hp itu epoch, optimizer, loss function, activition function, batch size"
   ]
  },
  {
   "cell_type": "code",
   "execution_count": 58,
   "metadata": {},
   "outputs": [
    {
     "name": "stdout",
     "output_type": "stream",
     "text": [
      "Epoch 1/10\n",
      "597/597 [==============================] - 87s 145ms/step - loss: 1.2279 - accuracy: 0.7222 - val_loss: 0.9024 - val_accuracy: 0.7232 - lr: 0.0010\n",
      "Epoch 2/10\n",
      "597/597 [==============================] - 88s 148ms/step - loss: 1.0771 - accuracy: 0.7232 - val_loss: 1.0679 - val_accuracy: 0.7232 - lr: 0.0010\n",
      "Epoch 3/10\n",
      "597/597 [==============================] - 90s 151ms/step - loss: 1.0294 - accuracy: 0.7232 - val_loss: 0.8754 - val_accuracy: 0.7232 - lr: 0.0010\n",
      "Epoch 4/10\n",
      "598/597 [==============================] - ETA: 0s - loss: 1.0113 - accuracy: 0.7234\n",
      "Epoch 4: ReduceLROnPlateau reducing learning rate to 0.0005000000237487257.\n",
      "597/597 [==============================] - 91s 152ms/step - loss: 1.0113 - accuracy: 0.7234 - val_loss: 0.8185 - val_accuracy: 0.7232 - lr: 0.0010\n",
      "Epoch 5/10\n",
      "597/597 [==============================] - 92s 155ms/step - loss: 0.9577 - accuracy: 0.7232 - val_loss: 0.8167 - val_accuracy: 0.7232 - lr: 5.0000e-04\n",
      "Epoch 6/10\n",
      "597/597 [==============================] - 93s 155ms/step - loss: 0.9390 - accuracy: 0.7234 - val_loss: 0.8208 - val_accuracy: 0.7232 - lr: 5.0000e-04\n",
      "Epoch 7/10\n",
      "598/597 [==============================] - ETA: 0s - loss: 0.9384 - accuracy: 0.7234\n",
      "Epoch 7: ReduceLROnPlateau reducing learning rate to 0.0002500000118743628.\n",
      "597/597 [==============================] - 95s 160ms/step - loss: 0.9384 - accuracy: 0.7234 - val_loss: 0.8415 - val_accuracy: 0.7232 - lr: 5.0000e-04\n",
      "Epoch 8/10\n",
      "597/597 [==============================] - 100s 168ms/step - loss: 0.8930 - accuracy: 0.7234 - val_loss: 0.7701 - val_accuracy: 0.7232 - lr: 2.5000e-04\n",
      "Epoch 9/10\n",
      "597/597 [==============================] - 104s 173ms/step - loss: 0.8932 - accuracy: 0.7236 - val_loss: 0.8256 - val_accuracy: 0.7232 - lr: 2.5000e-04\n",
      "Epoch 10/10\n",
      "598/597 [==============================] - ETA: 0s - loss: 0.8763 - accuracy: 0.7236\n",
      "Epoch 10: ReduceLROnPlateau reducing learning rate to 0.0001250000059371814.\n",
      "597/597 [==============================] - 102s 171ms/step - loss: 0.8763 - accuracy: 0.7236 - val_loss: 0.8339 - val_accuracy: 0.7232 - lr: 2.5000e-04\n"
     ]
    }
   ],
   "source": [
    "time_callback = TimeHistory()\n",
    "csv_logger = CSVLogger('../logs/original_cnn_training.log', separator=',', append=False)\n",
    "history = model.fit(augmented_data.flow(x_train_normalized, y_train, batch_size = batch_size),\n",
    "                              epochs = epochs, \n",
    "                              verbose = 1,\n",
    "                              class_weight = class_weights,\n",
    "                              validation_data = (x_val_normalized, y_val), \n",
    "                              steps_per_epoch = steps_per_epoch,\n",
    "                              callbacks = [reduce_lr, time_callback, csv_logger])"
   ]
  },
  {
   "cell_type": "code",
   "execution_count": 59,
   "metadata": {},
   "outputs": [
    {
     "name": "stdout",
     "output_type": "stream",
     "text": [
      "\n",
      "Total Time: 943.3683598041534 s\n",
      "\n"
     ]
    }
   ],
   "source": [
    "print(\"\\nTotal Time:\",sum(time_callback.times),\"s\\n\")"
   ]
  },
  {
   "cell_type": "code",
   "execution_count": 60,
   "metadata": {},
   "outputs": [
    {
     "name": "stdout",
     "output_type": "stream",
     "text": [
      "Saved entire model file to disk\n"
     ]
    },
    {
     "name": "stderr",
     "output_type": "stream",
     "text": [
      "/opt/homebrew/lib/python3.11/site-packages/keras/src/engine/training.py:3000: UserWarning: You are saving your model as an HDF5 file via `model.save()`. This file format is considered legacy. We recommend using instead the native Keras format, e.g. `model.save('my_model.keras')`.\n",
      "  saving_api.save_model(\n"
     ]
    }
   ],
   "source": [
    "model.save('../Models/original_cnn_model.h5.h5')\n",
    "print(\"Saved entire model file to disk\")"
   ]
  },
  {
   "cell_type": "code",
   "execution_count": 61,
   "metadata": {},
   "outputs": [],
   "source": [
    "# # serialize model to JSON\n",
    "# model_json = model.to_json()\n",
    "# with open('../Models/original_cnn_model.h5.json', \"w\") as json_file:\n",
    "#     json_file.write(model_json)\n",
    "# print(\"Saved model's architecture to disk\")\n",
    "\n",
    "# # serialize weights to HDF5\n",
    "# model.save_weights('../Models/original_cnn_model.h5.h5')\n",
    "# print(\"Saved model's weights to disk\")"
   ]
  },
  {
   "cell_type": "code",
   "execution_count": 91,
   "metadata": {},
   "outputs": [
    {
     "name": "stdout",
     "output_type": "stream",
     "text": [
      "Loaded entire model file from disk\n"
     ]
    }
   ],
   "source": [
    "model = load_model(\"../Models/original_cnn_model.h5.h5\")\n",
    "print(\"Loaded entire model file from disk\")"
   ]
  },
  {
   "cell_type": "code",
   "execution_count": 63,
   "metadata": {},
   "outputs": [],
   "source": [
    "model_log_data = pd.read_csv('../logs/original_cnn_training.log', sep=',', engine='python')"
   ]
  },
  {
   "cell_type": "code",
   "execution_count": 64,
   "metadata": {},
   "outputs": [],
   "source": [
    "model_name = \"BasicCNN\""
   ]
  },
  {
   "attachments": {},
   "cell_type": "markdown",
   "metadata": {},
   "source": [
    "Inception v3 is the third edition of the widely-used Google's Inception Convolutional Neural Network, originally introduced during the ImageNet Recognition Challenge. The 48-layered model is the culmination of many ideas developed by multiple researchers over the years."
   ]
  },
  {
   "cell_type": "code",
   "execution_count": 337,
   "metadata": {},
   "outputs": [],
   "source": [
    "base_model = InceptionV3(input_shape=(228, 228, 3), include_top=False, weights='imagenet')"
   ]
  },
  {
   "cell_type": "code",
   "execution_count": 338,
   "metadata": {},
   "outputs": [],
   "source": [
    "base_model.trainable = False"
   ]
  },
  {
   "cell_type": "code",
   "execution_count": 339,
   "metadata": {},
   "outputs": [],
   "source": [
    "model = tf.keras.Sequential([\n",
    "    base_model,\n",
    "    tf.keras.layers.GlobalAveragePooling2D(),\n",
    "    tf.keras.layers.Dense(5, activation='softmax'),\n",
    "])"
   ]
  },
  {
   "cell_type": "code",
   "execution_count": 340,
   "metadata": {},
   "outputs": [],
   "source": [
    "model.compile(loss='sparse_categorical_crossentropy', optimizer='adam', metrics=['accuracy'])"
   ]
  },
  {
   "cell_type": "code",
   "execution_count": 341,
   "metadata": {},
   "outputs": [
    {
     "name": "stdout",
     "output_type": "stream",
     "text": [
      "Found 1140 files belonging to 5 classes.\n",
      "Using 798 files for training.\n",
      "Using 342 files for validation.\n"
     ]
    }
   ],
   "source": [
    "train_data, val_data = tf.keras.preprocessing.image_dataset_from_directory(\n",
    "    'dataset',\n",
    "    batch_size=8,\n",
    "    shuffle=False,\n",
    "    subset=\"both\",\n",
    "    image_size=(228, 228),\n",
    "    validation_split=0.3\n",
    ")"
   ]
  },
  {
   "cell_type": "code",
   "execution_count": 342,
   "metadata": {},
   "outputs": [
    {
     "name": "stdout",
     "output_type": "stream",
     "text": [
      "(8, 228, 228, 3) tf.Tensor([3 3 3 3 3 3 3 3], shape=(8,), dtype=int32)\n"
     ]
    }
   ],
   "source": [
    "for image, label in val_data.take(1):\n",
    "    print(image.shape, label)"
   ]
  },
  {
   "cell_type": "code",
   "execution_count": 343,
   "metadata": {},
   "outputs": [],
   "source": [
    "checkpoint_path = \"checkpoint/model\"\n",
    "\n",
    "callback = tf.keras.callbacks.ModelCheckpoint(\n",
    "    filepath=checkpoint_path,\n",
    "    save_freq='epoch',\n",
    "    save_best_only=True,\n",
    ")"
   ]
  },
  {
   "cell_type": "code",
   "execution_count": null,
   "metadata": {},
   "outputs": [],
   "source": [
    "model.fit(train_data, epochs=10, validation_data=val_data, callbacks=[callback])"
   ]
  },
  {
   "cell_type": "code",
   "execution_count": 70,
   "metadata": {},
   "outputs": [
    {
     "name": "stdout",
     "output_type": "stream",
     "text": [
      "\n",
      "Total Time: 1861.1332876682281 s\n",
      "\n"
     ]
    }
   ],
   "source": [
    "print(\"\\nTotal Time:\",sum(inception_time_callback.times),\"s\\n\")"
   ]
  },
  {
   "cell_type": "code",
   "execution_count": 71,
   "metadata": {},
   "outputs": [
    {
     "name": "stderr",
     "output_type": "stream",
     "text": [
      "/opt/homebrew/lib/python3.11/site-packages/keras/src/engine/training.py:3000: UserWarning: You are saving your model as an HDF5 file via `model.save()`. This file format is considered legacy. We recommend using instead the native Keras format, e.g. `model.save('my_model.keras')`.\n",
      "  saving_api.save_model(\n"
     ]
    },
    {
     "name": "stdout",
     "output_type": "stream",
     "text": [
      "Saved entire model file to disk\n"
     ]
    }
   ],
   "source": [
    "inception_model.save('../Models/inception_model_50epochs.h5')\n",
    "print(\"Saved entire model file to disk\")"
   ]
  },
  {
   "cell_type": "code",
   "execution_count": 72,
   "metadata": {},
   "outputs": [
    {
     "name": "stdout",
     "output_type": "stream",
     "text": [
      "Loaded entire model file from disk\n"
     ]
    }
   ],
   "source": [
    "inception_model = load_model('../Models/inception_model_50epochs.h5')\n",
    "print(\"Loaded entire model file from disk\")"
   ]
  },
  {
   "cell_type": "code",
   "execution_count": 73,
   "metadata": {},
   "outputs": [],
   "source": [
    "inception_log_data = pd.read_csv('../logs/inception_training.log', sep=',', engine='python')"
   ]
  },
  {
   "cell_type": "code",
   "execution_count": 74,
   "metadata": {},
   "outputs": [],
   "source": [
    "inception_model_name = \"InceptionV3\""
   ]
  },
  {
   "cell_type": "code",
   "execution_count": 75,
   "metadata": {},
   "outputs": [],
   "source": [
    "base_efnet_model = EfficientNetB5(\n",
    "    include_top=False,\n",
    "    weights='imagenet',\n",
    "    input_shape=input_shape\n",
    ")"
   ]
  },
  {
   "cell_type": "code",
   "execution_count": 76,
   "metadata": {},
   "outputs": [],
   "source": [
    "base_efnet_model.trainable = False"
   ]
  },
  {
   "cell_type": "code",
   "execution_count": 77,
   "metadata": {},
   "outputs": [],
   "source": [
    "model = Sequential([\n",
    "    base_efnet_model,\n",
    "    tf.keras.layers.GlobalAveragePooling2D(),\n",
    "    tf.keras.layers.Dense(6, activation='softmax')\n",
    "])"
   ]
  },
  {
   "cell_type": "code",
   "execution_count": 124,
   "metadata": {},
   "outputs": [
    {
     "name": "stdout",
     "output_type": "stream",
     "text": [
      "Model: \"sequential_8\"\n",
      "_________________________________________________________________\n",
      " Layer (type)                Output Shape              Param #   \n",
      "=================================================================\n",
      " efficientnetb5 (Functional  (None, 5, 4, 2048)        28513527  \n",
      " )                                                               \n",
      "                                                                 \n",
      " conv2d_101 (Conv2D)         (None, 5, 4, 64)          1179712   \n",
      "                                                                 \n",
      " max_pooling2d_9 (MaxPoolin  (None, 2, 2, 64)          0         \n",
      " g2D)                                                            \n",
      "                                                                 \n",
      " dropout_9 (Dropout)         (None, 2, 2, 64)          0         \n",
      "                                                                 \n",
      " flatten_4 (Flatten)         (None, 256)               0         \n",
      "                                                                 \n",
      " dense_12 (Dense)            (None, 128)               32896     \n",
      "                                                                 \n",
      " dropout_10 (Dropout)        (None, 128)               0         \n",
      "                                                                 \n",
      " dense_13 (Dense)            (None, 7)                 903       \n",
      "                                                                 \n",
      "=================================================================\n",
      "Total params: 29727038 (113.40 MB)\n",
      "Trainable params: 1213511 (4.63 MB)\n",
      "Non-trainable params: 28513527 (108.77 MB)\n",
      "_________________________________________________________________\n"
     ]
    }
   ],
   "source": [
    "efnet_model = Sequential()\n",
    "efnet_model = add_cnn_layers(base_efnet_model, efnet_model)"
   ]
  },
  {
   "cell_type": "code",
   "execution_count": 126,
   "metadata": {},
   "outputs": [
    {
     "name": "stderr",
     "output_type": "stream",
     "text": [
      "WARNING:absl:There is a known slowdown when using v2.11+ Keras optimizers on M1/M2 Macs. Falling back to the legacy Keras optimizer, i.e., `tf.keras.optimizers.legacy.Adam`.\n"
     ]
    }
   ],
   "source": [
    "efnet_model.compile(optimizer=optimizer,\n",
    "              loss=loss,\n",
    "              metrics=metrics)"
   ]
  },
  {
   "cell_type": "code",
   "execution_count": 103,
   "metadata": {},
   "outputs": [
    {
     "name": "stdout",
     "output_type": "stream",
     "text": [
      "Epoch 1/10\n"
     ]
    },
    {
     "ename": "InvalidArgumentError",
     "evalue": "Graph execution error:\n\nDetected at node 'categorical_crossentropy/softmax_cross_entropy_with_logits' defined at (most recent call last):\n    File \"<frozen runpy>\", line 198, in _run_module_as_main\n    File \"<frozen runpy>\", line 88, in _run_code\n    File \"/Users/s1suu/Library/Python/3.11/lib/python/site-packages/ipykernel_launcher.py\", line 17, in <module>\n      app.launch_new_instance()\n    File \"/Users/s1suu/Library/Python/3.11/lib/python/site-packages/traitlets/config/application.py\", line 1043, in launch_instance\n      app.start()\n    File \"/Users/s1suu/Library/Python/3.11/lib/python/site-packages/ipykernel/kernelapp.py\", line 725, in start\n      self.io_loop.start()\n    File \"/Users/s1suu/Library/Python/3.11/lib/python/site-packages/tornado/platform/asyncio.py\", line 195, in start\n      self.asyncio_loop.run_forever()\n    File \"/opt/homebrew/Cellar/python@3.11/3.11.4/Frameworks/Python.framework/Versions/3.11/lib/python3.11/asyncio/base_events.py\", line 607, in run_forever\n      self._run_once()\n    File \"/opt/homebrew/Cellar/python@3.11/3.11.4/Frameworks/Python.framework/Versions/3.11/lib/python3.11/asyncio/base_events.py\", line 1922, in _run_once\n      handle._run()\n    File \"/opt/homebrew/Cellar/python@3.11/3.11.4/Frameworks/Python.framework/Versions/3.11/lib/python3.11/asyncio/events.py\", line 80, in _run\n      self._context.run(self._callback, *self._args)\n    File \"/Users/s1suu/Library/Python/3.11/lib/python/site-packages/ipykernel/kernelbase.py\", line 513, in dispatch_queue\n      await self.process_one()\n    File \"/Users/s1suu/Library/Python/3.11/lib/python/site-packages/ipykernel/kernelbase.py\", line 502, in process_one\n      await dispatch(*args)\n    File \"/Users/s1suu/Library/Python/3.11/lib/python/site-packages/ipykernel/kernelbase.py\", line 409, in dispatch_shell\n      await result\n    File \"/Users/s1suu/Library/Python/3.11/lib/python/site-packages/ipykernel/kernelbase.py\", line 729, in execute_request\n      reply_content = await reply_content\n    File \"/Users/s1suu/Library/Python/3.11/lib/python/site-packages/ipykernel/ipkernel.py\", line 422, in do_execute\n      res = shell.run_cell(\n    File \"/Users/s1suu/Library/Python/3.11/lib/python/site-packages/ipykernel/zmqshell.py\", line 540, in run_cell\n      return super().run_cell(*args, **kwargs)\n    File \"/Users/s1suu/Library/Python/3.11/lib/python/site-packages/IPython/core/interactiveshell.py\", line 3009, in run_cell\n      result = self._run_cell(\n    File \"/Users/s1suu/Library/Python/3.11/lib/python/site-packages/IPython/core/interactiveshell.py\", line 3064, in _run_cell\n      result = runner(coro)\n    File \"/Users/s1suu/Library/Python/3.11/lib/python/site-packages/IPython/core/async_helpers.py\", line 129, in _pseudo_sync_runner\n      coro.send(None)\n    File \"/Users/s1suu/Library/Python/3.11/lib/python/site-packages/IPython/core/interactiveshell.py\", line 3269, in run_cell_async\n      has_raised = await self.run_ast_nodes(code_ast.body, cell_name,\n    File \"/Users/s1suu/Library/Python/3.11/lib/python/site-packages/IPython/core/interactiveshell.py\", line 3448, in run_ast_nodes\n      if await self.run_code(code, result, async_=asy):\n    File \"/Users/s1suu/Library/Python/3.11/lib/python/site-packages/IPython/core/interactiveshell.py\", line 3508, in run_code\n      exec(code_obj, self.user_global_ns, self.user_ns)\n    File \"/var/folders/50/f9j307152c96gfl9f3nhphqw0000gn/T/ipykernel_61748/1937231180.py\", line 3, in <module>\n      efnet_history = efnet_model.fit(augmented_data.flow(x_train_normalized, y_train, batch_size = batch_size),\n    File \"/opt/homebrew/lib/python3.11/site-packages/keras/src/utils/traceback_utils.py\", line 65, in error_handler\n      return fn(*args, **kwargs)\n    File \"/opt/homebrew/lib/python3.11/site-packages/keras/src/engine/training.py\", line 1742, in fit\n      tmp_logs = self.train_function(iterator)\n    File \"/opt/homebrew/lib/python3.11/site-packages/keras/src/engine/training.py\", line 1338, in train_function\n      return step_function(self, iterator)\n    File \"/opt/homebrew/lib/python3.11/site-packages/keras/src/engine/training.py\", line 1322, in step_function\n      outputs = model.distribute_strategy.run(run_step, args=(data,))\n    File \"/opt/homebrew/lib/python3.11/site-packages/keras/src/engine/training.py\", line 1303, in run_step\n      outputs = model.train_step(data)\n    File \"/opt/homebrew/lib/python3.11/site-packages/keras/src/engine/training.py\", line 1081, in train_step\n      loss = self.compute_loss(x, y, y_pred, sample_weight)\n    File \"/opt/homebrew/lib/python3.11/site-packages/keras/src/engine/training.py\", line 1139, in compute_loss\n      return self.compiled_loss(\n    File \"/opt/homebrew/lib/python3.11/site-packages/keras/src/engine/compile_utils.py\", line 265, in __call__\n      loss_value = loss_obj(y_t, y_p, sample_weight=sw)\n    File \"/opt/homebrew/lib/python3.11/site-packages/keras/src/losses.py\", line 142, in __call__\n      losses = call_fn(y_true, y_pred)\n    File \"/opt/homebrew/lib/python3.11/site-packages/keras/src/losses.py\", line 268, in call\n      return ag_fn(y_true, y_pred, **self._fn_kwargs)\n    File \"/opt/homebrew/lib/python3.11/site-packages/keras/src/losses.py\", line 2122, in categorical_crossentropy\n      return backend.categorical_crossentropy(\n    File \"/opt/homebrew/lib/python3.11/site-packages/keras/src/backend.py\", line 5566, in categorical_crossentropy\n      return tf.nn.softmax_cross_entropy_with_logits(\nNode: 'categorical_crossentropy/softmax_cross_entropy_with_logits'\nlogits and labels must be broadcastable: logits_size=[8,6] labels_size=[8,7]\n\t [[{{node categorical_crossentropy/softmax_cross_entropy_with_logits}}]] [Op:__inference_train_function_257077]",
     "output_type": "error",
     "traceback": [
      "\u001b[0;31m---------------------------------------------------------------------------\u001b[0m",
      "\u001b[0;31mInvalidArgumentError\u001b[0m                      Traceback (most recent call last)",
      "Cell \u001b[0;32mIn[103], line 3\u001b[0m\n\u001b[1;32m      1\u001b[0m efnet_time_callback \u001b[39m=\u001b[39m TimeHistory()\n\u001b[1;32m      2\u001b[0m efnet_csv_logger \u001b[39m=\u001b[39m CSVLogger(\u001b[39m'\u001b[39m\u001b[39m../logs/efnet_training.log\u001b[39m\u001b[39m'\u001b[39m, separator\u001b[39m=\u001b[39m\u001b[39m'\u001b[39m\u001b[39m,\u001b[39m\u001b[39m'\u001b[39m, append\u001b[39m=\u001b[39m\u001b[39mFalse\u001b[39;00m) \n\u001b[0;32m----> 3\u001b[0m efnet_history \u001b[39m=\u001b[39m efnet_model\u001b[39m.\u001b[39;49mfit(augmented_data\u001b[39m.\u001b[39;49mflow(x_train_normalized, y_train, batch_size \u001b[39m=\u001b[39;49m batch_size),\n\u001b[1;32m      4\u001b[0m                                       epochs \u001b[39m=\u001b[39;49m epochs, \n\u001b[1;32m      5\u001b[0m                                       verbose \u001b[39m=\u001b[39;49m \u001b[39m1\u001b[39;49m,\n\u001b[1;32m      6\u001b[0m                                       class_weight \u001b[39m=\u001b[39;49m class_weights,\n\u001b[1;32m      7\u001b[0m                                       validation_data \u001b[39m=\u001b[39;49m (x_val_normalized, y_val), \n\u001b[1;32m      8\u001b[0m                                       steps_per_epoch \u001b[39m=\u001b[39;49m steps_per_epoch,\n\u001b[1;32m      9\u001b[0m                                       callbacks\u001b[39m=\u001b[39;49m[reduce_lr, efnet_time_callback, efnet_csv_logger])\n",
      "File \u001b[0;32m/opt/homebrew/lib/python3.11/site-packages/keras/src/utils/traceback_utils.py:70\u001b[0m, in \u001b[0;36mfilter_traceback.<locals>.error_handler\u001b[0;34m(*args, **kwargs)\u001b[0m\n\u001b[1;32m     67\u001b[0m     filtered_tb \u001b[39m=\u001b[39m _process_traceback_frames(e\u001b[39m.\u001b[39m__traceback__)\n\u001b[1;32m     68\u001b[0m     \u001b[39m# To get the full stack trace, call:\u001b[39;00m\n\u001b[1;32m     69\u001b[0m     \u001b[39m# `tf.debugging.disable_traceback_filtering()`\u001b[39;00m\n\u001b[0;32m---> 70\u001b[0m     \u001b[39mraise\u001b[39;00m e\u001b[39m.\u001b[39mwith_traceback(filtered_tb) \u001b[39mfrom\u001b[39;00m \u001b[39mNone\u001b[39;00m\n\u001b[1;32m     71\u001b[0m \u001b[39mfinally\u001b[39;00m:\n\u001b[1;32m     72\u001b[0m     \u001b[39mdel\u001b[39;00m filtered_tb\n",
      "File \u001b[0;32m/opt/homebrew/lib/python3.11/site-packages/tensorflow/python/eager/execute.py:53\u001b[0m, in \u001b[0;36mquick_execute\u001b[0;34m(op_name, num_outputs, inputs, attrs, ctx, name)\u001b[0m\n\u001b[1;32m     51\u001b[0m \u001b[39mtry\u001b[39;00m:\n\u001b[1;32m     52\u001b[0m   ctx\u001b[39m.\u001b[39mensure_initialized()\n\u001b[0;32m---> 53\u001b[0m   tensors \u001b[39m=\u001b[39m pywrap_tfe\u001b[39m.\u001b[39mTFE_Py_Execute(ctx\u001b[39m.\u001b[39m_handle, device_name, op_name,\n\u001b[1;32m     54\u001b[0m                                       inputs, attrs, num_outputs)\n\u001b[1;32m     55\u001b[0m \u001b[39mexcept\u001b[39;00m core\u001b[39m.\u001b[39m_NotOkStatusException \u001b[39mas\u001b[39;00m e:\n\u001b[1;32m     56\u001b[0m   \u001b[39mif\u001b[39;00m name \u001b[39mis\u001b[39;00m \u001b[39mnot\u001b[39;00m \u001b[39mNone\u001b[39;00m:\n",
      "\u001b[0;31mInvalidArgumentError\u001b[0m: Graph execution error:\n\nDetected at node 'categorical_crossentropy/softmax_cross_entropy_with_logits' defined at (most recent call last):\n    File \"<frozen runpy>\", line 198, in _run_module_as_main\n    File \"<frozen runpy>\", line 88, in _run_code\n    File \"/Users/s1suu/Library/Python/3.11/lib/python/site-packages/ipykernel_launcher.py\", line 17, in <module>\n      app.launch_new_instance()\n    File \"/Users/s1suu/Library/Python/3.11/lib/python/site-packages/traitlets/config/application.py\", line 1043, in launch_instance\n      app.start()\n    File \"/Users/s1suu/Library/Python/3.11/lib/python/site-packages/ipykernel/kernelapp.py\", line 725, in start\n      self.io_loop.start()\n    File \"/Users/s1suu/Library/Python/3.11/lib/python/site-packages/tornado/platform/asyncio.py\", line 195, in start\n      self.asyncio_loop.run_forever()\n    File \"/opt/homebrew/Cellar/python@3.11/3.11.4/Frameworks/Python.framework/Versions/3.11/lib/python3.11/asyncio/base_events.py\", line 607, in run_forever\n      self._run_once()\n    File \"/opt/homebrew/Cellar/python@3.11/3.11.4/Frameworks/Python.framework/Versions/3.11/lib/python3.11/asyncio/base_events.py\", line 1922, in _run_once\n      handle._run()\n    File \"/opt/homebrew/Cellar/python@3.11/3.11.4/Frameworks/Python.framework/Versions/3.11/lib/python3.11/asyncio/events.py\", line 80, in _run\n      self._context.run(self._callback, *self._args)\n    File \"/Users/s1suu/Library/Python/3.11/lib/python/site-packages/ipykernel/kernelbase.py\", line 513, in dispatch_queue\n      await self.process_one()\n    File \"/Users/s1suu/Library/Python/3.11/lib/python/site-packages/ipykernel/kernelbase.py\", line 502, in process_one\n      await dispatch(*args)\n    File \"/Users/s1suu/Library/Python/3.11/lib/python/site-packages/ipykernel/kernelbase.py\", line 409, in dispatch_shell\n      await result\n    File \"/Users/s1suu/Library/Python/3.11/lib/python/site-packages/ipykernel/kernelbase.py\", line 729, in execute_request\n      reply_content = await reply_content\n    File \"/Users/s1suu/Library/Python/3.11/lib/python/site-packages/ipykernel/ipkernel.py\", line 422, in do_execute\n      res = shell.run_cell(\n    File \"/Users/s1suu/Library/Python/3.11/lib/python/site-packages/ipykernel/zmqshell.py\", line 540, in run_cell\n      return super().run_cell(*args, **kwargs)\n    File \"/Users/s1suu/Library/Python/3.11/lib/python/site-packages/IPython/core/interactiveshell.py\", line 3009, in run_cell\n      result = self._run_cell(\n    File \"/Users/s1suu/Library/Python/3.11/lib/python/site-packages/IPython/core/interactiveshell.py\", line 3064, in _run_cell\n      result = runner(coro)\n    File \"/Users/s1suu/Library/Python/3.11/lib/python/site-packages/IPython/core/async_helpers.py\", line 129, in _pseudo_sync_runner\n      coro.send(None)\n    File \"/Users/s1suu/Library/Python/3.11/lib/python/site-packages/IPython/core/interactiveshell.py\", line 3269, in run_cell_async\n      has_raised = await self.run_ast_nodes(code_ast.body, cell_name,\n    File \"/Users/s1suu/Library/Python/3.11/lib/python/site-packages/IPython/core/interactiveshell.py\", line 3448, in run_ast_nodes\n      if await self.run_code(code, result, async_=asy):\n    File \"/Users/s1suu/Library/Python/3.11/lib/python/site-packages/IPython/core/interactiveshell.py\", line 3508, in run_code\n      exec(code_obj, self.user_global_ns, self.user_ns)\n    File \"/var/folders/50/f9j307152c96gfl9f3nhphqw0000gn/T/ipykernel_61748/1937231180.py\", line 3, in <module>\n      efnet_history = efnet_model.fit(augmented_data.flow(x_train_normalized, y_train, batch_size = batch_size),\n    File \"/opt/homebrew/lib/python3.11/site-packages/keras/src/utils/traceback_utils.py\", line 65, in error_handler\n      return fn(*args, **kwargs)\n    File \"/opt/homebrew/lib/python3.11/site-packages/keras/src/engine/training.py\", line 1742, in fit\n      tmp_logs = self.train_function(iterator)\n    File \"/opt/homebrew/lib/python3.11/site-packages/keras/src/engine/training.py\", line 1338, in train_function\n      return step_function(self, iterator)\n    File \"/opt/homebrew/lib/python3.11/site-packages/keras/src/engine/training.py\", line 1322, in step_function\n      outputs = model.distribute_strategy.run(run_step, args=(data,))\n    File \"/opt/homebrew/lib/python3.11/site-packages/keras/src/engine/training.py\", line 1303, in run_step\n      outputs = model.train_step(data)\n    File \"/opt/homebrew/lib/python3.11/site-packages/keras/src/engine/training.py\", line 1081, in train_step\n      loss = self.compute_loss(x, y, y_pred, sample_weight)\n    File \"/opt/homebrew/lib/python3.11/site-packages/keras/src/engine/training.py\", line 1139, in compute_loss\n      return self.compiled_loss(\n    File \"/opt/homebrew/lib/python3.11/site-packages/keras/src/engine/compile_utils.py\", line 265, in __call__\n      loss_value = loss_obj(y_t, y_p, sample_weight=sw)\n    File \"/opt/homebrew/lib/python3.11/site-packages/keras/src/losses.py\", line 142, in __call__\n      losses = call_fn(y_true, y_pred)\n    File \"/opt/homebrew/lib/python3.11/site-packages/keras/src/losses.py\", line 268, in call\n      return ag_fn(y_true, y_pred, **self._fn_kwargs)\n    File \"/opt/homebrew/lib/python3.11/site-packages/keras/src/losses.py\", line 2122, in categorical_crossentropy\n      return backend.categorical_crossentropy(\n    File \"/opt/homebrew/lib/python3.11/site-packages/keras/src/backend.py\", line 5566, in categorical_crossentropy\n      return tf.nn.softmax_cross_entropy_with_logits(\nNode: 'categorical_crossentropy/softmax_cross_entropy_with_logits'\nlogits and labels must be broadcastable: logits_size=[8,6] labels_size=[8,7]\n\t [[{{node categorical_crossentropy/softmax_cross_entropy_with_logits}}]] [Op:__inference_train_function_257077]"
     ]
    }
   ],
   "source": [
    "efnet_time_callback = TimeHistory()\n",
    "efnet_csv_logger = CSVLogger('../logs/efnet_training.log', separator=',', append=False) \n",
    "efnet_history = efnet_model.fit(augmented_data.flow(x_train_normalized, y_train, batch_size = batch_size),\n",
    "                                      epochs = epochs, \n",
    "                                      verbose = 1,\n",
    "                                      class_weight = class_weights,\n",
    "                                      validation_data = (x_val_normalized, y_val), \n",
    "                                      steps_per_epoch = steps_per_epoch,\n",
    "                                      callbacks=[reduce_lr, efnet_time_callback, efnet_csv_logger])\n"
   ]
  },
  {
   "cell_type": "code",
   "execution_count": 86,
   "metadata": {},
   "outputs": [
    {
     "name": "stdout",
     "output_type": "stream",
     "text": [
      "\n",
      "Total Time: 1336.4526481628418 s\n",
      "\n"
     ]
    }
   ],
   "source": [
    "print(\"\\nTotal Time:\",sum(efnet_time_callback.times),\"s\\n\")"
   ]
  },
  {
   "cell_type": "code",
   "execution_count": 87,
   "metadata": {},
   "outputs": [
    {
     "name": "stderr",
     "output_type": "stream",
     "text": [
      "/opt/homebrew/lib/python3.11/site-packages/keras/src/engine/training.py:3000: UserWarning: You are saving your model as an HDF5 file via `model.save()`. This file format is considered legacy. We recommend using instead the native Keras format, e.g. `model.save('my_model.keras')`.\n",
      "  saving_api.save_model(\n"
     ]
    },
    {
     "name": "stdout",
     "output_type": "stream",
     "text": [
      "Saved entire model file to disk\n"
     ]
    }
   ],
   "source": [
    "efnet_model.save('../Models/efnet_model_50epochs.h5')\n",
    "print(\"Saved entire model file to disk\")"
   ]
  },
  {
   "cell_type": "code",
   "execution_count": 88,
   "metadata": {},
   "outputs": [
    {
     "name": "stdout",
     "output_type": "stream",
     "text": [
      "Loaded entire model file from disk\n"
     ]
    }
   ],
   "source": [
    "efnet_model = load_model('../Models/efnet_model_50epochs.h5')\n",
    "print(\"Loaded entire model file from disk\")"
   ]
  },
  {
   "cell_type": "code",
   "execution_count": 89,
   "metadata": {},
   "outputs": [],
   "source": [
    "efnet_model_name = \"EfficientNetB5\""
   ]
  },
  {
   "attachments": {},
   "cell_type": "markdown",
   "metadata": {},
   "source": [
    "Transfer learning-> inc top karna membuang head dari vgg16 train modelsnya, karena kita akan melakukan tf learning, so head akan diganti menjadi classifier yang menyesuaikan dataset yang ada. "
   ]
  },
  {
   "attachments": {},
   "cell_type": "markdown",
   "metadata": {},
   "source": [
    "Calculate Training and Validation Sets Accuracy + Loss + Errors\n",
    "This Section Contains Training and Validation Data"
   ]
  },
  {
   "attachments": {},
   "cell_type": "markdown",
   "metadata": {},
   "source": [
    "Basic CNN"
   ]
  },
  {
   "cell_type": "code",
   "execution_count": 104,
   "metadata": {},
   "outputs": [
    {
     "name": "stdout",
     "output_type": "stream",
     "text": [
      "150/150 [==============================] - 17s 110ms/step - loss: 0.7861 - accuracy: 0.7234\n",
      "38/38 [==============================] - 4s 116ms/step - loss: 0.8339 - accuracy: 0.7232\n",
      "Training Accuracy: 72.34309911727905 % \n",
      "Validation Accuracy: 72.32441306114197 % \n",
      "\n",
      "Training Loss: 0.7861164808273315\n",
      "Validation Loss: 0.8339399695396423\n"
     ]
    }
   ],
   "source": [
    "train_val_accuracy(model, x_train_normalized, x_val_normalized, y_train, y_val)"
   ]
  },
  {
   "attachments": {},
   "cell_type": "markdown",
   "metadata": {},
   "source": [
    "InceptionV3x"
   ]
  },
  {
   "cell_type": "code",
   "execution_count": 97,
   "metadata": {},
   "outputs": [
    {
     "name": "stdout",
     "output_type": "stream",
     "text": [
      "150/150 [==============================] - 29s 194ms/step - loss: 0.9560 - accuracy: 0.7234\n",
      "38/38 [==============================] - 8s 197ms/step - loss: 0.9671 - accuracy: 0.7232\n",
      "Training Accuracy: 72.34309911727905 % \n",
      "Validation Accuracy: 72.32441306114197 % \n",
      "\n",
      "Training Loss: 0.9559938907623291\n",
      "Validation Loss: 0.9671003222465515\n"
     ]
    }
   ],
   "source": [
    "train_val_accuracy(inception_model, x_train_normalized, x_val_normalized, y_train, y_val)"
   ]
  },
  {
   "attachments": {},
   "cell_type": "markdown",
   "metadata": {},
   "source": [
    "EfficientNetB5"
   ]
  },
  {
   "cell_type": "code",
   "execution_count": 98,
   "metadata": {},
   "outputs": [
    {
     "name": "stdout",
     "output_type": "stream",
     "text": [
      "150/150 [==============================] - 83s 537ms/step - loss: 1.0189 - accuracy: 0.7234\n",
      "38/38 [==============================] - 21s 546ms/step - loss: 1.0197 - accuracy: 0.7232\n",
      "Training Accuracy: 72.34309911727905 % \n",
      "Validation Accuracy: 72.32441306114197 % \n",
      "\n",
      "Training Loss: 1.0188676118850708\n",
      "Validation Loss: 1.0197207927703857\n"
     ]
    }
   ],
   "source": [
    "train_val_accuracy(efnet_model, x_train_normalized, x_val_normalized, y_train, y_val)"
   ]
  },
  {
   "attachments": {},
   "cell_type": "markdown",
   "metadata": {},
   "source": [
    "Calculate Testing Set Accuracy + Loss + Errors"
   ]
  },
  {
   "cell_type": "code",
   "execution_count": 107,
   "metadata": {},
   "outputs": [
    {
     "name": "stdout",
     "output_type": "stream",
     "text": [
      "47/47 [==============================] - 7s 139ms/step - loss: 0.8617 - accuracy: 0.7229\n",
      "\n",
      "Test Set Accuracy:  72.28915691375732 % \n",
      "Test Set Loss: 0.8617315292358398\n"
     ]
    }
   ],
   "source": [
    "test_accuracy(model, x_test_normalized, y_test) # CNN Basic"
   ]
  },
  {
   "cell_type": "code",
   "execution_count": 108,
   "metadata": {},
   "outputs": [
    {
     "name": "stdout",
     "output_type": "stream",
     "text": [
      "47/47 [==============================] - 9s 182ms/step - loss: 0.9783 - accuracy: 0.7229\n",
      "\n",
      "Test Set Accuracy:  72.28915691375732 % \n",
      "Test Set Loss: 0.9783381819725037\n"
     ]
    }
   ],
   "source": [
    "test_accuracy(inception_model, x_test_normalized, y_test) # Inception"
   ]
  },
  {
   "cell_type": "code",
   "execution_count": 123,
   "metadata": {},
   "outputs": [
    {
     "ename": "RuntimeError",
     "evalue": "You must compile your model before training/testing. Use `model.compile(optimizer, loss)`.",
     "output_type": "error",
     "traceback": [
      "\u001b[0;31m---------------------------------------------------------------------------\u001b[0m",
      "\u001b[0;31mRuntimeError\u001b[0m                              Traceback (most recent call last)",
      "Cell \u001b[0;32mIn[123], line 2\u001b[0m\n\u001b[1;32m      1\u001b[0m \u001b[39m# test_accuracy(efnet_model, x_test_normalized, y_test) # EfficientNetB5\u001b[39;00m\n\u001b[0;32m----> 2\u001b[0m model\u001b[39m.\u001b[39;49mevaluate(efnet_model)\n",
      "File \u001b[0;32m/opt/homebrew/lib/python3.11/site-packages/keras/src/utils/traceback_utils.py:70\u001b[0m, in \u001b[0;36mfilter_traceback.<locals>.error_handler\u001b[0;34m(*args, **kwargs)\u001b[0m\n\u001b[1;32m     67\u001b[0m     filtered_tb \u001b[39m=\u001b[39m _process_traceback_frames(e\u001b[39m.\u001b[39m__traceback__)\n\u001b[1;32m     68\u001b[0m     \u001b[39m# To get the full stack trace, call:\u001b[39;00m\n\u001b[1;32m     69\u001b[0m     \u001b[39m# `tf.debugging.disable_traceback_filtering()`\u001b[39;00m\n\u001b[0;32m---> 70\u001b[0m     \u001b[39mraise\u001b[39;00m e\u001b[39m.\u001b[39mwith_traceback(filtered_tb) \u001b[39mfrom\u001b[39;00m \u001b[39mNone\u001b[39;00m\n\u001b[1;32m     71\u001b[0m \u001b[39mfinally\u001b[39;00m:\n\u001b[1;32m     72\u001b[0m     \u001b[39mdel\u001b[39;00m filtered_tb\n",
      "File \u001b[0;32m/opt/homebrew/lib/python3.11/site-packages/keras/src/engine/training.py:3875\u001b[0m, in \u001b[0;36mModel._assert_compile_was_called\u001b[0;34m(self)\u001b[0m\n\u001b[1;32m   3869\u001b[0m \u001b[39mdef\u001b[39;00m \u001b[39m_assert_compile_was_called\u001b[39m(\u001b[39mself\u001b[39m):\n\u001b[1;32m   3870\u001b[0m     \u001b[39m# Checks whether `compile` has been called. If it has been called,\u001b[39;00m\n\u001b[1;32m   3871\u001b[0m     \u001b[39m# then the optimizer is set. This is different from whether the\u001b[39;00m\n\u001b[1;32m   3872\u001b[0m     \u001b[39m# model is compiled\u001b[39;00m\n\u001b[1;32m   3873\u001b[0m     \u001b[39m# (i.e. whether the model is built and its inputs/outputs are set).\u001b[39;00m\n\u001b[1;32m   3874\u001b[0m     \u001b[39mif\u001b[39;00m \u001b[39mnot\u001b[39;00m \u001b[39mself\u001b[39m\u001b[39m.\u001b[39m_is_compiled:\n\u001b[0;32m-> 3875\u001b[0m         \u001b[39mraise\u001b[39;00m \u001b[39mRuntimeError\u001b[39;00m(\n\u001b[1;32m   3876\u001b[0m             \u001b[39m\"\u001b[39m\u001b[39mYou must compile your model before \u001b[39m\u001b[39m\"\u001b[39m\n\u001b[1;32m   3877\u001b[0m             \u001b[39m\"\u001b[39m\u001b[39mtraining/testing. \u001b[39m\u001b[39m\"\u001b[39m\n\u001b[1;32m   3878\u001b[0m             \u001b[39m\"\u001b[39m\u001b[39mUse `model.compile(optimizer, loss)`.\u001b[39m\u001b[39m\"\u001b[39m\n\u001b[1;32m   3879\u001b[0m         )\n",
      "\u001b[0;31mRuntimeError\u001b[0m: You must compile your model before training/testing. Use `model.compile(optimizer, loss)`."
     ]
    }
   ],
   "source": [
    "# test_accuracy(efnet_model, x_test_normalized, y_test) # EfficientNetB5\n",
    "model.evaluate(efnet_model)"
   ]
  },
  {
   "attachments": {},
   "cell_type": "markdown",
   "metadata": {},
   "source": [
    "Pertama, semua akurasi pengujian sebanding dengan akurasi validasi, lebih lanjut meneguhkan fakta bahwa semua model tidak cocok atau terlalu cocok. VGG16 memuncaki akurasi set tes, diikuti oleh ResNet 152V2, kemudian oleh Basic CNN, dan terakhir, oleh Inception V3."
   ]
  },
  {
   "attachments": {},
   "cell_type": "markdown",
   "metadata": {},
   "source": [
    "Testing Set Confusion Matrix for True vs Predicted Labels\n",
    "\n",
    "Setting the confusion matrix plot labels (used across all models)"
   ]
  },
  {
   "cell_type": "code",
   "execution_count": 111,
   "metadata": {},
   "outputs": [],
   "source": [
    "#Define the labels of the class indices. These need to match the order shown above.\n",
    "cm_plot_labels=['akiec', 'bcc', 'bkl', 'df', 'nv','mel', 'vasc']"
   ]
  },
  {
   "cell_type": "code",
   "execution_count": 112,
   "metadata": {},
   "outputs": [
    {
     "name": "stdout",
     "output_type": "stream",
     "text": [
      "47/47 [==============================] - 6s 115ms/step\n"
     ]
    },
    {
     "data": {
      "image/png": "[encoded data removed]",
      "text/plain": [
       "<Figure size 800x600 with 2 Axes>"
      ]
     },
     "metadata": {},
     "output_type": "display_data"
    }
   ],
   "source": [
    "create_confusion_matrix(model, x_test_normalized, y_test, cm_plot_labels, model_name) # CNN Basic"
   ]
  },
  {
   "cell_type": "code",
   "execution_count": 113,
   "metadata": {},
   "outputs": [
    {
     "name": "stdout",
     "output_type": "stream",
     "text": [
      "47/47 [==============================] - 9s 174ms/step\n"
     ]
    },
    {
     "data": {
      "image/png": "[encoded data removed]",
      "text/plain": [
       "<Figure size 800x600 with 2 Axes>"
      ]
     },
     "metadata": {},
     "output_type": "display_data"
    }
   ],
   "source": [
    "create_confusion_matrix(inception_model, x_test_normalized, y_test, cm_plot_labels, inception_model_name) # Inception V3"
   ]
  },
  {
   "cell_type": "code",
   "execution_count": 114,
   "metadata": {},
   "outputs": [
    {
     "name": "stdout",
     "output_type": "stream",
     "text": [
      "47/47 [==============================] - 29s 577ms/step\n"
     ]
    },
    {
     "data": {
      "image/png": "[encoded data removed]",
      "text/plain": [
       "<Figure size 800x600 with 2 Axes>"
      ]
     },
     "metadata": {},
     "output_type": "display_data"
    }
   ],
   "source": [
    "create_confusion_matrix(efnet_model, x_test_normalized, y_test, cm_plot_labels, efnet_model_name) # ResNet152 V2"
   ]
  },
  {
   "attachments": {},
   "cell_type": "markdown",
   "metadata": {},
   "source": [
    "efficient miss class"
   ]
  },
  {
   "attachments": {},
   "cell_type": "markdown",
   "metadata": {},
   "source": [
    "Generate a Confusion Matrix Classification Report"
   ]
  },
  {
   "cell_type": "code",
   "execution_count": 115,
   "metadata": {},
   "outputs": [
    {
     "name": "stdout",
     "output_type": "stream",
     "text": [
      "47/47 [==============================] - 6s 117ms/step\n",
      "              precision    recall  f1-score   support\n",
      "\n",
      "       akiec       0.00      0.00      0.00        46\n",
      "         bcc       0.00      0.00      0.00        65\n",
      "         bkl       0.00      0.00      0.00       145\n",
      "          df       0.00      0.00      0.00        15\n",
      "          nv       0.72      1.00      0.84      1080\n",
      "         mel       0.00      0.00      0.00       123\n",
      "        vasc       0.00      0.00      0.00        20\n",
      "\n",
      "    accuracy                           0.72      1494\n",
      "   macro avg       0.10      0.14      0.12      1494\n",
      "weighted avg       0.52      0.72      0.61      1494\n",
      "\n"
     ]
    },
    {
     "name": "stderr",
     "output_type": "stream",
     "text": [
      "/opt/homebrew/lib/python3.11/site-packages/sklearn/metrics/_classification.py:1344: UndefinedMetricWarning: Precision and F-score are ill-defined and being set to 0.0 in labels with no predicted samples. Use `zero_division` parameter to control this behavior.\n",
      "  _warn_prf(average, modifier, msg_start, len(result))\n",
      "/opt/homebrew/lib/python3.11/site-packages/sklearn/metrics/_classification.py:1344: UndefinedMetricWarning: Precision and F-score are ill-defined and being set to 0.0 in labels with no predicted samples. Use `zero_division` parameter to control this behavior.\n",
      "  _warn_prf(average, modifier, msg_start, len(result))\n",
      "/opt/homebrew/lib/python3.11/site-packages/sklearn/metrics/_classification.py:1344: UndefinedMetricWarning: Precision and F-score are ill-defined and being set to 0.0 in labels with no predicted samples. Use `zero_division` parameter to control this behavior.\n",
      "  _warn_prf(average, modifier, msg_start, len(result))\n"
     ]
    }
   ],
   "source": [
    "gen_classification_report(model, x_test_normalized, y_test, cm_plot_labels) # Basic CNN"
   ]
  },
  {
   "cell_type": "code",
   "execution_count": 116,
   "metadata": {},
   "outputs": [
    {
     "name": "stdout",
     "output_type": "stream",
     "text": [
      "47/47 [==============================] - 9s 197ms/step\n",
      "              precision    recall  f1-score   support\n",
      "\n",
      "       akiec       0.00      0.00      0.00        46\n",
      "         bcc       0.00      0.00      0.00        65\n",
      "         bkl       0.00      0.00      0.00       145\n",
      "          df       0.00      0.00      0.00        15\n",
      "          nv       0.72      1.00      0.84      1080\n",
      "         mel       0.00      0.00      0.00       123\n",
      "        vasc       0.00      0.00      0.00        20\n",
      "\n",
      "    accuracy                           0.72      1494\n",
      "   macro avg       0.10      0.14      0.12      1494\n",
      "weighted avg       0.52      0.72      0.61      1494\n",
      "\n"
     ]
    },
    {
     "name": "stderr",
     "output_type": "stream",
     "text": [
      "/opt/homebrew/lib/python3.11/site-packages/sklearn/metrics/_classification.py:1344: UndefinedMetricWarning: Precision and F-score are ill-defined and being set to 0.0 in labels with no predicted samples. Use `zero_division` parameter to control this behavior.\n",
      "  _warn_prf(average, modifier, msg_start, len(result))\n",
      "/opt/homebrew/lib/python3.11/site-packages/sklearn/metrics/_classification.py:1344: UndefinedMetricWarning: Precision and F-score are ill-defined and being set to 0.0 in labels with no predicted samples. Use `zero_division` parameter to control this behavior.\n",
      "  _warn_prf(average, modifier, msg_start, len(result))\n",
      "/opt/homebrew/lib/python3.11/site-packages/sklearn/metrics/_classification.py:1344: UndefinedMetricWarning: Precision and F-score are ill-defined and being set to 0.0 in labels with no predicted samples. Use `zero_division` parameter to control this behavior.\n",
      "  _warn_prf(average, modifier, msg_start, len(result))\n"
     ]
    }
   ],
   "source": [
    "gen_classification_report(inception_model, x_test_normalized, y_test, cm_plot_labels) # Inception V3"
   ]
  },
  {
   "cell_type": "code",
   "execution_count": 117,
   "metadata": {},
   "outputs": [
    {
     "name": "stdout",
     "output_type": "stream",
     "text": [
      "47/47 [==============================] - 27s 562ms/step\n",
      "              precision    recall  f1-score   support\n",
      "\n",
      "       akiec       0.02      0.54      0.04        46\n",
      "         bcc       0.00      0.00      0.00        65\n",
      "         bkl       0.00      0.00      0.00       145\n",
      "          df       0.00      0.00      0.00        15\n",
      "          nv       0.62      0.24      0.34      1080\n",
      "         mel       0.00      0.00      0.00       123\n",
      "        vasc       0.00      0.00      0.00        20\n",
      "\n",
      "    accuracy                           0.19      1494\n",
      "   macro avg       0.09      0.11      0.06      1494\n",
      "weighted avg       0.45      0.19      0.25      1494\n",
      "\n"
     ]
    },
    {
     "name": "stderr",
     "output_type": "stream",
     "text": [
      "/opt/homebrew/lib/python3.11/site-packages/sklearn/metrics/_classification.py:1344: UndefinedMetricWarning: Precision and F-score are ill-defined and being set to 0.0 in labels with no predicted samples. Use `zero_division` parameter to control this behavior.\n",
      "  _warn_prf(average, modifier, msg_start, len(result))\n",
      "/opt/homebrew/lib/python3.11/site-packages/sklearn/metrics/_classification.py:1344: UndefinedMetricWarning: Precision and F-score are ill-defined and being set to 0.0 in labels with no predicted samples. Use `zero_division` parameter to control this behavior.\n",
      "  _warn_prf(average, modifier, msg_start, len(result))\n",
      "/opt/homebrew/lib/python3.11/site-packages/sklearn/metrics/_classification.py:1344: UndefinedMetricWarning: Precision and F-score are ill-defined and being set to 0.0 in labels with no predicted samples. Use `zero_division` parameter to control this behavior.\n",
      "  _warn_prf(average, modifier, msg_start, len(result))\n"
     ]
    }
   ],
   "source": [
    "gen_classification_report(efnet_model, x_test_normalized, y_test, cm_plot_labels) # ResNest152V2"
   ]
  },
  {
   "cell_type": "code",
   "execution_count": 118,
   "metadata": {},
   "outputs": [
    {
     "name": "stdout",
     "output_type": "stream",
     "text": [
      "47/47 [==============================] - 6s 126ms/step\n"
     ]
    },
    {
     "data": {
      "image/png": "[encoded data removed]",
      "text/plain": [
       "<Figure size 640x480 with 1 Axes>"
      ]
     },
     "metadata": {},
     "output_type": "display_data"
    }
   ],
   "source": [
    "plot_label_classification_acc(model, x_test_normalized, y_test, cm_plot_labels, model_name) # CNN Basic"
   ]
  },
  {
   "cell_type": "code",
   "execution_count": 119,
   "metadata": {},
   "outputs": [
    {
     "name": "stdout",
     "output_type": "stream",
     "text": [
      "47/47 [==============================] - 10s 202ms/step\n"
     ]
    },
    {
     "data": {
      "image/png": "[encoded data removed]",
      "text/plain": [
       "<Figure size 640x480 with 1 Axes>"
      ]
     },
     "metadata": {},
     "output_type": "display_data"
    }
   ],
   "source": [
    "plot_label_classification_acc(inception_model, x_test_normalized, y_test, cm_plot_labels, inception_model_name) # Inception V3"
   ]
  },
  {
   "cell_type": "code",
   "execution_count": 120,
   "metadata": {},
   "outputs": [
    {
     "name": "stdout",
     "output_type": "stream",
     "text": [
      "47/47 [==============================] - 24s 511ms/step\n"
     ]
    },
    {
     "data": {
      "image/png": "[encoded data removed]",
      "text/plain": [
       "<Figure size 640x480 with 1 Axes>"
      ]
     },
     "metadata": {},
     "output_type": "display_data"
    }
   ],
   "source": [
    "plot_label_classification_acc(efnet_model, x_test_normalized, y_test, cm_plot_labels, efnet_model_name) # EfficientNet"
   ]
  }
 ],
 "metadata": {
  "kernelspec": {
   "display_name": "Python 3",
   "language": "python",
   "name": "python3"
  },
  "language_info": {
   "codemirror_mode": {
    "name": "ipython",
    "version": 3
   },
   "file_extension": ".py",
   "mimetype": "text/x-python",
   "name": "python",
   "nbconvert_exporter": "python",
   "pygments_lexer": "ipython3",
   "version": "3.11.4"
  },
  "orig_nbformat": 4
 },
 "nbformat": 4,
 "nbformat_minor": 2
}
